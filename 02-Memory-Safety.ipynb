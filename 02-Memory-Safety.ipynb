{
 "cells": [
  {
   "cell_type": "markdown",
   "metadata": {},
   "source": [
    "# Memory safety\n",
    "\n",
    "Memory problems are another major problem in languages like c++. In best case, you will get a segmentation fault, fire up a gdb, and debug it like an exception. In worst case, it can become a remote code execution security vulnerablity.\n",
    "\n",
    "The state of the art methods for preventing memory issues in c++ are:\n",
    "* Static methods: Compiler warnings, clang-tidy, ... can catch some common mistakes. But pretty limited due the lack of language level support.\n",
    "* Dynamic methods: Valgrind, asan, ... can catch (some of) memory problems in test suit. They are effective at finding memory bugs, but \"Program testing can be used to show the presence of bugs, but never to show their absence.\".\n",
    "* Runtime methods: Hardware tagging, CHERI, bound checking, ... can catch memory issues at runtime, and raise exception. These methods can prevent memory issues to become security vulnerablity, or make spurious problems in other parts of code. But they have performance and/or hardware cost.\n",
    "\n",
    "But all of these tools are not complete, and there are c/c++ programs with memory problems in the wild. In safe Rust, compiler will reject programs that contains memory safety problems, and in cases which it is not known statically, it will enforce runtime checks to ensure memory safety. Let's see this in action."
   ]
  },
  {
   "cell_type": "code",
   "execution_count": 42,
   "metadata": {
    "vscode": {
     "languageId": "rust"
    }
   },
   "outputs": [
    {
     "ename": "Error",
     "evalue": "cannot return reference to local variable `x`",
     "output_type": "error",
     "traceback": [
      "    &x",
      "    ^^ returns a reference to data owned by the current function",
      "cannot return reference to local variable `x`"
     ]
    }
   ],
   "source": [
    "fn dangling_reference(some_input: &i32) -> &i32 {\n",
    "    let x = 5 + *some_input;\n",
    "    &x\n",
    "}"
   ]
  },
  {
   "cell_type": "markdown",
   "metadata": {},
   "source": [
    "That was easy, and c++ linters will catch that as well. Here is a harder one:"
   ]
  },
  {
   "cell_type": "code",
   "execution_count": 43,
   "metadata": {
    "vscode": {
     "languageId": "rust"
    }
   },
   "outputs": [
    {
     "data": {
      "text/plain": [
       "2"
      ]
     },
     "execution_count": 43,
     "metadata": {},
     "output_type": "execute_result"
    }
   ],
   "source": [
    "fn reference_to_second(input: &Vec<i32>) -> &i32 {\n",
    "    &input[1]\n",
    "}\n",
    "{ // Blocks are due jupyter limits\n",
    "    let v = vec![1, 2, 3];\n",
    "    let r = reference_to_second(&v);\n",
    "    let z = *r;\n",
    "    z\n",
    "}"
   ]
  },
  {
   "cell_type": "markdown",
   "metadata": {},
   "source": [
    "Rust didn't catched us, because everything was ok. But we can make it problematic by droping the vector before reading the reference."
   ]
  },
  {
   "cell_type": "code",
   "execution_count": 44,
   "metadata": {
    "vscode": {
     "languageId": "rust"
    }
   },
   "outputs": [
    {
     "ename": "Error",
     "evalue": "cannot move out of `v` because it is borrowed",
     "output_type": "error",
     "traceback": [
      "    let r = reference_to_second(&v);",
      "                                ^^ borrow of `v` occurs here",
      "    drop(v);",
      "         ^ move out of `v` occurs here",
      "    let z = *r;",
      "            ^^ borrow later used here",
      "cannot move out of `v` because it is borrowed"
     ]
    }
   ],
   "source": [
    "use std::mem::drop;\n",
    "\n",
    "{\n",
    "    let v = vec![1, 2, 3];\n",
    "    let r = reference_to_second(&v);\n",
    "    drop(v);\n",
    "    let z = *r;\n",
    "    z\n",
    "}"
   ]
  },
  {
   "cell_type": "markdown",
   "metadata": {},
   "source": [
    "We can see that Rust is magically catching the use after free bug here, with detailed explanation. But how Rust knows that `r` is related to `v`?\n",
    "\n",
    "## Lifetimes"
   ]
  },
  {
   "cell_type": "markdown",
   "metadata": {},
   "source": [
    "Reference type in Rust has two arguments, a `T`, type of the value that reference refer to it, and a `'x`, lifetime of the reference. And in its full form, it is written as `&'x T`.\n",
    "\n",
    "The syntax `&T` which you have seen before, is a syntax sugar for `&'_ T`, which means infer or elide the lifetime.\n",
    "\n",
    "Let's start with `'static` lifetime, which means this reference is valid for the whole program."
   ]
  },
  {
   "cell_type": "code",
   "execution_count": null,
   "metadata": {
    "vscode": {
     "languageId": "rust"
    }
   },
   "outputs": [
    {
     "data": {
      "text/plain": [
       "\"hello\""
      ]
     },
     "execution_count": 11,
     "metadata": {},
     "output_type": "execute_result"
    }
   ],
   "source": [
    "// str literals are included in the binary, so reference to them is valid for the whole program\n",
    "let ref_to_str: &'static str = \"hello\";\n",
    "*ref_to_str"
   ]
  },
  {
   "cell_type": "markdown",
   "metadata": {},
   "source": [
    "Rvalue references is another way to create static references in Rust (which isn't possible in c++)"
   ]
  },
  {
   "cell_type": "code",
   "execution_count": null,
   "metadata": {
    "vscode": {
     "languageId": "rust"
    }
   },
   "outputs": [
    {
     "data": {
      "text/plain": [
       "42"
      ]
     },
     "execution_count": 12,
     "metadata": {},
     "output_type": "execute_result"
    }
   ],
   "source": [
    "let ref_to_i32: &'static i32 = &42;\n",
    "*ref_to_i32"
   ]
  },
  {
   "cell_type": "markdown",
   "metadata": {},
   "source": [
    "But the compiler will catch us if we try to use a temporary reference with `'static` lifetime:"
   ]
  },
  {
   "cell_type": "code",
   "execution_count": null,
   "metadata": {
    "vscode": {
     "languageId": "rust"
    }
   },
   "outputs": [
    {
     "ename": "Error",
     "evalue": "`x` does not live long enough",
     "output_type": "error",
     "traceback": [
      "    let y: &'static i32 = &x;",
      "                          ^^ borrowed value does not live long enough",
      "}",
      "^ `x` dropped here while still borrowed",
      "`x` does not live long enough"
     ]
    }
   ],
   "source": [
    "{\n",
    "    let x = 5;\n",
    "    let y: &'static i32 = &x;\n",
    "    y\n",
    "}"
   ]
  },
  {
   "cell_type": "markdown",
   "metadata": {},
   "source": [
    "`'static` is not the only possible lifetime. See the below code, which looks fine, but doesn't compile:"
   ]
  },
  {
   "cell_type": "code",
   "execution_count": null,
   "metadata": {
    "vscode": {
     "languageId": "rust"
    }
   },
   "outputs": [
    {
     "ename": "Error",
     "evalue": "missing lifetime specifier",
     "output_type": "error",
     "traceback": [
      "fn some_fn(vec: &Vec<i32>, index: &usize) -> &i32 {",
      "                ^^^^^^^^^ ",
      "fn some_fn(vec: &Vec<i32>, index: &usize) -> &i32 {",
      "                                  ^^^^^^ ",
      "fn some_fn(vec: &Vec<i32>, index: &usize) -> &i32 {",
      "                                             ^ expected named lifetime parameter",
      "missing lifetime specifier",
      "help: this function's return type contains a borrowed value, but the signature does not say whether it is borrowed from `vec` or `index`",
      "help: consider introducing a named lifetime parameter\n\n<'a>"
     ]
    }
   ],
   "source": [
    "fn some_fn(vec: &Vec<i32>, index: &usize) -> &i32 {\n",
    "    &vec[*index]\n",
    "}"
   ]
  },
  {
   "cell_type": "markdown",
   "metadata": {},
   "source": [
    "Compiler want's lifetime specifier, so we will provide it."
   ]
  },
  {
   "cell_type": "code",
   "execution_count": null,
   "metadata": {
    "vscode": {
     "languageId": "rust"
    }
   },
   "outputs": [
    {
     "data": {
      "text/plain": [
       "3"
      ]
     },
     "execution_count": 16,
     "metadata": {},
     "output_type": "execute_result"
    }
   ],
   "source": [
    "fn some_fn<'a, 'b>(vec: &'a Vec<i32>, index: &'b usize) -> &'a i32 {\n",
    "    &vec[*index]\n",
    "}\n",
    "\n",
    "let v = vec![1, 2, 3];\n",
    "*some_fn(&v, &2)"
   ]
  },
  {
   "cell_type": "markdown",
   "metadata": {},
   "source": [
    "The syntax `&'a Vec<i32>` is type of a reference that is live at least as `'a`. And the `<'a, 'b>` means that the signature of this function is generic over each lifetime that can satisfy it's arguments conditions. Compiler can now understand that the result is alive as long as the first input, and will reject this code:"
   ]
  },
  {
   "cell_type": "code",
   "execution_count": null,
   "metadata": {
    "vscode": {
     "languageId": "rust"
    }
   },
   "outputs": [
    {
     "ename": "Error",
     "evalue": "`v` does not live long enough",
     "output_type": "error",
     "traceback": [
      "        some_fn(&v, &i)",
      "                ^^ borrowed value does not live long enough",
      "    };",
      "    ^ `v` dropped here while still borrowed",
      "    let r = {",
      "        ^ borrow later stored here",
      "`v` does not live long enough"
     ]
    }
   ],
   "source": [
    "{\n",
    "    let i = 2;\n",
    "    let r = {\n",
    "        let v = vec![1, 2, 3];\n",
    "        some_fn(&v, &i)\n",
    "    };\n",
    "    *r\n",
    "}"
   ]
  },
  {
   "cell_type": "markdown",
   "metadata": {},
   "source": [
    "But not this code"
   ]
  },
  {
   "cell_type": "code",
   "execution_count": null,
   "metadata": {
    "vscode": {
     "languageId": "rust"
    }
   },
   "outputs": [
    {
     "data": {
      "text/plain": [
       "3"
      ]
     },
     "execution_count": 20,
     "metadata": {},
     "output_type": "execute_result"
    }
   ],
   "source": [
    "{\n",
    "    let v = vec![1, 2, 3];\n",
    "    let r = {\n",
    "        let i = 2;\n",
    "        some_fn(&v, &i)\n",
    "    };\n",
    "    *r // reference to i is invalid here, but it doesn't matter\n",
    "}"
   ]
  },
  {
   "cell_type": "markdown",
   "metadata": {},
   "source": [
    "We can (incorrectly) make the signature of `some_fn` more restrictive, and force the result of function to live no longer than reference to the index:"
   ]
  },
  {
   "cell_type": "code",
   "execution_count": null,
   "metadata": {
    "vscode": {
     "languageId": "rust"
    }
   },
   "outputs": [],
   "source": [
    "fn some_fn<'a>(vec: &'a Vec<i32>, index: &'a usize) -> &'a i32 {\n",
    "    &vec[*index]\n",
    "}"
   ]
  },
  {
   "cell_type": "markdown",
   "metadata": {},
   "source": [
    "Here we used `'a` for both parameters. It doesn't mean they will have exact same lifetime, but it means `'a` is a lifetime that both parameters are valid during it. Compiler will choose the maximum possible option for `'a`. Remember, `&'x T` means this reference is valid at least as `'x`.\n",
    "\n",
    "So the above example will no longer compile with new `some_fn`:"
   ]
  },
  {
   "cell_type": "code",
   "execution_count": null,
   "metadata": {
    "vscode": {
     "languageId": "rust"
    }
   },
   "outputs": [
    {
     "ename": "Error",
     "evalue": "`i` does not live long enough",
     "output_type": "error",
     "traceback": [
      "        some_fn(&v, &i)",
      "                    ^^ borrowed value does not live long enough",
      "    };",
      "    ^ `i` dropped here while still borrowed",
      "    let r = {",
      "        ^ borrow later stored here",
      "`i` does not live long enough"
     ]
    }
   ],
   "source": [
    "{\n",
    "    let v = vec![1, 2, 3];\n",
    "    let r = {\n",
    "        let i = 2;\n",
    "        some_fn(&v, &i)\n",
    "    };\n",
    "    *r\n",
    "}"
   ]
  },
  {
   "cell_type": "markdown",
   "metadata": {},
   "source": [
    "You: So we can add a wrong lifetime annonation, to mislead compiler to accept the first example, which dropped the vector?\n",
    "\n",
    "No, compiler will catch that. Let's try it."
   ]
  },
  {
   "cell_type": "code",
   "execution_count": null,
   "metadata": {
    "vscode": {
     "languageId": "rust"
    }
   },
   "outputs": [
    {
     "ename": "Error",
     "evalue": "lifetime may not live long enough",
     "output_type": "error",
     "traceback": [
      "fn some_fn<'a, 'b>(vec: &'b Vec<i32>, index: &'a usize) -> &'a i32 {",
      "               ^^ lifetime `'b` defined here",
      "fn some_fn<'a, 'b>(vec: &'b Vec<i32>, index: &'a usize) -> &'a i32 {",
      "           ^^ lifetime `'a` defined here",
      "    &vec[*index]",
      "    ^^^^^^^^^^^^ function was supposed to return data with lifetime `'a` but it is returning data with lifetime `'b`",
      "lifetime may not live long enough",
      "help: consider adding the following bound: `'b: 'a`"
     ]
    }
   ],
   "source": [
    "fn some_fn<'a, 'b>(vec: &'b Vec<i32>, index: &'a usize) -> &'a i32 {\n",
    "    &vec[*index]\n",
    "}"
   ]
  },
  {
   "cell_type": "markdown",
   "metadata": {},
   "source": [
    "`'b: 'a` means `'b` is longer than `'a` (`'b >= 'a`). We can right this function in this way:"
   ]
  },
  {
   "cell_type": "code",
   "execution_count": null,
   "metadata": {
    "vscode": {
     "languageId": "rust"
    }
   },
   "outputs": [],
   "source": [
    "fn some_fn<'a: 'c, 'b, 'c>(vec: &'a Vec<i32>, index: &'b usize) -> &'c i32 {\n",
    "    &vec[*index]\n",
    "}"
   ]
  },
  {
   "cell_type": "markdown",
   "metadata": {},
   "source": [
    "Which is just more verbose and has no difference. We can write it even more verbose:"
   ]
  },
  {
   "cell_type": "code",
   "execution_count": null,
   "metadata": {
    "vscode": {
     "languageId": "rust"
    }
   },
   "outputs": [],
   "source": [
    "fn some_fn<'a, 'b, 'c>(vec: &'a Vec<i32>, index: &'b usize) -> &'c i32\n",
    "where\n",
    "    'a: 'c,\n",
    "{\n",
    "    &vec[*index]\n",
    "}"
   ]
  },
  {
   "cell_type": "markdown",
   "metadata": {},
   "source": [
    "## Lifetime elision\n",
    "\n",
    "Let's get back to the first example:"
   ]
  },
  {
   "cell_type": "code",
   "execution_count": null,
   "metadata": {
    "vscode": {
     "languageId": "rust"
    }
   },
   "outputs": [],
   "source": [
    "fn reference_to_second(input: &Vec<i32>) -> &i32 {\n",
    "    &input[1]\n",
    "}"
   ]
  },
  {
   "cell_type": "markdown",
   "metadata": {},
   "source": [
    "As said before, `&Vec<i32>` or `&'_ Vec<i32>` means its the compiler job to fill the lifetime position. In this case, it will fill it like this:"
   ]
  },
  {
   "cell_type": "code",
   "execution_count": null,
   "metadata": {
    "vscode": {
     "languageId": "rust"
    }
   },
   "outputs": [],
   "source": [
    "fn reference_to_second<'a>(input: &'a Vec<i32>) -> &'a i32 {\n",
    "    &input[1]\n",
    "}"
   ]
  },
  {
   "cell_type": "markdown",
   "metadata": {},
   "source": [
    "The rationale is, You can't create references out of air, and return reference to local variables or owned parameters. So if there is exactly one reference in inputs, and output is a reference, it can live as long as the input (and no longer).\n",
    "\n",
    "There are some more heuristics like this, called \"lifetime elision rules\".\n",
    "\n",
    "But in the case when there is two inputs, the user intention is not clear. The result might borrow from the first argument (`some_fn` above), from the second argument (`some_fn` with arguments swapped) or even both:"
   ]
  },
  {
   "cell_type": "code",
   "execution_count": null,
   "metadata": {
    "vscode": {
     "languageId": "rust"
    }
   },
   "outputs": [
    {
     "data": {
      "text/plain": [
       "7"
      ]
     },
     "execution_count": 34,
     "metadata": {},
     "output_type": "execute_result"
    }
   ],
   "source": [
    "fn last_element_of_longer_vec<'a>(v1: &'a Vec<i32>, v2: &'a Vec<i32>) -> &'a i32 {\n",
    "    if v1.len() > v2.len() {\n",
    "        v1.last().unwrap()\n",
    "    } else {\n",
    "        v2.last().unwrap()\n",
    "    }\n",
    "}\n",
    "{\n",
    "    let v1 = vec![1, 2, 3];\n",
    "    let v2 = vec![4, 5, 6, 7];\n",
    "    let r = last_element_of_longer_vec(&v1, &v2);\n",
    "    // droping any of v1 and v2 can potentially invalidate this reference\n",
    "    *r\n",
    "}"
   ]
  },
  {
   "cell_type": "markdown",
   "metadata": {},
   "source": [
    "## Null pointers\n",
    "\n",
    "We can't create null pointers in Rust:"
   ]
  },
  {
   "cell_type": "code",
   "execution_count": null,
   "metadata": {
    "vscode": {
     "languageId": "rust"
    }
   },
   "outputs": [
    {
     "ename": "Error",
     "evalue": "mismatched types",
     "output_type": "error",
     "traceback": [
      "let null_pointer: &i32 = 0; // You can try NUL, NIL, NULL, null_ptr, ...",
      "                         ^ expected `&i32`, found integer",
      "let null_pointer: &i32 = 0; // You can try NUL, NIL, NULL, null_ptr, ...",
      "                  ^^^^ expected due to this",
      "mismatched types",
      "help: consider borrowing here\n\n&0"
     ]
    }
   ],
   "source": [
    "let null_pointer: &i32 = 0; // You can try NUL, NIL, NULL, null_ptr, ..."
   ]
  },
  {
   "cell_type": "markdown",
   "metadata": {},
   "source": [
    "But what we can do if we really need a null pointer? For example, we want to write a function which adds a pointer to another pointer, and will consider them zero if they are null. This is the implementation in c:\n",
    "```C++\n",
    "int f(int *x, int *y) {\n",
    "    if (x == NULL) return *y;\n",
    "    if (y == NULL) return *x;\n",
    "    return *x + *y;\n",
    "}\n",
    "```"
   ]
  },
  {
   "cell_type": "markdown",
   "metadata": {},
   "source": [
    "In rust we will use `Option`. `Option` is similar to `std::optional`, but different. And it is not specific to pointers, so we can use it with `i32`, for example:"
   ]
  },
  {
   "cell_type": "code",
   "execution_count": 52,
   "metadata": {
    "vscode": {
     "languageId": "rust"
    }
   },
   "outputs": [],
   "source": [
    "let o1: Option<i32> = Some(5); // An option with `Some` value\n",
    "let o2: Option<i32> = None; // An option without value"
   ]
  },
  {
   "cell_type": "markdown",
   "metadata": {},
   "source": [
    "`.unwrap()` will return the inner value if there is any:"
   ]
  },
  {
   "cell_type": "code",
   "execution_count": 46,
   "metadata": {
    "vscode": {
     "languageId": "rust"
    }
   },
   "outputs": [
    {
     "data": {
      "text/plain": [
       "5"
      ]
     },
     "execution_count": 46,
     "metadata": {},
     "output_type": "execute_result"
    }
   ],
   "source": [
    "o1.unwrap()"
   ]
  },
  {
   "cell_type": "markdown",
   "metadata": {},
   "source": [
    "But will panic otherwise:"
   ]
  },
  {
   "cell_type": "code",
   "execution_count": 100,
   "metadata": {
    "vscode": {
     "languageId": "rust"
    }
   },
   "outputs": [
    {
     "name": "stderr",
     "output_type": "stream",
     "text": [
      "thread '<unnamed>' panicked at 'called `Option::unwrap()` on a `None` value', src/lib.rs:146:4\n",
      "stack backtrace:\n",
      "   0: rust_begin_unwind\n",
      "             at /rustc/4b91a6ea7258a947e59c6522cd5898e7c0a6a88f/library/std/src/panicking.rs:584:5\n",
      "   1: core::panicking::panic_fmt\n",
      "             at /rustc/4b91a6ea7258a947e59c6522cd5898e7c0a6a88f/library/core/src/panicking.rs:142:14\n",
      "   2: core::panicking::panic\n",
      "             at /rustc/4b91a6ea7258a947e59c6522cd5898e7c0a6a88f/library/core/src/panicking.rs:48:5\n",
      "   3: run_user_code_55\n",
      "   4: evcxr::runtime::Runtime::run_loop\n",
      "   5: evcxr::runtime::runtime_hook\n",
      "   6: evcxr_jupyter::main\n",
      "note: Some details are omitted, run with `RUST_BACKTRACE=full` for a verbose backtrace.\n",
      "Segmentation fault.\n",
      "   0: evcxr::runtime::Runtime::install_crash_handlers::segfault_handler\n",
      "   1: <unknown>\n",
      "   2: mi_free\n",
      "   3: alloc::alloc::dealloc\n",
      "             at /rustc/e092d0b6b43f2de967af0887873151bb1c0b18d3/library/alloc/src/alloc.rs:107:14\n",
      "      <alloc::alloc::Global as core::alloc::Allocator>::deallocate\n",
      "             at /rustc/e092d0b6b43f2de967af0887873151bb1c0b18d3/library/alloc/src/alloc.rs:244:22\n",
      "      alloc::alloc::box_free\n",
      "             at /rustc/e092d0b6b43f2de967af0887873151bb1c0b18d3/library/alloc/src/alloc.rs:342:9\n",
      "      panic_unwind::real_imp::cleanup\n",
      "             at /rustc/e092d0b6b43f2de967af0887873151bb1c0b18d3/library/panic_unwind/src/gcc.rs:83:5\n",
      "      __rust_panic_cleanup\n",
      "             at /rustc/e092d0b6b43f2de967af0887873151bb1c0b18d3/library/panic_unwind/src/lib.rs:101:19\n",
      "   4: std::panicking::try::cleanup\n",
      "             at /rustc/e092d0b6b43f2de967af0887873151bb1c0b18d3/library/std/src/panicking.rs:473:42\n",
      "   5: std::panicking::try::do_catch\n",
      "             at /rustc/e092d0b6b43f2de967af0887873151bb1c0b18d3/library/std/src/panicking.rs:517:23\n",
      "      std::panicking::try\n",
      "             at /rustc/e092d0b6b43f2de967af0887873151bb1c0b18d3/library/std/src/panicking.rs:456:19\n",
      "      std::panic::catch_unwind\n",
      "             at /rustc/e092d0b6b43f2de967af0887873151bb1c0b18d3/library/std/src/panic.rs:137:14\n",
      "      std::rt::lang_start_internal::{{closure}}\n",
      "             at /rustc/e092d0b6b43f2de967af0887873151bb1c0b18d3/library/std/src/rt.rs:128:48\n",
      "      std::panicking::try::do_call\n",
      "             at /rustc/e092d0b6b43f2de967af0887873151bb1c0b18d3/library/std/src/panicking.rs:492:40\n",
      "      std::panicking::try\n",
      "             at /rustc/e092d0b6b43f2de967af0887873151bb1c0b18d3/library/std/src/panicking.rs:456:19\n",
      "      std::panic::catch_unwind\n",
      "             at /rustc/e092d0b6b43f2de967af0887873151bb1c0b18d3/library/std/src/panic.rs:137:14\n",
      "      std::rt::lang_start_internal\n",
      "             at /rustc/e092d0b6b43f2de967af0887873151bb1c0b18d3/library/std/src/rt.rs:128:20\n",
      "   6: main\n",
      "   7: __libc_start_call_main\n",
      "             at ./csu/../sysdeps/nptl/libc_start_call_main.h:58:16\n",
      "   8: __libc_start_main_impl\n",
      "             at ./csu/../csu/libc-start.c:392:3\n",
      "   9: _start\n",
      "\n"
     ]
    },
    {
     "ename": "Error",
     "evalue": "Subprocess terminated with status: signal: 6 (core dumped)",
     "output_type": "error",
     "traceback": [
      "Subprocess terminated with status: signal: 6 (core dumped)"
     ]
    }
   ],
   "source": [
    "o2.unwrap();"
   ]
  },
  {
   "cell_type": "markdown",
   "metadata": {},
   "source": [
    "We can use a default to prevent panic:"
   ]
  },
  {
   "cell_type": "code",
   "execution_count": 54,
   "metadata": {
    "vscode": {
     "languageId": "rust"
    }
   },
   "outputs": [
    {
     "data": {
      "text/plain": [
       "(5, 24)"
      ]
     },
     "execution_count": 54,
     "metadata": {},
     "output_type": "execute_result"
    }
   ],
   "source": [
    "(o1.unwrap_or(42), o2.unwrap_or(24))"
   ]
  },
  {
   "cell_type": "markdown",
   "metadata": {},
   "source": [
    "We can check if they are none:"
   ]
  },
  {
   "cell_type": "code",
   "execution_count": 55,
   "metadata": {
    "vscode": {
     "languageId": "rust"
    }
   },
   "outputs": [
    {
     "data": {
      "text/plain": [
       "(false, true)"
      ]
     },
     "execution_count": 55,
     "metadata": {},
     "output_type": "execute_result"
    }
   ],
   "source": [
    "(o1.is_none(), o2.is_none())"
   ]
  },
  {
   "cell_type": "markdown",
   "metadata": {},
   "source": [
    "So we can implement `.unwrap_or` manually:"
   ]
  },
  {
   "cell_type": "code",
   "execution_count": 56,
   "metadata": {
    "vscode": {
     "languageId": "rust"
    }
   },
   "outputs": [
    {
     "data": {
      "text/plain": [
       "5"
      ]
     },
     "execution_count": 56,
     "metadata": {},
     "output_type": "execute_result"
    }
   ],
   "source": [
    "if o1.is_none() { 42 } else { o1.unwrap() }"
   ]
  },
  {
   "cell_type": "markdown",
   "metadata": {},
   "source": [
    "But the above code is the wrong way to do that. The right way is using a pattern matching:"
   ]
  },
  {
   "cell_type": "code",
   "execution_count": 57,
   "metadata": {
    "vscode": {
     "languageId": "rust"
    }
   },
   "outputs": [
    {
     "data": {
      "text/plain": [
       "5"
      ]
     },
     "execution_count": 57,
     "metadata": {},
     "output_type": "execute_result"
    }
   ],
   "source": [
    "match o1 {\n",
    "    Some(x) => x,\n",
    "    None => 42,\n",
    "}"
   ]
  },
  {
   "cell_type": "markdown",
   "metadata": {},
   "source": [
    "Or an `if let` which is a syntax sugar for the former (Or `.unwrap_or` itself, which is good practice in Rust):"
   ]
  },
  {
   "cell_type": "code",
   "execution_count": 58,
   "metadata": {
    "vscode": {
     "languageId": "rust"
    }
   },
   "outputs": [
    {
     "data": {
      "text/plain": [
       "42"
      ]
     },
     "execution_count": 58,
     "metadata": {},
     "output_type": "execute_result"
    }
   ],
   "source": [
    "if let Some(x) = o2 { x } else { 42 }"
   ]
  },
  {
   "cell_type": "markdown",
   "metadata": {},
   "source": [
    "`Option<T>` usually use more bytes than `T`, because it has more data. There are `2^32` valid values for `i32`, but `2^32+1` valid values for `Option<i32>`, so it needs at least 33 bits:"
   ]
  },
  {
   "cell_type": "code",
   "execution_count": 14,
   "metadata": {
    "vscode": {
     "languageId": "rust"
    }
   },
   "outputs": [
    {
     "data": {
      "text/plain": [
       "(4, 8)"
      ]
     },
     "execution_count": 14,
     "metadata": {},
     "output_type": "execute_result"
    }
   ],
   "source": [
    "use std::mem::size_of;\n",
    "\n",
    "(size_of::<i32>(), size_of::<Option<i32>>())"
   ]
  },
  {
   "cell_type": "markdown",
   "metadata": {},
   "source": [
    "But Rust is using 64 bits. Exact difference depedends on alignment, for example these have equal size:"
   ]
  },
  {
   "cell_type": "code",
   "execution_count": 60,
   "metadata": {
    "vscode": {
     "languageId": "rust"
    }
   },
   "outputs": [
    {
     "data": {
      "text/plain": [
       "(8, 8)"
      ]
     },
     "execution_count": 60,
     "metadata": {},
     "output_type": "execute_result"
    }
   ],
   "source": [
    "(size_of::<(i32, i32)>(), size_of::<i64>())"
   ]
  },
  {
   "cell_type": "markdown",
   "metadata": {},
   "source": [
    "But `Option` of them has different size: "
   ]
  },
  {
   "cell_type": "code",
   "execution_count": 61,
   "metadata": {
    "vscode": {
     "languageId": "rust"
    }
   },
   "outputs": [
    {
     "data": {
      "text/plain": [
       "(12, 16)"
      ]
     },
     "execution_count": 61,
     "metadata": {},
     "output_type": "execute_result"
    }
   ],
   "source": [
    "(size_of::<Option<(i32, i32)>>(), size_of::<Option<i64>>())"
   ]
  },
  {
   "cell_type": "markdown",
   "metadata": {},
   "source": [
    "Because references in rust are guarranteed to be valid, they are always non-null. So compiler can put the `None` case in the `NULL` position of the pointer space, so they will have equal size:"
   ]
  },
  {
   "cell_type": "code",
   "execution_count": 62,
   "metadata": {
    "vscode": {
     "languageId": "rust"
    }
   },
   "outputs": [
    {
     "data": {
      "text/plain": [
       "(8, 8)"
      ]
     },
     "execution_count": 62,
     "metadata": {},
     "output_type": "execute_result"
    }
   ],
   "source": [
    "(size_of::<Option<&i32>>(), size_of::<&i32>())"
   ]
  },
  {
   "cell_type": "markdown",
   "metadata": {},
   "source": [
    "So `Option<&i32>` is a null or valid reference to a `i32`, and `None` is null, at the binary level:"
   ]
  },
  {
   "cell_type": "code",
   "execution_count": 66,
   "metadata": {
    "vscode": {
     "languageId": "rust"
    }
   },
   "outputs": [],
   "source": [
    "let null_pointer: Option<&i32> = None;"
   ]
  },
  {
   "cell_type": "markdown",
   "metadata": {},
   "source": [
    "We can't dereference nullable pointers, even if they are not null:"
   ]
  },
  {
   "cell_type": "code",
   "execution_count": 67,
   "metadata": {
    "vscode": {
     "languageId": "rust"
    }
   },
   "outputs": [
    {
     "ename": "Error",
     "evalue": "type `Option<&i32>` cannot be dereferenced",
     "output_type": "error",
     "traceback": [
      "    *maybe_null",
      "    ^^^^^^^^^^^ ",
      "type `Option<&i32>` cannot be dereferenced"
     ]
    }
   ],
   "source": [
    "fn some_fn(maybe_null: Option<&i32>) -> i32 {\n",
    "    *maybe_null\n",
    "}\n",
    "some_fn(Some(&5));"
   ]
  },
  {
   "cell_type": "markdown",
   "metadata": {},
   "source": [
    "We can use `unwrap`, which will panic if the pointer is null. Panic is way better than UB. We can translate our above C code to Rust code, which is equivalent, but will check for memory problems in runtime:"
   ]
  },
  {
   "cell_type": "code",
   "execution_count": 68,
   "metadata": {
    "vscode": {
     "languageId": "rust"
    }
   },
   "outputs": [],
   "source": [
    "fn f_translated_to_rust(x: Option<&i32>, y: Option<&i32>) -> i32 {\n",
    "    if x.is_none() {\n",
    "        return *y.unwrap();\n",
    "    }\n",
    "    if y.is_none() {\n",
    "        return *x.unwrap();\n",
    "    }\n",
    "    *x.unwrap() + *y.unwrap()\n",
    "}"
   ]
  },
  {
   "cell_type": "markdown",
   "metadata": {},
   "source": [
    "But as said before, `.is_none()` and then `.unwrap()` is super unidiomatic code in Rust, and we should use pattern matching:"
   ]
  },
  {
   "cell_type": "code",
   "execution_count": 70,
   "metadata": {
    "vscode": {
     "languageId": "rust"
    }
   },
   "outputs": [
    {
     "ename": "Error",
     "evalue": "non-exhaustive patterns: `(None, None)` not covered",
     "output_type": "error",
     "traceback": [
      "    match (x, y) {",
      "          ^^^^^^ pattern `(None, None)` not covered",
      "non-exhaustive patterns: `(None, None)` not covered",
      "help: ensure that all possible cases are being handled by adding a match arm with a wildcard pattern or an explicit pattern as shown\n\n,\n        (None, None) => todo!()"
     ]
    }
   ],
   "source": [
    "fn f_the_rusty_way(x: Option<&i32>, y: Option<&i32>) -> i32 {\n",
    "    match (x, y) {\n",
    "        (Some(x), Some(y)) => *x + *y,\n",
    "        (Some(a), None) | (None, Some(a)) => *a,\n",
    "    }\n",
    "}"
   ]
  },
  {
   "cell_type": "markdown",
   "metadata": {},
   "source": [
    "Oh, we didn't handled the case which both pointers are null! And this was the case for all previous codes (did you notice that?). In C it was UB, and in unidiomatic Rust it was a logic error. But in idiomatic Rust it was a compiler error. Let's fix that bug:"
   ]
  },
  {
   "cell_type": "code",
   "execution_count": 73,
   "metadata": {
    "vscode": {
     "languageId": "rust"
    }
   },
   "outputs": [
    {
     "data": {
      "text/plain": [
       "5"
      ]
     },
     "execution_count": 73,
     "metadata": {},
     "output_type": "execute_result"
    }
   ],
   "source": [
    "fn f_the_rusty_way(x: Option<&i32>, y: Option<&i32>) -> i32 {\n",
    "    match (x, y) {\n",
    "        (Some(x), Some(y)) => *x + *y,\n",
    "        (Some(a), None) | (None, Some(a)) => *a,\n",
    "        (None, None) => 0,\n",
    "    }\n",
    "}\n",
    "\n",
    "f_the_rusty_way(Some(&5), None)"
   ]
  },
  {
   "cell_type": "markdown",
   "metadata": {},
   "source": [
    "At this point, you might be confused by pattern matching, specially if you don't have a functional programming background. Let's take a closer look to it.\n",
    "\n",
    "## Pattern matching"
   ]
  },
  {
   "cell_type": "markdown",
   "metadata": {},
   "source": [
    "Pattern matching is a tool to destruct values. Patterns are some language construct that can match values, and fill some bindings if they match the value.\n",
    "\n",
    "Simple bindings are patterns, which will match anything:"
   ]
  },
  {
   "cell_type": "code",
   "execution_count": 74,
   "metadata": {
    "vscode": {
     "languageId": "rust"
    }
   },
   "outputs": [
    {
     "data": {
      "text/plain": [
       "\"hello 5\""
      ]
     },
     "execution_count": 74,
     "metadata": {},
     "output_type": "execute_result"
    }
   ],
   "source": [
    "match 5 {\n",
    "    some_value => format!(\"hello {some_value}\"),\n",
    "}"
   ]
  },
  {
   "cell_type": "markdown",
   "metadata": {},
   "source": [
    "Literals are patterns, which will match only if the value is equal to themselve. And `_` is a pattern which will match everything and ignore."
   ]
  },
  {
   "cell_type": "code",
   "execution_count": 80,
   "metadata": {
    "vscode": {
     "languageId": "rust"
    }
   },
   "outputs": [
    {
     "data": {
      "text/plain": [
       "\"a great number\""
      ]
     },
     "execution_count": 80,
     "metadata": {},
     "output_type": "execute_result"
    }
   ],
   "source": [
    "match 43 {\n",
    "    1 => \"one\",\n",
    "    43 => \"a great number\",\n",
    "    _ => \"other\",\n",
    "}"
   ]
  },
  {
   "cell_type": "markdown",
   "metadata": {},
   "source": [
    "Ranges are patterns:"
   ]
  },
  {
   "cell_type": "code",
   "execution_count": 85,
   "metadata": {
    "vscode": {
     "languageId": "rust"
    }
   },
   "outputs": [
    {
     "data": {
      "text/plain": [
       "\"A number between 1 .. 10\""
      ]
     },
     "execution_count": 85,
     "metadata": {},
     "output_type": "execute_result"
    }
   ],
   "source": [
    "match 10_u32 {\n",
    "    1..=10 => \"A number between 1 .. 10\",\n",
    "    11..=100 => \"A number between 11 .. 100\",\n",
    "    101.. => \"A number bigger than 100\",\n",
    "    0 => \"Zero\",\n",
    "}"
   ]
  },
  {
   "cell_type": "markdown",
   "metadata": {},
   "source": [
    "Tuple of patterns, are patterns, which will match if both part of tuples match"
   ]
  },
  {
   "cell_type": "code",
   "execution_count": 89,
   "metadata": {
    "vscode": {
     "languageId": "rust"
    }
   },
   "outputs": [
    {
     "data": {
      "text/plain": [
       "\"one digit - two digit\""
      ]
     },
     "execution_count": 89,
     "metadata": {},
     "output_type": "execute_result"
    }
   ],
   "source": [
    "match (5, 12) {\n",
    "    (1..=9, 1..=9) => \"one digit - one digit\",\n",
    "    (1..=9, 10..=99) => \"one digit - two digit\",\n",
    "    (10..=99, 10..=99) => \"two digit - two digit\",\n",
    "    (100..=999, _) => \"three digit - unknown\",\n",
    "    _ => \"unknown - unknown\",\n",
    "}"
   ]
  },
  {
   "cell_type": "markdown",
   "metadata": {},
   "source": [
    "Patterns can have intersection with each other. First satisfying pattern will be choosed (like `switch case` in C)"
   ]
  },
  {
   "cell_type": "code",
   "execution_count": 91,
   "metadata": {
    "vscode": {
     "languageId": "rust"
    }
   },
   "outputs": [
    {
     "data": {
      "text/plain": [
       "\"this will be selected\""
      ]
     },
     "execution_count": 91,
     "metadata": {},
     "output_type": "execute_result"
    }
   ],
   "source": [
    "match (5, 12) {\n",
    "    (_, 1..=10) => \"this won't be selected, because it doesn't match\",\n",
    "    (3..=7, _) => \"this will be selected\",\n",
    "    (1..=100, 1..=100) => \"this won't be selected, even though it matches\",\n",
    "    _ => \"rest cases\",\n",
    "}"
   ]
  },
  {
   "cell_type": "markdown",
   "metadata": {},
   "source": [
    "If a match arm is unreachable, compiler will warn us. Jupyter doesn't show warnings, so I will make the warning error:"
   ]
  },
  {
   "cell_type": "code",
   "execution_count": 4,
   "metadata": {
    "vscode": {
     "languageId": "rust"
    }
   },
   "outputs": [
    {
     "ename": "Error",
     "evalue": "unreachable pattern",
     "output_type": "error",
     "traceback": [
      "        5 => \"5, the great number\",",
      "        ^ ",
      "unreachable pattern"
     ]
    }
   ],
   "source": [
    "#[deny(unreachable_patterns)]\n",
    "fn some_function_that_will_disallow_this_warning() -> &'static str {\n",
    "    match 5 {\n",
    "        1..=10 => \"A number between 1 and 10\",\n",
    "        5 => \"5, the great number\",\n",
    "        _ => \"A bad number\",\n",
    "    }\n",
    "}"
   ]
  },
  {
   "cell_type": "markdown",
   "metadata": {},
   "source": [
    "But we can ignore warnings as well:"
   ]
  },
  {
   "cell_type": "code",
   "execution_count": 2,
   "metadata": {
    "vscode": {
     "languageId": "rust"
    }
   },
   "outputs": [
    {
     "data": {
      "text/plain": [
       "\"A number between 1 and 10\""
      ]
     },
     "execution_count": 2,
     "metadata": {},
     "output_type": "execute_result"
    }
   ],
   "source": [
    "match 5 {\n",
    "    1..=10 => \"A number between 1 and 10\",\n",
    "    5 => \"5, the great number\",\n",
    "    _ => \"A bad number\",\n",
    "}"
   ]
  },
  {
   "cell_type": "markdown",
   "metadata": {},
   "source": [
    "On the other hand, if patterns don't cover the whole type space, it will be a hard error (we saw this before, when we didn't cover `(None, None)`)."
   ]
  },
  {
   "cell_type": "code",
   "execution_count": 8,
   "metadata": {
    "vscode": {
     "languageId": "rust"
    }
   },
   "outputs": [
    {
     "ename": "Error",
     "evalue": "non-exhaustive patterns: `i32::MIN..=0_i32` and `21_i32..=i32::MAX` not covered",
     "output_type": "error",
     "traceback": [
      "match 5 {",
      "      ^ patterns `i32::MIN..=0_i32` and `21_i32..=i32::MAX` not covered",
      "non-exhaustive patterns: `i32::MIN..=0_i32` and `21_i32..=i32::MAX` not covered",
      "help: ensure that all possible cases are being handled by adding a match arm with a wildcard pattern, a match arm with multiple or-patterns as shown, or multiple match arms\n\n,\n    i32::MIN..=0_i32 | 21_i32..=i32::MAX => todo!()"
     ]
    }
   ],
   "source": [
    "match 5 {\n",
    "    1..=10 => \"1-10\",\n",
    "    11..=20 => \"11-20\",\n",
    "}"
   ]
  },
  {
   "cell_type": "markdown",
   "metadata": {},
   "source": [
    "This is hard error, and not a warning, for memory safety! Ignoring it can lead to uninitalized value:"
   ]
  },
  {
   "cell_type": "code",
   "execution_count": 10,
   "metadata": {
    "vscode": {
     "languageId": "rust"
    }
   },
   "outputs": [
    {
     "ename": "Error",
     "evalue": "non-exhaustive patterns: `i32::MIN..=0_i32` and `3_i32..=i32::MAX` not covered",
     "output_type": "error",
     "traceback": [
      "let s = match 5 {",
      "              ^ patterns `i32::MIN..=0_i32` and `3_i32..=i32::MAX` not covered",
      "non-exhaustive patterns: `i32::MIN..=0_i32` and `3_i32..=i32::MAX` not covered",
      "help: ensure that all possible cases are being handled by adding a match arm with a wildcard pattern, a match arm with multiple or-patterns as shown, or multiple match arms\n\n,\n    i32::MIN..=0_i32 | 3_i32..=i32::MAX => todo!()"
     ]
    }
   ],
   "source": [
    "let s = match 5 {\n",
    "    1 => \"hello\",\n",
    "    2 => \"world\",\n",
    "};\n",
    "// What s can be? An string out of air?\n",
    "s "
   ]
  },
  {
   "cell_type": "markdown",
   "metadata": {},
   "source": [
    "We'll get back to the pattern matching in next chapters. For now, let's stick to the memory safety.\n",
    "\n",
    "## Uninitalized memory\n",
    "\n",
    "We usually initialize variables at declaration."
   ]
  },
  {
   "cell_type": "code",
   "execution_count": 3,
   "metadata": {
    "vscode": {
     "languageId": "rust"
    }
   },
   "outputs": [
    {
     "data": {
      "text/plain": [
       "2"
      ]
     },
     "execution_count": 3,
     "metadata": {},
     "output_type": "execute_result"
    }
   ],
   "source": [
    "let x = 2;\n",
    "x"
   ]
  },
  {
   "cell_type": "markdown",
   "metadata": {},
   "source": [
    "But it is not neccessary:"
   ]
  },
  {
   "cell_type": "code",
   "execution_count": 4,
   "metadata": {
    "vscode": {
     "languageId": "rust"
    }
   },
   "outputs": [
    {
     "data": {
      "text/plain": [
       "2"
      ]
     },
     "execution_count": 4,
     "metadata": {},
     "output_type": "execute_result"
    }
   ],
   "source": [
    "let x; // not even let mut x!\n",
    "x = 2;\n",
    "x"
   ]
  },
  {
   "cell_type": "markdown",
   "metadata": {},
   "source": [
    "Using an uninitalized value is compile error:"
   ]
  },
  {
   "cell_type": "code",
   "execution_count": 5,
   "metadata": {
    "vscode": {
     "languageId": "rust"
    }
   },
   "outputs": [
    {
     "ename": "Error",
     "evalue": "use of possibly-uninitialized variable: `x`",
     "output_type": "error",
     "traceback": [
      "let y = x + 3;",
      "        ^ use of possibly-uninitialized `x`",
      "use of possibly-uninitialized variable: `x`"
     ]
    }
   ],
   "source": [
    "let x;\n",
    "let y = x + 3;\n",
    "x = 2;\n",
    "y"
   ]
  },
  {
   "cell_type": "markdown",
   "metadata": {},
   "source": [
    "Rust runs a complex control flow analysis to be permissive:"
   ]
  },
  {
   "cell_type": "code",
   "execution_count": 6,
   "metadata": {
    "vscode": {
     "languageId": "rust"
    }
   },
   "outputs": [
    {
     "data": {
      "text/plain": [
       "8"
      ]
     },
     "execution_count": 6,
     "metadata": {},
     "output_type": "execute_result"
    }
   ],
   "source": [
    "let x;\n",
    "let some_condition = true;\n",
    "if some_condition {\n",
    "    x = 5;\n",
    "} else {\n",
    "    panic!(\"some condition doesn't met, exiting\");\n",
    "}\n",
    "let y = x + 3;\n",
    "y"
   ]
  },
  {
   "cell_type": "markdown",
   "metadata": {},
   "source": [
    "And maintain memory safety at the same time:"
   ]
  },
  {
   "cell_type": "code",
   "execution_count": 9,
   "metadata": {
    "vscode": {
     "languageId": "rust"
    }
   },
   "outputs": [
    {
     "ename": "Error",
     "evalue": "use of possibly-uninitialized variable: `x`",
     "output_type": "error",
     "traceback": [
      "let y = x + 3;",
      "        ^ use of possibly-uninitialized `x`",
      "use of possibly-uninitialized variable: `x`"
     ]
    }
   ],
   "source": [
    "let x;\n",
    "let some_condition = true;\n",
    "let some_other_condition = false;\n",
    "if some_condition {\n",
    "    x = 5;\n",
    "} else if some_other_condition {\n",
    "    panic!(\"some condition doesn't met, exiting\");\n",
    "}\n",
    "let y = x + 3;\n",
    "y"
   ]
  },
  {
   "cell_type": "markdown",
   "metadata": {},
   "source": [
    "Even in loops:"
   ]
  },
  {
   "cell_type": "code",
   "execution_count": 12,
   "metadata": {
    "vscode": {
     "languageId": "rust"
    }
   },
   "outputs": [
    {
     "ename": "Error",
     "evalue": "use of possibly-uninitialized variable: `last`",
     "output_type": "error",
     "traceback": [
      "    *last",
      "    ^^^^^ use of possibly-uninitialized `*last`",
      "use of possibly-uninitialized variable: `last`"
     ]
    }
   ],
   "source": [
    "fn last_member_stupid(nums: &Vec<i32>) -> i32 {\n",
    "    let mut last;\n",
    "    for x in nums {\n",
    "        last = x;\n",
    "    }\n",
    "    *last\n",
    "}"
   ]
  },
  {
   "cell_type": "markdown",
   "metadata": {},
   "source": [
    "## Move and copy\n",
    "\n",
    "There are no move constructor, copy constructor, overloading assignment operator and such things. Assignment operator, returning from blocks and functions, function calls and every operation which needs move, will always do the following:\n",
    "* Run the destructor of the thing in the dest. If it is uninitialized, do nothing.\n",
    "* `memcpy` the source bits to the dest. In case of `Vec`, it means copying the allocation pointer, length and capacity. 24 bytes in a 64bit system.\n",
    "* Compiler marks the source as uninitialized memory. So you can no longer use that."
   ]
  },
  {
   "cell_type": "code",
   "execution_count": 18,
   "metadata": {
    "vscode": {
     "languageId": "rust"
    }
   },
   "outputs": [
    {
     "ename": "Error",
     "evalue": "use of moved value: `x`",
     "output_type": "error",
     "traceback": [
      "let y = x;",
      "        ^ value moved here",
      "let z = x;",
      "        ^ value used here after move",
      "let x = vec![1, 2, 3];",
      "    ^ move occurs because `x` has type `Vec<i32>`, which does not implement the `Copy` trait",
      "use of moved value: `x`"
     ]
    }
   ],
   "source": [
    "let x = vec![1, 2, 3];\n",
    "let y = x;\n",
    "let z = x;"
   ]
  },
  {
   "cell_type": "markdown",
   "metadata": {},
   "source": [
    "The second step is super important for memory safety. Without that, there would be two vectors which own the allocation and can reallocate or free it.\n",
    "\n",
    "If you read the compiler error, it says `Vec<i32>` doesn't implement the `Copy` trait. The point is, in types that implement `Copy` trait, the source is still valid after move, so move is effectively a copy.\n",
    "\n",
    "Integers are one of `Copy` types. We can verify that with this:"
   ]
  },
  {
   "cell_type": "code",
   "execution_count": 19,
   "metadata": {
    "vscode": {
     "languageId": "rust"
    }
   },
   "outputs": [
    {
     "data": {
      "text/plain": [
       "4"
      ]
     },
     "execution_count": 19,
     "metadata": {},
     "output_type": "execute_result"
    }
   ],
   "source": [
    "let x = 2;\n",
    "let y = x;\n",
    "let z = x;\n",
    "y + z"
   ]
  },
  {
   "cell_type": "markdown",
   "metadata": {},
   "source": [
    "Or by using the static assertion crate:"
   ]
  },
  {
   "cell_type": "code",
   "execution_count": 27,
   "metadata": {
    "vscode": {
     "languageId": "rust"
    }
   },
   "outputs": [],
   "source": [
    ":dep assert-impl = \"0.1.3\"\n",
    "\n",
    "use assert_impl::assert_impl;"
   ]
  },
  {
   "cell_type": "code",
   "execution_count": 29,
   "metadata": {
    "vscode": {
     "languageId": "rust"
    }
   },
   "outputs": [],
   "source": [
    "assert_impl!(Copy: i32, i64, u8);"
   ]
  },
  {
   "cell_type": "markdown",
   "metadata": {},
   "source": [
    "References are also copy:"
   ]
  },
  {
   "cell_type": "code",
   "execution_count": 30,
   "metadata": {
    "vscode": {
     "languageId": "rust"
    }
   },
   "outputs": [],
   "source": [
    "assert_impl!(Copy: &i32, &Vec<i32>, &str);"
   ]
  },
  {
   "cell_type": "markdown",
   "metadata": {},
   "source": [
    "But mutable references are not:"
   ]
  },
  {
   "cell_type": "code",
   "execution_count": 31,
   "metadata": {
    "vscode": {
     "languageId": "rust"
    }
   },
   "outputs": [
    {
     "ename": "Error",
     "evalue": "the function or associated item `assert` exists for struct `Helper<&mut i32>`, but its trait bounds were not satisfied",
     "output_type": "error",
     "traceback": [
      "the function or associated item `assert` exists for struct `Helper<&mut i32>`, but its trait bounds were not satisfied"
     ]
    }
   ],
   "source": [
    "assert_impl!(Copy: &mut i32);"
   ]
  },
  {
   "cell_type": "markdown",
   "metadata": {},
   "source": [
    "The error message is meaningless, because `assert_impl` is a hacky solution. But why mutable references are not copy? If you remember from previous chapter, mutable references are unique. But if they were copy, they would lose this property and Rust would lose it's safety.\n",
    "\n",
    "User defined structs are not copy by default, but if all of its field implement copy, they can implement copy with derive:"
   ]
  },
  {
   "cell_type": "code",
   "execution_count": 32,
   "metadata": {
    "vscode": {
     "languageId": "rust"
    }
   },
   "outputs": [
    {
     "name": "stdout",
     "output_type": "stream",
     "text": [
      "hamid 20\n"
     ]
    }
   ],
   "source": [
    "#[derive(Clone, Copy)]\n",
    "struct Human {\n",
    "    name: &'static str,\n",
    "    age: u32,\n",
    "}\n",
    "\n",
    "let x = Human { name: \"hamid\", age: 20 };\n",
    "let y = x;\n",
    "let z = x;\n",
    "println!(\"{} {}\", y.name, z.age);"
   ]
  },
  {
   "cell_type": "markdown",
   "metadata": {},
   "source": [
    "## Bound checking\n",
    "\n",
    "Vector index lookups are always bound checked. We will get panic in case of out of bound access:"
   ]
  },
  {
   "cell_type": "code",
   "execution_count": 6,
   "metadata": {
    "vscode": {
     "languageId": "rust"
    }
   },
   "outputs": [
    {
     "data": {
      "text/plain": [
       "Preserve vars on panic: true\n"
      ]
     },
     "execution_count": 6,
     "metadata": {},
     "output_type": "execute_result"
    }
   ],
   "source": [
    ":preserve_vars_on_panic 1"
   ]
  },
  {
   "cell_type": "code",
   "execution_count": 25,
   "metadata": {
    "vscode": {
     "languageId": "rust"
    }
   },
   "outputs": [
    {
     "name": "stderr",
     "output_type": "stream",
     "text": [
      "thread '<unnamed>' panicked at 'index out of bounds: the len is 3 but the index is 5', src/lib.rs:124:40\n",
      "stack backtrace:\n",
      "   0: rust_begin_unwind\n",
      "             at /rustc/e092d0b6b43f2de967af0887873151bb1c0b18d3/library/std/src/panicking.rs:584:5\n",
      "   1: core::panicking::panic_fmt\n",
      "             at /rustc/e092d0b6b43f2de967af0887873151bb1c0b18d3/library/core/src/panicking.rs:142:14\n",
      "   2: core::panicking::panic_bounds_check\n",
      "             at /rustc/e092d0b6b43f2de967af0887873151bb1c0b18d3/library/core/src/panicking.rs:84:5\n",
      "   3: <unknown>\n",
      "   4: <unknown>\n",
      "   5: evcxr::runtime::Runtime::run_loop\n",
      "   6: evcxr::runtime::runtime_hook\n",
      "   7: evcxr_jupyter::main\n",
      "note: Some details are omitted, run with `RUST_BACKTRACE=full` for a verbose backtrace.\n"
     ]
    },
    {
     "data": {
      "text/plain": [
       "Panic occurred, the following variables have been lost: v"
      ]
     },
     "execution_count": 25,
     "metadata": {},
     "output_type": "execute_result"
    }
   ],
   "source": [
    "let v = vec![1, 2, 3];\n",
    "v[5]"
   ]
  },
  {
   "cell_type": "markdown",
   "metadata": {},
   "source": [
    "This was easy, and even c++ is able to do that. Because vector knows its length. But what about array pointers?"
   ]
  },
  {
   "cell_type": "code",
   "execution_count": 3,
   "metadata": {
    "vscode": {
     "languageId": "rust"
    }
   },
   "outputs": [
    {
     "ename": "Error",
     "evalue": "cannot index into a value of type `&i32`",
     "output_type": "error",
     "traceback": [
      "    x[3]",
      "    ^^^^ ",
      "cannot index into a value of type `&i32`"
     ]
    }
   ],
   "source": [
    "fn foo(x: &i32) -> i32 {\n",
    "    x[3]\n",
    "}\n"
   ]
  },
  {
   "cell_type": "markdown",
   "metadata": {},
   "source": [
    "Rust is not C, and can't use arbitary pointers for arrays. It has special type for array pointers:"
   ]
  },
  {
   "cell_type": "code",
   "execution_count": 7,
   "metadata": {
    "vscode": {
     "languageId": "rust"
    }
   },
   "outputs": [
    {
     "name": "stderr",
     "output_type": "stream",
     "text": [
      "thread '<unnamed>' panicked at 'index out of bounds: the len is 2 but the index is 3', src/lib.rs:3:5\n",
      "stack backtrace:\n",
      "   0: rust_begin_unwind\n",
      "             at /rustc/e092d0b6b43f2de967af0887873151bb1c0b18d3/library/std/src/panicking.rs:584:5\n",
      "   1: core::panicking::panic_fmt\n",
      "             at /rustc/e092d0b6b43f2de967af0887873151bb1c0b18d3/library/core/src/panicking.rs:142:14\n",
      "   2: core::panicking::panic_bounds_check\n",
      "             at /rustc/e092d0b6b43f2de967af0887873151bb1c0b18d3/library/core/src/panicking.rs:84:5\n",
      "   3: run_user_code_2\n"
     ]
    }
   ],
   "source": [
    "fn foo(x: &[i32]) -> i32 {\n",
    "    x[3]\n",
    "}\n",
    "\n",
    "foo(&[1, 2])"
   ]
  },
  {
   "cell_type": "markdown",
   "metadata": {},
   "source": [
    "But how Rust is able to handle that?\n",
    "\n",
    "## Fat pointers\n",
    "\n",
    "Pointer of arrays are double of normal pointers:"
   ]
  },
  {
   "cell_type": "code",
   "execution_count": 8,
   "metadata": {
    "vscode": {
     "languageId": "rust"
    }
   },
   "outputs": [
    {
     "data": {
      "text/plain": [
       "(8, 16)"
      ]
     },
     "execution_count": 8,
     "metadata": {},
     "output_type": "execute_result"
    }
   ],
   "source": [
    "use std::mem::size_of;\n",
    "\n",
    "(size_of::<&i32>(), size_of::<&[i32]>())"
   ]
  },
  {
   "cell_type": "markdown",
   "metadata": {},
   "source": [
    "This is because they will store size in the pointer as well. This allows Rust to bound check accesses to slices as well.\n",
    "\n",
    "If you know size at compile time, you can provide it:"
   ]
  },
  {
   "cell_type": "code",
   "execution_count": 9,
   "metadata": {
    "vscode": {
     "languageId": "rust"
    }
   },
   "outputs": [
    {
     "data": {
      "text/plain": [
       "(8, 16, 8)"
      ]
     },
     "execution_count": 9,
     "metadata": {},
     "output_type": "execute_result"
    }
   ],
   "source": [
    "(size_of::<&i32>(), size_of::<&[i32]>(), size_of::<&[i32; 5]>())"
   ]
  },
  {
   "cell_type": "markdown",
   "metadata": {},
   "source": [
    "So below function will accept only array pointers of size 5."
   ]
  },
  {
   "cell_type": "code",
   "execution_count": 10,
   "metadata": {
    "vscode": {
     "languageId": "rust"
    }
   },
   "outputs": [
    {
     "data": {
      "text/plain": [
       "4"
      ]
     },
     "execution_count": 10,
     "metadata": {},
     "output_type": "execute_result"
    }
   ],
   "source": [
    "fn foo(x: &[i32; 5]) -> i32 {\n",
    "    x[3]\n",
    "}\n",
    "foo(&[1, 2, 3, 4, 5])"
   ]
  },
  {
   "cell_type": "code",
   "execution_count": 11,
   "metadata": {
    "vscode": {
     "languageId": "rust"
    }
   },
   "outputs": [
    {
     "ename": "Error",
     "evalue": "mismatched types",
     "output_type": "error",
     "traceback": [
      "foo(&[1, 2])",
      "    ^^^^^^^ expected an array with a fixed size of 5 elements, found one with 2 elements",
      "mismatched types"
     ]
    }
   ],
   "source": [
    "foo(&[1, 2])"
   ]
  },
  {
   "cell_type": "markdown",
   "metadata": {},
   "source": [
    "This will get a normal bound checking panic at runtime:"
   ]
  },
  {
   "cell_type": "code",
   "execution_count": 15,
   "metadata": {
    "vscode": {
     "languageId": "rust"
    }
   },
   "outputs": [],
   "source": [
    "fn foo(x: &[i32; 5]) -> i32 {\n",
    "    x[7]\n",
    "}"
   ]
  },
  {
   "cell_type": "markdown",
   "metadata": {},
   "source": [
    "As a bouns for including size in the pointer, we can iterate over it:"
   ]
  },
  {
   "cell_type": "code",
   "execution_count": 16,
   "metadata": {
    "vscode": {
     "languageId": "rust"
    }
   },
   "outputs": [
    {
     "name": "stdout",
     "output_type": "stream",
     "text": [
      "3 4 5 \n",
      "1 2 3 \n",
      "3 4 \n"
     ]
    }
   ],
   "source": [
    "fn foo(ar: &[i32]) {\n",
    "    for x in ar {\n",
    "        print!(\"{x} \");\n",
    "    }\n",
    "    println!();\n",
    "}\n",
    "let v = vec![1, 2, 3, 4, 5];\n",
    "foo(&v[2..]);\n",
    "foo(&v[..3]);\n",
    "foo(&v[2..=3]);"
   ]
  },
  {
   "cell_type": "markdown",
   "metadata": {},
   "source": [
    "Above for is garraunteed to not have any bound checks (beside what is needed to detect if loop is finished), even in debug builds. But even naive C like for will be optimized in release builds, so we are not worried of performance effect of bound checks."
   ]
  },
  {
   "cell_type": "code",
   "execution_count": 17,
   "metadata": {
    "vscode": {
     "languageId": "rust"
    }
   },
   "outputs": [
    {
     "name": "stdout",
     "output_type": "stream",
     "text": [
      "3 4 5 \n",
      "1 2 3 \n",
      "3 4 \n"
     ]
    }
   ],
   "source": [
    "fn foo(ar: &[i32]) {\n",
    "    for i in 0..ar.len() {\n",
    "        let x = ar[i];\n",
    "        print!(\"{x} \");\n",
    "    }\n",
    "    println!();\n",
    "}\n",
    "let v = vec![1, 2, 3, 4, 5];\n",
    "foo(&v[2..]);\n",
    "foo(&v[..3]);\n",
    "foo(&v[2..=3]);"
   ]
  },
  {
   "cell_type": "markdown",
   "metadata": {},
   "source": [
    "# Unsized types\n",
    "\n",
    "Fat pointers are not specific to arrays. A pointer to every unsized type is fat.\n",
    "\n",
    "`str` is an unsized type:"
   ]
  },
  {
   "cell_type": "code",
   "execution_count": 13,
   "metadata": {
    "vscode": {
     "languageId": "rust"
    }
   },
   "outputs": [
    {
     "data": {
      "text/plain": [
       "16"
      ]
     },
     "execution_count": 13,
     "metadata": {},
     "output_type": "execute_result"
    }
   ],
   "source": [
    "size_of::<&str>()"
   ]
  },
  {
   "cell_type": "markdown",
   "metadata": {},
   "source": [
    "`str` is type of some bytes which are utf-8 encoded. You have seen them in string literals:"
   ]
  },
  {
   "cell_type": "code",
   "execution_count": 23,
   "metadata": {
    "vscode": {
     "languageId": "rust"
    }
   },
   "outputs": [
    {
     "data": {
      "text/plain": [
       "6"
      ]
     },
     "execution_count": 23,
     "metadata": {},
     "output_type": "execute_result"
    }
   ],
   "source": [
    "let x: &'static str = \"(😀)\";\n",
    "// number of bytes, not count of characters, grapheme clusters, ...\n",
    "x.len()"
   ]
  },
  {
   "cell_type": "markdown",
   "metadata": {},
   "source": [
    "And so is every struct with a last unsized field:"
   ]
  },
  {
   "cell_type": "code",
   "execution_count": 17,
   "metadata": {
    "vscode": {
     "languageId": "rust"
    }
   },
   "outputs": [
    {
     "data": {
      "text/plain": [
       "16"
      ]
     },
     "execution_count": 17,
     "metadata": {},
     "output_type": "execute_result"
    }
   ],
   "source": [
    "struct UnsizedStruct {\n",
    "    name: &'static str,\n",
    "    age: u32,\n",
    "    dna: [u8], // only last field can be unsized\n",
    "}\n",
    "\n",
    "size_of::<&UnsizedStruct>()"
   ]
  },
  {
   "cell_type": "markdown",
   "metadata": {},
   "source": [
    "And trait objects, which we are not ready yet for them."
   ]
  },
  {
   "cell_type": "markdown",
   "metadata": {},
   "source": [
    "## Pointers in structs\n",
    "\n",
    "References without lifetimes are disallowed in Rust:"
   ]
  },
  {
   "cell_type": "code",
   "execution_count": 2,
   "metadata": {
    "vscode": {
     "languageId": "rust"
    }
   },
   "outputs": [
    {
     "ename": "Error",
     "evalue": "missing lifetime specifier",
     "output_type": "error",
     "traceback": [
      "    data: &mut Vec<i32>,",
      "          ^ expected named lifetime parameter",
      "missing lifetime specifier",
      "help: consider introducing a named lifetime parameter\n\n<'a>"
     ]
    }
   ],
   "source": [
    "struct VecMutatorLog {\n",
    "    data: &mut Vec<i32>,\n",
    "    number_of_pushs: usize,\n",
    "}"
   ]
  },
  {
   "cell_type": "markdown",
   "metadata": {},
   "source": [
    "We should listen to the compiler and make it generic over lifetimes:"
   ]
  },
  {
   "cell_type": "code",
   "execution_count": 5,
   "metadata": {
    "vscode": {
     "languageId": "rust"
    }
   },
   "outputs": [],
   "source": [
    "struct VecMutatorLog<'a> {\n",
    "    data: &'a mut Vec<i32>,\n",
    "    number_of_push: usize,\n",
    "}"
   ]
  },
  {
   "cell_type": "markdown",
   "metadata": {},
   "source": [
    "Things are similar:"
   ]
  },
  {
   "cell_type": "code",
   "execution_count": 7,
   "metadata": {
    "vscode": {
     "languageId": "rust"
    }
   },
   "outputs": [
    {
     "data": {
      "text/plain": [
       "(3, [1, 2, 3, 10, 20, 30])"
      ]
     },
     "execution_count": 7,
     "metadata": {},
     "output_type": "execute_result"
    }
   ],
   "source": [
    "fn push(mutator: &mut VecMutatorLog<'_>, data: i32) {\n",
    "    mutator.number_of_push += 1;\n",
    "    mutator.data.push(data);\n",
    "}\n",
    "{\n",
    "    let mut v = vec![1, 2, 3];\n",
    "    let mut mv = VecMutatorLog {\n",
    "        data: &mut v,\n",
    "        number_of_push: 0,\n",
    "    };\n",
    "    push(&mut mv, 10);\n",
    "    push(&mut mv, 20);\n",
    "    push(&mut mv, 30);\n",
    "    (mv.number_of_push, v)\n",
    "}"
   ]
  },
  {
   "cell_type": "markdown",
   "metadata": {},
   "source": [
    "But if we push in the v again after read, compiler wil complain. (Remember: there can be only one mutable pointer and no other pointer to something at the same time)"
   ]
  },
  {
   "cell_type": "code",
   "execution_count": 11,
   "metadata": {
    "vscode": {
     "languageId": "rust"
    }
   },
   "outputs": [
    {
     "ename": "Error",
     "evalue": "cannot borrow `v` as immutable because it is also borrowed as mutable",
     "output_type": "error",
     "traceback": [
      "    println!(\"{:?}\", v);",
      "                     ^ immutable borrow occurs here",
      "        data: &mut v,",
      "              ^^^^^^ mutable borrow occurs here",
      "    push(&mut mv, 50);",
      "         ^^^^^^^ mutable borrow later used here",
      "cannot borrow `v` as immutable because it is also borrowed as mutable"
     ]
    }
   ],
   "source": [
    "{\n",
    "    let mut v = vec![1, 2, 3];\n",
    "    let mut mv = VecMutatorLog {\n",
    "        data: &mut v,\n",
    "        number_of_push: 0,\n",
    "    };\n",
    "    push(&mut mv, 10);\n",
    "    push(&mut mv, 20);\n",
    "    push(&mut mv, 30);\n",
    "    println!(\"{:?}\", v);\n",
    "    push(&mut mv, 50);\n",
    "    (mv.number_of_push, v)\n",
    "}"
   ]
  },
  {
   "cell_type": "markdown",
   "metadata": {},
   "source": [
    "So it isn't possible to work around the borrow checker with structs, since they have lifetime annotations similar to functions."
   ]
  },
  {
   "cell_type": "markdown",
   "metadata": {},
   "source": [
    "## Smart pointers\n",
    "\n",
    "References can model pointers that refer to a resource that someone else owns. That is, someone else is responsible to free it. With lifetime annotations, compiler can guarantee that we don't use references after the owner free their resource.\n",
    "\n",
    "But this is not the only pattern pointers are used in C. Sometimes a pointer is the one who owns the pointee. This is useful when moving the original data is costly and we want to frequently change the owner of it.\n",
    "\n",
    "In C++, this kind of pointers are wrapped in a `unique_ptr`, to free them when they are out of scope. `Box` will do the same in Rust:"
   ]
  },
  {
   "cell_type": "code",
   "execution_count": 13,
   "metadata": {
    "vscode": {
     "languageId": "rust"
    }
   },
   "outputs": [
    {
     "data": {
      "text/plain": [
       "5"
      ]
     },
     "execution_count": 13,
     "metadata": {},
     "output_type": "execute_result"
    }
   ],
   "source": [
    "let x: Box<i32> = Box::new(5); // will allocate 4 bytes in heap, and store it there\n",
    "// Box overloads the deref (*) operator\n",
    "*x"
   ]
  },
  {
   "cell_type": "markdown",
   "metadata": {},
   "source": [
    "Heap allocation is mandatory, because things in the stack have an owner (stack frame) which will free them (at the end of function). Heap allocation is not free, so use `Box` (and `unique_ptr` in c++ and `malloc` in C) cautiously.\n",
    "\n",
    "Box is exactly a pointer at the binary level:"
   ]
  },
  {
   "cell_type": "code",
   "execution_count": 16,
   "metadata": {
    "vscode": {
     "languageId": "rust"
    }
   },
   "outputs": [
    {
     "data": {
      "text/plain": [
       "(8, 8)"
      ]
     },
     "execution_count": 16,
     "metadata": {},
     "output_type": "execute_result"
    }
   ],
   "source": [
    "// size of box and nullable box:\n",
    "(size_of::<Box<i32>>(), size_of::<Option<Box<i32>>>())"
   ]
  },
  {
   "cell_type": "markdown",
   "metadata": {},
   "source": [
    "Box of unsized types are automatically fat:"
   ]
  },
  {
   "cell_type": "code",
   "execution_count": 17,
   "metadata": {
    "vscode": {
     "languageId": "rust"
    }
   },
   "outputs": [
    {
     "data": {
      "text/plain": [
       "16"
      ]
     },
     "execution_count": 17,
     "metadata": {},
     "output_type": "execute_result"
    }
   ],
   "source": [
    "size_of::<Box<[i32]>>()"
   ]
  },
  {
   "cell_type": "markdown",
   "metadata": {},
   "source": [
    "We can get a reference to the inside of a box:"
   ]
  },
  {
   "cell_type": "code",
   "execution_count": 18,
   "metadata": {
    "vscode": {
     "languageId": "rust"
    }
   },
   "outputs": [
    {
     "name": "stdout",
     "output_type": "stream",
     "text": [
      "12\n",
      "12\n"
     ]
    },
    {
     "data": {
      "text/plain": [
       "12"
      ]
     },
     "execution_count": 18,
     "metadata": {},
     "output_type": "execute_result"
    }
   ],
   "source": [
    "fn print_i32_ref(x: &i32) {\n",
    "    println!(\"{x}\");\n",
    "}\n",
    "let x = Box::new(12);\n",
    "print_i32_ref(&*x);\n",
    "print_i32_ref(&x); // * will be added by the compiler\n",
    "*x"
   ]
  },
  {
   "cell_type": "markdown",
   "metadata": {},
   "source": [
    "Box is not copy, even if their inside is copy. Similar to `&mut` references:"
   ]
  },
  {
   "cell_type": "code",
   "execution_count": 19,
   "metadata": {
    "vscode": {
     "languageId": "rust"
    }
   },
   "outputs": [
    {
     "ename": "Error",
     "evalue": "use of moved value: `x`",
     "output_type": "error",
     "traceback": [
      "let y = x;",
      "        ^ value moved here",
      "let z = x;",
      "        ^ value used here after move",
      "let x = Box::new(3);",
      "    ^ move occurs because `x` has type `Box<i32>`, which does not implement the `Copy` trait",
      "use of moved value: `x`"
     ]
    }
   ],
   "source": [
    "let x = Box::new(3);\n",
    "let y = x;\n",
    "let z = x;"
   ]
  },
  {
   "cell_type": "markdown",
   "metadata": {},
   "source": [
    "Box will free its resource at the end of scope. To see this in action, we will define a helper struct, which will print its name at the end:"
   ]
  },
  {
   "cell_type": "code",
   "execution_count": 48,
   "metadata": {
    "vscode": {
     "languageId": "rust"
    }
   },
   "outputs": [
    {
     "name": "stdout",
     "output_type": "stream",
     "text": [
      "test has been dropped\n",
      "finished\n"
     ]
    }
   ],
   "source": [
    "struct DebugDrop(&'static str);\n",
    "impl Drop for DebugDrop {\n",
    "    fn drop(&mut self) {\n",
    "        println!(\"{} has been dropped\", self.0);\n",
    "    }\n",
    "}\n",
    "{\n",
    "    let x = DebugDrop(\"test\");\n",
    "    // it should print here\n",
    "}\n",
    "println!(\"finished\");"
   ]
  },
  {
   "cell_type": "markdown",
   "metadata": {},
   "source": [
    "Now let's see box behavior:"
   ]
  },
  {
   "cell_type": "code",
   "execution_count": 24,
   "metadata": {
    "vscode": {
     "languageId": "rust"
    }
   },
   "outputs": [
    {
     "name": "stdout",
     "output_type": "stream",
     "text": [
      "position 1\n",
      "b3 has been dropped\n",
      "position 2\n",
      "Box b2 moved here\n",
      "b2 has been dropped\n",
      "position 3\n",
      "b1 has been dropped\n",
      "position 4\n"
     ]
    }
   ],
   "source": [
    "fn consume_box_for_fun(b: Box<DebugDrop>) {\n",
    "    println!(\"Box {} moved here\", b.0); // Remember: (*b).0 is not necessary\n",
    "}\n",
    "{\n",
    "    let b1 = Box::new(DebugDrop(\"b1\"));\n",
    "    let b2 = Box::new(DebugDrop(\"b2\"));\n",
    "    let mut b3 = Box::new(DebugDrop(\"b3\"));\n",
    "    println!(\"position 1\");\n",
    "    b3 = b1; // original b3 will be dropped here\n",
    "    println!(\"position 2\");\n",
    "    consume_box_for_fun(b2);\n",
    "    println!(\"position 3\");\n",
    "}\n",
    "println!(\"position 4\");"
   ]
  },
  {
   "cell_type": "markdown",
   "metadata": {},
   "source": [
    "Box can store arrays and slices as well:"
   ]
  },
  {
   "cell_type": "code",
   "execution_count": 25,
   "metadata": {
    "vscode": {
     "languageId": "rust"
    }
   },
   "outputs": [
    {
     "data": {
      "text/plain": [
       "3"
      ]
     },
     "execution_count": 25,
     "metadata": {},
     "output_type": "execute_result"
    }
   ],
   "source": [
    "let x: Box<[i32]> = Box::new([1, 2, 3]);\n",
    "x.len()"
   ]
  },
  {
   "cell_type": "markdown",
   "metadata": {},
   "source": [
    "But it can't change the length of the owned array. Another smart pointer, `Vec`, can:"
   ]
  },
  {
   "cell_type": "code",
   "execution_count": 26,
   "metadata": {
    "vscode": {
     "languageId": "rust"
    }
   },
   "outputs": [
    {
     "data": {
      "text/plain": [
       "5"
      ]
     },
     "execution_count": 26,
     "metadata": {},
     "output_type": "execute_result"
    }
   ],
   "source": [
    "let mut x: Vec<i32> = vec![1, 2, 3];\n",
    "x.push(4);\n",
    "x.push(5);\n",
    "x.len()"
   ]
  },
  {
   "cell_type": "markdown",
   "metadata": {},
   "source": [
    "Vec is a smart pointer in Rust (unlike c++) because it overloads the deref operator:"
   ]
  },
  {
   "cell_type": "code",
   "execution_count": 35,
   "metadata": {
    "vscode": {
     "languageId": "rust"
    }
   },
   "outputs": [
    {
     "name": "stdout",
     "output_type": "stream",
     "text": [
      "3\n",
      "[1, 2, 3]\n"
     ]
    }
   ],
   "source": [
    "{\n",
    "    let x: Vec<i32> = vec![1, 2, 3];\n",
    "    let y: &[i32] = &*x;\n",
    "    let z: &[i32] = &x; // compiler will add the *\n",
    "    println!(\"{}\", y.len());\n",
    "    println!(\"{:?}\", z);\n",
    "};"
   ]
  },
  {
   "cell_type": "markdown",
   "metadata": {},
   "source": [
    "`Vec<T>` is very similar to `Box<[T]>`. Both are a pointer that own an array on the heap, but `Vec` has an additional resize capability.\n",
    "\n",
    "Since `Vec<T>` itself is a pointer, `&Vec<T>` is not very useful and we should use `&[T]`. It has better performance (because it is one level of indirection, not two) and is more general:"
   ]
  },
  {
   "cell_type": "code",
   "execution_count": 43,
   "metadata": {
    "vscode": {
     "languageId": "rust"
    }
   },
   "outputs": [
    {
     "name": "stdout",
     "output_type": "stream",
     "text": [
      "4, [1, 2, 3, 4]\n",
      "3, [5, 6, 7]\n",
      "2, [9, 10]\n",
      "3, [2, 3, 4]\n",
      "2, [5, 6]\n"
     ]
    }
   ],
   "source": [
    "fn foo(x: &[i32]) {\n",
    "    println!(\"{}, {:?}\", x.len(), x);\n",
    "}\n",
    "\n",
    "let array_on_stack: [i32; 4] = [1, 2, 3, 4];\n",
    "let vector: Vec<i32> = vec![5, 6, 7];\n",
    "let boxed_array: Box<[i32]> = Box::new([9, 10]);\n",
    "foo(&array_on_stack);\n",
    "foo(&vector);\n",
    "foo(&boxed_array);\n",
    "foo(&array_on_stack[1..]);\n",
    "foo(&vector[..2]);"
   ]
  },
  {
   "cell_type": "markdown",
   "metadata": {},
   "source": [
    "Similarly, `&&T`, `&Box<T>`, `&&mut T` and such should be avoided in favor of `&T`.\n",
    "\n",
    "`&mut Vec<T>` might be useful sometimes:"
   ]
  },
  {
   "cell_type": "code",
   "execution_count": 44,
   "metadata": {
    "vscode": {
     "languageId": "rust"
    }
   },
   "outputs": [
    {
     "data": {
      "text/plain": [
       "[4, 5, 6, 1, 2, 3, 1, 2, 3, 1, 2, 3]"
      ]
     },
     "execution_count": 44,
     "metadata": {},
     "output_type": "execute_result"
    }
   ],
   "source": [
    "fn vec_pusher(v: &mut Vec<i32>) {\n",
    "    v.push(1); // not possible with &mut [i32]\n",
    "    v.push(2);\n",
    "    v.push(3);\n",
    "}\n",
    "let mut v = vec![4, 5, 6];\n",
    "vec_pusher(&mut v);\n",
    "vec_pusher(&mut v);\n",
    "vec_pusher(&mut v);\n",
    "v"
   ]
  },
  {
   "cell_type": "markdown",
   "metadata": {},
   "source": [
    "Rust also has an equivalent to `shared_ptr`, called `Arc`. This is useful when the resource has not a specific owner. It will move the resource on the heap, and count the users of it. It will increase the count on the clone, and decrease the count on drop, and will free the resource if count is zero.\n",
    "\n",
    "For example, we want to share a resource between some threads, but we don't want to join them in the main thread. So we can not use scoped threads and own the shared resource on the stack of the main thread, so we should use `Arc`:"
   ]
  },
  {
   "cell_type": "code",
   "execution_count": 57,
   "metadata": {
    "vscode": {
     "languageId": "rust"
    }
   },
   "outputs": [
    {
     "name": "stdout",
     "output_type": "stream",
     "text": [
      "thread 1: shared resource is a\n",
      "thread 2: shared resource is a\n",
      "thread 4: shared resource is a\n",
      "thread 7: shared resource is a\n",
      "goodbye from main thread\n",
      "thread 3: shared resource is a\n",
      "thread 6: shared resource is a\n",
      "thread 9: shared resource is a\n",
      "thread 8: shared resource is a\n",
      "thread 5: shared resource is a\n",
      "a has been dropped\n"
     ]
    }
   ],
   "source": [
    "use std::{thread, sync::Arc, time::Duration};\n",
    "{\n",
    "    let a = Arc::new(DebugDrop(\"a\"));\n",
    "    for i in 1..10 {\n",
    "        let a_clone = a.clone(); // increment the reference counter\n",
    "        thread::spawn(move || {\n",
    "            println!(\"thread {}: shared resource is {}\", i, a_clone.0);\n",
    "            // a_clone will be dropped here\n",
    "        });\n",
    "    }\n",
    "    println!(\"goodbye from main thread\");\n",
    "    // original a is dropped here, decreasing the counter\n",
    "};\n",
    "// wait for other threads to finish\n",
    "thread::sleep(Duration::from_millis(500));"
   ]
  },
  {
   "cell_type": "markdown",
   "metadata": {},
   "source": [
    "Cost of atomic operations are very high, specially in multi core settings. Better to avoid `.clone` as much as possible.\n",
    "\n",
    "Moving the `Arc` is one way to avoid clone:"
   ]
  },
  {
   "cell_type": "code",
   "execution_count": 58,
   "metadata": {
    "vscode": {
     "languageId": "rust"
    }
   },
   "outputs": [
    {
     "name": "stdout",
     "output_type": "stream",
     "text": [
      "thread 2: [1, 2, 3]. len is 3\n",
      "thread 1: [1, 2, 3]\n",
      "thread 3: [1, 2, 3]\n"
     ]
    }
   ],
   "source": [
    "fn some_function_that_needs_arc(x: Arc<Vec<i32>>, print_len_as_well: bool, id: i32) {\n",
    "    thread::spawn(move || {\n",
    "        if print_len_as_well {\n",
    "            // Remember: Arc is a smart pointer (overrides deref) and compiler will insert * operator\n",
    "            // in very places (like around method call) implicitly. so `.len` is for array slice, not Arc.\n",
    "            println!(\"thread {}: {:?}. len is {}\", id, x, x.len());\n",
    "        } else {\n",
    "            println!(\"thread {}: {:?}\", id, x);\n",
    "        }\n",
    "    });\n",
    "}\n",
    "let a = Arc::new(vec![1, 2, 3]);\n",
    "some_function_that_needs_arc(a.clone(), false, 1);\n",
    "some_function_that_needs_arc(a.clone(), true, 2);\n",
    "// we no longer need a after this function call, so we can move a to it and not clone\n",
    "some_function_that_needs_arc(a, false, 3);\n",
    "// wait for threads\n",
    "thread::sleep(Duration::from_millis(500));"
   ]
  },
  {
   "cell_type": "markdown",
   "metadata": {},
   "source": [
    "If a function doesn't need to do anything `Arc<T>` specific, it can use `&T`."
   ]
  },
  {
   "cell_type": "code",
   "execution_count": 66,
   "metadata": {
    "vscode": {
     "languageId": "rust"
    }
   },
   "outputs": [
    {
     "name": "stdout",
     "output_type": "stream",
     "text": [
      "thread 2: [1, 2, 3, 4]. len is 4\n",
      "thread 1: [1, 2, 3, 4]\n",
      "thread 1: [1, 2, 3, 4]\n",
      "thread 3: [1, 2, 3, 4]\n",
      "thread 3: [1, 2, 3, 4]\n",
      "thread 2: [1, 2, 3, 4]. len is 4\n"
     ]
    }
   ],
   "source": [
    "fn some_function_that_does_not_need_arc(x: &[i32], print_len_as_well: bool, id: i32) {\n",
    "    if print_len_as_well {\n",
    "        println!(\"thread {}: {:?}. len is {}\", id, x, x.len());\n",
    "    } else {\n",
    "        println!(\"thread {}: {:?}\", id, x);\n",
    "    }\n",
    "}\n",
    "\n",
    "fn some_function_that_needs_arc(x: Arc<Vec<i32>>, print_len_as_well: bool, id: i32) {\n",
    "    thread::spawn(move || {\n",
    "        some_function_that_does_not_need_arc(&x, print_len_as_well, id);\n",
    "        some_function_that_does_not_need_arc(&x, print_len_as_well, id);\n",
    "        // we here used x two times, but without increasing the reference counter\n",
    "    });\n",
    "}\n",
    "let a = Arc::new(vec![1, 2, 3, 4]);\n",
    "some_function_that_needs_arc(a.clone(), false, 1);\n",
    "some_function_that_needs_arc(a.clone(), true, 2);\n",
    "some_function_that_needs_arc(a, false, 3);\n",
    "// wait for threads\n",
    "thread::sleep(Duration::from_millis(500));"
   ]
  },
  {
   "cell_type": "markdown",
   "metadata": {},
   "source": [
    "Arc is acronym for Atomic reference counter. There is a non atomic version in the standard library as well:"
   ]
  },
  {
   "cell_type": "code",
   "execution_count": 70,
   "metadata": {
    "vscode": {
     "languageId": "rust"
    }
   },
   "outputs": [
    {
     "name": "stdout",
     "output_type": "stream",
     "text": [
      "position 1\n",
      "Living Room has been dropped\n",
      "position 2\n",
      "TV Room has been dropped\n",
      "position 3\n"
     ]
    }
   ],
   "source": [
    "use std::rc::Rc;\n",
    "struct Human {\n",
    "    room: Rc<DebugDrop>,\n",
    "}\n",
    "let hamid = Human { room: Rc::new(DebugDrop(\"TV Room\")) }; // hamid turns on the tv room lights\n",
    "let majid = Human { room: hamid.room.clone() }; // majid joins hamid\n",
    "let mut saeed = Human { room: Rc::new(DebugDrop(\"Living Room\")) };\n",
    "println!(\"position 1\");\n",
    "saeed.room = majid.room.clone(); // saeed goes to the TV room and left living room\n",
    "drop(hamid); // hamid left the room, but TV room is still here,\n",
    "println!(\"position 2\");\n",
    "drop(majid);\n",
    "drop(saeed);\n",
    "println!(\"position 3\");"
   ]
  },
  {
   "cell_type": "markdown",
   "metadata": {},
   "source": [
    "Using `Rc` in multiple threads, will result in a compiler error (because Rust is thread safe): (This is one of the reasons C++ has no equivalent for it, because people would shoot themselves in the foot by using it over multiple threads)"
   ]
  },
  {
   "cell_type": "code",
   "execution_count": 71,
   "metadata": {
    "vscode": {
     "languageId": "rust"
    }
   },
   "outputs": [
    {
     "ename": "Error",
     "evalue": "`Rc<DebugDrop>` cannot be sent between threads safely",
     "output_type": "error",
     "traceback": [
      "        thread::spawn(move || {",
      "        ^^^^^^^^^^^^^ `Rc<DebugDrop>` cannot be sent between threads safely",
      "        thread::spawn(move || {",
      "            println!(\"thread {}: shared resource is {}\", i, a_clone.0);",
      "        });",
      "                       within this `[closure@src/lib.rs:182:23: 184:10]`",
      "`Rc<DebugDrop>` cannot be sent between threads safely",
      "help: within `[closure@src/lib.rs:182:23: 184:10]`, the trait `Send` is not implemented for `Rc<DebugDrop>`"
     ]
    }
   ],
   "source": [
    "{\n",
    "    let a = Rc::new(DebugDrop(\"a\"));\n",
    "    for i in 1..10 {\n",
    "        let a_clone = a.clone();\n",
    "        thread::spawn(move || {\n",
    "            println!(\"thread {}: shared resource is {}\", i, a_clone.0);\n",
    "        });\n",
    "    }\n",
    "    println!(\"goodbye from main thread\");\n",
    "};"
   ]
  },
  {
   "cell_type": "markdown",
   "metadata": {},
   "source": [
    "In C++, smart pointers are encouraged, because C pointers are super dangerous. But in Rust they are discouraged, because of performance (heap allocation, increasing reference counts, ...). Smart pointers are one of defensive programming tactics in C++ that we would like to avoid in Rust. But sometimes there are unavoidable and we can't make compiler accept our (usually wrong) program without them."
   ]
  },
  {
   "cell_type": "markdown",
   "metadata": {},
   "source": [
    "## Memory leaks\n",
    "\n",
    "Preventing memory leaks is not in the guarantees of Rust memory safety. Rust even has a specific function for leaking things."
   ]
  },
  {
   "cell_type": "code",
   "execution_count": 72,
   "metadata": {
    "vscode": {
     "languageId": "rust"
    }
   },
   "outputs": [
    {
     "data": {
      "text/plain": [
       "[1, 2, 3]"
      ]
     },
     "execution_count": 72,
     "metadata": {},
     "output_type": "execute_result"
    }
   ],
   "source": [
    "let leaked_ref: &'static [i32];\n",
    "{\n",
    "    let array_to_leak = [1, 2, 3];\n",
    "    let array_on_heap = Box::new(array_to_leak);\n",
    "    // array_on_heap is a box, so it would normally dropped at the end of the block\n",
    "    leaked_ref = Box::leak(array_on_heap);\n",
    "}\n",
    "leaked_ref"
   ]
  },
  {
   "cell_type": "markdown",
   "metadata": {},
   "source": [
    "Or we can see that with `DebugDrop`:"
   ]
  },
  {
   "cell_type": "code",
   "execution_count": 77,
   "metadata": {
    "vscode": {
     "languageId": "rust"
    }
   },
   "outputs": [
    {
     "name": "stdout",
     "output_type": "stream",
     "text": [
      "will run has been dropped\n"
     ]
    }
   ],
   "source": [
    "let x = Box::new(DebugDrop(\"will run\"));\n",
    "let y = Box::new(DebugDrop(\"will never run\"));\n",
    "Box::leak(y);"
   ]
  },
  {
   "cell_type": "markdown",
   "metadata": {},
   "source": [
    "You: But why Rust isn't guaranteeing the prevention of memory leak? Isn't memory leak a bad thing?\n",
    "\n",
    "Yes, It's a bad thing, but it isn't very clear what things are memory leak. Look at this example:"
   ]
  },
  {
   "cell_type": "code",
   "execution_count": 83,
   "metadata": {
    "vscode": {
     "languageId": "rust"
    }
   },
   "outputs": [
    {
     "name": "stdout",
     "output_type": "stream",
     "text": [
      "[1, 1, 2, 3, 5, 8, 13, 21, 34, 55]\n"
     ]
    },
    {
     "data": {
      "text/plain": [
       "75"
      ]
     },
     "execution_count": 83,
     "metadata": {},
     "output_type": "execute_result"
    }
   ],
   "source": [
    "let mut v = vec![1];\n",
    "for _ in 1..100 {\n",
    "    let x = v.iter().rev().take(2).sum::<i32>() % 500;\n",
    "    v.push(x);\n",
    "}\n",
    "println!(\"{:?}\", &v[0..10]); // for showing that it is fibonacci\n",
    "v.last().unwrap()"
   ]
  },
  {
   "cell_type": "markdown",
   "metadata": {},
   "source": [
    "This is computing the 100th fibonacci item modulo 500. But it is not using memory at its best, because it always needs only the last two elements of `v`, so we can free the rest. Now imagine that the for loop above is handling some requests, and it is pushing results of previous requests in a vector (or hashmap) and using the recent results to answer the current request. Over time that vector will get bigger and bigger and eventually it will run out of memory. This is simply memory leak, but tools like valgrind won't show it, because the vector is being dropped at end of the scope."
   ]
  },
  {
   "cell_type": "markdown",
   "metadata": {},
   "source": [
    "## Mutability and memory safety\n",
    "\n",
    "In thread safety chapter, we have seen that Rust disallows multiple mutable references, achieving thread safety with that. Here we will show that it is necessary in single thread as well, for memory safety.\n",
    "\n",
    "Look at this example, which doesn't compile:"
   ]
  },
  {
   "cell_type": "code",
   "execution_count": 85,
   "metadata": {
    "vscode": {
     "languageId": "rust"
    }
   },
   "outputs": [
    {
     "ename": "Error",
     "evalue": "cannot borrow `v` as mutable because it is also borrowed as immutable",
     "output_type": "error",
     "traceback": [
      "    v.push(5);",
      "    ^^^^^^^^^ mutable borrow occurs here",
      "    let ref_to_0 = &v[0];",
      "                    ^ immutable borrow occurs here",
      "    *ref_to_0",
      "    ^^^^^^^^^ immutable borrow later used here",
      "cannot borrow `v` as mutable because it is also borrowed as immutable"
     ]
    }
   ],
   "source": [
    "{\n",
    "    let mut v = vec![1, 2, 3, 4];\n",
    "    let ref_to_0 = &v[0];\n",
    "    v.push(5);\n",
    "    *ref_to_0\n",
    "}"
   ]
  },
  {
   "cell_type": "markdown",
   "metadata": {},
   "source": [
    "While this code is single threaded and there can't be thread safety issues, there is memory safety issue with this code. The `push` in the third line can (and will, in this case) reallocate the memory of the vector, but the reference is to the first allocation, and won't be updated automatically. So it would be invalid at the last line, and compiler correctly prevent us from doing that."
   ]
  },
  {
   "cell_type": "markdown",
   "metadata": {},
   "source": [
    "## Runtime borrow checking\n",
    "\n",
    "In the previous chapter, we saw that with `Mutex` we can enforce unique mutable access via lock at runtime. We may want to enforce borrow checking rules in runtime even for single threaded programs, because borrow checker analysis is sometimes stricter than needed. For example:"
   ]
  },
  {
   "cell_type": "code",
   "execution_count": 3,
   "metadata": {
    "vscode": {
     "languageId": "rust"
    }
   },
   "outputs": [
    {
     "ename": "Error",
     "evalue": "cannot borrow `logger` as mutable more than once at a time",
     "output_type": "error",
     "traceback": [
      "    let read1 = read(&mut logger);",
      "                     ^^^^^^^^^^^ first mutable borrow occurs here",
      "    let read2 = read(&mut logger);",
      "                     ^^^^^^^^^^^ second mutable borrow occurs here",
      "    assert!(read1 == read2);",
      "            ^^^^^ first borrow later used here",
      "cannot borrow `logger` as mutable more than once at a time"
     ]
    }
   ],
   "source": [
    "enum Log {\n",
    "    Read,\n",
    "    Write,\n",
    "}\n",
    "#[derive(Default)]\n",
    "struct VecLogger {\n",
    "    data: Vec<i32>,\n",
    "    log: Vec<Log>,\n",
    "}\n",
    "fn read(x: &mut VecLogger) -> &Vec<i32> {\n",
    "    x.log.push(Log::Read);\n",
    "    &x.data\n",
    "}\n",
    "fn write(x: &mut VecLogger) -> &mut Vec<i32> {\n",
    "    x.log.push(Log::Write);\n",
    "    &mut x.data\n",
    "}\n",
    "{\n",
    "    let mut logger = VecLogger::default(); // will set both vectors to empty\n",
    "    let read1 = read(&mut logger);\n",
    "    let read2 = read(&mut logger);\n",
    "    assert!(read1 == read2);\n",
    "}"
   ]
  },
  {
   "cell_type": "markdown",
   "metadata": {},
   "source": [
    "The problem is, compiler will assume that the mutable reference should be alive at least as long as the result of `read`. There is nothing wrong with compiler here, signature of the `read` is saying exactly that (via lifetime elision), and compiler analysis are \"local\", that is, compiler will only look at the current function body and other function signatures, and won't look at other function bodies. This is a very important property, and guarantees that changes in a function implementation won't break other people's code. C++ doesn't have this property, and you can break other people's code by changing the implementation of a template function, which is a semver hazard.\n",
    "\n",
    "Now that we understand problem, lets fix that:"
   ]
  },
  {
   "cell_type": "code",
   "execution_count": 10,
   "metadata": {
    "vscode": {
     "languageId": "rust"
    }
   },
   "outputs": [
    {
     "data": {
      "text/plain": [
       "VecLogger { data: [3, 5], log: RefCell { value: [Write, Read, Read] } }"
      ]
     },
     "execution_count": 10,
     "metadata": {},
     "output_type": "execute_result"
    }
   ],
   "source": [
    "use std::cell::RefCell;\n",
    "#[derive(Debug)]\n",
    "enum Log {\n",
    "    Read,\n",
    "    Write,\n",
    "}\n",
    "#[derive(Default, Debug)]\n",
    "struct VecLogger {\n",
    "    data: Vec<i32>,\n",
    "    log: RefCell<Vec<Log>>,\n",
    "}\n",
    "fn read(x: &VecLogger) -> &Vec<i32> {\n",
    "    // readable access to a RefCell is enough for mutating it\n",
    "    let mut log_mut = x.log.borrow_mut();\n",
    "    log_mut.push(Log::Read);\n",
    "    &x.data\n",
    "}\n",
    "fn write(x: &mut VecLogger) -> &mut Vec<i32> {\n",
    "    // here ^^^^ is needed anyway\n",
    "    let mut log_mut = x.log.borrow_mut();\n",
    "    log_mut.push(Log::Write);\n",
    "    &mut x.data\n",
    "}\n",
    "{\n",
    "    let mut logger = VecLogger::default(); // will set both vectors to empty\n",
    "    let writer = write(&mut logger);\n",
    "    writer.push(3);\n",
    "    writer.push(5);\n",
    "    let read1 = read(&logger);\n",
    "    let read2 = read(&logger);\n",
    "    assert!(read1 == read2);\n",
    "    logger\n",
    "}"
   ]
  },
  {
   "cell_type": "markdown",
   "metadata": {},
   "source": [
    "## Things we learnt\n",
    "* These things are impossible in Rust:\n",
    "  * Use after free\n",
    "  * Double free\n",
    "  * Dereferencing invalid pointer (including null)\n",
    "  * Out of bound access (and so buffer overflow)\n",
    "* For preventing that, Rust needs lifetime annotations\n",
    "  * Rust-like borrow checker analysis is not applicable to c++, because the lack of such annotations\n",
    "* Pattern matching and its usage in preventing bugs\n",
    "* `Option`\n",
    "* Smart pointers: `Rc`, `Arc`, `Vec`, `Box`\n"
   ]
  }
 ],
 "metadata": {
  "kernelspec": {
   "display_name": "Rust",
   "language": "rust",
   "name": "rust"
  },
  "language_info": {
   "codemirror_mode": "rust",
   "file_extension": ".rs",
   "mimetype": "text/rust",
   "name": "Rust",
   "pygment_lexer": "rust",
   "version": ""
  },
  "orig_nbformat": 4
 },
 "nbformat": 4,
 "nbformat_minor": 2
}
