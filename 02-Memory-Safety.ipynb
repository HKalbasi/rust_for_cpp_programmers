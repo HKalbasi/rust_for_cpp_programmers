{
 "cells": [
  {
   "cell_type": "markdown",
   "metadata": {},
   "source": [
    "# Memory safety\n",
    "\n",
    "Memory problems are another major problem in languages like c++. In best case, you will get a segmentation fault, fire up a gdb, and debug it like an exception. In worst case, it can become a remote code execution security vulnerablity.\n",
    "\n",
    "The state of the art methods for preventing memory issues in c++ are:\n",
    "* Static methods: Compiler warnings, clang-tidy, ... can catch some common mistakes. But pretty limited due the lack of language level support.\n",
    "* Dynamic methods: Valgrind, asan, ... can catch (some of) memory problems in test suit. They are effective at finding memory bugs, but \"Program testing can be used to show the presence of bugs, but never to show their absence.\".\n",
    "* Runtime methods: Hardware tagging, CHERI, bound checking, ... can catch memory issues at runtime, and raise exception. These methods can prevent memory issues to become security vulnerablity, or make spurious problems in other parts of code. But they have performance and/or hardware cost.\n",
    "\n",
    "But all of these tools are not complete, and there are c/c++ programs with memory problems in the wild. In safe Rust, compiler will reject programs that contains memory safety problems, and in cases which it is not known statically, it will enforce runtime checks to ensure memory safety. Let's see this in action."
   ]
  },
  {
   "cell_type": "code",
   "execution_count": 42,
   "metadata": {
    "vscode": {
     "languageId": "rust"
    }
   },
   "outputs": [
    {
     "ename": "Error",
     "evalue": "cannot return reference to local variable `x`",
     "output_type": "error",
     "traceback": [
      "    &x",
      "    ^^ returns a reference to data owned by the current function",
      "cannot return reference to local variable `x`"
     ]
    }
   ],
   "source": [
    "fn dangling_reference(some_input: &i32) -> &i32 {\n",
    "    let x = 5 + *some_input;\n",
    "    &x\n",
    "}"
   ]
  },
  {
   "cell_type": "markdown",
   "metadata": {},
   "source": [
    "That was easy, and c++ linters will catch that as well. Here is a harder one:"
   ]
  },
  {
   "cell_type": "code",
   "execution_count": 43,
   "metadata": {
    "vscode": {
     "languageId": "rust"
    }
   },
   "outputs": [
    {
     "data": {
      "text/plain": [
       "2"
      ]
     },
     "execution_count": 43,
     "metadata": {},
     "output_type": "execute_result"
    }
   ],
   "source": [
    "fn reference_to_second(input: &Vec<i32>) -> &i32 {\n",
    "    &input[1]\n",
    "}\n",
    "{ // Blocks are due jupyter limits\n",
    "    let v = vec![1, 2, 3];\n",
    "    let r = reference_to_second(&v);\n",
    "    let z = *r;\n",
    "    z\n",
    "}"
   ]
  },
  {
   "cell_type": "markdown",
   "metadata": {},
   "source": [
    "Rust didn't catched us, because everything was ok. But we can make it problematic by droping the vector before reading the reference."
   ]
  },
  {
   "cell_type": "code",
   "execution_count": 44,
   "metadata": {
    "vscode": {
     "languageId": "rust"
    }
   },
   "outputs": [
    {
     "ename": "Error",
     "evalue": "cannot move out of `v` because it is borrowed",
     "output_type": "error",
     "traceback": [
      "    let r = reference_to_second(&v);",
      "                                ^^ borrow of `v` occurs here",
      "    drop(v);",
      "         ^ move out of `v` occurs here",
      "    let z = *r;",
      "            ^^ borrow later used here",
      "cannot move out of `v` because it is borrowed"
     ]
    }
   ],
   "source": [
    "use std::mem::drop;\n",
    "\n",
    "{\n",
    "    let v = vec![1, 2, 3];\n",
    "    let r = reference_to_second(&v);\n",
    "    drop(v);\n",
    "    let z = *r;\n",
    "    z\n",
    "}"
   ]
  },
  {
   "cell_type": "markdown",
   "metadata": {},
   "source": [
    "We can see that Rust is magically catching the use after free bug here, with detailed explanation. But how Rust knows that `r` is related to `v`?\n",
    "\n",
    "## Lifetimes"
   ]
  },
  {
   "cell_type": "markdown",
   "metadata": {},
   "source": [
    "Reference type in Rust has two arguments, a `T`, type of the value that reference refer to it, and a `'x`, lifetime of the reference. And in its full form, it is written as `&'x T`.\n",
    "\n",
    "The syntax `&T` which you have seen before, is a syntax sugar for `&'_ T`, which means infer or elide the lifetime.\n",
    "\n",
    "Let's start with `'static` lifetime, which means this reference is valid for the whole program."
   ]
  },
  {
   "cell_type": "code",
   "execution_count": null,
   "metadata": {
    "vscode": {
     "languageId": "rust"
    }
   },
   "outputs": [
    {
     "data": {
      "text/plain": [
       "\"hello\""
      ]
     },
     "execution_count": 11,
     "metadata": {},
     "output_type": "execute_result"
    }
   ],
   "source": [
    "// str literals are included in the binary, so reference to them is valid for the whole program\n",
    "let ref_to_str: &'static str = \"hello\";\n",
    "*ref_to_str"
   ]
  },
  {
   "cell_type": "markdown",
   "metadata": {},
   "source": [
    "Rvalue references is another way to create static references in Rust (which isn't possible in c++)"
   ]
  },
  {
   "cell_type": "code",
   "execution_count": null,
   "metadata": {
    "vscode": {
     "languageId": "rust"
    }
   },
   "outputs": [
    {
     "data": {
      "text/plain": [
       "42"
      ]
     },
     "execution_count": 12,
     "metadata": {},
     "output_type": "execute_result"
    }
   ],
   "source": [
    "let ref_to_i32: &'static i32 = &42;\n",
    "*ref_to_i32"
   ]
  },
  {
   "cell_type": "markdown",
   "metadata": {},
   "source": [
    "But the compiler will catch us if we try to use a temporary reference with `'static` lifetime:"
   ]
  },
  {
   "cell_type": "code",
   "execution_count": null,
   "metadata": {
    "vscode": {
     "languageId": "rust"
    }
   },
   "outputs": [
    {
     "ename": "Error",
     "evalue": "`x` does not live long enough",
     "output_type": "error",
     "traceback": [
      "    let y: &'static i32 = &x;",
      "                          ^^ borrowed value does not live long enough",
      "}",
      "^ `x` dropped here while still borrowed",
      "`x` does not live long enough"
     ]
    }
   ],
   "source": [
    "{\n",
    "    let x = 5;\n",
    "    let y: &'static i32 = &x;\n",
    "    y\n",
    "}"
   ]
  },
  {
   "cell_type": "markdown",
   "metadata": {},
   "source": [
    "`'static` is not the only possible lifetime. See the below code, which looks fine, but doesn't compile:"
   ]
  },
  {
   "cell_type": "code",
   "execution_count": null,
   "metadata": {
    "vscode": {
     "languageId": "rust"
    }
   },
   "outputs": [
    {
     "ename": "Error",
     "evalue": "missing lifetime specifier",
     "output_type": "error",
     "traceback": [
      "fn some_fn(vec: &Vec<i32>, index: &usize) -> &i32 {",
      "                ^^^^^^^^^ ",
      "fn some_fn(vec: &Vec<i32>, index: &usize) -> &i32 {",
      "                                  ^^^^^^ ",
      "fn some_fn(vec: &Vec<i32>, index: &usize) -> &i32 {",
      "                                             ^ expected named lifetime parameter",
      "missing lifetime specifier",
      "help: this function's return type contains a borrowed value, but the signature does not say whether it is borrowed from `vec` or `index`",
      "help: consider introducing a named lifetime parameter\n\n<'a>"
     ]
    }
   ],
   "source": [
    "fn some_fn(vec: &Vec<i32>, index: &usize) -> &i32 {\n",
    "    &vec[*index]\n",
    "}"
   ]
  },
  {
   "cell_type": "markdown",
   "metadata": {},
   "source": [
    "Compiler want's lifetime specifier, so we will provide it."
   ]
  },
  {
   "cell_type": "code",
   "execution_count": null,
   "metadata": {
    "vscode": {
     "languageId": "rust"
    }
   },
   "outputs": [
    {
     "data": {
      "text/plain": [
       "3"
      ]
     },
     "execution_count": 16,
     "metadata": {},
     "output_type": "execute_result"
    }
   ],
   "source": [
    "fn some_fn<'a, 'b>(vec: &'a Vec<i32>, index: &'b usize) -> &'a i32 {\n",
    "    &vec[*index]\n",
    "}\n",
    "\n",
    "let v = vec![1, 2, 3];\n",
    "*some_fn(&v, &2)"
   ]
  },
  {
   "cell_type": "markdown",
   "metadata": {},
   "source": [
    "The syntax `&'a Vec<i32>` is type of a reference that is live at least as `'a`. And the `<'a, 'b>` means that the signature of this function is generic over each lifetime that can satisfy it's arguments conditions. Compiler can now understand that the result is alive as long as the first input, and will reject this code:"
   ]
  },
  {
   "cell_type": "code",
   "execution_count": null,
   "metadata": {
    "vscode": {
     "languageId": "rust"
    }
   },
   "outputs": [
    {
     "ename": "Error",
     "evalue": "`v` does not live long enough",
     "output_type": "error",
     "traceback": [
      "        some_fn(&v, &i)",
      "                ^^ borrowed value does not live long enough",
      "    };",
      "    ^ `v` dropped here while still borrowed",
      "    let r = {",
      "        ^ borrow later stored here",
      "`v` does not live long enough"
     ]
    }
   ],
   "source": [
    "{\n",
    "    let i = 2;\n",
    "    let r = {\n",
    "        let v = vec![1, 2, 3];\n",
    "        some_fn(&v, &i)\n",
    "    };\n",
    "    *r\n",
    "}"
   ]
  },
  {
   "cell_type": "markdown",
   "metadata": {},
   "source": [
    "But not this code"
   ]
  },
  {
   "cell_type": "code",
   "execution_count": null,
   "metadata": {
    "vscode": {
     "languageId": "rust"
    }
   },
   "outputs": [
    {
     "data": {
      "text/plain": [
       "3"
      ]
     },
     "execution_count": 20,
     "metadata": {},
     "output_type": "execute_result"
    }
   ],
   "source": [
    "{\n",
    "    let v = vec![1, 2, 3];\n",
    "    let r = {\n",
    "        let i = 2;\n",
    "        some_fn(&v, &i)\n",
    "    };\n",
    "    *r // reference to i is invalid here, but it doesn't matter\n",
    "}"
   ]
  },
  {
   "cell_type": "markdown",
   "metadata": {},
   "source": [
    "We can (incorrectly) make the signature of `some_fn` more restrictive, and force the result of function to live no longer than reference to the index:"
   ]
  },
  {
   "cell_type": "code",
   "execution_count": null,
   "metadata": {
    "vscode": {
     "languageId": "rust"
    }
   },
   "outputs": [],
   "source": [
    "fn some_fn<'a>(vec: &'a Vec<i32>, index: &'a usize) -> &'a i32 {\n",
    "    &vec[*index]\n",
    "}"
   ]
  },
  {
   "cell_type": "markdown",
   "metadata": {},
   "source": [
    "Here we used `'a` for both parameters. It doesn't mean they will have exact same lifetime, but it means `'a` is a lifetime that both parameters are valid during it. Compiler will choose the maximum possible option for `'a`. Remember, `&'x T` means this reference is valid at least as `'x`.\n",
    "\n",
    "So the above example will no longer compile with new `some_fn`:"
   ]
  },
  {
   "cell_type": "code",
   "execution_count": null,
   "metadata": {
    "vscode": {
     "languageId": "rust"
    }
   },
   "outputs": [
    {
     "ename": "Error",
     "evalue": "`i` does not live long enough",
     "output_type": "error",
     "traceback": [
      "        some_fn(&v, &i)",
      "                    ^^ borrowed value does not live long enough",
      "    };",
      "    ^ `i` dropped here while still borrowed",
      "    let r = {",
      "        ^ borrow later stored here",
      "`i` does not live long enough"
     ]
    }
   ],
   "source": [
    "{\n",
    "    let v = vec![1, 2, 3];\n",
    "    let r = {\n",
    "        let i = 2;\n",
    "        some_fn(&v, &i)\n",
    "    };\n",
    "    *r\n",
    "}"
   ]
  },
  {
   "cell_type": "markdown",
   "metadata": {},
   "source": [
    "You: So we can add a wrong lifetime annonation, to mislead compiler to accept the first example, which dropped the vector?\n",
    "\n",
    "No, compiler will catch that. Let's try it."
   ]
  },
  {
   "cell_type": "code",
   "execution_count": null,
   "metadata": {
    "vscode": {
     "languageId": "rust"
    }
   },
   "outputs": [
    {
     "ename": "Error",
     "evalue": "lifetime may not live long enough",
     "output_type": "error",
     "traceback": [
      "fn some_fn<'a, 'b>(vec: &'b Vec<i32>, index: &'a usize) -> &'a i32 {",
      "               ^^ lifetime `'b` defined here",
      "fn some_fn<'a, 'b>(vec: &'b Vec<i32>, index: &'a usize) -> &'a i32 {",
      "           ^^ lifetime `'a` defined here",
      "    &vec[*index]",
      "    ^^^^^^^^^^^^ function was supposed to return data with lifetime `'a` but it is returning data with lifetime `'b`",
      "lifetime may not live long enough",
      "help: consider adding the following bound: `'b: 'a`"
     ]
    }
   ],
   "source": [
    "fn some_fn<'a, 'b>(vec: &'b Vec<i32>, index: &'a usize) -> &'a i32 {\n",
    "    &vec[*index]\n",
    "}"
   ]
  },
  {
   "cell_type": "markdown",
   "metadata": {},
   "source": [
    "`'b: 'a` means `'b` is longer than `'a` (`'b >= 'a`). We can right this function in this way:"
   ]
  },
  {
   "cell_type": "code",
   "execution_count": null,
   "metadata": {
    "vscode": {
     "languageId": "rust"
    }
   },
   "outputs": [],
   "source": [
    "fn some_fn<'a: 'c, 'b, 'c>(vec: &'a Vec<i32>, index: &'b usize) -> &'c i32 {\n",
    "    &vec[*index]\n",
    "}"
   ]
  },
  {
   "cell_type": "markdown",
   "metadata": {},
   "source": [
    "Which is just more verbose and has no difference. We can write it even more verbose:"
   ]
  },
  {
   "cell_type": "code",
   "execution_count": null,
   "metadata": {
    "vscode": {
     "languageId": "rust"
    }
   },
   "outputs": [],
   "source": [
    "fn some_fn<'a, 'b, 'c>(vec: &'a Vec<i32>, index: &'b usize) -> &'c i32\n",
    "where\n",
    "    'a: 'c,\n",
    "{\n",
    "    &vec[*index]\n",
    "}"
   ]
  },
  {
   "cell_type": "markdown",
   "metadata": {},
   "source": [
    "## Lifetime elision\n",
    "\n",
    "Let's get back to the first example:"
   ]
  },
  {
   "cell_type": "code",
   "execution_count": null,
   "metadata": {
    "vscode": {
     "languageId": "rust"
    }
   },
   "outputs": [],
   "source": [
    "fn reference_to_second(input: &Vec<i32>) -> &i32 {\n",
    "    &input[1]\n",
    "}"
   ]
  },
  {
   "cell_type": "markdown",
   "metadata": {},
   "source": [
    "As said before, `&Vec<i32>` or `&'_ Vec<i32>` means its the compiler job to fill the lifetime position. In this case, it will fill it like this:"
   ]
  },
  {
   "cell_type": "code",
   "execution_count": null,
   "metadata": {
    "vscode": {
     "languageId": "rust"
    }
   },
   "outputs": [],
   "source": [
    "fn reference_to_second<'a>(input: &'a Vec<i32>) -> &'a i32 {\n",
    "    &input[1]\n",
    "}"
   ]
  },
  {
   "cell_type": "markdown",
   "metadata": {},
   "source": [
    "The rationale is, You can't create references out of air, and return reference to local variables or owned parameters. So if there is exactly one reference in inputs, and output is a reference, it can live as long as the input (and no longer).\n",
    "\n",
    "There are some more heuristics like this, called \"lifetime elision rules\".\n",
    "\n",
    "But in the case when there is two inputs, the user intention is not clear. The result might borrow from the first argument (`some_fn` above), from the second argument (`some_fn` with arguments swapped) or even both:"
   ]
  },
  {
   "cell_type": "code",
   "execution_count": null,
   "metadata": {
    "vscode": {
     "languageId": "rust"
    }
   },
   "outputs": [
    {
     "data": {
      "text/plain": [
       "7"
      ]
     },
     "execution_count": 34,
     "metadata": {},
     "output_type": "execute_result"
    }
   ],
   "source": [
    "fn last_element_of_longer_vec<'a>(v1: &'a Vec<i32>, v2: &'a Vec<i32>) -> &'a i32 {\n",
    "    if v1.len() > v2.len() {\n",
    "        v1.last().unwrap()\n",
    "    } else {\n",
    "        v2.last().unwrap()\n",
    "    }\n",
    "}\n",
    "{\n",
    "    let v1 = vec![1, 2, 3];\n",
    "    let v2 = vec![4, 5, 6, 7];\n",
    "    let r = last_element_of_longer_vec(&v1, &v2);\n",
    "    // droping any of v1 and v2 can potentially invalidate this reference\n",
    "    *r\n",
    "}"
   ]
  },
  {
   "cell_type": "markdown",
   "metadata": {},
   "source": [
    "## Null pointers\n",
    "\n",
    "We can't create null pointers in Rust:"
   ]
  },
  {
   "cell_type": "code",
   "execution_count": null,
   "metadata": {
    "vscode": {
     "languageId": "rust"
    }
   },
   "outputs": [
    {
     "ename": "Error",
     "evalue": "mismatched types",
     "output_type": "error",
     "traceback": [
      "let null_pointer: &i32 = 0; // You can try NUL, NIL, NULL, null_ptr, ...",
      "                         ^ expected `&i32`, found integer",
      "let null_pointer: &i32 = 0; // You can try NUL, NIL, NULL, null_ptr, ...",
      "                  ^^^^ expected due to this",
      "mismatched types",
      "help: consider borrowing here\n\n&0"
     ]
    }
   ],
   "source": [
    "let null_pointer: &i32 = 0; // You can try NUL, NIL, NULL, null_ptr, ..."
   ]
  },
  {
   "cell_type": "markdown",
   "metadata": {},
   "source": [
    "But what we can do if we really need a null pointer? For example, we want to write a function which adds a pointer to another pointer, and will consider them zero if they are null. This is the implementation in c:\n",
    "```C++\n",
    "int f(int *x, int *y) {\n",
    "    if (x == NULL) return *y;\n",
    "    if (y == NULL) return *x;\n",
    "    return *x + *y;\n",
    "}\n",
    "```"
   ]
  },
  {
   "cell_type": "markdown",
   "metadata": {},
   "source": [
    "In rust we will use `Option`. `Option` is similar to `std::optional`, but different. And it is not specific to pointers, so we can use it with `i32`, for example:"
   ]
  },
  {
   "cell_type": "code",
   "execution_count": 52,
   "metadata": {
    "vscode": {
     "languageId": "rust"
    }
   },
   "outputs": [],
   "source": [
    "let o1: Option<i32> = Some(5); // An option with `Some` value\n",
    "let o2: Option<i32> = None; // An option without value"
   ]
  },
  {
   "cell_type": "markdown",
   "metadata": {},
   "source": [
    "`.unwrap()` will return the inner value if there is any:"
   ]
  },
  {
   "cell_type": "code",
   "execution_count": 46,
   "metadata": {
    "vscode": {
     "languageId": "rust"
    }
   },
   "outputs": [
    {
     "data": {
      "text/plain": [
       "5"
      ]
     },
     "execution_count": 46,
     "metadata": {},
     "output_type": "execute_result"
    }
   ],
   "source": [
    "o1.unwrap()"
   ]
  },
  {
   "cell_type": "markdown",
   "metadata": {},
   "source": [
    "But will panic otherwise:"
   ]
  },
  {
   "cell_type": "code",
   "execution_count": 100,
   "metadata": {
    "vscode": {
     "languageId": "rust"
    }
   },
   "outputs": [
    {
     "name": "stderr",
     "output_type": "stream",
     "text": [
      "thread '<unnamed>' panicked at 'called `Option::unwrap()` on a `None` value', src/lib.rs:146:4\n",
      "stack backtrace:\n",
      "   0: rust_begin_unwind\n",
      "             at /rustc/4b91a6ea7258a947e59c6522cd5898e7c0a6a88f/library/std/src/panicking.rs:584:5\n",
      "   1: core::panicking::panic_fmt\n",
      "             at /rustc/4b91a6ea7258a947e59c6522cd5898e7c0a6a88f/library/core/src/panicking.rs:142:14\n",
      "   2: core::panicking::panic\n",
      "             at /rustc/4b91a6ea7258a947e59c6522cd5898e7c0a6a88f/library/core/src/panicking.rs:48:5\n",
      "   3: run_user_code_55\n",
      "   4: evcxr::runtime::Runtime::run_loop\n",
      "   5: evcxr::runtime::runtime_hook\n",
      "   6: evcxr_jupyter::main\n",
      "note: Some details are omitted, run with `RUST_BACKTRACE=full` for a verbose backtrace.\n",
      "Segmentation fault.\n",
      "   0: evcxr::runtime::Runtime::install_crash_handlers::segfault_handler\n",
      "   1: <unknown>\n",
      "   2: mi_free\n",
      "   3: alloc::alloc::dealloc\n",
      "             at /rustc/e092d0b6b43f2de967af0887873151bb1c0b18d3/library/alloc/src/alloc.rs:107:14\n",
      "      <alloc::alloc::Global as core::alloc::Allocator>::deallocate\n",
      "             at /rustc/e092d0b6b43f2de967af0887873151bb1c0b18d3/library/alloc/src/alloc.rs:244:22\n",
      "      alloc::alloc::box_free\n",
      "             at /rustc/e092d0b6b43f2de967af0887873151bb1c0b18d3/library/alloc/src/alloc.rs:342:9\n",
      "      panic_unwind::real_imp::cleanup\n",
      "             at /rustc/e092d0b6b43f2de967af0887873151bb1c0b18d3/library/panic_unwind/src/gcc.rs:83:5\n",
      "      __rust_panic_cleanup\n",
      "             at /rustc/e092d0b6b43f2de967af0887873151bb1c0b18d3/library/panic_unwind/src/lib.rs:101:19\n",
      "   4: std::panicking::try::cleanup\n",
      "             at /rustc/e092d0b6b43f2de967af0887873151bb1c0b18d3/library/std/src/panicking.rs:473:42\n",
      "   5: std::panicking::try::do_catch\n",
      "             at /rustc/e092d0b6b43f2de967af0887873151bb1c0b18d3/library/std/src/panicking.rs:517:23\n",
      "      std::panicking::try\n",
      "             at /rustc/e092d0b6b43f2de967af0887873151bb1c0b18d3/library/std/src/panicking.rs:456:19\n",
      "      std::panic::catch_unwind\n",
      "             at /rustc/e092d0b6b43f2de967af0887873151bb1c0b18d3/library/std/src/panic.rs:137:14\n",
      "      std::rt::lang_start_internal::{{closure}}\n",
      "             at /rustc/e092d0b6b43f2de967af0887873151bb1c0b18d3/library/std/src/rt.rs:128:48\n",
      "      std::panicking::try::do_call\n",
      "             at /rustc/e092d0b6b43f2de967af0887873151bb1c0b18d3/library/std/src/panicking.rs:492:40\n",
      "      std::panicking::try\n",
      "             at /rustc/e092d0b6b43f2de967af0887873151bb1c0b18d3/library/std/src/panicking.rs:456:19\n",
      "      std::panic::catch_unwind\n",
      "             at /rustc/e092d0b6b43f2de967af0887873151bb1c0b18d3/library/std/src/panic.rs:137:14\n",
      "      std::rt::lang_start_internal\n",
      "             at /rustc/e092d0b6b43f2de967af0887873151bb1c0b18d3/library/std/src/rt.rs:128:20\n",
      "   6: main\n",
      "   7: __libc_start_call_main\n",
      "             at ./csu/../sysdeps/nptl/libc_start_call_main.h:58:16\n",
      "   8: __libc_start_main_impl\n",
      "             at ./csu/../csu/libc-start.c:392:3\n",
      "   9: _start\n",
      "\n"
     ]
    },
    {
     "ename": "Error",
     "evalue": "Subprocess terminated with status: signal: 6 (core dumped)",
     "output_type": "error",
     "traceback": [
      "Subprocess terminated with status: signal: 6 (core dumped)"
     ]
    }
   ],
   "source": [
    "o2.unwrap();"
   ]
  },
  {
   "cell_type": "markdown",
   "metadata": {},
   "source": [
    "We can use a default to prevent panic:"
   ]
  },
  {
   "cell_type": "code",
   "execution_count": 54,
   "metadata": {
    "vscode": {
     "languageId": "rust"
    }
   },
   "outputs": [
    {
     "data": {
      "text/plain": [
       "(5, 24)"
      ]
     },
     "execution_count": 54,
     "metadata": {},
     "output_type": "execute_result"
    }
   ],
   "source": [
    "(o1.unwrap_or(42), o2.unwrap_or(24))"
   ]
  },
  {
   "cell_type": "markdown",
   "metadata": {},
   "source": [
    "We can check if they are none:"
   ]
  },
  {
   "cell_type": "code",
   "execution_count": 55,
   "metadata": {
    "vscode": {
     "languageId": "rust"
    }
   },
   "outputs": [
    {
     "data": {
      "text/plain": [
       "(false, true)"
      ]
     },
     "execution_count": 55,
     "metadata": {},
     "output_type": "execute_result"
    }
   ],
   "source": [
    "(o1.is_none(), o2.is_none())"
   ]
  },
  {
   "cell_type": "markdown",
   "metadata": {},
   "source": [
    "So we can implement `.unwrap_or` manually:"
   ]
  },
  {
   "cell_type": "code",
   "execution_count": 56,
   "metadata": {
    "vscode": {
     "languageId": "rust"
    }
   },
   "outputs": [
    {
     "data": {
      "text/plain": [
       "5"
      ]
     },
     "execution_count": 56,
     "metadata": {},
     "output_type": "execute_result"
    }
   ],
   "source": [
    "if o1.is_none() { 42 } else { o1.unwrap() }"
   ]
  },
  {
   "cell_type": "markdown",
   "metadata": {},
   "source": [
    "But the above code is the wrong way to do that. The right way is using a pattern matching:"
   ]
  },
  {
   "cell_type": "code",
   "execution_count": 57,
   "metadata": {
    "vscode": {
     "languageId": "rust"
    }
   },
   "outputs": [
    {
     "data": {
      "text/plain": [
       "5"
      ]
     },
     "execution_count": 57,
     "metadata": {},
     "output_type": "execute_result"
    }
   ],
   "source": [
    "match o1 {\n",
    "    Some(x) => x,\n",
    "    None => 42,\n",
    "}"
   ]
  },
  {
   "cell_type": "markdown",
   "metadata": {},
   "source": [
    "Or an `if let` which is a syntax sugar for the former (Or `.unwrap_or` itself, which is good practice in Rust):"
   ]
  },
  {
   "cell_type": "code",
   "execution_count": 58,
   "metadata": {
    "vscode": {
     "languageId": "rust"
    }
   },
   "outputs": [
    {
     "data": {
      "text/plain": [
       "42"
      ]
     },
     "execution_count": 58,
     "metadata": {},
     "output_type": "execute_result"
    }
   ],
   "source": [
    "if let Some(x) = o2 { x } else { 42 }"
   ]
  },
  {
   "cell_type": "markdown",
   "metadata": {},
   "source": [
    "`Option<T>` usually use more bytes than `T`, because it has more data. There are `2^32` valid values for `i32`, but `2^32+1` valid values for `Option<i32>`, so it needs at least 33 bits:"
   ]
  },
  {
   "cell_type": "code",
   "execution_count": 59,
   "metadata": {
    "vscode": {
     "languageId": "rust"
    }
   },
   "outputs": [
    {
     "data": {
      "text/plain": [
       "(4, 8)"
      ]
     },
     "execution_count": 59,
     "metadata": {},
     "output_type": "execute_result"
    }
   ],
   "source": [
    "use std::mem::size_of;\n",
    "\n",
    "(size_of::<i32>(), size_of::<Option<i32>>())"
   ]
  },
  {
   "cell_type": "markdown",
   "metadata": {},
   "source": [
    "But Rust is using 64 bits. Exact difference depedends on alignment, for example these have equal size:"
   ]
  },
  {
   "cell_type": "code",
   "execution_count": 60,
   "metadata": {
    "vscode": {
     "languageId": "rust"
    }
   },
   "outputs": [
    {
     "data": {
      "text/plain": [
       "(8, 8)"
      ]
     },
     "execution_count": 60,
     "metadata": {},
     "output_type": "execute_result"
    }
   ],
   "source": [
    "(size_of::<(i32, i32)>(), size_of::<i64>())"
   ]
  },
  {
   "cell_type": "markdown",
   "metadata": {},
   "source": [
    "But `Option` of them has different size: "
   ]
  },
  {
   "cell_type": "code",
   "execution_count": 61,
   "metadata": {
    "vscode": {
     "languageId": "rust"
    }
   },
   "outputs": [
    {
     "data": {
      "text/plain": [
       "(12, 16)"
      ]
     },
     "execution_count": 61,
     "metadata": {},
     "output_type": "execute_result"
    }
   ],
   "source": [
    "(size_of::<Option<(i32, i32)>>(), size_of::<Option<i64>>())"
   ]
  },
  {
   "cell_type": "markdown",
   "metadata": {},
   "source": [
    "Because references in rust are guarranteed to be valid, they are always non-null. So compiler can put the `None` case in the `NULL` position of the pointer space, so they will have equal size:"
   ]
  },
  {
   "cell_type": "code",
   "execution_count": 62,
   "metadata": {
    "vscode": {
     "languageId": "rust"
    }
   },
   "outputs": [
    {
     "data": {
      "text/plain": [
       "(8, 8)"
      ]
     },
     "execution_count": 62,
     "metadata": {},
     "output_type": "execute_result"
    }
   ],
   "source": [
    "(size_of::<Option<&i32>>(), size_of::<&i32>())"
   ]
  },
  {
   "cell_type": "markdown",
   "metadata": {},
   "source": [
    "So `Option<&i32>` is a null or valid reference to a `i32`, and `None` is null, at the binary level:"
   ]
  },
  {
   "cell_type": "code",
   "execution_count": 66,
   "metadata": {
    "vscode": {
     "languageId": "rust"
    }
   },
   "outputs": [],
   "source": [
    "let null_pointer: Option<&i32> = None;"
   ]
  },
  {
   "cell_type": "markdown",
   "metadata": {},
   "source": [
    "We can't dereference nullable pointers, even if they are not null:"
   ]
  },
  {
   "cell_type": "code",
   "execution_count": 67,
   "metadata": {
    "vscode": {
     "languageId": "rust"
    }
   },
   "outputs": [
    {
     "ename": "Error",
     "evalue": "type `Option<&i32>` cannot be dereferenced",
     "output_type": "error",
     "traceback": [
      "    *maybe_null",
      "    ^^^^^^^^^^^ ",
      "type `Option<&i32>` cannot be dereferenced"
     ]
    }
   ],
   "source": [
    "fn some_fn(maybe_null: Option<&i32>) -> i32 {\n",
    "    *maybe_null\n",
    "}\n",
    "some_fn(Some(&5));"
   ]
  },
  {
   "cell_type": "markdown",
   "metadata": {},
   "source": [
    "We can use `unwrap`, which will panic if the pointer is null. Panic is way better than UB. We can translate our above C code to Rust code, which is equivalent, but will check for memory problems in runtime:"
   ]
  },
  {
   "cell_type": "code",
   "execution_count": 68,
   "metadata": {
    "vscode": {
     "languageId": "rust"
    }
   },
   "outputs": [],
   "source": [
    "fn f_translated_to_rust(x: Option<&i32>, y: Option<&i32>) -> i32 {\n",
    "    if x.is_none() {\n",
    "        return *y.unwrap();\n",
    "    }\n",
    "    if y.is_none() {\n",
    "        return *x.unwrap();\n",
    "    }\n",
    "    *x.unwrap() + *y.unwrap()\n",
    "}"
   ]
  },
  {
   "cell_type": "markdown",
   "metadata": {},
   "source": [
    "But as said before, `.is_none()` and then `.unwrap()` is super unidiomatic code in Rust, and we should use pattern matching:"
   ]
  },
  {
   "cell_type": "code",
   "execution_count": 70,
   "metadata": {
    "vscode": {
     "languageId": "rust"
    }
   },
   "outputs": [
    {
     "ename": "Error",
     "evalue": "non-exhaustive patterns: `(None, None)` not covered",
     "output_type": "error",
     "traceback": [
      "    match (x, y) {",
      "          ^^^^^^ pattern `(None, None)` not covered",
      "non-exhaustive patterns: `(None, None)` not covered",
      "help: ensure that all possible cases are being handled by adding a match arm with a wildcard pattern or an explicit pattern as shown\n\n,\n        (None, None) => todo!()"
     ]
    }
   ],
   "source": [
    "fn f_the_rusty_way(x: Option<&i32>, y: Option<&i32>) -> i32 {\n",
    "    match (x, y) {\n",
    "        (Some(x), Some(y)) => *x + *y,\n",
    "        (Some(a), None) | (None, Some(a)) => *a,\n",
    "    }\n",
    "}"
   ]
  },
  {
   "cell_type": "markdown",
   "metadata": {},
   "source": [
    "Oh, we didn't handled the case which both pointers are null! And this was the case for all previous codes (did you notice that?). In C it was UB, and in unidiomatic Rust it was a logic error. But in idiomatic Rust it was a compiler error. Let's fix that bug:"
   ]
  },
  {
   "cell_type": "code",
   "execution_count": 73,
   "metadata": {
    "vscode": {
     "languageId": "rust"
    }
   },
   "outputs": [
    {
     "data": {
      "text/plain": [
       "5"
      ]
     },
     "execution_count": 73,
     "metadata": {},
     "output_type": "execute_result"
    }
   ],
   "source": [
    "fn f_the_rusty_way(x: Option<&i32>, y: Option<&i32>) -> i32 {\n",
    "    match (x, y) {\n",
    "        (Some(x), Some(y)) => *x + *y,\n",
    "        (Some(a), None) | (None, Some(a)) => *a,\n",
    "        (None, None) => 0,\n",
    "    }\n",
    "}\n",
    "\n",
    "f_the_rusty_way(Some(&5), None)"
   ]
  },
  {
   "cell_type": "markdown",
   "metadata": {},
   "source": [
    "At this point, you might be confused by pattern matching, specially if you don't have a functional programming background. Let's take a closer look to it.\n",
    "\n",
    "## Pattern matching"
   ]
  },
  {
   "cell_type": "markdown",
   "metadata": {},
   "source": [
    "Pattern matching is a tool to destruct values. Patterns are some language construct that can match values, and fill some bindings if they match the value.\n",
    "\n",
    "Simple bindings are patterns, which will match anything:"
   ]
  },
  {
   "cell_type": "code",
   "execution_count": 74,
   "metadata": {
    "vscode": {
     "languageId": "rust"
    }
   },
   "outputs": [
    {
     "data": {
      "text/plain": [
       "\"hello 5\""
      ]
     },
     "execution_count": 74,
     "metadata": {},
     "output_type": "execute_result"
    }
   ],
   "source": [
    "match 5 {\n",
    "    some_value => format!(\"hello {some_value}\"),\n",
    "}"
   ]
  },
  {
   "cell_type": "markdown",
   "metadata": {},
   "source": [
    "Literals are patterns, which will match only if the value is equal to themselve. And `_` is a pattern which will match everything and ignore."
   ]
  },
  {
   "cell_type": "code",
   "execution_count": 80,
   "metadata": {
    "vscode": {
     "languageId": "rust"
    }
   },
   "outputs": [
    {
     "data": {
      "text/plain": [
       "\"a great number\""
      ]
     },
     "execution_count": 80,
     "metadata": {},
     "output_type": "execute_result"
    }
   ],
   "source": [
    "match 43 {\n",
    "    1 => \"one\",\n",
    "    43 => \"a great number\",\n",
    "    _ => \"other\",\n",
    "}"
   ]
  },
  {
   "cell_type": "markdown",
   "metadata": {},
   "source": [
    "Ranges are patterns:"
   ]
  },
  {
   "cell_type": "code",
   "execution_count": 85,
   "metadata": {
    "vscode": {
     "languageId": "rust"
    }
   },
   "outputs": [
    {
     "data": {
      "text/plain": [
       "\"A number between 1 .. 10\""
      ]
     },
     "execution_count": 85,
     "metadata": {},
     "output_type": "execute_result"
    }
   ],
   "source": [
    "match 10_u32 {\n",
    "    1..=10 => \"A number between 1 .. 10\",\n",
    "    11..=100 => \"A number between 11 .. 100\",\n",
    "    101.. => \"A number bigger than 100\",\n",
    "    0 => \"Zero\",\n",
    "}"
   ]
  },
  {
   "cell_type": "markdown",
   "metadata": {},
   "source": [
    "Tuple of patterns, are patterns, which will match if both part of tuples match"
   ]
  },
  {
   "cell_type": "code",
   "execution_count": 89,
   "metadata": {
    "vscode": {
     "languageId": "rust"
    }
   },
   "outputs": [
    {
     "data": {
      "text/plain": [
       "\"one digit - two digit\""
      ]
     },
     "execution_count": 89,
     "metadata": {},
     "output_type": "execute_result"
    }
   ],
   "source": [
    "match (5, 12) {\n",
    "    (1..=9, 1..=9) => \"one digit - one digit\",\n",
    "    (1..=9, 10..=99) => \"one digit - two digit\",\n",
    "    (10..=99, 10..=99) => \"two digit - two digit\",\n",
    "    (100..=999, _) => \"three digit - unknown\",\n",
    "    _ => \"unknown - unknown\",\n",
    "}"
   ]
  },
  {
   "cell_type": "markdown",
   "metadata": {},
   "source": [
    "Patterns can have intersection with each other. First satisfying pattern will be choosed (like `switch case` in C)"
   ]
  },
  {
   "cell_type": "code",
   "execution_count": 91,
   "metadata": {
    "vscode": {
     "languageId": "rust"
    }
   },
   "outputs": [
    {
     "data": {
      "text/plain": [
       "\"this will be selected\""
      ]
     },
     "execution_count": 91,
     "metadata": {},
     "output_type": "execute_result"
    }
   ],
   "source": [
    "match (5, 12) {\n",
    "    (_, 1..=10) => \"this won't be selected, because it doesn't match\",\n",
    "    (3..=7, _) => \"this will be selected\",\n",
    "    (1..=100, 1..=100) => \"this won't be selected, even though it matches\",\n",
    "    _ => \"rest cases\",\n",
    "}"
   ]
  },
  {
   "cell_type": "markdown",
   "metadata": {},
   "source": [
    "If a match arm is unreachable, compiler will warn us. Jupyter doesn't show warnings, so I will make the warning error:"
   ]
  },
  {
   "cell_type": "code",
   "execution_count": 4,
   "metadata": {
    "vscode": {
     "languageId": "rust"
    }
   },
   "outputs": [
    {
     "ename": "Error",
     "evalue": "unreachable pattern",
     "output_type": "error",
     "traceback": [
      "        5 => \"5, the great number\",",
      "        ^ ",
      "unreachable pattern"
     ]
    }
   ],
   "source": [
    "#[deny(unreachable_patterns)]\n",
    "fn some_function_that_will_disallow_this_warning() -> &'static str {\n",
    "    match 5 {\n",
    "        1..=10 => \"A number between 1 and 10\",\n",
    "        5 => \"5, the great number\",\n",
    "        _ => \"A bad number\",\n",
    "    }\n",
    "}"
   ]
  },
  {
   "cell_type": "markdown",
   "metadata": {},
   "source": [
    "But we can ignore warnings as well:"
   ]
  },
  {
   "cell_type": "code",
   "execution_count": 5,
   "metadata": {
    "vscode": {
     "languageId": "rust"
    }
   },
   "outputs": [
    {
     "data": {
      "text/plain": [
       "\"A number between 1 and 10\""
      ]
     },
     "execution_count": 5,
     "metadata": {},
     "output_type": "execute_result"
    }
   ],
   "source": [
    "match 5 {\n",
    "    1..=10 => \"A number between 1 and 10\",\n",
    "    5 => \"5, the great number\",\n",
    "    _ => \"A bad number\",\n",
    "}"
   ]
  },
  {
   "cell_type": "markdown",
   "metadata": {},
   "source": [
    "On the other hand, if patterns don't cover the whole type space, it will be a hard error (we saw this before, when we didn't cover `(None, None)`)."
   ]
  },
  {
   "cell_type": "code",
   "execution_count": 8,
   "metadata": {
    "vscode": {
     "languageId": "rust"
    }
   },
   "outputs": [
    {
     "ename": "Error",
     "evalue": "non-exhaustive patterns: `i32::MIN..=0_i32` and `21_i32..=i32::MAX` not covered",
     "output_type": "error",
     "traceback": [
      "match 5 {",
      "      ^ patterns `i32::MIN..=0_i32` and `21_i32..=i32::MAX` not covered",
      "non-exhaustive patterns: `i32::MIN..=0_i32` and `21_i32..=i32::MAX` not covered",
      "help: ensure that all possible cases are being handled by adding a match arm with a wildcard pattern, a match arm with multiple or-patterns as shown, or multiple match arms\n\n,\n    i32::MIN..=0_i32 | 21_i32..=i32::MAX => todo!()"
     ]
    }
   ],
   "source": [
    "match 5 {\n",
    "    1..=10 => \"1-10\",\n",
    "    11..=20 => \"11-20\",\n",
    "}"
   ]
  },
  {
   "cell_type": "markdown",
   "metadata": {},
   "source": [
    "This is hard error, and not a warning, for memory safety! Ignoring it can lead to uninitalized value:"
   ]
  },
  {
   "cell_type": "code",
   "execution_count": 10,
   "metadata": {
    "vscode": {
     "languageId": "rust"
    }
   },
   "outputs": [
    {
     "ename": "Error",
     "evalue": "non-exhaustive patterns: `i32::MIN..=0_i32` and `3_i32..=i32::MAX` not covered",
     "output_type": "error",
     "traceback": [
      "let s = match 5 {",
      "              ^ patterns `i32::MIN..=0_i32` and `3_i32..=i32::MAX` not covered",
      "non-exhaustive patterns: `i32::MIN..=0_i32` and `3_i32..=i32::MAX` not covered",
      "help: ensure that all possible cases are being handled by adding a match arm with a wildcard pattern, a match arm with multiple or-patterns as shown, or multiple match arms\n\n,\n    i32::MIN..=0_i32 | 3_i32..=i32::MAX => todo!()"
     ]
    }
   ],
   "source": [
    "let s = match 5 {\n",
    "    1 => \"hello\",\n",
    "    2 => \"world\",\n",
    "};\n",
    "// What s can be? An string out of air?\n",
    "s "
   ]
  },
  {
   "cell_type": "markdown",
   "metadata": {},
   "source": [
    "We'll get back to the pattern matching in next chapters. For now, let's stick to the memory safety.\n",
    "\n",
    "## Uninitalized memory"
   ]
  }
 ],
 "metadata": {
  "kernelspec": {
   "display_name": "Rust",
   "language": "rust",
   "name": "rust"
  },
  "language_info": {
   "codemirror_mode": "rust",
   "file_extension": ".rs",
   "mimetype": "text/rust",
   "name": "Rust",
   "pygment_lexer": "rust",
   "version": ""
  },
  "orig_nbformat": 4
 },
 "nbformat": 4,
 "nbformat_minor": 2
}
