{
 "cells": [
  {
   "cell_type": "markdown",
   "metadata": {},
   "source": [
    "# Object oriented programming\n",
    "\n",
    "Rust's design is highly influenced by functional languages, and features we discuss here (traits and polymorphism) are more close to their equivalents in Haskell and ML languages than to C++ and Java. But since Rust supports mutable variables, it can provide an object oriented like experience.\n",
    "\n",
    "In Rust we have C structs:"
   ]
  },
  {
   "cell_type": "code",
   "execution_count": 2,
   "metadata": {
    "vscode": {
     "languageId": "rust"
    }
   },
   "outputs": [
    {
     "data": {
      "text/plain": [
       "22"
      ]
     },
     "execution_count": 2,
     "metadata": {},
     "output_type": "execute_result"
    }
   ],
   "source": [
    "struct Human {\n",
    "    name: &'static str,\n",
    "    age: u32,\n",
    "}\n",
    "\n",
    "let hamid = Human { name: \"hamid\", age: 22 };\n",
    "hamid.age"
   ]
  },
  {
   "cell_type": "markdown",
   "metadata": {},
   "source": [
    "We can define functions in the namespace of types, with `impl` keyword:"
   ]
  },
  {
   "cell_type": "code",
   "execution_count": 3,
   "metadata": {
    "vscode": {
     "languageId": "rust"
    }
   },
   "outputs": [
    {
     "data": {
      "text/plain": [
       "24"
      ]
     },
     "execution_count": 3,
     "metadata": {},
     "output_type": "execute_result"
    }
   ],
   "source": [
    "impl Human {\n",
    "    // Rust doesn't have constructor, but we can use functions for it:\n",
    "    fn new(name: &'static str, age: u32) -> Human {\n",
    "        Human { name, age } // shorthand for `name: name, age: age`\n",
    "    }\n",
    "\n",
    "    fn new_baby(name: &'static str) -> Human {\n",
    "        Human { name, age: 0 }\n",
    "    }\n",
    "}\n",
    "\n",
    "let danial = Human::new(\"danial\", 24);\n",
    "danial.age"
   ]
  },
  {
   "cell_type": "markdown",
   "metadata": {},
   "source": [
    "Namespaced functions can be completely unrelated to the type:"
   ]
  },
  {
   "cell_type": "code",
   "execution_count": 4,
   "metadata": {
    "vscode": {
     "languageId": "rust"
    }
   },
   "outputs": [
    {
     "data": {
      "text/plain": [
       "15"
      ]
     },
     "execution_count": 4,
     "metadata": {},
     "output_type": "execute_result"
    }
   ],
   "source": [
    "impl Human {\n",
    "    fn a_completely_unrelated_function(x: i32) -> i32 {\n",
    "        x + 5\n",
    "    }\n",
    "}\n",
    "\n",
    "Human::a_completely_unrelated_function(10)"
   ]
  },
  {
   "cell_type": "markdown",
   "metadata": {},
   "source": [
    "First argument of such function can be have a special keyword, `self`, which make the function a method:"
   ]
  },
  {
   "cell_type": "code",
   "execution_count": 5,
   "metadata": {
    "vscode": {
     "languageId": "rust"
    }
   },
   "outputs": [
    {
     "name": "stdout",
     "output_type": "stream",
     "text": [
      "hamid says hello!\n",
      "hamid says hello!\n",
      "danial says hello!\n"
     ]
    }
   ],
   "source": [
    "impl Human {\n",
    "    fn say_hello(self: &Human) {\n",
    "        println!(\"{} says hello!\", self.name);\n",
    "    }\n",
    "}\n",
    "\n",
    "(&hamid).say_hello();\n",
    "// compiler will add & automatically\n",
    "hamid.say_hello();\n",
    "// normal call is possible\n",
    "Human::say_hello(&danial);"
   ]
  },
  {
   "cell_type": "markdown",
   "metadata": {},
   "source": [
    "Unlike normal functions, method type is restricted. It can be `Human`, `&Human`, `&mut Human`, `Box<Human>` and similar:"
   ]
  },
  {
   "cell_type": "code",
   "execution_count": 6,
   "metadata": {
    "vscode": {
     "languageId": "rust"
    }
   },
   "outputs": [
    {
     "ename": "Error",
     "evalue": "invalid `self` parameter type: &i32",
     "output_type": "error",
     "traceback": [
      "\u001b[31m[E0307] Error:\u001b[0m invalid `self` parameter type: &i32",
      "   \u001b[38;5;246m╭\u001b[0m\u001b[38;5;246m─\u001b[0m\u001b[38;5;246m[\u001b[0mcommand_6:1:1\u001b[38;5;246m]\u001b[0m",
      "   \u001b[38;5;246m│\u001b[0m",
      " \u001b[38;5;246m2 │\u001b[0m \u001b[38;5;249m \u001b[0m\u001b[38;5;249m \u001b[0m\u001b[38;5;249m \u001b[0m\u001b[38;5;249m \u001b[0m\u001b[38;5;249mf\u001b[0m\u001b[38;5;249mn\u001b[0m\u001b[38;5;249m \u001b[0m\u001b[38;5;249mu\u001b[0m\u001b[38;5;249mn\u001b[0m\u001b[38;5;249mr\u001b[0m\u001b[38;5;249me\u001b[0m\u001b[38;5;249ml\u001b[0m\u001b[38;5;249ma\u001b[0m\u001b[38;5;249mt\u001b[0m\u001b[38;5;249me\u001b[0m\u001b[38;5;249md\u001b[0m\u001b[38;5;249m(\u001b[0m\u001b[38;5;249ms\u001b[0m\u001b[38;5;249me\u001b[0m\u001b[38;5;249ml\u001b[0m\u001b[38;5;249mf\u001b[0m\u001b[38;5;249m:\u001b[0m\u001b[38;5;249m \u001b[0m\u001b[38;5;54m&\u001b[0m\u001b[38;5;54mi\u001b[0m\u001b[38;5;54m3\u001b[0m\u001b[38;5;54m2\u001b[0m\u001b[38;5;249m)\u001b[0m\u001b[38;5;249m \u001b[0m\u001b[38;5;249m{\u001b[0m",
      " \u001b[38;5;246m  ·\u001b[0m                        \u001b[38;5;54m─\u001b[0m\u001b[38;5;54m─\u001b[0m\u001b[38;5;54m┬\u001b[0m\u001b[38;5;54m─\u001b[0m  ",
      " \u001b[38;5;246m  ·\u001b[0m                          \u001b[38;5;54m╰\u001b[0m\u001b[38;5;54m─\u001b[0m\u001b[38;5;54m─\u001b[0m\u001b[38;5;54m─\u001b[0m error: invalid `self` parameter type: &i32",
      "\u001b[38;5;246m───╯\u001b[0m"
     ]
    }
   ],
   "source": [
    "impl Human {\n",
    "    fn unrelated(self: &i32) {\n",
    "        println!(\"{}\", self);\n",
    "    }\n",
    "}"
   ]
  },
  {
   "cell_type": "markdown",
   "metadata": {},
   "source": [
    "`&mut self` is a shorthand for `self: &mut Human`:"
   ]
  },
  {
   "cell_type": "code",
   "execution_count": 7,
   "metadata": {
    "vscode": {
     "languageId": "rust"
    }
   },
   "outputs": [
    {
     "data": {
      "text/plain": [
       "3"
      ]
     },
     "execution_count": 7,
     "metadata": {},
     "output_type": "execute_result"
    }
   ],
   "source": [
    "impl Human {\n",
    "    fn pass_a_year(&mut self) {\n",
    "        self.age += 1;\n",
    "    }\n",
    "}\n",
    "\n",
    "let mut baby = Human::new_baby(\"ali\");\n",
    "baby.pass_a_year();\n",
    "baby.pass_a_year();\n",
    "baby.pass_a_year();\n",
    "baby.age"
   ]
  },
  {
   "cell_type": "markdown",
   "metadata": {},
   "source": [
    "## Privacy and encapsulation"
   ]
  }
 ],
 "metadata": {
  "kernelspec": {
   "display_name": "Rust",
   "language": "rust",
   "name": "rust"
  },
  "language_info": {
   "codemirror_mode": "rust",
   "file_extension": ".rs",
   "mimetype": "text/rust",
   "name": "Rust",
   "pygment_lexer": "rust",
   "version": ""
  },
  "orig_nbformat": 4
 },
 "nbformat": 4,
 "nbformat_minor": 2
}
