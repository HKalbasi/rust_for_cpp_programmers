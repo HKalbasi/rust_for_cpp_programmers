{
 "cells": [
  {
   "cell_type": "markdown",
   "metadata": {},
   "source": [
    "# Error handling\n",
    "\n",
    "Error handling in Rust is very different from both C and C++. The Rust's approach to error handling has advantages and downsides to both, and it worth a chapter to cover."
   ]
  },
  {
   "cell_type": "markdown",
   "metadata": {},
   "source": [
    "## Error handling in C\n",
    "\n",
    "C doesn't have exceptions, try/catch and stack unwinding. It uses return values for declaring that something bad happened, and global variables if more information is needed. The similar is possible is Rust, but we (and compiler) don't like global mutable variables since they are not thread safe. Even if they were thread safe (we can use thread local variables for example), since global variables are ugly, and Rust has ADT, we can use an enum to store error data inside the return value:"
   ]
  },
  {
   "cell_type": "code",
   "execution_count": 3,
   "metadata": {
    "vscode": {
     "languageId": "rust"
    }
   },
   "outputs": [],
   "source": [
    "enum ReturnTypeOfAFunction {\n",
    "    EverythingIsFine {\n",
    "        result: i32,\n",
    "    },\n",
    "    ConnectionFailure {\n",
    "        url: String,\n",
    "    },\n",
    "    DiskError {\n",
    "        file_name: String,\n",
    "    },\n",
    "    UnknownError,\n",
    "}"
   ]
  },
  {
   "cell_type": "markdown",
   "metadata": {},
   "source": [
    "This pattern is not specific to this function, so the standard library has `enum Result<T, E>` with variants `Ok(T)` and `Err(E)`. We can make the above type using it:"
   ]
  },
  {
   "cell_type": "code",
   "execution_count": null,
   "metadata": {
    "vscode": {
     "languageId": "rust"
    }
   },
   "outputs": [],
   "source": [
    "enum ErrorsOfAFunction {\n",
    "    ConnectionFailure {\n",
    "        url: String,\n",
    "    },\n",
    "    DiskError {\n",
    "        file_name: String,\n",
    "    },\n",
    "    UnknownError,\n",
    "}\n",
    "\n",
    "// type alias\n",
    "type ReturnTypeOfAFunction = Result<i32, ErrorsOfAFunction>;"
   ]
  },
  {
   "cell_type": "markdown",
   "metadata": {},
   "source": [
    "The Rust standard library and ecosystem widely use the `Result` enum for error handling:"
   ]
  },
  {
   "cell_type": "code",
   "execution_count": 5,
   "metadata": {
    "vscode": {
     "languageId": "rust"
    }
   },
   "outputs": [
    {
     "data": {
      "text/plain": [
       "Err(Os { code: 2, kind: NotFound, message: \"No such file or directory\" })"
      ]
     },
     "execution_count": 5,
     "metadata": {},
     "output_type": "execute_result"
    }
   ],
   "source": [
    "use std::fs;\n",
    "\n",
    "fs::read_to_string(\"non-existent.txt\")"
   ]
  },
  {
   "cell_type": "markdown",
   "metadata": {},
   "source": [
    "With `Result`, try/catch is just a `match`:"
   ]
  },
  {
   "cell_type": "code",
   "execution_count": 14,
   "metadata": {
    "vscode": {
     "languageId": "rust"
    }
   },
   "outputs": [
    {
     "name": "stdout",
     "output_type": "stream",
     "text": [
      "Some error happened: No such file or directory (os error 2)\n",
      "Other codes\n"
     ]
    }
   ],
   "source": [
    "let open_result = fs::read_to_string(\"non-existent.txt\");\n",
    "match open_result {\n",
    "    Ok(file_string) => {\n",
    "        println!(\"File content is: {}\", file_string);\n",
    "    }\n",
    "    Err(error) => {\n",
    "        println!(\"Some error happened: {}\", error);\n",
    "    }\n",
    "}\n",
    "println!(\"Other codes\");"
   ]
  },
  {
   "cell_type": "markdown",
   "metadata": {},
   "source": [
    "## ? Operator\n",
    "\n",
    "Now think we are in a function, and want to cascade error. We can use this code:"
   ]
  },
  {
   "cell_type": "code",
   "execution_count": 18,
   "metadata": {
    "vscode": {
     "languageId": "rust"
    }
   },
   "outputs": [
    {
     "data": {
      "text/plain": [
       "Err(Os { code: 2, kind: NotFound, message: \"No such file or directory\" })"
      ]
     },
     "execution_count": 18,
     "metadata": {},
     "output_type": "execute_result"
    }
   ],
   "source": [
    "fn find_count_of_a_in_a_file(path: &str) -> Result<usize, std::io::Error> {\n",
    "    let open_result = fs::read_to_string(\"non-existent.txt\");\n",
    "    let text = match open_result {\n",
    "        Ok(file_string) => file_string,\n",
    "        Err(error) => return Err(error),\n",
    "    };\n",
    "    let result = text.chars().filter(|x| *x == 'a').count();\n",
    "    Ok(result)\n",
    "}\n",
    "\n",
    "find_count_of_a_in_a_file(\"non-existent.txt\")"
   ]
  },
  {
   "cell_type": "markdown",
   "metadata": {},
   "source": [
    "Since cascading error is a too common thing, Rust has an operator for it, `?` operator. `expr?` means match `expr` and in case of `Err`, return the error from current function, and in case of `Ok`, evaluate `expr?` to the inner thing of `Ok`. Example:"
   ]
  },
  {
   "cell_type": "code",
   "execution_count": 19,
   "metadata": {
    "vscode": {
     "languageId": "rust"
    }
   },
   "outputs": [
    {
     "data": {
      "text/plain": [
       "Err(Os { code: 2, kind: NotFound, message: \"No such file or directory\" })"
      ]
     },
     "execution_count": 19,
     "metadata": {},
     "output_type": "execute_result"
    }
   ],
   "source": [
    "fn find_count_of_a_in_a_file(path: &str) -> Result<usize, std::io::Error> {\n",
    "    let text = fs::read_to_string(\"non-existent.txt\")?;\n",
    "                                                // --^-- notice this\n",
    "    let result = text.chars().filter(|x| *x == 'a').count();\n",
    "    Ok(result)\n",
    "}\n",
    "\n",
    "find_count_of_a_in_a_file(\"non-existent.txt\")"
   ]
  },
  {
   "cell_type": "markdown",
   "metadata": {},
   "source": [
    "You can't use `?` on results in functions that doesn't return result:"
   ]
  },
  {
   "cell_type": "code",
   "execution_count": 20,
   "metadata": {
    "vscode": {
     "languageId": "rust"
    }
   },
   "outputs": [
    {
     "ename": "Error",
     "evalue": "the `?` operator can only be used in a function that returns `Result` or `Option` (or another type that implements `FromResidual`)",
     "output_type": "error",
     "traceback": [
      "\u001b[31m[E0277] Error:\u001b[0m the `?` operator can only be used in a function that returns `Result` or `Option` (or another type that implements `FromResidual`)",
      "   \u001b[38;5;246m╭\u001b[0m\u001b[38;5;246m─\u001b[0m\u001b[38;5;246m[\u001b[0mcommand_20:1:1\u001b[38;5;246m]\u001b[0m",
      "   \u001b[38;5;246m│\u001b[0m",
      " \u001b[38;5;246m1 │\u001b[0m \u001b[38;5;100m╭\u001b[0m\u001b[38;5;100m─\u001b[0m\u001b[38;5;100m▶\u001b[0m\u001b[38;5;100m \u001b[0m\u001b[38;5;100mf\u001b[0m\u001b[38;5;100mn\u001b[0m\u001b[38;5;100m \u001b[0m\u001b[38;5;100mf\u001b[0m\u001b[38;5;100mi\u001b[0m\u001b[38;5;100mn\u001b[0m\u001b[38;5;100md\u001b[0m\u001b[38;5;100m_\u001b[0m\u001b[38;5;100mc\u001b[0m\u001b[38;5;100mo\u001b[0m\u001b[38;5;100mu\u001b[0m\u001b[38;5;100mn\u001b[0m\u001b[38;5;100mt\u001b[0m\u001b[38;5;100m_\u001b[0m\u001b[38;5;100mo\u001b[0m\u001b[38;5;100mf\u001b[0m\u001b[38;5;100m_\u001b[0m\u001b[38;5;100ma\u001b[0m\u001b[38;5;100m_\u001b[0m\u001b[38;5;100mi\u001b[0m\u001b[38;5;100mn\u001b[0m\u001b[38;5;100m_\u001b[0m\u001b[38;5;100ma\u001b[0m\u001b[38;5;100m_\u001b[0m\u001b[38;5;100mf\u001b[0m\u001b[38;5;100mi\u001b[0m\u001b[38;5;100ml\u001b[0m\u001b[38;5;100me\u001b[0m\u001b[38;5;100m_\u001b[0m\u001b[38;5;100mw\u001b[0m\u001b[38;5;100mr\u001b[0m\u001b[38;5;100mo\u001b[0m\u001b[38;5;100mn\u001b[0m\u001b[38;5;100mg\u001b[0m\u001b[38;5;100m(\u001b[0m\u001b[38;5;100mp\u001b[0m\u001b[38;5;100ma\u001b[0m\u001b[38;5;100mt\u001b[0m\u001b[38;5;100mh\u001b[0m\u001b[38;5;100m:\u001b[0m\u001b[38;5;100m \u001b[0m\u001b[38;5;100m&\u001b[0m\u001b[38;5;100ms\u001b[0m\u001b[38;5;100mt\u001b[0m\u001b[38;5;100mr\u001b[0m\u001b[38;5;100m)\u001b[0m\u001b[38;5;100m \u001b[0m\u001b[38;5;100m-\u001b[0m\u001b[38;5;100m>\u001b[0m\u001b[38;5;100m \u001b[0m\u001b[38;5;100mu\u001b[0m\u001b[38;5;100ms\u001b[0m\u001b[38;5;100mi\u001b[0m\u001b[38;5;100mz\u001b[0m\u001b[38;5;100me\u001b[0m\u001b[38;5;100m \u001b[0m\u001b[38;5;100m{\u001b[0m",
      " \u001b[38;5;246m2 │\u001b[0m \u001b[38;5;100m│\u001b[0m   \u001b[38;5;100m \u001b[0m\u001b[38;5;100m \u001b[0m\u001b[38;5;100m \u001b[0m\u001b[38;5;100m \u001b[0m\u001b[38;5;100ml\u001b[0m\u001b[38;5;100me\u001b[0m\u001b[38;5;100mt\u001b[0m\u001b[38;5;100m \u001b[0m\u001b[38;5;100mt\u001b[0m\u001b[38;5;100me\u001b[0m\u001b[38;5;100mx\u001b[0m\u001b[38;5;100mt\u001b[0m\u001b[38;5;100m \u001b[0m\u001b[38;5;100m=\u001b[0m\u001b[38;5;100m \u001b[0m\u001b[38;5;100mf\u001b[0m\u001b[38;5;100ms\u001b[0m\u001b[38;5;100m:\u001b[0m\u001b[38;5;100m:\u001b[0m\u001b[38;5;100mr\u001b[0m\u001b[38;5;100me\u001b[0m\u001b[38;5;100ma\u001b[0m\u001b[38;5;100md\u001b[0m\u001b[38;5;100m_\u001b[0m\u001b[38;5;100mt\u001b[0m\u001b[38;5;100mo\u001b[0m\u001b[38;5;100m_\u001b[0m\u001b[38;5;100ms\u001b[0m\u001b[38;5;100mt\u001b[0m\u001b[38;5;100mr\u001b[0m\u001b[38;5;100mi\u001b[0m\u001b[38;5;100mn\u001b[0m\u001b[38;5;100mg\u001b[0m\u001b[38;5;100m(\u001b[0m\u001b[38;5;100m\"\u001b[0m\u001b[38;5;100mn\u001b[0m\u001b[38;5;100mo\u001b[0m\u001b[38;5;100mn\u001b[0m\u001b[38;5;100m-\u001b[0m\u001b[38;5;100me\u001b[0m\u001b[38;5;100mx\u001b[0m\u001b[38;5;100mi\u001b[0m\u001b[38;5;100ms\u001b[0m\u001b[38;5;100mt\u001b[0m\u001b[38;5;100me\u001b[0m\u001b[38;5;100mn\u001b[0m\u001b[38;5;100mt\u001b[0m\u001b[38;5;100m.\u001b[0m\u001b[38;5;100mt\u001b[0m\u001b[38;5;100mx\u001b[0m\u001b[38;5;100mt\u001b[0m\u001b[38;5;100m\"\u001b[0m\u001b[38;5;100m)\u001b[0m\u001b[38;5;54m?\u001b[0m\u001b[38;5;100m;\u001b[0m",
      " \u001b[38;5;246m  ·\u001b[0m \u001b[38;5;100m│\u001b[0m                                                        \u001b[38;5;54m┬\u001b[0m  ",
      " \u001b[38;5;246m  ·\u001b[0m \u001b[38;5;100m│\u001b[0m                                                        \u001b[38;5;54m╰\u001b[0m\u001b[38;5;54m─\u001b[0m\u001b[38;5;54m─\u001b[0m cannot use the `?` operator in a function that returns `usize`",
      " \u001b[38;5;246m  ⋮\u001b[0m \u001b[38;5;100m⋮\u001b[0m   ",
      " \u001b[38;5;246m5 │\u001b[0m \u001b[38;5;100m├\u001b[0m\u001b[38;5;100m─\u001b[0m\u001b[38;5;100m▶\u001b[0m\u001b[38;5;100m \u001b[0m\u001b[38;5;100m}\u001b[0m",
      " \u001b[38;5;246m  ·\u001b[0m \u001b[38;5;100m│\u001b[0m       ",
      " \u001b[38;5;246m  ·\u001b[0m \u001b[38;5;100m╰\u001b[0m\u001b[38;5;100m─\u001b[0m\u001b[38;5;100m─\u001b[0m\u001b[38;5;100m─\u001b[0m\u001b[38;5;100m─\u001b[0m\u001b[38;5;100m─\u001b[0m\u001b[38;5;100m─\u001b[0m\u001b[38;5;100m─\u001b[0m this function should return `Result` or `Option` to accept `?`",
      "\u001b[38;5;246m───╯\u001b[0m"
     ]
    }
   ],
   "source": [
    "fn find_count_of_a_in_a_file_wrong(path: &str) -> usize {\n",
    "    let text = fs::read_to_string(\"non-existent.txt\")?;\n",
    "    let result = text.chars().filter(|x| *x == 'a').count();\n",
    "    result\n",
    "}"
   ]
  },
  {
   "cell_type": "markdown",
   "metadata": {},
   "source": [
    "Compiler spoiled the story. As compiler said, `?` also works in functions that return `Option<T>`, for things with type `Option<U>`:"
   ]
  },
  {
   "cell_type": "code",
   "execution_count": 21,
   "metadata": {
    "vscode": {
     "languageId": "rust"
    }
   },
   "outputs": [
    {
     "name": "stdout",
     "output_type": "stream",
     "text": [
      "None\n",
      "Some(3)\n",
      "None\n"
     ]
    }
   ],
   "source": [
    "fn third_from_an_optional_vector(input_opt: Option<Vec<i32>>) -> Option<i32> {\n",
    "    let input = input_opt?; // return None if input was None\n",
    "    let third_opt = input.get(2); // Similar to input[2], but returns Option\n",
    "    let third = third_opt?; // Return None if there were no third element. You could do it in one line.\n",
    "    Some(*third)\n",
    "}\n",
    "\n",
    "println!(\"{:?}\", third_from_an_optional_vector(None));\n",
    "println!(\"{:?}\", third_from_an_optional_vector(Some(vec![1, 2, 3, 4])));\n",
    "println!(\"{:?}\", third_from_an_optional_vector(Some(vec![1])));"
   ]
  },
  {
   "cell_type": "markdown",
   "metadata": {},
   "source": [
    "You can convert a result to an option with `.ok()`"
   ]
  },
  {
   "cell_type": "code",
   "execution_count": 22,
   "metadata": {
    "vscode": {
     "languageId": "rust"
    }
   },
   "outputs": [
    {
     "data": {
      "text/plain": [
       "Some(12)"
      ]
     },
     "execution_count": 22,
     "metadata": {},
     "output_type": "execute_result"
    }
   ],
   "source": [
    "let x: Result<i32, String> = Ok(12);\n",
    "x.ok()"
   ]
  },
  {
   "cell_type": "markdown",
   "metadata": {},
   "source": [
    "And an option to a result with `.ok_or`:"
   ]
  },
  {
   "cell_type": "code",
   "execution_count": 24,
   "metadata": {
    "vscode": {
     "languageId": "rust"
    }
   },
   "outputs": [
    {
     "data": {
      "text/plain": [
       "Err(\"some_error\")"
      ]
     },
     "execution_count": 24,
     "metadata": {},
     "output_type": "execute_result"
    }
   ],
   "source": [
    "let x: Option<i32> = None;\n",
    "x.ok_or(\"some_error\")"
   ]
  },
  {
   "cell_type": "markdown",
   "metadata": {},
   "source": [
    "So we can use `?` for `Option` in a function that returns `Result` and wise versa."
   ]
  },
  {
   "cell_type": "code",
   "execution_count": 28,
   "metadata": {
    "vscode": {
     "languageId": "rust"
    }
   },
   "outputs": [
    {
     "data": {
      "text/plain": [
       "Err(PathNotProvided)"
      ]
     },
     "execution_count": 28,
     "metadata": {},
     "output_type": "execute_result"
    }
   ],
   "source": [
    "use std::io::Error;\n",
    "\n",
    "#[derive(Debug)]\n",
    "enum MyError {\n",
    "    IoError(Error),\n",
    "    PathNotProvided\n",
    "}\n",
    "\n",
    "impl From<Error> for MyError {\n",
    "    fn from(e: Error) -> MyError {\n",
    "        MyError::IoError(e)\n",
    "    }\n",
    "}\n",
    "\n",
    "fn find_count_of_a_in_a_file(path: Option<&str>) -> Result<usize, MyError> {\n",
    "    let path = path.ok_or(MyError::PathNotProvided)?;\n",
    "    let text = fs::read_to_string(\"non-existent.txt\")?;\n",
    "    let result = text.chars().filter(|x| *x == 'a').count();\n",
    "    Ok(result)\n",
    "}\n",
    "\n",
    "find_count_of_a_in_a_file(None)"
   ]
  },
  {
   "cell_type": "markdown",
   "metadata": {},
   "source": [
    "As you can see, we can use `?` for different error types if they implement `From` trait."
   ]
  },
  {
   "cell_type": "markdown",
   "metadata": {},
   "source": [
    "## Control flow enum\n",
    "\n",
    "There is another enum which supports `?` operator: `ControlFlow<B, C = ()>` with variants `Break(B)` and `Continue(C)`. For example, have this code:"
   ]
  },
  {
   "cell_type": "code",
   "execution_count": 29,
   "metadata": {
    "vscode": {
     "languageId": "rust"
    }
   },
   "outputs": [
    {
     "name": "stdout",
     "output_type": "stream",
     "text": [
      "2 2\n",
      "4 2\n",
      "6 2\n",
      "6 3\n",
      "8 2\n",
      "10 2\n",
      "12 2\n",
      "12 3\n",
      "12 4\n"
     ]
    },
    {
     "data": {
      "text/plain": [
       "()"
      ]
     },
     "execution_count": 29,
     "metadata": {},
     "output_type": "execute_result"
    }
   ],
   "source": [
    "for x in 1..20 {\n",
    "    if x % 2 == 0 {\n",
    "        println!(\"{x} 2\");\n",
    "        if x % 3 == 0 {\n",
    "            println!(\"{x} 3\");\n",
    "            if x % 4 == 0 {\n",
    "                println!(\"{x} 4\");\n",
    "                break;\n",
    "            }\n",
    "        }\n",
    "    }\n",
    "}"
   ]
  },
  {
   "cell_type": "markdown",
   "metadata": {},
   "source": [
    "Now we want to refactor two inner ifs as a separate function. It doesn't work naively:"
   ]
  },
  {
   "cell_type": "code",
   "execution_count": 32,
   "metadata": {
    "vscode": {
     "languageId": "rust"
    }
   },
   "outputs": [
    {
     "ename": "Error",
     "evalue": "`break` outside of a loop",
     "output_type": "error",
     "traceback": [
      "\u001b[31m[E0268] Error:\u001b[0m `break` outside of a loop",
      "   \u001b[38;5;246m╭\u001b[0m\u001b[38;5;246m─\u001b[0m\u001b[38;5;246m[\u001b[0mcommand_32:1:1\u001b[38;5;246m]\u001b[0m",
      "   \u001b[38;5;246m│\u001b[0m",
      " \u001b[38;5;246m7 │\u001b[0m \u001b[38;5;249m \u001b[0m\u001b[38;5;249m \u001b[0m\u001b[38;5;249m \u001b[0m\u001b[38;5;249m \u001b[0m\u001b[38;5;249m \u001b[0m\u001b[38;5;249m \u001b[0m\u001b[38;5;249m \u001b[0m\u001b[38;5;249m \u001b[0m\u001b[38;5;249m \u001b[0m\u001b[38;5;249m \u001b[0m\u001b[38;5;249m \u001b[0m\u001b[38;5;249m \u001b[0m\u001b[38;5;54mb\u001b[0m\u001b[38;5;54mr\u001b[0m\u001b[38;5;54me\u001b[0m\u001b[38;5;54ma\u001b[0m\u001b[38;5;54mk\u001b[0m\u001b[38;5;249m;\u001b[0m",
      " \u001b[38;5;246m  ·\u001b[0m             \u001b[38;5;54m─\u001b[0m\u001b[38;5;54m─\u001b[0m\u001b[38;5;54m┬\u001b[0m\u001b[38;5;54m─\u001b[0m\u001b[38;5;54m─\u001b[0m  ",
      " \u001b[38;5;246m  ·\u001b[0m               \u001b[38;5;54m╰\u001b[0m\u001b[38;5;54m─\u001b[0m\u001b[38;5;54m─\u001b[0m\u001b[38;5;54m─\u001b[0m\u001b[38;5;54m─\u001b[0m cannot `break` outside of a loop",
      "\u001b[38;5;246m───╯\u001b[0m"
     ]
    }
   ],
   "source": [
    "fn refactored(x: i32) {\n",
    "    println!(\"{x} 2\");\n",
    "    if x % 3 == 0 {\n",
    "        println!(\"{x} 3\");\n",
    "        if x % 4 == 0 {\n",
    "            println!(\"{x} 4\");\n",
    "            break;\n",
    "        }\n",
    "    }\n",
    "}\n",
    "\n",
    "for x in 1..20 {\n",
    "    if x % 2 == 0 {\n",
    "        refactored(x);\n",
    "    }\n",
    "}"
   ]
  },
  {
   "cell_type": "markdown",
   "metadata": {},
   "source": [
    "We can use `ControlFlow` enum as a glorified `bool`:"
   ]
  },
  {
   "cell_type": "code",
   "execution_count": 33,
   "metadata": {
    "vscode": {
     "languageId": "rust"
    }
   },
   "outputs": [
    {
     "name": "stdout",
     "output_type": "stream",
     "text": [
      "2 2\n",
      "4 2\n",
      "6 2\n",
      "6 3\n",
      "8 2\n",
      "10 2\n",
      "12 2\n",
      "12 3\n",
      "12 4\n"
     ]
    },
    {
     "data": {
      "text/plain": [
       "()"
      ]
     },
     "execution_count": 33,
     "metadata": {},
     "output_type": "execute_result"
    }
   ],
   "source": [
    "use std::ops::ControlFlow;\n",
    "\n",
    "fn refactored(x: i32) -> ControlFlow<()> {\n",
    "    println!(\"{x} 2\");\n",
    "    if x % 3 == 0 {\n",
    "        println!(\"{x} 3\");\n",
    "        if x % 4 == 0 {\n",
    "            println!(\"{x} 4\");\n",
    "            return ControlFlow::Break(());\n",
    "        }\n",
    "    }\n",
    "    ControlFlow::Continue(())\n",
    "}\n",
    "\n",
    "for x in 1..20 {\n",
    "    if x % 2 == 0 {\n",
    "        if refactored(x).is_break() {\n",
    "            break;\n",
    "        }\n",
    "    }\n",
    "}"
   ]
  },
  {
   "cell_type": "markdown",
   "metadata": {},
   "source": [
    "Now Imagine we want to refactor it one more level. Without `?` it would look like this:"
   ]
  },
  {
   "cell_type": "code",
   "execution_count": 34,
   "metadata": {
    "vscode": {
     "languageId": "rust"
    }
   },
   "outputs": [],
   "source": [
    "fn refactored2(x: i32) -> ControlFlow<()> {\n",
    "    println!(\"{x} 3\");\n",
    "    if x % 4 == 0 {\n",
    "        println!(\"{x} 4\");\n",
    "        return ControlFlow::Break(());\n",
    "    }\n",
    "    ControlFlow::Continue(())\n",
    "}\n",
    "\n",
    "fn refactored(x: i32) -> ControlFlow<()> {\n",
    "    println!(\"{x} 2\");\n",
    "    if x % 3 == 0 {\n",
    "        if refactored2(x).is_break() {\n",
    "            return ControlFlow::Break(());\n",
    "        }\n",
    "    }\n",
    "    ControlFlow::Continue(())\n",
    "}"
   ]
  },
  {
   "cell_type": "markdown",
   "metadata": {},
   "source": [
    "But with `?`, second refactoring becomes almost copy pasting the code into a new function:"
   ]
  },
  {
   "cell_type": "code",
   "execution_count": null,
   "metadata": {
    "vscode": {
     "languageId": "rust"
    }
   },
   "outputs": [],
   "source": [
    "fn refactored2(x: i32) -> ControlFlow<()> {\n",
    "    println!(\"{x} 3\");\n",
    "    if x % 4 == 0 {\n",
    "        println!(\"{x} 4\");\n",
    "        return ControlFlow::Break(());\n",
    "    }\n",
    "    ControlFlow::Continue(())\n",
    "}\n",
    "\n",
    "fn refactored(x: i32) -> ControlFlow<()> {\n",
    "    println!(\"{x} 2\");\n",
    "    if x % 3 == 0 {\n",
    "        refactored2(x)?;\n",
    "    }\n",
    "    ControlFlow::Continue(())\n",
    "}"
   ]
  },
  {
   "cell_type": "markdown",
   "metadata": {},
   "source": [
    "Another usage of `ControlFlow` enum is in traversing trees (and graphs and anything). Let's define a simple tree data structure:"
   ]
  },
  {
   "cell_type": "code",
   "execution_count": 36,
   "metadata": {
    "vscode": {
     "languageId": "rust"
    }
   },
   "outputs": [
    {
     "name": "stdout",
     "output_type": "stream",
     "text": [
      "Node(\n",
      "    [\n",
      "        Leaf(\n",
      "            10,\n",
      "        ),\n",
      "        Node(\n",
      "            [\n",
      "                Leaf(\n",
      "                    20,\n",
      "                ),\n",
      "                Leaf(\n",
      "                    30,\n",
      "                ),\n",
      "                Leaf(\n",
      "                    40,\n",
      "                ),\n",
      "            ],\n",
      "        ),\n",
      "        Leaf(\n",
      "            50,\n",
      "        ),\n",
      "    ],\n",
      ")\n"
     ]
    }
   ],
   "source": [
    "#[derive(Debug)]\n",
    "enum Tree<T> {\n",
    "    Leaf(T),\n",
    "    Node(Vec<Tree<T>>), // vector of children\n",
    "}\n",
    "\n",
    "use Tree::*;\n",
    "\n",
    "let example = Node(vec![Leaf(10), Node(vec![Leaf(20), Leaf(30), Leaf(40)]), Leaf(50)]);\n",
    "println!(\"{:#?}\", example);"
   ]
  },
  {
   "cell_type": "markdown",
   "metadata": {},
   "source": [
    "Now we want to find left most node which is bigger than a number:"
   ]
  },
  {
   "cell_type": "code",
   "execution_count": 43,
   "metadata": {
    "vscode": {
     "languageId": "rust"
    }
   },
   "outputs": [
    {
     "data": {
      "text/plain": [
       "Some(40)"
      ]
     },
     "execution_count": 43,
     "metadata": {},
     "output_type": "execute_result"
    }
   ],
   "source": [
    "fn left_most_bigger<T: Ord + Copy>(tree: &Tree<T>, than_this: T) -> Option<T> {\n",
    "    match tree {\n",
    "        Leaf(x) => (x > &than_this).then_some(*x),\n",
    "        Node(children) => {\n",
    "            for child in children {\n",
    "                match left_most_bigger(&child, than_this) {\n",
    "                    Some(x) => return Some(x),\n",
    "                    None => continue,\n",
    "                }\n",
    "            }\n",
    "            None\n",
    "        }\n",
    "    }\n",
    "}\n",
    "\n",
    "left_most_bigger(&example, 35)"
   ]
  },
  {
   "cell_type": "markdown",
   "metadata": {},
   "source": [
    "Now let's change the `Option<T>` to `ControlFlow<T>`:"
   ]
  },
  {
   "cell_type": "code",
   "execution_count": 46,
   "metadata": {
    "vscode": {
     "languageId": "rust"
    }
   },
   "outputs": [
    {
     "data": {
      "text/plain": [
       "Break(40)"
      ]
     },
     "execution_count": 46,
     "metadata": {},
     "output_type": "execute_result"
    }
   ],
   "source": [
    "fn left_most_bigger<T: Ord + Copy>(tree: &Tree<T>, than_this: T) -> ControlFlow<T> {\n",
    "    match tree {\n",
    "        Leaf(x) if x > &than_this => ControlFlow::Break(*x),\n",
    "        Leaf(x) => ControlFlow::Continue(()),\n",
    "        Node(children) => {\n",
    "            for child in children {\n",
    "                left_most_bigger(&child, than_this)?;\n",
    "            }\n",
    "            ControlFlow::Continue(())\n",
    "        }\n",
    "    }\n",
    "}\n",
    "\n",
    "left_most_bigger(&example, 35)"
   ]
  },
  {
   "cell_type": "markdown",
   "metadata": {},
   "source": [
    "We can use `?` and break from the outer function if we founded what we need. `ControlFlow` has reverse `?` semantic to `Option` and `Result`, and it will return in case of success. `break` with value is also supported in `loop`: "
   ]
  },
  {
   "cell_type": "code",
   "execution_count": 47,
   "metadata": {
    "vscode": {
     "languageId": "rust"
    }
   },
   "outputs": [
    {
     "data": {
      "text/plain": [
       "20"
      ]
     },
     "execution_count": 47,
     "metadata": {},
     "output_type": "execute_result"
    }
   ],
   "source": [
    "let mut counter = 0;\n",
    "\n",
    "let result = loop {\n",
    "    counter += 1;\n",
    "\n",
    "    if counter == 10 {\n",
    "        break counter * 2;\n",
    "    }\n",
    "};\n",
    "\n",
    "result"
   ]
  },
  {
   "cell_type": "markdown",
   "metadata": {},
   "source": [
    "That's enough about control flow. Let's get back to error handling."
   ]
  },
  {
   "cell_type": "markdown",
   "metadata": {},
   "source": [
    "Error handling with `Result` has these benefits:\n",
    "* Possible errors (or lack of error) of a function is clear from it's return type.\n",
    "* Error handling is explicit. You can't forget that a function may throw error. You need to cascade it yourself with `?` explicitly.\n",
    "* No need to support runtime for stack unwinding. This is an issue in low level system programming, like in OS or embedded systems. People using C++ in those use-cases use `-fno-exception`, but it will make any error in standard library and third party libraries impossible to catch and handle."
   ]
  },
  {
   "cell_type": "markdown",
   "metadata": {},
   "source": [
    "## Panic\n",
    "\n",
    "There is another form of errors that might happen in a rust program:"
   ]
  },
  {
   "cell_type": "code",
   "execution_count": 48,
   "metadata": {
    "vscode": {
     "languageId": "rust"
    }
   },
   "outputs": [
    {
     "data": {
      "text/plain": [
       "Preserve vars on panic: true\n"
      ]
     },
     "execution_count": 48,
     "metadata": {},
     "output_type": "execute_result"
    }
   ],
   "source": [
    ":preserve_vars_on_panic 1"
   ]
  },
  {
   "cell_type": "code",
   "execution_count": 49,
   "metadata": {
    "vscode": {
     "languageId": "rust"
    }
   },
   "outputs": [
    {
     "name": "stderr",
     "output_type": "stream",
     "text": [
      "thread '<unnamed>' panicked at 'index out of bounds: the len is 3 but the index is 5', src/lib.rs:213:40\n",
      "stack backtrace:\n",
      "   0: rust_begin_unwind\n",
      "             at /rustc/4b91a6ea7258a947e59c6522cd5898e7c0a6a88f/library/std/src/panicking.rs:584:5\n",
      "   1: core::panicking::panic_fmt\n",
      "             at /rustc/4b91a6ea7258a947e59c6522cd5898e7c0a6a88f/library/core/src/panicking.rs:142:14\n",
      "   2: core::panicking::panic_bounds_check\n",
      "             at /rustc/4b91a6ea7258a947e59c6522cd5898e7c0a6a88f/library/core/src/panicking.rs:84:5\n",
      "   3: <core::panic::unwind_safe::AssertUnwindSafe<F> as core::ops::function::FnOnce<()>>::call_once\n",
      "   4: run_user_code_24\n",
      "   5: evcxr::runtime::Runtime::run_loop\n",
      "   6: evcxr::runtime::runtime_hook\n",
      "   7: evcxr_jupyter::main\n",
      "note: Some details are omitted, run with `RUST_BACKTRACE=full` for a verbose backtrace.\n"
     ]
    },
    {
     "data": {
      "text/plain": [
       "Panic occurred, the following variables have been lost: v"
      ]
     },
     "execution_count": 49,
     "metadata": {},
     "output_type": "execute_result"
    }
   ],
   "source": [
    "let v = vec![1, 2, 3];\n",
    "v[5]"
   ]
  }
 ],
 "metadata": {
  "kernelspec": {
   "display_name": "Rust",
   "language": "rust",
   "name": "rust"
  },
  "language_info": {
   "codemirror_mode": "rust",
   "file_extension": ".rs",
   "mimetype": "text/rust",
   "name": "Rust",
   "pygment_lexer": "rust",
   "version": ""
  },
  "orig_nbformat": 4
 },
 "nbformat": 4,
 "nbformat_minor": 2
}
