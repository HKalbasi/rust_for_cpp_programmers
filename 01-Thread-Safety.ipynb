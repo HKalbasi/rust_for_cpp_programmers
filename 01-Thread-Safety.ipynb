{
 "cells": [
  {
   "cell_type": "markdown",
   "metadata": {},
   "source": [
    "# Thread safety\n",
    "\n",
    "Data race is impossible in safe rust.\n",
    "\n",
    "Impossible means impossible. Rust is not a linter that catch common problems. It uses a sound analysis to catch every possible data race.\n",
    "\n",
    "A thread safe program:"
   ]
  },
  {
   "cell_type": "code",
   "execution_count": 2,
   "metadata": {
    "vscode": {
     "languageId": "rust"
    }
   },
   "outputs": [
    {
     "name": "stdout",
     "output_type": "stream",
     "text": [
      "2\n"
     ]
    }
   ],
   "source": [
    "let mut x = 0;\n",
    "x += 2;\n",
    "println!(\"{x}\");"
   ]
  },
  {
   "cell_type": "markdown",
   "metadata": {},
   "source": [
    "Single threaded programs are thread safe. Let's see a multi threaded thread safe program:"
   ]
  },
  {
   "cell_type": "code",
   "execution_count": 3,
   "metadata": {
    "vscode": {
     "languageId": "rust"
    }
   },
   "outputs": [
    {
     "name": "stdout",
     "output_type": "stream",
     "text": [
      "world\n",
      "Hello \n",
      "finished\n"
     ]
    }
   ],
   "source": [
    "use std::thread;\n",
    "\n",
    "let mut x = 0;\n",
    "let join_handler = thread::spawn(|| {\n",
    "    println!(\"Hello \");\n",
    "});\n",
    "println!(\"world\");\n",
    "join_handler.join();\n",
    "println!(\"finished\");"
   ]
  },
  {
   "cell_type": "markdown",
   "metadata": {},
   "source": [
    "Now lets see a trivial data race and how compiler will reject it:"
   ]
  },
  {
   "cell_type": "code",
   "execution_count": 4,
   "metadata": {
    "vscode": {
     "languageId": "rust"
    }
   },
   "outputs": [
    {
     "ename": "Error",
     "evalue": "closure may outlive the current function, but it borrows `x`, which is owned by the current function",
     "output_type": "error",
     "traceback": [
      "\u001b[31m[E0373] Error:\u001b[0m closure may outlive the current function, but it borrows `x`, which is owned by the current function",
      "   \u001b[38;5;246m╭\u001b[0m\u001b[38;5;246m─\u001b[0m\u001b[38;5;246m[\u001b[0mcommand_4:1:1\u001b[38;5;246m]\u001b[0m",
      "   \u001b[38;5;246m│\u001b[0m",
      " \u001b[38;5;246m2 │\u001b[0m \u001b[38;5;68m╭\u001b[0m\u001b[38;5;68m─\u001b[0m\u001b[38;5;68m▶\u001b[0m\u001b[38;5;68m \u001b[0m\u001b[38;5;249ml\u001b[0m\u001b[38;5;249me\u001b[0m\u001b[38;5;249mt\u001b[0m\u001b[38;5;249m \u001b[0m\u001b[38;5;249mj\u001b[0m\u001b[38;5;249mo\u001b[0m\u001b[38;5;249mi\u001b[0m\u001b[38;5;249mn\u001b[0m\u001b[38;5;249m_\u001b[0m\u001b[38;5;249mh\u001b[0m\u001b[38;5;249ma\u001b[0m\u001b[38;5;249mn\u001b[0m\u001b[38;5;249md\u001b[0m\u001b[38;5;249ml\u001b[0m\u001b[38;5;249me\u001b[0m\u001b[38;5;249mr\u001b[0m\u001b[38;5;249m \u001b[0m\u001b[38;5;249m=\u001b[0m\u001b[38;5;249m \u001b[0m\u001b[38;5;68mt\u001b[0m\u001b[38;5;68mh\u001b[0m\u001b[38;5;68mr\u001b[0m\u001b[38;5;68me\u001b[0m\u001b[38;5;68ma\u001b[0m\u001b[38;5;68md\u001b[0m\u001b[38;5;68m:\u001b[0m\u001b[38;5;68m:\u001b[0m\u001b[38;5;68ms\u001b[0m\u001b[38;5;68mp\u001b[0m\u001b[38;5;68ma\u001b[0m\u001b[38;5;68mw\u001b[0m\u001b[38;5;68mn\u001b[0m\u001b[38;5;68m(\u001b[0m\u001b[38;5;100m|\u001b[0m\u001b[38;5;100m|\u001b[0m\u001b[38;5;68m \u001b[0m\u001b[38;5;68m{\u001b[0m",
      " \u001b[38;5;246m  ·\u001b[0m \u001b[38;5;68m│\u001b[0m                                    \u001b[38;5;37m┬\u001b[0m\u001b[38;5;100m┬\u001b[0m  ",
      " \u001b[38;5;246m  ·\u001b[0m \u001b[38;5;68m│\u001b[0m                                    \u001b[38;5;37m╰\u001b[0m\u001b[38;5;37m─\u001b[0m\u001b[38;5;37m─\u001b[0m\u001b[38;5;37m─\u001b[0m help: to force the closure to take ownership of `x` (and any other referenced variables), use the `move` keyword: `move `",
      " \u001b[38;5;246m  ·\u001b[0m \u001b[38;5;68m│\u001b[0m                                     \u001b[38;5;100m│\u001b[0m  ",
      " \u001b[38;5;246m  ·\u001b[0m \u001b[38;5;68m│\u001b[0m                                     \u001b[38;5;100m╰\u001b[0m\u001b[38;5;100m─\u001b[0m\u001b[38;5;100m─\u001b[0m may outlive borrowed value `x`",
      " \u001b[38;5;246m3 │\u001b[0m \u001b[38;5;68m│\u001b[0m   \u001b[38;5;68m \u001b[0m\u001b[38;5;68m \u001b[0m\u001b[38;5;68m \u001b[0m\u001b[38;5;68m \u001b[0m\u001b[38;5;54mx\u001b[0m\u001b[38;5;68m \u001b[0m\u001b[38;5;68m+\u001b[0m\u001b[38;5;68m=\u001b[0m\u001b[38;5;68m \u001b[0m\u001b[38;5;68m2\u001b[0m\u001b[38;5;68m;\u001b[0m",
      " \u001b[38;5;246m  ·\u001b[0m \u001b[38;5;68m│\u001b[0m       \u001b[38;5;54m┬\u001b[0m  ",
      " \u001b[38;5;246m  ·\u001b[0m \u001b[38;5;68m│\u001b[0m       \u001b[38;5;54m╰\u001b[0m\u001b[38;5;54m─\u001b[0m\u001b[38;5;54m─\u001b[0m `x` is borrowed here",
      " \u001b[38;5;246m  ⋮\u001b[0m \u001b[38;5;68m⋮\u001b[0m   ",
      " \u001b[38;5;246m5 │\u001b[0m \u001b[38;5;68m├\u001b[0m\u001b[38;5;68m─\u001b[0m\u001b[38;5;68m▶\u001b[0m\u001b[38;5;68m \u001b[0m\u001b[38;5;68m}\u001b[0m\u001b[38;5;68m)\u001b[0m\u001b[38;5;249m;\u001b[0m",
      " \u001b[38;5;246m  ·\u001b[0m \u001b[38;5;68m│\u001b[0m         ",
      " \u001b[38;5;246m  ·\u001b[0m \u001b[38;5;68m╰\u001b[0m\u001b[38;5;68m─\u001b[0m\u001b[38;5;68m─\u001b[0m\u001b[38;5;68m─\u001b[0m\u001b[38;5;68m─\u001b[0m\u001b[38;5;68m─\u001b[0m\u001b[38;5;68m─\u001b[0m\u001b[38;5;68m─\u001b[0m\u001b[38;5;68m─\u001b[0m\u001b[38;5;68m─\u001b[0m note: function requires argument type to outlive `'static`",
      "\u001b[38;5;246m───╯\u001b[0m"
     ]
    },
    {
     "ename": "Error",
     "evalue": "cannot use `x` because it was mutably borrowed",
     "output_type": "error",
     "traceback": [
      "\u001b[31m[E0503] Error:\u001b[0m cannot use `x` because it was mutably borrowed",
      "   \u001b[38;5;246m╭\u001b[0m\u001b[38;5;246m─\u001b[0m\u001b[38;5;246m[\u001b[0mcommand_4:1:1\u001b[38;5;246m]\u001b[0m",
      "   \u001b[38;5;246m│\u001b[0m",
      " \u001b[38;5;246m2 │\u001b[0m \u001b[38;5;37m╭\u001b[0m\u001b[38;5;37m─\u001b[0m\u001b[38;5;37m▶\u001b[0m\u001b[38;5;37m \u001b[0m\u001b[38;5;249ml\u001b[0m\u001b[38;5;249me\u001b[0m\u001b[38;5;249mt\u001b[0m\u001b[38;5;249m \u001b[0m\u001b[38;5;249mj\u001b[0m\u001b[38;5;249mo\u001b[0m\u001b[38;5;249mi\u001b[0m\u001b[38;5;249mn\u001b[0m\u001b[38;5;249m_\u001b[0m\u001b[38;5;249mh\u001b[0m\u001b[38;5;249ma\u001b[0m\u001b[38;5;249mn\u001b[0m\u001b[38;5;249md\u001b[0m\u001b[38;5;249ml\u001b[0m\u001b[38;5;249me\u001b[0m\u001b[38;5;249mr\u001b[0m\u001b[38;5;249m \u001b[0m\u001b[38;5;249m=\u001b[0m\u001b[38;5;249m \u001b[0m\u001b[38;5;37mt\u001b[0m\u001b[38;5;37mh\u001b[0m\u001b[38;5;37mr\u001b[0m\u001b[38;5;37me\u001b[0m\u001b[38;5;37ma\u001b[0m\u001b[38;5;37md\u001b[0m\u001b[38;5;37m:\u001b[0m\u001b[38;5;37m:\u001b[0m\u001b[38;5;37ms\u001b[0m\u001b[38;5;37mp\u001b[0m\u001b[38;5;37ma\u001b[0m\u001b[38;5;37mw\u001b[0m\u001b[38;5;37mn\u001b[0m\u001b[38;5;37m(\u001b[0m\u001b[38;5;54m|\u001b[0m\u001b[38;5;54m|\u001b[0m\u001b[38;5;37m \u001b[0m\u001b[38;5;37m{\u001b[0m",
      " \u001b[38;5;246m  ·\u001b[0m \u001b[38;5;37m│\u001b[0m                                    \u001b[38;5;54m─\u001b[0m\u001b[38;5;54m┬\u001b[0m  ",
      " \u001b[38;5;246m  ·\u001b[0m \u001b[38;5;37m│\u001b[0m                                     \u001b[38;5;54m╰\u001b[0m\u001b[38;5;54m─\u001b[0m\u001b[38;5;54m─\u001b[0m borrow of `x` occurs here",
      " \u001b[38;5;246m3 │\u001b[0m \u001b[38;5;37m│\u001b[0m   \u001b[38;5;37m \u001b[0m\u001b[38;5;37m \u001b[0m\u001b[38;5;37m \u001b[0m\u001b[38;5;37m \u001b[0m\u001b[38;5;68mx\u001b[0m\u001b[38;5;37m \u001b[0m\u001b[38;5;37m+\u001b[0m\u001b[38;5;37m=\u001b[0m\u001b[38;5;37m \u001b[0m\u001b[38;5;37m2\u001b[0m\u001b[38;5;37m;\u001b[0m",
      " \u001b[38;5;246m  ·\u001b[0m \u001b[38;5;37m│\u001b[0m       \u001b[38;5;68m┬\u001b[0m  ",
      " \u001b[38;5;246m  ·\u001b[0m \u001b[38;5;37m│\u001b[0m       \u001b[38;5;68m╰\u001b[0m\u001b[38;5;68m─\u001b[0m\u001b[38;5;68m─\u001b[0m borrow occurs due to use of `x` in closure",
      " \u001b[38;5;246m  ⋮\u001b[0m \u001b[38;5;37m⋮\u001b[0m   ",
      " \u001b[38;5;246m5 │\u001b[0m \u001b[38;5;37m├\u001b[0m\u001b[38;5;37m─\u001b[0m\u001b[38;5;37m▶\u001b[0m\u001b[38;5;37m \u001b[0m\u001b[38;5;37m}\u001b[0m\u001b[38;5;37m)\u001b[0m\u001b[38;5;249m;\u001b[0m",
      " \u001b[38;5;246m  ·\u001b[0m \u001b[38;5;37m│\u001b[0m         ",
      " \u001b[38;5;246m  ·\u001b[0m \u001b[38;5;37m╰\u001b[0m\u001b[38;5;37m─\u001b[0m\u001b[38;5;37m─\u001b[0m\u001b[38;5;37m─\u001b[0m\u001b[38;5;37m─\u001b[0m\u001b[38;5;37m─\u001b[0m\u001b[38;5;37m─\u001b[0m\u001b[38;5;37m─\u001b[0m\u001b[38;5;37m─\u001b[0m\u001b[38;5;37m─\u001b[0m argument requires that `x` is borrowed for `'static`",
      " \u001b[38;5;246m6 │\u001b[0m     \u001b[38;5;100mx\u001b[0m\u001b[38;5;100m \u001b[0m\u001b[38;5;100m+\u001b[0m\u001b[38;5;100m=\u001b[0m\u001b[38;5;100m \u001b[0m\u001b[38;5;100m2\u001b[0m\u001b[38;5;249m;\u001b[0m",
      " \u001b[38;5;246m  ·\u001b[0m     \u001b[38;5;100m─\u001b[0m\u001b[38;5;100m─\u001b[0m\u001b[38;5;100m─\u001b[0m\u001b[38;5;100m┬\u001b[0m\u001b[38;5;100m─\u001b[0m\u001b[38;5;100m─\u001b[0m  ",
      " \u001b[38;5;246m  ·\u001b[0m        \u001b[38;5;100m╰\u001b[0m\u001b[38;5;100m─\u001b[0m\u001b[38;5;100m─\u001b[0m\u001b[38;5;100m─\u001b[0m\u001b[38;5;100m─\u001b[0m use of borrowed `x`",
      "\u001b[38;5;246m───╯\u001b[0m"
     ]
    }
   ],
   "source": [
    "let mut x = 0;\n",
    "let join_handler = thread::spawn(|| {\n",
    "    x += 2;\n",
    "    println!(\"{x}\");\n",
    "});\n",
    "x += 2;\n",
    "println!(\"{x}\");\n",
    "join_handler.join();\n",
    "println!(\"{x}\");"
   ]
  },
  {
   "cell_type": "markdown",
   "metadata": {},
   "source": [
    "Lets see the compiler errors. Compiler errors in Rust (unlike c++) are usually very meaningful and helpful.\n",
    "\n",
    "The compiler error is:\n",
    "```\n",
    "closure may outlive the current function, but it\n",
    "borrows `x`, which is owned by the current function\n",
    "```\n",
    "It means, the current thread might end before the created thread, but the created thread needs the memory of `x` which is on the stack of the main thread.\n",
    "\n",
    "You: But we are joining the thread, so is this a false positive?\n",
    "\n",
    "No, because we may not reach that line. For example, `println!` may panic (panics are similar to exceptions in c++) for various reasons.\n",
    "\n",
    "This is not the data race that we expected, but definietly a data race! Let's fix that."
   ]
  },
  {
   "cell_type": "code",
   "execution_count": 5,
   "metadata": {
    "vscode": {
     "languageId": "rust"
    }
   },
   "outputs": [
    {
     "ename": "Error",
     "evalue": "cannot use `x` because it was mutably borrowed",
     "output_type": "error",
     "traceback": [
      "\u001b[31m[E0503] Error:\u001b[0m cannot use `x` because it was mutably borrowed",
      "   \u001b[38;5;246m╭\u001b[0m\u001b[38;5;246m─\u001b[0m\u001b[38;5;246m[\u001b[0mcommand_5:1:1\u001b[38;5;246m]\u001b[0m",
      "   \u001b[38;5;246m│\u001b[0m",
      " \u001b[38;5;246m2 │\u001b[0m     \u001b[38;5;249mt\u001b[0m\u001b[38;5;249mh\u001b[0m\u001b[38;5;249mr\u001b[0m\u001b[38;5;249me\u001b[0m\u001b[38;5;249ma\u001b[0m\u001b[38;5;249md\u001b[0m\u001b[38;5;249m:\u001b[0m\u001b[38;5;249m:\u001b[0m\u001b[38;5;249ms\u001b[0m\u001b[38;5;249mc\u001b[0m\u001b[38;5;249mo\u001b[0m\u001b[38;5;249mp\u001b[0m\u001b[38;5;249me\u001b[0m\u001b[38;5;249m(\u001b[0m\u001b[38;5;249m|\u001b[0m\u001b[38;5;37ms\u001b[0m\u001b[38;5;249m|\u001b[0m\u001b[38;5;249m \u001b[0m\u001b[38;5;249m{\u001b[0m",
      " \u001b[38;5;246m  ·\u001b[0m                    \u001b[38;5;37m┬\u001b[0m  ",
      " \u001b[38;5;246m  ·\u001b[0m                    \u001b[38;5;37m╰\u001b[0m\u001b[38;5;37m─\u001b[0m\u001b[38;5;37m─\u001b[0m has type `&'1 Scope<'1, '_>`",
      " \u001b[38;5;246m3 │\u001b[0m \u001b[38;5;97m╭\u001b[0m\u001b[38;5;97m─\u001b[0m\u001b[38;5;97m▶\u001b[0m\u001b[38;5;97m \u001b[0m\u001b[38;5;249m \u001b[0m\u001b[38;5;249m \u001b[0m\u001b[38;5;249m \u001b[0m\u001b[38;5;249m \u001b[0m\u001b[38;5;97ms\u001b[0m\u001b[38;5;97m.\u001b[0m\u001b[38;5;97ms\u001b[0m\u001b[38;5;97mp\u001b[0m\u001b[38;5;97ma\u001b[0m\u001b[38;5;97mw\u001b[0m\u001b[38;5;97mn\u001b[0m\u001b[38;5;97m(\u001b[0m\u001b[38;5;54m|\u001b[0m\u001b[38;5;54m|\u001b[0m\u001b[38;5;97m \u001b[0m\u001b[38;5;97m{\u001b[0m",
      " \u001b[38;5;246m  ·\u001b[0m \u001b[38;5;97m│\u001b[0m               \u001b[38;5;54m─\u001b[0m\u001b[38;5;54m┬\u001b[0m  ",
      " \u001b[38;5;246m  ·\u001b[0m \u001b[38;5;97m│\u001b[0m                \u001b[38;5;54m╰\u001b[0m\u001b[38;5;54m─\u001b[0m\u001b[38;5;54m─\u001b[0m borrow of `x` occurs here",
      " \u001b[38;5;246m4 │\u001b[0m \u001b[38;5;97m│\u001b[0m   \u001b[38;5;97m \u001b[0m\u001b[38;5;97m \u001b[0m\u001b[38;5;97m \u001b[0m\u001b[38;5;97m \u001b[0m\u001b[38;5;97m \u001b[0m\u001b[38;5;97m \u001b[0m\u001b[38;5;97m \u001b[0m\u001b[38;5;97m \u001b[0m\u001b[38;5;68mx\u001b[0m\u001b[38;5;97m \u001b[0m\u001b[38;5;97m+\u001b[0m\u001b[38;5;97m=\u001b[0m\u001b[38;5;97m \u001b[0m\u001b[38;5;97m2\u001b[0m\u001b[38;5;97m;\u001b[0m",
      " \u001b[38;5;246m  ·\u001b[0m \u001b[38;5;97m│\u001b[0m           \u001b[38;5;68m┬\u001b[0m  ",
      " \u001b[38;5;246m  ·\u001b[0m \u001b[38;5;97m│\u001b[0m           \u001b[38;5;68m╰\u001b[0m\u001b[38;5;68m─\u001b[0m\u001b[38;5;68m─\u001b[0m borrow occurs due to use of `x` in closure",
      " \u001b[38;5;246m  ⋮\u001b[0m \u001b[38;5;97m⋮\u001b[0m   ",
      " \u001b[38;5;246m6 │\u001b[0m \u001b[38;5;97m├\u001b[0m\u001b[38;5;97m─\u001b[0m\u001b[38;5;97m▶\u001b[0m\u001b[38;5;97m \u001b[0m\u001b[38;5;97m \u001b[0m\u001b[38;5;97m \u001b[0m\u001b[38;5;97m \u001b[0m\u001b[38;5;97m \u001b[0m\u001b[38;5;97m}\u001b[0m\u001b[38;5;97m)\u001b[0m\u001b[38;5;249m;\u001b[0m",
      " \u001b[38;5;246m  ·\u001b[0m \u001b[38;5;97m│\u001b[0m             ",
      " \u001b[38;5;246m  ·\u001b[0m \u001b[38;5;97m╰\u001b[0m\u001b[38;5;97m─\u001b[0m\u001b[38;5;97m─\u001b[0m\u001b[38;5;97m─\u001b[0m\u001b[38;5;97m─\u001b[0m\u001b[38;5;97m─\u001b[0m\u001b[38;5;97m─\u001b[0m\u001b[38;5;97m─\u001b[0m\u001b[38;5;97m─\u001b[0m\u001b[38;5;97m─\u001b[0m\u001b[38;5;97m─\u001b[0m\u001b[38;5;97m─\u001b[0m\u001b[38;5;97m─\u001b[0m\u001b[38;5;97m─\u001b[0m argument requires that `x` is borrowed for `'1`",
      " \u001b[38;5;246m7 │\u001b[0m     \u001b[38;5;249m \u001b[0m\u001b[38;5;249m \u001b[0m\u001b[38;5;249m \u001b[0m\u001b[38;5;249m \u001b[0m\u001b[38;5;100mx\u001b[0m\u001b[38;5;100m \u001b[0m\u001b[38;5;100m+\u001b[0m\u001b[38;5;100m=\u001b[0m\u001b[38;5;100m \u001b[0m\u001b[38;5;100m2\u001b[0m\u001b[38;5;249m;\u001b[0m",
      " \u001b[38;5;246m  ·\u001b[0m         \u001b[38;5;100m─\u001b[0m\u001b[38;5;100m─\u001b[0m\u001b[38;5;100m─\u001b[0m\u001b[38;5;100m┬\u001b[0m\u001b[38;5;100m─\u001b[0m\u001b[38;5;100m─\u001b[0m  ",
      " \u001b[38;5;246m  ·\u001b[0m            \u001b[38;5;100m╰\u001b[0m\u001b[38;5;100m─\u001b[0m\u001b[38;5;100m─\u001b[0m\u001b[38;5;100m─\u001b[0m\u001b[38;5;100m─\u001b[0m use of borrowed `x`",
      "\u001b[38;5;246m───╯\u001b[0m"
     ]
    },
    {
     "ename": "Error",
     "evalue": "cannot assign to `x` because it is borrowed",
     "output_type": "error",
     "traceback": [
      "\u001b[31m[E0506] Error:\u001b[0m cannot assign to `x` because it is borrowed",
      "   \u001b[38;5;246m╭\u001b[0m\u001b[38;5;246m─\u001b[0m\u001b[38;5;246m[\u001b[0mcommand_5:1:1\u001b[38;5;246m]\u001b[0m",
      "   \u001b[38;5;246m│\u001b[0m",
      " \u001b[38;5;246m2 │\u001b[0m     \u001b[38;5;249mt\u001b[0m\u001b[38;5;249mh\u001b[0m\u001b[38;5;249mr\u001b[0m\u001b[38;5;249me\u001b[0m\u001b[38;5;249ma\u001b[0m\u001b[38;5;249md\u001b[0m\u001b[38;5;249m:\u001b[0m\u001b[38;5;249m:\u001b[0m\u001b[38;5;249ms\u001b[0m\u001b[38;5;249mc\u001b[0m\u001b[38;5;249mo\u001b[0m\u001b[38;5;249mp\u001b[0m\u001b[38;5;249me\u001b[0m\u001b[38;5;249m(\u001b[0m\u001b[38;5;249m|\u001b[0m\u001b[38;5;37ms\u001b[0m\u001b[38;5;249m|\u001b[0m\u001b[38;5;249m \u001b[0m\u001b[38;5;249m{\u001b[0m",
      " \u001b[38;5;246m  ·\u001b[0m                    \u001b[38;5;37m┬\u001b[0m  ",
      " \u001b[38;5;246m  ·\u001b[0m                    \u001b[38;5;37m╰\u001b[0m\u001b[38;5;37m─\u001b[0m\u001b[38;5;37m─\u001b[0m has type `&'1 Scope<'1, '_>`",
      " \u001b[38;5;246m3 │\u001b[0m \u001b[38;5;97m╭\u001b[0m\u001b[38;5;97m─\u001b[0m\u001b[38;5;97m▶\u001b[0m\u001b[38;5;97m \u001b[0m\u001b[38;5;249m \u001b[0m\u001b[38;5;249m \u001b[0m\u001b[38;5;249m \u001b[0m\u001b[38;5;249m \u001b[0m\u001b[38;5;97ms\u001b[0m\u001b[38;5;97m.\u001b[0m\u001b[38;5;97ms\u001b[0m\u001b[38;5;97mp\u001b[0m\u001b[38;5;97ma\u001b[0m\u001b[38;5;97mw\u001b[0m\u001b[38;5;97mn\u001b[0m\u001b[38;5;97m(\u001b[0m\u001b[38;5;54m|\u001b[0m\u001b[38;5;54m|\u001b[0m\u001b[38;5;97m \u001b[0m\u001b[38;5;97m{\u001b[0m",
      " \u001b[38;5;246m  ·\u001b[0m \u001b[38;5;97m│\u001b[0m               \u001b[38;5;54m─\u001b[0m\u001b[38;5;54m┬\u001b[0m  ",
      " \u001b[38;5;246m  ·\u001b[0m \u001b[38;5;97m│\u001b[0m                \u001b[38;5;54m╰\u001b[0m\u001b[38;5;54m─\u001b[0m\u001b[38;5;54m─\u001b[0m borrow of `x` occurs here",
      " \u001b[38;5;246m4 │\u001b[0m \u001b[38;5;97m│\u001b[0m   \u001b[38;5;97m \u001b[0m\u001b[38;5;97m \u001b[0m\u001b[38;5;97m \u001b[0m\u001b[38;5;97m \u001b[0m\u001b[38;5;97m \u001b[0m\u001b[38;5;97m \u001b[0m\u001b[38;5;97m \u001b[0m\u001b[38;5;97m \u001b[0m\u001b[38;5;68mx\u001b[0m\u001b[38;5;97m \u001b[0m\u001b[38;5;97m+\u001b[0m\u001b[38;5;97m=\u001b[0m\u001b[38;5;97m \u001b[0m\u001b[38;5;97m2\u001b[0m\u001b[38;5;97m;\u001b[0m",
      " \u001b[38;5;246m  ·\u001b[0m \u001b[38;5;97m│\u001b[0m           \u001b[38;5;68m┬\u001b[0m  ",
      " \u001b[38;5;246m  ·\u001b[0m \u001b[38;5;97m│\u001b[0m           \u001b[38;5;68m╰\u001b[0m\u001b[38;5;68m─\u001b[0m\u001b[38;5;68m─\u001b[0m borrow occurs due to use in closure",
      " \u001b[38;5;246m  ⋮\u001b[0m \u001b[38;5;97m⋮\u001b[0m   ",
      " \u001b[38;5;246m6 │\u001b[0m \u001b[38;5;97m├\u001b[0m\u001b[38;5;97m─\u001b[0m\u001b[38;5;97m▶\u001b[0m\u001b[38;5;97m \u001b[0m\u001b[38;5;97m \u001b[0m\u001b[38;5;97m \u001b[0m\u001b[38;5;97m \u001b[0m\u001b[38;5;97m \u001b[0m\u001b[38;5;97m}\u001b[0m\u001b[38;5;97m)\u001b[0m\u001b[38;5;249m;\u001b[0m",
      " \u001b[38;5;246m  ·\u001b[0m \u001b[38;5;97m│\u001b[0m             ",
      " \u001b[38;5;246m  ·\u001b[0m \u001b[38;5;97m╰\u001b[0m\u001b[38;5;97m─\u001b[0m\u001b[38;5;97m─\u001b[0m\u001b[38;5;97m─\u001b[0m\u001b[38;5;97m─\u001b[0m\u001b[38;5;97m─\u001b[0m\u001b[38;5;97m─\u001b[0m\u001b[38;5;97m─\u001b[0m\u001b[38;5;97m─\u001b[0m\u001b[38;5;97m─\u001b[0m\u001b[38;5;97m─\u001b[0m\u001b[38;5;97m─\u001b[0m\u001b[38;5;97m─\u001b[0m\u001b[38;5;97m─\u001b[0m argument requires that `x` is borrowed for `'1`",
      " \u001b[38;5;246m7 │\u001b[0m     \u001b[38;5;249m \u001b[0m\u001b[38;5;249m \u001b[0m\u001b[38;5;249m \u001b[0m\u001b[38;5;249m \u001b[0m\u001b[38;5;100mx\u001b[0m\u001b[38;5;100m \u001b[0m\u001b[38;5;100m+\u001b[0m\u001b[38;5;100m=\u001b[0m\u001b[38;5;100m \u001b[0m\u001b[38;5;100m2\u001b[0m\u001b[38;5;249m;\u001b[0m",
      " \u001b[38;5;246m  ·\u001b[0m         \u001b[38;5;100m─\u001b[0m\u001b[38;5;100m─\u001b[0m\u001b[38;5;100m─\u001b[0m\u001b[38;5;100m┬\u001b[0m\u001b[38;5;100m─\u001b[0m\u001b[38;5;100m─\u001b[0m  ",
      " \u001b[38;5;246m  ·\u001b[0m            \u001b[38;5;100m╰\u001b[0m\u001b[38;5;100m─\u001b[0m\u001b[38;5;100m─\u001b[0m\u001b[38;5;100m─\u001b[0m\u001b[38;5;100m─\u001b[0m assignment to borrowed `x` occurs here",
      "\u001b[38;5;246m───╯\u001b[0m"
     ]
    }
   ],
   "source": [
    "let mut x = 0;\n",
    "thread::scope(|s| {\n",
    "    s.spawn(|| {\n",
    "        x += 2;\n",
    "        println!(\"{x}\");\n",
    "    });\n",
    "    x += 2;\n",
    "    println!(\"{x}\");\n",
    "});\n",
    "println!(\"{x}\");"
   ]
  },
  {
   "cell_type": "markdown",
   "metadata": {},
   "source": [
    "This is equivalent of the above, but `thread::scope` will join the scoped thread we made inside of it at the end of the scope (either normally or in the case of panic) so the previous problem is solved.\n",
    "\n",
    "But the code still doesn't compile:\n",
    "```\n",
    "cannot use `x` because it was mutably borrowed\n",
    "```\n",
    "The code shouldn't compile (because it has data race) but the error might not be clear if you are not familiar with the Rust terminology. So we need some background."
   ]
  },
  {
   "cell_type": "markdown",
   "metadata": {},
   "source": [
    "## Ownership and borrowing\n",
    "\n",
    "In Rust, everything has some owner, for example here `x` is owner of the vector:"
   ]
  },
  {
   "cell_type": "code",
   "execution_count": 6,
   "metadata": {
    "vscode": {
     "languageId": "rust"
    }
   },
   "outputs": [],
   "source": [
    "let x = vec![1, 2, 3];"
   ]
  },
  {
   "cell_type": "markdown",
   "metadata": {},
   "source": [
    "You can move (similar to move semantics in c++) values and change the owner:"
   ]
  },
  {
   "cell_type": "code",
   "execution_count": 7,
   "metadata": {
    "vscode": {
     "languageId": "rust"
    }
   },
   "outputs": [
    {
     "data": {
      "text/plain": [
       "[1, 2, 3, 4]"
      ]
     },
     "execution_count": 7,
     "metadata": {},
     "output_type": "execute_result"
    }
   ],
   "source": [
    "let x = vec![1, 2, 3];\n",
    "let y = x; // move by assignment\n",
    "let z = f(y); // move by function call\n",
    "fn f(input: Vec<i32>) -> Vec<i32> {\n",
    "    let mut tmp = input; // move by assignment\n",
    "    tmp.push(4);\n",
    "    tmp // move by return\n",
    "}\n",
    "z"
   ]
  },
  {
   "cell_type": "markdown",
   "metadata": {},
   "source": [
    "And you can borrow things that you own. Borrowing is the act of creating a pointer (called a reference in Rust, but they are more close to a pointer than a reference in c++):"
   ]
  },
  {
   "cell_type": "code",
   "execution_count": 8,
   "metadata": {
    "vscode": {
     "languageId": "rust"
    }
   },
   "outputs": [
    {
     "data": {
      "text/plain": [
       "5"
      ]
     },
     "execution_count": 8,
     "metadata": {},
     "output_type": "execute_result"
    }
   ],
   "source": [
    "{ // blocks are due jupyter (evcxr) limitations\n",
    "    let x = 5;\n",
    "    let y = &x; // borrow of `x` occurs here. `y` is a reference to `x`\n",
    "    let z = *y; // we can read the original i32 here with dereferencing operator\n",
    "    z\n",
    "}"
   ]
  },
  {
   "cell_type": "markdown",
   "metadata": {},
   "source": [
    "But in normal Rust code we won't usually use the derefrence operator explicitly. For example, method call and field access (`.` operator) will dereference the callee as needed. So Rust doesn't have a `->` operator."
   ]
  },
  {
   "cell_type": "code",
   "execution_count": 9,
   "metadata": {
    "vscode": {
     "languageId": "rust"
    }
   },
   "outputs": [
    {
     "name": "stdout",
     "output_type": "stream",
     "text": [
      "5\n",
      "5\n",
      "5\n"
     ]
    }
   ],
   "source": [
    "let x = vec![1, 2, 3, 4, 5];\n",
    "{\n",
    "    let y = &&&&&x; // a reference of reference of reference of ... of x\n",
    "    // those are equal:\n",
    "    println!(\"{}\", y.len());\n",
    "    println!(\"{}\", (**y).len());\n",
    "    println!(\"{}\", (*****y).len());\n",
    "};"
   ]
  },
  {
   "cell_type": "markdown",
   "metadata": {},
   "source": [
    "Index operator `v[x]` is the same:"
   ]
  },
  {
   "cell_type": "code",
   "execution_count": 10,
   "metadata": {
    "vscode": {
     "languageId": "rust"
    }
   },
   "outputs": [
    {
     "name": "stdout",
     "output_type": "stream",
     "text": [
      "3\n",
      "3\n",
      "4\n"
     ]
    }
   ],
   "source": [
    "{\n",
    "    let y = &&&&&x;\n",
    "    // those are equal:\n",
    "    println!(\"{}\", y[2]);\n",
    "    println!(\"{}\", (**y)[2]);\n",
    "    println!(\"{}\", (*****y)[3]);\n",
    "};"
   ]
  },
  {
   "cell_type": "markdown",
   "metadata": {},
   "source": [
    "And the situation is the same for many operations. A reference in rust is just a handle for accessing a value, and itself doesn't matter. Even equality of references will automatically dereference."
   ]
  },
  {
   "cell_type": "code",
   "execution_count": 11,
   "metadata": {
    "vscode": {
     "languageId": "rust"
    }
   },
   "outputs": [
    {
     "name": "stdout",
     "output_type": "stream",
     "text": [
      "true\n",
      "true\n",
      "false\n",
      "true\n"
     ]
    }
   ],
   "source": [
    "{\n",
    "    let a = vec![1, 2, 3];\n",
    "    let b = vec![1, 2, 3];\n",
    "    let ref1_to_a = &a;\n",
    "    let ref2_to_a = &a;\n",
    "    let ref_to_b = &b;\n",
    "    println!(\"{}\", a == b); // a and b are equal    \n",
    "    println!(\"{}\", ref1_to_a == ref_to_b); // reference equality uses value semantics\n",
    "    // but we can ask manually for pointer equality\n",
    "    println!(\"{}\", std::ptr::eq(ref1_to_a, ref_to_b));\n",
    "    println!(\"{}\", std::ptr::eq(ref1_to_a, ref2_to_a));\n",
    "};"
   ]
  },
  {
   "cell_type": "markdown",
   "metadata": {},
   "source": [
    "References are immutable by default, so you can't change the referred value by them:"
   ]
  },
  {
   "cell_type": "code",
   "execution_count": 12,
   "metadata": {
    "vscode": {
     "languageId": "rust"
    }
   },
   "outputs": [
    {
     "ename": "Error",
     "evalue": "cannot assign to `*y`, which is behind a `&` reference",
     "output_type": "error",
     "traceback": [
      "\u001b[31m[E0594] Error:\u001b[0m cannot assign to `*y`, which is behind a `&` reference",
      "   \u001b[38;5;246m╭\u001b[0m\u001b[38;5;246m─\u001b[0m\u001b[38;5;246m[\u001b[0mcommand_12:1:1\u001b[38;5;246m]\u001b[0m",
      "   \u001b[38;5;246m│\u001b[0m",
      " \u001b[38;5;246m3 │\u001b[0m \u001b[38;5;249m \u001b[0m\u001b[38;5;249m \u001b[0m\u001b[38;5;249m \u001b[0m\u001b[38;5;249m \u001b[0m\u001b[38;5;249ml\u001b[0m\u001b[38;5;249me\u001b[0m\u001b[38;5;249mt\u001b[0m\u001b[38;5;249m \u001b[0m\u001b[38;5;249my\u001b[0m\u001b[38;5;249m \u001b[0m\u001b[38;5;249m=\u001b[0m\u001b[38;5;249m \u001b[0m\u001b[38;5;100m&\u001b[0m\u001b[38;5;100mx\u001b[0m\u001b[38;5;249m;\u001b[0m",
      " \u001b[38;5;246m  ·\u001b[0m             \u001b[38;5;100m─\u001b[0m\u001b[38;5;100m┬\u001b[0m  ",
      " \u001b[38;5;246m  ·\u001b[0m              \u001b[38;5;100m╰\u001b[0m\u001b[38;5;100m─\u001b[0m\u001b[38;5;100m─\u001b[0m help: consider changing this to be a mutable reference: `&mut x`",
      " \u001b[38;5;246m4 │\u001b[0m \u001b[38;5;249m \u001b[0m\u001b[38;5;249m \u001b[0m\u001b[38;5;249m \u001b[0m\u001b[38;5;249m \u001b[0m\u001b[38;5;54m*\u001b[0m\u001b[38;5;54my\u001b[0m\u001b[38;5;54m \u001b[0m\u001b[38;5;54m=\u001b[0m\u001b[38;5;54m \u001b[0m\u001b[38;5;54m2\u001b[0m\u001b[38;5;249m;\u001b[0m",
      " \u001b[38;5;246m  ·\u001b[0m     \u001b[38;5;54m─\u001b[0m\u001b[38;5;54m─\u001b[0m\u001b[38;5;54m─\u001b[0m\u001b[38;5;54m┬\u001b[0m\u001b[38;5;54m─\u001b[0m\u001b[38;5;54m─\u001b[0m  ",
      " \u001b[38;5;246m  ·\u001b[0m        \u001b[38;5;54m╰\u001b[0m\u001b[38;5;54m─\u001b[0m\u001b[38;5;54m─\u001b[0m\u001b[38;5;54m─\u001b[0m\u001b[38;5;54m─\u001b[0m `y` is a `&` reference, so the data it refers to cannot be written",
      "\u001b[38;5;246m───╯\u001b[0m"
     ]
    }
   ],
   "source": [
    "{\n",
    "    let x = 5;\n",
    "    let y = &x;\n",
    "    *y = 2;\n",
    "    x\n",
    "}"
   ]
  },
  {
   "cell_type": "markdown",
   "metadata": {},
   "source": [
    "Compiler error is clear and to the point. Let's fix that."
   ]
  },
  {
   "cell_type": "code",
   "execution_count": 13,
   "metadata": {
    "vscode": {
     "languageId": "rust"
    }
   },
   "outputs": [
    {
     "data": {
      "text/plain": [
       "2"
      ]
     },
     "execution_count": 13,
     "metadata": {},
     "output_type": "execute_result"
    }
   ],
   "source": [
    "{\n",
    "    let mut x = 5;\n",
    "    let y = &mut x;\n",
    "    *y = 2;\n",
    "    x\n",
    "}"
   ]
  },
  {
   "cell_type": "markdown",
   "metadata": {},
   "source": [
    "Now that we know what is ownership, borrowing and references, we can understand rules of borrowing:\n",
    "* At any given time, you can have either one mutable reference or any number of immutable references.\n",
    "* References must always be valid. That is, owner must not be moved or dropped while there is a live borrow.\n",
    "\n",
    "These simple rules enforces memory and thread safety in Rust.\n",
    "\n",
    "Checking these rules is done by the borrow checker (BC) inside the compiler.\n",
    "\n",
    "We can see this rules being enforced in action:"
   ]
  },
  {
   "cell_type": "markdown",
   "metadata": {},
   "source": [
    "No two mutable reference:"
   ]
  },
  {
   "cell_type": "code",
   "execution_count": 14,
   "metadata": {
    "vscode": {
     "languageId": "rust"
    }
   },
   "outputs": [
    {
     "ename": "Error",
     "evalue": "cannot borrow `x` as mutable more than once at a time",
     "output_type": "error",
     "traceback": [
      "\u001b[31m[E0499] Error:\u001b[0m cannot borrow `x` as mutable more than once at a time",
      "   \u001b[38;5;246m╭\u001b[0m\u001b[38;5;246m─\u001b[0m\u001b[38;5;246m[\u001b[0mcommand_14:1:1\u001b[38;5;246m]\u001b[0m",
      "   \u001b[38;5;246m│\u001b[0m",
      " \u001b[38;5;246m3 │\u001b[0m \u001b[38;5;249m \u001b[0m\u001b[38;5;249m \u001b[0m\u001b[38;5;249m \u001b[0m\u001b[38;5;249m \u001b[0m\u001b[38;5;249ml\u001b[0m\u001b[38;5;249me\u001b[0m\u001b[38;5;249mt\u001b[0m\u001b[38;5;249m \u001b[0m\u001b[38;5;249my\u001b[0m\u001b[38;5;249m \u001b[0m\u001b[38;5;249m=\u001b[0m\u001b[38;5;249m \u001b[0m\u001b[38;5;54m&\u001b[0m\u001b[38;5;54mm\u001b[0m\u001b[38;5;54mu\u001b[0m\u001b[38;5;54mt\u001b[0m\u001b[38;5;54m \u001b[0m\u001b[38;5;54mx\u001b[0m\u001b[38;5;249m;\u001b[0m",
      " \u001b[38;5;246m  ·\u001b[0m             \u001b[38;5;54m─\u001b[0m\u001b[38;5;54m─\u001b[0m\u001b[38;5;54m─\u001b[0m\u001b[38;5;54m┬\u001b[0m\u001b[38;5;54m─\u001b[0m\u001b[38;5;54m─\u001b[0m  ",
      " \u001b[38;5;246m  ·\u001b[0m                \u001b[38;5;54m╰\u001b[0m\u001b[38;5;54m─\u001b[0m\u001b[38;5;54m─\u001b[0m\u001b[38;5;54m─\u001b[0m\u001b[38;5;54m─\u001b[0m first mutable borrow occurs here",
      " \u001b[38;5;246m4 │\u001b[0m \u001b[38;5;249m \u001b[0m\u001b[38;5;249m \u001b[0m\u001b[38;5;249m \u001b[0m\u001b[38;5;249m \u001b[0m\u001b[38;5;249ml\u001b[0m\u001b[38;5;249me\u001b[0m\u001b[38;5;249mt\u001b[0m\u001b[38;5;249m \u001b[0m\u001b[38;5;249mz\u001b[0m\u001b[38;5;249m \u001b[0m\u001b[38;5;249m=\u001b[0m\u001b[38;5;249m \u001b[0m\u001b[38;5;100m&\u001b[0m\u001b[38;5;100mm\u001b[0m\u001b[38;5;100mu\u001b[0m\u001b[38;5;100mt\u001b[0m\u001b[38;5;100m \u001b[0m\u001b[38;5;100mx\u001b[0m\u001b[38;5;249m;\u001b[0m",
      " \u001b[38;5;246m  ·\u001b[0m             \u001b[38;5;100m─\u001b[0m\u001b[38;5;100m─\u001b[0m\u001b[38;5;100m─\u001b[0m\u001b[38;5;100m┬\u001b[0m\u001b[38;5;100m─\u001b[0m\u001b[38;5;100m─\u001b[0m  ",
      " \u001b[38;5;246m  ·\u001b[0m                \u001b[38;5;100m╰\u001b[0m\u001b[38;5;100m─\u001b[0m\u001b[38;5;100m─\u001b[0m\u001b[38;5;100m─\u001b[0m\u001b[38;5;100m─\u001b[0m second mutable borrow occurs here",
      " \u001b[38;5;246m5 │\u001b[0m \u001b[38;5;249m \u001b[0m\u001b[38;5;249m \u001b[0m\u001b[38;5;249m \u001b[0m\u001b[38;5;249m \u001b[0m\u001b[38;5;68m*\u001b[0m\u001b[38;5;68my\u001b[0m\u001b[38;5;68m \u001b[0m\u001b[38;5;68m=\u001b[0m\u001b[38;5;68m \u001b[0m\u001b[38;5;68m*\u001b[0m\u001b[38;5;68mz\u001b[0m\u001b[38;5;68m \u001b[0m\u001b[38;5;68m+\u001b[0m\u001b[38;5;68m \u001b[0m\u001b[38;5;68m5\u001b[0m\u001b[38;5;249m;\u001b[0m",
      " \u001b[38;5;246m  ·\u001b[0m     \u001b[38;5;68m─\u001b[0m\u001b[38;5;68m─\u001b[0m\u001b[38;5;68m─\u001b[0m\u001b[38;5;68m─\u001b[0m\u001b[38;5;68m─\u001b[0m\u001b[38;5;68m┬\u001b[0m\u001b[38;5;68m─\u001b[0m\u001b[38;5;68m─\u001b[0m\u001b[38;5;68m─\u001b[0m\u001b[38;5;68m─\u001b[0m\u001b[38;5;68m─\u001b[0m  ",
      " \u001b[38;5;246m  ·\u001b[0m          \u001b[38;5;68m╰\u001b[0m\u001b[38;5;68m─\u001b[0m\u001b[38;5;68m─\u001b[0m\u001b[38;5;68m─\u001b[0m\u001b[38;5;68m─\u001b[0m\u001b[38;5;68m─\u001b[0m\u001b[38;5;68m─\u001b[0m\u001b[38;5;68m─\u001b[0m first borrow later used here",
      "\u001b[38;5;246m───╯\u001b[0m"
     ]
    }
   ],
   "source": [
    "{\n",
    "    let mut x = 5;\n",
    "    let y = &mut x;\n",
    "    let z = &mut x;\n",
    "    *y = *z + 5;\n",
    "    *z\n",
    "}"
   ]
  },
  {
   "cell_type": "markdown",
   "metadata": {},
   "source": [
    "Note: using multiple mutable references at different times is fine: "
   ]
  },
  {
   "cell_type": "code",
   "execution_count": 9,
   "metadata": {
    "vscode": {
     "languageId": "rust"
    }
   },
   "outputs": [
    {
     "data": {
      "text/plain": [
       "13"
      ]
     },
     "execution_count": 9,
     "metadata": {},
     "output_type": "execute_result"
    }
   ],
   "source": [
    "{\n",
    "    let mut x = 5;\n",
    "    let y = &mut x;\n",
    "    *y += 3;\n",
    "    // y is not used later, and compiler understands that.\n",
    "    let z = &mut x;\n",
    "    *z += 5;\n",
    "    x\n",
    "}"
   ]
  },
  {
   "cell_type": "markdown",
   "metadata": {},
   "source": [
    "No mutable and immutable reference at the same time:"
   ]
  },
  {
   "cell_type": "code",
   "execution_count": 15,
   "metadata": {
    "vscode": {
     "languageId": "rust"
    }
   },
   "outputs": [
    {
     "ename": "Error",
     "evalue": "cannot borrow `x` as immutable because it is also borrowed as mutable",
     "output_type": "error",
     "traceback": [
      "\u001b[31m[E0502] Error:\u001b[0m cannot borrow `x` as immutable because it is also borrowed as mutable",
      "   \u001b[38;5;246m╭\u001b[0m\u001b[38;5;246m─\u001b[0m\u001b[38;5;246m[\u001b[0mcommand_15:1:1\u001b[38;5;246m]\u001b[0m",
      "   \u001b[38;5;246m│\u001b[0m",
      " \u001b[38;5;246m3 │\u001b[0m \u001b[38;5;249m \u001b[0m\u001b[38;5;249m \u001b[0m\u001b[38;5;249m \u001b[0m\u001b[38;5;249m \u001b[0m\u001b[38;5;249ml\u001b[0m\u001b[38;5;249me\u001b[0m\u001b[38;5;249mt\u001b[0m\u001b[38;5;249m \u001b[0m\u001b[38;5;249my\u001b[0m\u001b[38;5;249m \u001b[0m\u001b[38;5;249m=\u001b[0m\u001b[38;5;249m \u001b[0m\u001b[38;5;100m&\u001b[0m\u001b[38;5;100mm\u001b[0m\u001b[38;5;100mu\u001b[0m\u001b[38;5;100mt\u001b[0m\u001b[38;5;100m \u001b[0m\u001b[38;5;100mx\u001b[0m\u001b[38;5;249m;\u001b[0m",
      " \u001b[38;5;246m  ·\u001b[0m             \u001b[38;5;100m─\u001b[0m\u001b[38;5;100m─\u001b[0m\u001b[38;5;100m─\u001b[0m\u001b[38;5;100m┬\u001b[0m\u001b[38;5;100m─\u001b[0m\u001b[38;5;100m─\u001b[0m  ",
      " \u001b[38;5;246m  ·\u001b[0m                \u001b[38;5;100m╰\u001b[0m\u001b[38;5;100m─\u001b[0m\u001b[38;5;100m─\u001b[0m\u001b[38;5;100m─\u001b[0m\u001b[38;5;100m─\u001b[0m mutable borrow occurs here",
      " \u001b[38;5;246m4 │\u001b[0m \u001b[38;5;249m \u001b[0m\u001b[38;5;249m \u001b[0m\u001b[38;5;249m \u001b[0m\u001b[38;5;249m \u001b[0m\u001b[38;5;249ml\u001b[0m\u001b[38;5;249me\u001b[0m\u001b[38;5;249mt\u001b[0m\u001b[38;5;249m \u001b[0m\u001b[38;5;249mz\u001b[0m\u001b[38;5;249m \u001b[0m\u001b[38;5;249m=\u001b[0m\u001b[38;5;249m \u001b[0m\u001b[38;5;54m&\u001b[0m\u001b[38;5;54mx\u001b[0m\u001b[38;5;249m;\u001b[0m",
      " \u001b[38;5;246m  ·\u001b[0m             \u001b[38;5;54m─\u001b[0m\u001b[38;5;54m┬\u001b[0m  ",
      " \u001b[38;5;246m  ·\u001b[0m              \u001b[38;5;54m╰\u001b[0m\u001b[38;5;54m─\u001b[0m\u001b[38;5;54m─\u001b[0m immutable borrow occurs here",
      " \u001b[38;5;246m5 │\u001b[0m \u001b[38;5;249m \u001b[0m\u001b[38;5;249m \u001b[0m\u001b[38;5;249m \u001b[0m\u001b[38;5;249m \u001b[0m\u001b[38;5;68m*\u001b[0m\u001b[38;5;68my\u001b[0m\u001b[38;5;68m \u001b[0m\u001b[38;5;68m=\u001b[0m\u001b[38;5;68m \u001b[0m\u001b[38;5;68m*\u001b[0m\u001b[38;5;68mz\u001b[0m\u001b[38;5;68m \u001b[0m\u001b[38;5;68m+\u001b[0m\u001b[38;5;68m \u001b[0m\u001b[38;5;68m5\u001b[0m\u001b[38;5;249m;\u001b[0m",
      " \u001b[38;5;246m  ·\u001b[0m     \u001b[38;5;68m─\u001b[0m\u001b[38;5;68m─\u001b[0m\u001b[38;5;68m─\u001b[0m\u001b[38;5;68m─\u001b[0m\u001b[38;5;68m─\u001b[0m\u001b[38;5;68m┬\u001b[0m\u001b[38;5;68m─\u001b[0m\u001b[38;5;68m─\u001b[0m\u001b[38;5;68m─\u001b[0m\u001b[38;5;68m─\u001b[0m\u001b[38;5;68m─\u001b[0m  ",
      " \u001b[38;5;246m  ·\u001b[0m          \u001b[38;5;68m╰\u001b[0m\u001b[38;5;68m─\u001b[0m\u001b[38;5;68m─\u001b[0m\u001b[38;5;68m─\u001b[0m\u001b[38;5;68m─\u001b[0m\u001b[38;5;68m─\u001b[0m\u001b[38;5;68m─\u001b[0m\u001b[38;5;68m─\u001b[0m mutable borrow later used here",
      "\u001b[38;5;246m───╯\u001b[0m"
     ]
    }
   ],
   "source": [
    "{\n",
    "    let mut x = 5;\n",
    "    let y = &mut x;\n",
    "    let z = &x;\n",
    "    *y = *z + 5;\n",
    "    *z\n",
    "}"
   ]
  },
  {
   "cell_type": "markdown",
   "metadata": {},
   "source": [
    "No ownership change while borrowing:"
   ]
  },
  {
   "cell_type": "code",
   "execution_count": 16,
   "metadata": {
    "vscode": {
     "languageId": "rust"
    }
   },
   "outputs": [
    {
     "ename": "Error",
     "evalue": "cannot move out of `x` because it is borrowed",
     "output_type": "error",
     "traceback": [
      "\u001b[31m[E0505] Error:\u001b[0m cannot move out of `x` because it is borrowed",
      "   \u001b[38;5;246m╭\u001b[0m\u001b[38;5;246m─\u001b[0m\u001b[38;5;246m[\u001b[0mcommand_16:1:1\u001b[38;5;246m]\u001b[0m",
      "   \u001b[38;5;246m│\u001b[0m",
      " \u001b[38;5;246m3 │\u001b[0m \u001b[38;5;249m \u001b[0m\u001b[38;5;249m \u001b[0m\u001b[38;5;249m \u001b[0m\u001b[38;5;249m \u001b[0m\u001b[38;5;249ml\u001b[0m\u001b[38;5;249me\u001b[0m\u001b[38;5;249mt\u001b[0m\u001b[38;5;249m \u001b[0m\u001b[38;5;249my\u001b[0m\u001b[38;5;249m \u001b[0m\u001b[38;5;249m=\u001b[0m\u001b[38;5;249m \u001b[0m\u001b[38;5;54m&\u001b[0m\u001b[38;5;54mx\u001b[0m\u001b[38;5;249m;\u001b[0m",
      " \u001b[38;5;246m  ·\u001b[0m             \u001b[38;5;54m─\u001b[0m\u001b[38;5;54m┬\u001b[0m  ",
      " \u001b[38;5;246m  ·\u001b[0m              \u001b[38;5;54m╰\u001b[0m\u001b[38;5;54m─\u001b[0m\u001b[38;5;54m─\u001b[0m borrow of `x` occurs here",
      " \u001b[38;5;246m4 │\u001b[0m \u001b[38;5;249m \u001b[0m\u001b[38;5;249m \u001b[0m\u001b[38;5;249m \u001b[0m\u001b[38;5;249m \u001b[0m\u001b[38;5;249ml\u001b[0m\u001b[38;5;249me\u001b[0m\u001b[38;5;249mt\u001b[0m\u001b[38;5;249m \u001b[0m\u001b[38;5;249mz\u001b[0m\u001b[38;5;249m \u001b[0m\u001b[38;5;249m=\u001b[0m\u001b[38;5;249m \u001b[0m\u001b[38;5;100mx\u001b[0m\u001b[38;5;249m;\u001b[0m",
      " \u001b[38;5;246m  ·\u001b[0m             \u001b[38;5;100m┬\u001b[0m  ",
      " \u001b[38;5;246m  ·\u001b[0m             \u001b[38;5;100m╰\u001b[0m\u001b[38;5;100m─\u001b[0m\u001b[38;5;100m─\u001b[0m move out of `x` occurs here",
      " \u001b[38;5;246m5 │\u001b[0m \u001b[38;5;249m \u001b[0m\u001b[38;5;249m \u001b[0m\u001b[38;5;249m \u001b[0m\u001b[38;5;249m \u001b[0m\u001b[38;5;249m(\u001b[0m\u001b[38;5;68my\u001b[0m\u001b[38;5;68m.\u001b[0m\u001b[38;5;68ml\u001b[0m\u001b[38;5;68me\u001b[0m\u001b[38;5;68mn\u001b[0m\u001b[38;5;68m(\u001b[0m\u001b[38;5;68m)\u001b[0m\u001b[38;5;249m,\u001b[0m\u001b[38;5;249m \u001b[0m\u001b[38;5;249mz\u001b[0m\u001b[38;5;249m.\u001b[0m\u001b[38;5;249ml\u001b[0m\u001b[38;5;249me\u001b[0m\u001b[38;5;249mn\u001b[0m\u001b[38;5;249m(\u001b[0m\u001b[38;5;249m)\u001b[0m\u001b[38;5;249m)\u001b[0m",
      " \u001b[38;5;246m  ·\u001b[0m      \u001b[38;5;68m─\u001b[0m\u001b[38;5;68m─\u001b[0m\u001b[38;5;68m─\u001b[0m\u001b[38;5;68m┬\u001b[0m\u001b[38;5;68m─\u001b[0m\u001b[38;5;68m─\u001b[0m\u001b[38;5;68m─\u001b[0m  ",
      " \u001b[38;5;246m  ·\u001b[0m         \u001b[38;5;68m╰\u001b[0m\u001b[38;5;68m─\u001b[0m\u001b[38;5;68m─\u001b[0m\u001b[38;5;68m─\u001b[0m\u001b[38;5;68m─\u001b[0m\u001b[38;5;68m─\u001b[0m borrow later used here",
      "\u001b[38;5;246m───╯\u001b[0m"
     ]
    }
   ],
   "source": [
    "{\n",
    "    let x = vec![1, 2, 3];\n",
    "    let y = &x;\n",
    "    let z = x;\n",
    "    (y.len(), z.len())\n",
    "}"
   ]
  },
  {
   "cell_type": "markdown",
   "metadata": {},
   "source": [
    "Now we are ready for our original code:"
   ]
  },
  {
   "cell_type": "code",
   "execution_count": 17,
   "metadata": {
    "vscode": {
     "languageId": "rust"
    }
   },
   "outputs": [
    {
     "ename": "Error",
     "evalue": "cannot use `x` because it was mutably borrowed",
     "output_type": "error",
     "traceback": [
      "\u001b[31m[E0503] Error:\u001b[0m cannot use `x` because it was mutably borrowed",
      "   \u001b[38;5;246m╭\u001b[0m\u001b[38;5;246m─\u001b[0m\u001b[38;5;246m[\u001b[0mcommand_17:1:1\u001b[38;5;246m]\u001b[0m",
      "   \u001b[38;5;246m│\u001b[0m",
      " \u001b[38;5;246m2 │\u001b[0m     \u001b[38;5;249mt\u001b[0m\u001b[38;5;249mh\u001b[0m\u001b[38;5;249mr\u001b[0m\u001b[38;5;249me\u001b[0m\u001b[38;5;249ma\u001b[0m\u001b[38;5;249md\u001b[0m\u001b[38;5;249m:\u001b[0m\u001b[38;5;249m:\u001b[0m\u001b[38;5;249ms\u001b[0m\u001b[38;5;249mc\u001b[0m\u001b[38;5;249mo\u001b[0m\u001b[38;5;249mp\u001b[0m\u001b[38;5;249me\u001b[0m\u001b[38;5;249m(\u001b[0m\u001b[38;5;249m|\u001b[0m\u001b[38;5;37ms\u001b[0m\u001b[38;5;249m|\u001b[0m\u001b[38;5;249m \u001b[0m\u001b[38;5;249m{\u001b[0m",
      " \u001b[38;5;246m  ·\u001b[0m                    \u001b[38;5;37m┬\u001b[0m  ",
      " \u001b[38;5;246m  ·\u001b[0m                    \u001b[38;5;37m╰\u001b[0m\u001b[38;5;37m─\u001b[0m\u001b[38;5;37m─\u001b[0m has type `&'1 Scope<'1, '_>`",
      " \u001b[38;5;246m3 │\u001b[0m \u001b[38;5;97m╭\u001b[0m\u001b[38;5;97m─\u001b[0m\u001b[38;5;97m▶\u001b[0m\u001b[38;5;97m \u001b[0m\u001b[38;5;249m \u001b[0m\u001b[38;5;249m \u001b[0m\u001b[38;5;249m \u001b[0m\u001b[38;5;249m \u001b[0m\u001b[38;5;97ms\u001b[0m\u001b[38;5;97m.\u001b[0m\u001b[38;5;97ms\u001b[0m\u001b[38;5;97mp\u001b[0m\u001b[38;5;97ma\u001b[0m\u001b[38;5;97mw\u001b[0m\u001b[38;5;97mn\u001b[0m\u001b[38;5;97m(\u001b[0m\u001b[38;5;54m|\u001b[0m\u001b[38;5;54m|\u001b[0m\u001b[38;5;97m \u001b[0m\u001b[38;5;97m{\u001b[0m",
      " \u001b[38;5;246m  ·\u001b[0m \u001b[38;5;97m│\u001b[0m               \u001b[38;5;54m─\u001b[0m\u001b[38;5;54m┬\u001b[0m  ",
      " \u001b[38;5;246m  ·\u001b[0m \u001b[38;5;97m│\u001b[0m                \u001b[38;5;54m╰\u001b[0m\u001b[38;5;54m─\u001b[0m\u001b[38;5;54m─\u001b[0m borrow of `x` occurs here",
      " \u001b[38;5;246m4 │\u001b[0m \u001b[38;5;97m│\u001b[0m   \u001b[38;5;97m \u001b[0m\u001b[38;5;97m \u001b[0m\u001b[38;5;97m \u001b[0m\u001b[38;5;97m \u001b[0m\u001b[38;5;97m \u001b[0m\u001b[38;5;97m \u001b[0m\u001b[38;5;97m \u001b[0m\u001b[38;5;97m \u001b[0m\u001b[38;5;68mx\u001b[0m\u001b[38;5;97m \u001b[0m\u001b[38;5;97m+\u001b[0m\u001b[38;5;97m=\u001b[0m\u001b[38;5;97m \u001b[0m\u001b[38;5;97m2\u001b[0m\u001b[38;5;97m;\u001b[0m",
      " \u001b[38;5;246m  ·\u001b[0m \u001b[38;5;97m│\u001b[0m           \u001b[38;5;68m┬\u001b[0m  ",
      " \u001b[38;5;246m  ·\u001b[0m \u001b[38;5;97m│\u001b[0m           \u001b[38;5;68m╰\u001b[0m\u001b[38;5;68m─\u001b[0m\u001b[38;5;68m─\u001b[0m borrow occurs due to use of `x` in closure",
      " \u001b[38;5;246m  ⋮\u001b[0m \u001b[38;5;97m⋮\u001b[0m   ",
      " \u001b[38;5;246m6 │\u001b[0m \u001b[38;5;97m├\u001b[0m\u001b[38;5;97m─\u001b[0m\u001b[38;5;97m▶\u001b[0m\u001b[38;5;97m \u001b[0m\u001b[38;5;97m \u001b[0m\u001b[38;5;97m \u001b[0m\u001b[38;5;97m \u001b[0m\u001b[38;5;97m \u001b[0m\u001b[38;5;97m}\u001b[0m\u001b[38;5;97m)\u001b[0m\u001b[38;5;249m;\u001b[0m",
      " \u001b[38;5;246m  ·\u001b[0m \u001b[38;5;97m│\u001b[0m             ",
      " \u001b[38;5;246m  ·\u001b[0m \u001b[38;5;97m╰\u001b[0m\u001b[38;5;97m─\u001b[0m\u001b[38;5;97m─\u001b[0m\u001b[38;5;97m─\u001b[0m\u001b[38;5;97m─\u001b[0m\u001b[38;5;97m─\u001b[0m\u001b[38;5;97m─\u001b[0m\u001b[38;5;97m─\u001b[0m\u001b[38;5;97m─\u001b[0m\u001b[38;5;97m─\u001b[0m\u001b[38;5;97m─\u001b[0m\u001b[38;5;97m─\u001b[0m\u001b[38;5;97m─\u001b[0m\u001b[38;5;97m─\u001b[0m argument requires that `x` is borrowed for `'1`",
      " \u001b[38;5;246m7 │\u001b[0m     \u001b[38;5;249m \u001b[0m\u001b[38;5;249m \u001b[0m\u001b[38;5;249m \u001b[0m\u001b[38;5;249m \u001b[0m\u001b[38;5;100mx\u001b[0m\u001b[38;5;100m \u001b[0m\u001b[38;5;100m+\u001b[0m\u001b[38;5;100m=\u001b[0m\u001b[38;5;100m \u001b[0m\u001b[38;5;100m2\u001b[0m\u001b[38;5;249m;\u001b[0m",
      " \u001b[38;5;246m  ·\u001b[0m         \u001b[38;5;100m─\u001b[0m\u001b[38;5;100m─\u001b[0m\u001b[38;5;100m─\u001b[0m\u001b[38;5;100m┬\u001b[0m\u001b[38;5;100m─\u001b[0m\u001b[38;5;100m─\u001b[0m  ",
      " \u001b[38;5;246m  ·\u001b[0m            \u001b[38;5;100m╰\u001b[0m\u001b[38;5;100m─\u001b[0m\u001b[38;5;100m─\u001b[0m\u001b[38;5;100m─\u001b[0m\u001b[38;5;100m─\u001b[0m use of borrowed `x`",
      "\u001b[38;5;246m───╯\u001b[0m"
     ]
    },
    {
     "ename": "Error",
     "evalue": "cannot assign to `x` because it is borrowed",
     "output_type": "error",
     "traceback": [
      "\u001b[31m[E0506] Error:\u001b[0m cannot assign to `x` because it is borrowed",
      "   \u001b[38;5;246m╭\u001b[0m\u001b[38;5;246m─\u001b[0m\u001b[38;5;246m[\u001b[0mcommand_17:1:1\u001b[38;5;246m]\u001b[0m",
      "   \u001b[38;5;246m│\u001b[0m",
      " \u001b[38;5;246m2 │\u001b[0m     \u001b[38;5;249mt\u001b[0m\u001b[38;5;249mh\u001b[0m\u001b[38;5;249mr\u001b[0m\u001b[38;5;249me\u001b[0m\u001b[38;5;249ma\u001b[0m\u001b[38;5;249md\u001b[0m\u001b[38;5;249m:\u001b[0m\u001b[38;5;249m:\u001b[0m\u001b[38;5;249ms\u001b[0m\u001b[38;5;249mc\u001b[0m\u001b[38;5;249mo\u001b[0m\u001b[38;5;249mp\u001b[0m\u001b[38;5;249me\u001b[0m\u001b[38;5;249m(\u001b[0m\u001b[38;5;249m|\u001b[0m\u001b[38;5;37ms\u001b[0m\u001b[38;5;249m|\u001b[0m\u001b[38;5;249m \u001b[0m\u001b[38;5;249m{\u001b[0m",
      " \u001b[38;5;246m  ·\u001b[0m                    \u001b[38;5;37m┬\u001b[0m  ",
      " \u001b[38;5;246m  ·\u001b[0m                    \u001b[38;5;37m╰\u001b[0m\u001b[38;5;37m─\u001b[0m\u001b[38;5;37m─\u001b[0m has type `&'1 Scope<'1, '_>`",
      " \u001b[38;5;246m3 │\u001b[0m \u001b[38;5;97m╭\u001b[0m\u001b[38;5;97m─\u001b[0m\u001b[38;5;97m▶\u001b[0m\u001b[38;5;97m \u001b[0m\u001b[38;5;249m \u001b[0m\u001b[38;5;249m \u001b[0m\u001b[38;5;249m \u001b[0m\u001b[38;5;249m \u001b[0m\u001b[38;5;97ms\u001b[0m\u001b[38;5;97m.\u001b[0m\u001b[38;5;97ms\u001b[0m\u001b[38;5;97mp\u001b[0m\u001b[38;5;97ma\u001b[0m\u001b[38;5;97mw\u001b[0m\u001b[38;5;97mn\u001b[0m\u001b[38;5;97m(\u001b[0m\u001b[38;5;54m|\u001b[0m\u001b[38;5;54m|\u001b[0m\u001b[38;5;97m \u001b[0m\u001b[38;5;97m{\u001b[0m",
      " \u001b[38;5;246m  ·\u001b[0m \u001b[38;5;97m│\u001b[0m               \u001b[38;5;54m─\u001b[0m\u001b[38;5;54m┬\u001b[0m  ",
      " \u001b[38;5;246m  ·\u001b[0m \u001b[38;5;97m│\u001b[0m                \u001b[38;5;54m╰\u001b[0m\u001b[38;5;54m─\u001b[0m\u001b[38;5;54m─\u001b[0m borrow of `x` occurs here",
      " \u001b[38;5;246m4 │\u001b[0m \u001b[38;5;97m│\u001b[0m   \u001b[38;5;97m \u001b[0m\u001b[38;5;97m \u001b[0m\u001b[38;5;97m \u001b[0m\u001b[38;5;97m \u001b[0m\u001b[38;5;97m \u001b[0m\u001b[38;5;97m \u001b[0m\u001b[38;5;97m \u001b[0m\u001b[38;5;97m \u001b[0m\u001b[38;5;68mx\u001b[0m\u001b[38;5;97m \u001b[0m\u001b[38;5;97m+\u001b[0m\u001b[38;5;97m=\u001b[0m\u001b[38;5;97m \u001b[0m\u001b[38;5;97m2\u001b[0m\u001b[38;5;97m;\u001b[0m",
      " \u001b[38;5;246m  ·\u001b[0m \u001b[38;5;97m│\u001b[0m           \u001b[38;5;68m┬\u001b[0m  ",
      " \u001b[38;5;246m  ·\u001b[0m \u001b[38;5;97m│\u001b[0m           \u001b[38;5;68m╰\u001b[0m\u001b[38;5;68m─\u001b[0m\u001b[38;5;68m─\u001b[0m borrow occurs due to use in closure",
      " \u001b[38;5;246m  ⋮\u001b[0m \u001b[38;5;97m⋮\u001b[0m   ",
      " \u001b[38;5;246m6 │\u001b[0m \u001b[38;5;97m├\u001b[0m\u001b[38;5;97m─\u001b[0m\u001b[38;5;97m▶\u001b[0m\u001b[38;5;97m \u001b[0m\u001b[38;5;97m \u001b[0m\u001b[38;5;97m \u001b[0m\u001b[38;5;97m \u001b[0m\u001b[38;5;97m \u001b[0m\u001b[38;5;97m}\u001b[0m\u001b[38;5;97m)\u001b[0m\u001b[38;5;249m;\u001b[0m",
      " \u001b[38;5;246m  ·\u001b[0m \u001b[38;5;97m│\u001b[0m             ",
      " \u001b[38;5;246m  ·\u001b[0m \u001b[38;5;97m╰\u001b[0m\u001b[38;5;97m─\u001b[0m\u001b[38;5;97m─\u001b[0m\u001b[38;5;97m─\u001b[0m\u001b[38;5;97m─\u001b[0m\u001b[38;5;97m─\u001b[0m\u001b[38;5;97m─\u001b[0m\u001b[38;5;97m─\u001b[0m\u001b[38;5;97m─\u001b[0m\u001b[38;5;97m─\u001b[0m\u001b[38;5;97m─\u001b[0m\u001b[38;5;97m─\u001b[0m\u001b[38;5;97m─\u001b[0m\u001b[38;5;97m─\u001b[0m argument requires that `x` is borrowed for `'1`",
      " \u001b[38;5;246m7 │\u001b[0m     \u001b[38;5;249m \u001b[0m\u001b[38;5;249m \u001b[0m\u001b[38;5;249m \u001b[0m\u001b[38;5;249m \u001b[0m\u001b[38;5;100mx\u001b[0m\u001b[38;5;100m \u001b[0m\u001b[38;5;100m+\u001b[0m\u001b[38;5;100m=\u001b[0m\u001b[38;5;100m \u001b[0m\u001b[38;5;100m2\u001b[0m\u001b[38;5;249m;\u001b[0m",
      " \u001b[38;5;246m  ·\u001b[0m         \u001b[38;5;100m─\u001b[0m\u001b[38;5;100m─\u001b[0m\u001b[38;5;100m─\u001b[0m\u001b[38;5;100m┬\u001b[0m\u001b[38;5;100m─\u001b[0m\u001b[38;5;100m─\u001b[0m  ",
      " \u001b[38;5;246m  ·\u001b[0m            \u001b[38;5;100m╰\u001b[0m\u001b[38;5;100m─\u001b[0m\u001b[38;5;100m─\u001b[0m\u001b[38;5;100m─\u001b[0m\u001b[38;5;100m─\u001b[0m assignment to borrowed `x` occurs here",
      "\u001b[38;5;246m───╯\u001b[0m"
     ]
    }
   ],
   "source": [
    "let mut x = 0;\n",
    "thread::scope(|s| {\n",
    "    s.spawn(|| {\n",
    "        x += 2;\n",
    "        println!(\"{x}\");\n",
    "    });\n",
    "    x += 2;\n",
    "    println!(\"{x}\");\n",
    "});\n",
    "println!(\"{x}\");"
   ]
  },
  {
   "cell_type": "markdown",
   "metadata": {},
   "source": [
    "Closures capture the environment variables by reference (can be changed to by move) so the thread's closure mutably borrows `x`, and we can not later borrow `x` again. Rust catched this trivial data race.\n",
    "\n",
    "Let's remove the second `x+=2`."
   ]
  },
  {
   "cell_type": "code",
   "execution_count": 18,
   "metadata": {
    "vscode": {
     "languageId": "rust"
    }
   },
   "outputs": [
    {
     "ename": "Error",
     "evalue": "cannot borrow `x` as immutable because it is also borrowed as mutable",
     "output_type": "error",
     "traceback": [
      "\u001b[31m[E0502] Error:\u001b[0m cannot borrow `x` as immutable because it is also borrowed as mutable",
      "   \u001b[38;5;246m╭\u001b[0m\u001b[38;5;246m─\u001b[0m\u001b[38;5;246m[\u001b[0mcommand_18:1:1\u001b[38;5;246m]\u001b[0m",
      "   \u001b[38;5;246m│\u001b[0m",
      " \u001b[38;5;246m2 │\u001b[0m     \u001b[38;5;249mt\u001b[0m\u001b[38;5;249mh\u001b[0m\u001b[38;5;249mr\u001b[0m\u001b[38;5;249me\u001b[0m\u001b[38;5;249ma\u001b[0m\u001b[38;5;249md\u001b[0m\u001b[38;5;249m:\u001b[0m\u001b[38;5;249m:\u001b[0m\u001b[38;5;249ms\u001b[0m\u001b[38;5;249mc\u001b[0m\u001b[38;5;249mo\u001b[0m\u001b[38;5;249mp\u001b[0m\u001b[38;5;249me\u001b[0m\u001b[38;5;249m(\u001b[0m\u001b[38;5;249m|\u001b[0m\u001b[38;5;37ms\u001b[0m\u001b[38;5;249m|\u001b[0m\u001b[38;5;249m \u001b[0m\u001b[38;5;249m{\u001b[0m",
      " \u001b[38;5;246m  ·\u001b[0m                    \u001b[38;5;37m┬\u001b[0m  ",
      " \u001b[38;5;246m  ·\u001b[0m                    \u001b[38;5;37m╰\u001b[0m\u001b[38;5;37m─\u001b[0m\u001b[38;5;37m─\u001b[0m has type `&'1 Scope<'1, '_>`",
      " \u001b[38;5;246m3 │\u001b[0m \u001b[38;5;97m╭\u001b[0m\u001b[38;5;97m─\u001b[0m\u001b[38;5;97m▶\u001b[0m\u001b[38;5;97m \u001b[0m\u001b[38;5;249m \u001b[0m\u001b[38;5;249m \u001b[0m\u001b[38;5;249m \u001b[0m\u001b[38;5;249m \u001b[0m\u001b[38;5;97ms\u001b[0m\u001b[38;5;97m.\u001b[0m\u001b[38;5;97ms\u001b[0m\u001b[38;5;97mp\u001b[0m\u001b[38;5;97ma\u001b[0m\u001b[38;5;97mw\u001b[0m\u001b[38;5;97mn\u001b[0m\u001b[38;5;97m(\u001b[0m\u001b[38;5;100m|\u001b[0m\u001b[38;5;100m|\u001b[0m\u001b[38;5;97m \u001b[0m\u001b[38;5;97m{\u001b[0m",
      " \u001b[38;5;246m  ·\u001b[0m \u001b[38;5;97m│\u001b[0m               \u001b[38;5;100m─\u001b[0m\u001b[38;5;100m┬\u001b[0m  ",
      " \u001b[38;5;246m  ·\u001b[0m \u001b[38;5;97m│\u001b[0m                \u001b[38;5;100m╰\u001b[0m\u001b[38;5;100m─\u001b[0m\u001b[38;5;100m─\u001b[0m mutable borrow occurs here",
      " \u001b[38;5;246m4 │\u001b[0m \u001b[38;5;97m│\u001b[0m   \u001b[38;5;97m \u001b[0m\u001b[38;5;97m \u001b[0m\u001b[38;5;97m \u001b[0m\u001b[38;5;97m \u001b[0m\u001b[38;5;97m \u001b[0m\u001b[38;5;97m \u001b[0m\u001b[38;5;97m \u001b[0m\u001b[38;5;97m \u001b[0m\u001b[38;5;68mx\u001b[0m\u001b[38;5;97m \u001b[0m\u001b[38;5;97m+\u001b[0m\u001b[38;5;97m=\u001b[0m\u001b[38;5;97m \u001b[0m\u001b[38;5;97m2\u001b[0m\u001b[38;5;97m;\u001b[0m",
      " \u001b[38;5;246m  ·\u001b[0m \u001b[38;5;97m│\u001b[0m           \u001b[38;5;68m┬\u001b[0m  ",
      " \u001b[38;5;246m  ·\u001b[0m \u001b[38;5;97m│\u001b[0m           \u001b[38;5;68m╰\u001b[0m\u001b[38;5;68m─\u001b[0m\u001b[38;5;68m─\u001b[0m first borrow occurs due to use of `x` in closure",
      " \u001b[38;5;246m  ⋮\u001b[0m \u001b[38;5;97m⋮\u001b[0m   ",
      " \u001b[38;5;246m6 │\u001b[0m \u001b[38;5;97m├\u001b[0m\u001b[38;5;97m─\u001b[0m\u001b[38;5;97m▶\u001b[0m\u001b[38;5;97m \u001b[0m\u001b[38;5;97m \u001b[0m\u001b[38;5;97m \u001b[0m\u001b[38;5;97m \u001b[0m\u001b[38;5;97m \u001b[0m\u001b[38;5;97m}\u001b[0m\u001b[38;5;97m)\u001b[0m\u001b[38;5;249m;\u001b[0m",
      " \u001b[38;5;246m  ·\u001b[0m \u001b[38;5;97m│\u001b[0m             ",
      " \u001b[38;5;246m  ·\u001b[0m \u001b[38;5;97m╰\u001b[0m\u001b[38;5;97m─\u001b[0m\u001b[38;5;97m─\u001b[0m\u001b[38;5;97m─\u001b[0m\u001b[38;5;97m─\u001b[0m\u001b[38;5;97m─\u001b[0m\u001b[38;5;97m─\u001b[0m\u001b[38;5;97m─\u001b[0m\u001b[38;5;97m─\u001b[0m\u001b[38;5;97m─\u001b[0m\u001b[38;5;97m─\u001b[0m\u001b[38;5;97m─\u001b[0m\u001b[38;5;97m─\u001b[0m\u001b[38;5;97m─\u001b[0m argument requires that `x` is borrowed for `'1`",
      " \u001b[38;5;246m7 │\u001b[0m     \u001b[38;5;249m \u001b[0m\u001b[38;5;249m \u001b[0m\u001b[38;5;249m \u001b[0m\u001b[38;5;249m \u001b[0m\u001b[38;5;249mp\u001b[0m\u001b[38;5;249mr\u001b[0m\u001b[38;5;249mi\u001b[0m\u001b[38;5;249mn\u001b[0m\u001b[38;5;249mt\u001b[0m\u001b[38;5;249ml\u001b[0m\u001b[38;5;249mn\u001b[0m\u001b[38;5;249m!\u001b[0m\u001b[38;5;249m(\u001b[0m\u001b[38;5;249m\"\u001b[0m\u001b[38;5;249m{\u001b[0m\u001b[38;5;54mx\u001b[0m\u001b[38;5;249m}\u001b[0m\u001b[38;5;249m\"\u001b[0m\u001b[38;5;249m)\u001b[0m\u001b[38;5;249m;\u001b[0m",
      " \u001b[38;5;246m  ·\u001b[0m                    \u001b[38;5;54m┬\u001b[0m  ",
      " \u001b[38;5;246m  ·\u001b[0m                    \u001b[38;5;54m╰\u001b[0m\u001b[38;5;54m─\u001b[0m\u001b[38;5;54m─\u001b[0m immutable borrow occurs here",
      "\u001b[38;5;246m───╯\u001b[0m"
     ]
    }
   ],
   "source": [
    "let mut x = 0;\n",
    "thread::scope(|s| {\n",
    "    s.spawn(|| {\n",
    "        x += 2;\n",
    "        println!(\"{x}\");\n",
    "    });\n",
    "    println!(\"{x}\");\n",
    "});\n",
    "println!(\"{x}\");"
   ]
  },
  {
   "cell_type": "markdown",
   "metadata": {},
   "source": [
    "Rust doesn't even allow this. This is UB in c++ as well, as some archituctures may write into an integer incrementally, and some compiler optimizations may reorder and/or remove some writes, leaving the reader in an invalid state. To make it more clear that why it is wrong, we can use a vector:"
   ]
  },
  {
   "cell_type": "code",
   "execution_count": 19,
   "metadata": {
    "vscode": {
     "languageId": "rust"
    }
   },
   "outputs": [
    {
     "ename": "Error",
     "evalue": "cannot borrow `x` as immutable because it is also borrowed as mutable",
     "output_type": "error",
     "traceback": [
      "\u001b[31m[E0502] Error:\u001b[0m cannot borrow `x` as immutable because it is also borrowed as mutable",
      "   \u001b[38;5;246m╭\u001b[0m\u001b[38;5;246m─\u001b[0m\u001b[38;5;246m[\u001b[0mcommand_19:1:1\u001b[38;5;246m]\u001b[0m",
      "   \u001b[38;5;246m│\u001b[0m",
      " \u001b[38;5;246m2 │\u001b[0m     \u001b[38;5;249mt\u001b[0m\u001b[38;5;249mh\u001b[0m\u001b[38;5;249mr\u001b[0m\u001b[38;5;249me\u001b[0m\u001b[38;5;249ma\u001b[0m\u001b[38;5;249md\u001b[0m\u001b[38;5;249m:\u001b[0m\u001b[38;5;249m:\u001b[0m\u001b[38;5;249ms\u001b[0m\u001b[38;5;249mc\u001b[0m\u001b[38;5;249mo\u001b[0m\u001b[38;5;249mp\u001b[0m\u001b[38;5;249me\u001b[0m\u001b[38;5;249m(\u001b[0m\u001b[38;5;249m|\u001b[0m\u001b[38;5;37ms\u001b[0m\u001b[38;5;249m|\u001b[0m\u001b[38;5;249m \u001b[0m\u001b[38;5;249m{\u001b[0m",
      " \u001b[38;5;246m  ·\u001b[0m                    \u001b[38;5;37m┬\u001b[0m  ",
      " \u001b[38;5;246m  ·\u001b[0m                    \u001b[38;5;37m╰\u001b[0m\u001b[38;5;37m─\u001b[0m\u001b[38;5;37m─\u001b[0m has type `&'1 Scope<'1, '_>`",
      " \u001b[38;5;246m3 │\u001b[0m \u001b[38;5;97m╭\u001b[0m\u001b[38;5;97m─\u001b[0m\u001b[38;5;97m▶\u001b[0m\u001b[38;5;97m \u001b[0m\u001b[38;5;249m \u001b[0m\u001b[38;5;249m \u001b[0m\u001b[38;5;249m \u001b[0m\u001b[38;5;249m \u001b[0m\u001b[38;5;97ms\u001b[0m\u001b[38;5;97m.\u001b[0m\u001b[38;5;97ms\u001b[0m\u001b[38;5;97mp\u001b[0m\u001b[38;5;97ma\u001b[0m\u001b[38;5;97mw\u001b[0m\u001b[38;5;97mn\u001b[0m\u001b[38;5;97m(\u001b[0m\u001b[38;5;100m|\u001b[0m\u001b[38;5;100m|\u001b[0m\u001b[38;5;97m \u001b[0m\u001b[38;5;97m{\u001b[0m",
      " \u001b[38;5;246m  ·\u001b[0m \u001b[38;5;97m│\u001b[0m               \u001b[38;5;100m─\u001b[0m\u001b[38;5;100m┬\u001b[0m  ",
      " \u001b[38;5;246m  ·\u001b[0m \u001b[38;5;97m│\u001b[0m                \u001b[38;5;100m╰\u001b[0m\u001b[38;5;100m─\u001b[0m\u001b[38;5;100m─\u001b[0m mutable borrow occurs here",
      " \u001b[38;5;246m4 │\u001b[0m \u001b[38;5;97m│\u001b[0m   \u001b[38;5;97m \u001b[0m\u001b[38;5;97m \u001b[0m\u001b[38;5;97m \u001b[0m\u001b[38;5;97m \u001b[0m\u001b[38;5;97m \u001b[0m\u001b[38;5;97m \u001b[0m\u001b[38;5;97m \u001b[0m\u001b[38;5;97m \u001b[0m\u001b[38;5;68mx\u001b[0m\u001b[38;5;97m.\u001b[0m\u001b[38;5;97mp\u001b[0m\u001b[38;5;97mu\u001b[0m\u001b[38;5;97ms\u001b[0m\u001b[38;5;97mh\u001b[0m\u001b[38;5;97m(\u001b[0m\u001b[38;5;97m4\u001b[0m\u001b[38;5;97m)\u001b[0m\u001b[38;5;97m;\u001b[0m",
      " \u001b[38;5;246m  ·\u001b[0m \u001b[38;5;97m│\u001b[0m           \u001b[38;5;68m┬\u001b[0m  ",
      " \u001b[38;5;246m  ·\u001b[0m \u001b[38;5;97m│\u001b[0m           \u001b[38;5;68m╰\u001b[0m\u001b[38;5;68m─\u001b[0m\u001b[38;5;68m─\u001b[0m first borrow occurs due to use of `x` in closure",
      " \u001b[38;5;246m5 │\u001b[0m \u001b[38;5;97m├\u001b[0m\u001b[38;5;97m─\u001b[0m\u001b[38;5;97m▶\u001b[0m\u001b[38;5;97m \u001b[0m\u001b[38;5;97m \u001b[0m\u001b[38;5;97m \u001b[0m\u001b[38;5;97m \u001b[0m\u001b[38;5;97m \u001b[0m\u001b[38;5;97m}\u001b[0m\u001b[38;5;97m)\u001b[0m\u001b[38;5;249m;\u001b[0m",
      " \u001b[38;5;246m  ·\u001b[0m \u001b[38;5;97m│\u001b[0m             ",
      " \u001b[38;5;246m  ·\u001b[0m \u001b[38;5;97m╰\u001b[0m\u001b[38;5;97m─\u001b[0m\u001b[38;5;97m─\u001b[0m\u001b[38;5;97m─\u001b[0m\u001b[38;5;97m─\u001b[0m\u001b[38;5;97m─\u001b[0m\u001b[38;5;97m─\u001b[0m\u001b[38;5;97m─\u001b[0m\u001b[38;5;97m─\u001b[0m\u001b[38;5;97m─\u001b[0m\u001b[38;5;97m─\u001b[0m\u001b[38;5;97m─\u001b[0m\u001b[38;5;97m─\u001b[0m\u001b[38;5;97m─\u001b[0m argument requires that `x` is borrowed for `'1`",
      " \u001b[38;5;246m6 │\u001b[0m     \u001b[38;5;249m \u001b[0m\u001b[38;5;249m \u001b[0m\u001b[38;5;249m \u001b[0m\u001b[38;5;249m \u001b[0m\u001b[38;5;249mp\u001b[0m\u001b[38;5;249mr\u001b[0m\u001b[38;5;249mi\u001b[0m\u001b[38;5;249mn\u001b[0m\u001b[38;5;249mt\u001b[0m\u001b[38;5;249ml\u001b[0m\u001b[38;5;249mn\u001b[0m\u001b[38;5;249m!\u001b[0m\u001b[38;5;249m(\u001b[0m\u001b[38;5;249m\"\u001b[0m\u001b[38;5;249m{\u001b[0m\u001b[38;5;249m}\u001b[0m\u001b[38;5;249m\"\u001b[0m\u001b[38;5;249m,\u001b[0m\u001b[38;5;249m \u001b[0m\u001b[38;5;54mx\u001b[0m\u001b[38;5;249m[\u001b[0m\u001b[38;5;249m3\u001b[0m\u001b[38;5;249m]\u001b[0m\u001b[38;5;249m)\u001b[0m\u001b[38;5;249m;\u001b[0m",
      " \u001b[38;5;246m  ·\u001b[0m                        \u001b[38;5;54m┬\u001b[0m  ",
      " \u001b[38;5;246m  ·\u001b[0m                        \u001b[38;5;54m╰\u001b[0m\u001b[38;5;54m─\u001b[0m\u001b[38;5;54m─\u001b[0m immutable borrow occurs here",
      "\u001b[38;5;246m───╯\u001b[0m"
     ]
    }
   ],
   "source": [
    "let mut x = vec![1, 2, 3];\n",
    "thread::scope(|s| {\n",
    "    s.spawn(|| {\n",
    "        x.push(4);\n",
    "    });\n",
    "    println!(\"{}\", x[3]);\n",
    "});\n",
    "println!(\"{}\", x.len());"
   ]
  },
  {
   "cell_type": "markdown",
   "metadata": {},
   "source": [
    "Here, `x.push(4)` will at first increase the vector capacity and length, then will copy `4` in its place. If a context switch happens between those steps, reader might read uninitialized value as `x[3]` and think it is the target value, which is very bad and Rust prevent us from doing that."
   ]
  },
  {
   "cell_type": "markdown",
   "metadata": {},
   "source": [
    "You: So rust is pretty restrictive, and we can't never mutate a variable in two threads?\n",
    "\n",
    "We can mutate a variable in two threads, but we should do it correctly."
   ]
  },
  {
   "cell_type": "markdown",
   "metadata": {},
   "source": [
    "## Mutex\n",
    "\n",
    "Mutex in Rust is similar to c++'s one, but it also holds the data we want exclusive access to. Locking a mutex will return a guard that will provide mutable access to the data, and will unlock the lock on drop."
   ]
  },
  {
   "cell_type": "code",
   "execution_count": 4,
   "metadata": {
    "vscode": {
     "languageId": "rust"
    }
   },
   "outputs": [
    {
     "name": "stdout",
     "output_type": "stream",
     "text": [
      "None\n",
      "4\n"
     ]
    }
   ],
   "source": [
    "use std::sync::Mutex;\n",
    "\n",
    "{\n",
    "    let x = Mutex::new(vec![1, 2, 3]);\n",
    "    thread::scope(|s| {\n",
    "        s.spawn(|| {\n",
    "            let mut x_guard = x.lock().unwrap();\n",
    "            x_guard.push(4);\n",
    "        });\n",
    "        let x_guard = x.lock().unwrap();\n",
    "        println!(\"{:?}\", x_guard.get(3)); // x_guard[3] is possible as well, but that will panic if it is non existent\n",
    "    });\n",
    "    let x_guard = x.lock().unwrap();\n",
    "    println!(\"{}\", x_guard.len());\n",
    "};"
   ]
  },
  {
   "cell_type": "markdown",
   "metadata": {},
   "source": [
    "`Mutex` is like a cell of data. Modifying inside of it doesn't need modifying it. This is called **interior mutability**. Normally, declaring some variable as immutable will make all of its fields, and fields of its fields, and ... as immutable. But an special type, `UnsafeCell`, escapes this limitation, and `Mutex` and similar store their data inside of it. What `UnsafeCell` exactly is doesn't matter here, the only important thing is we can mutate inside of a `Mutex` without `let mut`:"
   ]
  },
  {
   "cell_type": "code",
   "execution_count": 5,
   "metadata": {
    "vscode": {
     "languageId": "rust"
    }
   },
   "outputs": [
    {
     "data": {
      "text/plain": [
       "Mutex { data: 5, poisoned: false, .. }"
      ]
     },
     "execution_count": 5,
     "metadata": {},
     "output_type": "execute_result"
    }
   ],
   "source": [
    "let x = Mutex::new(2);\n",
    "*x.lock().unwrap() = 5;\n",
    "x"
   ]
  },
  {
   "cell_type": "markdown",
   "metadata": {},
   "source": [
    "But changing the `Mutex` itself still needs `let mut`:"
   ]
  },
  {
   "cell_type": "code",
   "execution_count": 6,
   "metadata": {
    "vscode": {
     "languageId": "rust"
    }
   },
   "outputs": [
    {
     "ename": "Error",
     "evalue": "value assigned to `x` is never read",
     "output_type": "error",
     "traceback": [
      "\u001b[31m[unused_assignments] Error:\u001b[0m value assigned to `x` is never read",
      "   \u001b[38;5;246m╭\u001b[0m\u001b[38;5;246m─\u001b[0m\u001b[38;5;246m[\u001b[0mcommand_6:1:1\u001b[38;5;246m]\u001b[0m",
      "   \u001b[38;5;246m│\u001b[0m",
      " \u001b[38;5;246m1 │\u001b[0m \u001b[38;5;249ml\u001b[0m\u001b[38;5;249me\u001b[0m\u001b[38;5;249mt\u001b[0m\u001b[38;5;249m \u001b[0m\u001b[38;5;54mx\u001b[0m\u001b[38;5;249m \u001b[0m\u001b[38;5;249m=\u001b[0m\u001b[38;5;249m \u001b[0m\u001b[38;5;249mM\u001b[0m\u001b[38;5;249mu\u001b[0m\u001b[38;5;249mt\u001b[0m\u001b[38;5;249me\u001b[0m\u001b[38;5;249mx\u001b[0m\u001b[38;5;249m:\u001b[0m\u001b[38;5;249m:\u001b[0m\u001b[38;5;249mn\u001b[0m\u001b[38;5;249me\u001b[0m\u001b[38;5;249mw\u001b[0m\u001b[38;5;249m(\u001b[0m\u001b[38;5;249m2\u001b[0m\u001b[38;5;249m)\u001b[0m\u001b[38;5;249m;\u001b[0m",
      " \u001b[38;5;246m  ·\u001b[0m     \u001b[38;5;54m┬\u001b[0m  ",
      " \u001b[38;5;246m  ·\u001b[0m     \u001b[38;5;54m╰\u001b[0m\u001b[38;5;54m─\u001b[0m\u001b[38;5;54m─\u001b[0m warning: value assigned to `x` is never read",
      "\u001b[38;5;246m───╯\u001b[0m"
     ]
    },
    {
     "ename": "Error",
     "evalue": "cannot assign twice to immutable variable `x`",
     "output_type": "error",
     "traceback": [
      "\u001b[31m[E0384] Error:\u001b[0m cannot assign twice to immutable variable `x`",
      "   \u001b[38;5;246m╭\u001b[0m\u001b[38;5;246m─\u001b[0m\u001b[38;5;246m[\u001b[0mcommand_6:1:1\u001b[38;5;246m]\u001b[0m",
      "   \u001b[38;5;246m│\u001b[0m",
      " \u001b[38;5;246m1 │\u001b[0m \u001b[38;5;249ml\u001b[0m\u001b[38;5;249me\u001b[0m\u001b[38;5;249mt\u001b[0m\u001b[38;5;249m \u001b[0m\u001b[38;5;54mx\u001b[0m\u001b[38;5;249m \u001b[0m\u001b[38;5;249m=\u001b[0m\u001b[38;5;249m \u001b[0m\u001b[38;5;249mM\u001b[0m\u001b[38;5;249mu\u001b[0m\u001b[38;5;249mt\u001b[0m\u001b[38;5;249me\u001b[0m\u001b[38;5;249mx\u001b[0m\u001b[38;5;249m:\u001b[0m\u001b[38;5;249m:\u001b[0m\u001b[38;5;249mn\u001b[0m\u001b[38;5;249me\u001b[0m\u001b[38;5;249mw\u001b[0m\u001b[38;5;249m(\u001b[0m\u001b[38;5;249m2\u001b[0m\u001b[38;5;249m)\u001b[0m\u001b[38;5;249m;\u001b[0m",
      " \u001b[38;5;246m  ·\u001b[0m     \u001b[38;5;54m┬\u001b[0m  ",
      " \u001b[38;5;246m  ·\u001b[0m     \u001b[38;5;54m╰\u001b[0m\u001b[38;5;54m─\u001b[0m\u001b[38;5;54m─\u001b[0m first assignment to `x`",
      " \u001b[38;5;246m  ·\u001b[0m     \u001b[38;5;68m│\u001b[0m  ",
      " \u001b[38;5;246m  ·\u001b[0m     \u001b[38;5;68m╰\u001b[0m\u001b[38;5;68m─\u001b[0m\u001b[38;5;68m─\u001b[0m help: consider making this binding mutable: `mut x`",
      " \u001b[38;5;246m2 │\u001b[0m \u001b[38;5;100mx\u001b[0m\u001b[38;5;100m \u001b[0m\u001b[38;5;100m=\u001b[0m\u001b[38;5;100m \u001b[0m\u001b[38;5;100mM\u001b[0m\u001b[38;5;100mu\u001b[0m\u001b[38;5;100mt\u001b[0m\u001b[38;5;100me\u001b[0m\u001b[38;5;100mx\u001b[0m\u001b[38;5;100m:\u001b[0m\u001b[38;5;100m:\u001b[0m\u001b[38;5;100mn\u001b[0m\u001b[38;5;100me\u001b[0m\u001b[38;5;100mw\u001b[0m\u001b[38;5;100m(\u001b[0m\u001b[38;5;100m5\u001b[0m\u001b[38;5;100m)\u001b[0m\u001b[38;5;249m;\u001b[0m",
      " \u001b[38;5;246m  ·\u001b[0m \u001b[38;5;100m─\u001b[0m\u001b[38;5;100m─\u001b[0m\u001b[38;5;100m─\u001b[0m\u001b[38;5;100m─\u001b[0m\u001b[38;5;100m─\u001b[0m\u001b[38;5;100m─\u001b[0m\u001b[38;5;100m─\u001b[0m\u001b[38;5;100m─\u001b[0m\u001b[38;5;100m┬\u001b[0m\u001b[38;5;100m─\u001b[0m\u001b[38;5;100m─\u001b[0m\u001b[38;5;100m─\u001b[0m\u001b[38;5;100m─\u001b[0m\u001b[38;5;100m─\u001b[0m\u001b[38;5;100m─\u001b[0m\u001b[38;5;100m─\u001b[0m\u001b[38;5;100m─\u001b[0m  ",
      " \u001b[38;5;246m  ·\u001b[0m         \u001b[38;5;100m╰\u001b[0m\u001b[38;5;100m─\u001b[0m\u001b[38;5;100m─\u001b[0m\u001b[38;5;100m─\u001b[0m\u001b[38;5;100m─\u001b[0m\u001b[38;5;100m─\u001b[0m\u001b[38;5;100m─\u001b[0m\u001b[38;5;100m─\u001b[0m\u001b[38;5;100m─\u001b[0m\u001b[38;5;100m─\u001b[0m\u001b[38;5;100m─\u001b[0m cannot assign twice to immutable variable",
      "\u001b[38;5;246m───╯\u001b[0m"
     ]
    }
   ],
   "source": [
    "let x = Mutex::new(2);\n",
    "x = Mutex::new(5);\n",
    "x"
   ]
  },
  {
   "cell_type": "markdown",
   "metadata": {},
   "source": [
    "Now that `.lock` doesn't need `mut`, the closure can capture the `Mutex` by an immutable reference, so borrow checker wouldn't complain.\n",
    "\n",
    "And remember, borrow checker rules are satisfied, even for the inside of `Mutex`. Since `Mutex` cell is behind a lock, at each time only one thread can access it mutably, and the rule of unique mutable reference is satisfied. It's just checked at runtime, instead of compile time.\n",
    "\n",
    "There is a `RwLock` in the standard library (the equivalent in C++17 is `shared_mutex`), which matches Rust borrow rules more closely. It can borrow the inner set in both read and write mode, and there can be some readers or exactly one writer at any time."
   ]
  },
  {
   "cell_type": "code",
   "execution_count": 8,
   "metadata": {
    "vscode": {
     "languageId": "rust"
    }
   },
   "outputs": [
    {
     "name": "stdout",
     "output_type": "stream",
     "text": [
      "5\n",
      "5\n",
      "6\n"
     ]
    }
   ],
   "source": [
    "use std::sync::RwLock;\n",
    "\n",
    "let lock = RwLock::new(5); // no mut needed, similar to `Mutex`\n",
    "\n",
    "// many reader locks can be held at once\n",
    "{\n",
    "    let r1 = lock.read().unwrap();\n",
    "    let r2 = lock.read().unwrap();\n",
    "    println!(\"{}\", *r1);\n",
    "    println!(\"{}\", *r2);\n",
    "} // read locks are dropped at this point\n",
    "\n",
    "// only one write lock may be held, however\n",
    "{\n",
    "    let mut w = lock.write().unwrap();\n",
    "    *w += 1;\n",
    "    println!(\"{}\", *w);\n",
    "} // write lock is dropped here"
   ]
  },
  {
   "cell_type": "markdown",
   "metadata": {},
   "source": [
    "Now let's do something meaningful, like computing the sum of `1..10000` in 10 threads."
   ]
  },
  {
   "cell_type": "code",
   "execution_count": 21,
   "metadata": {
    "vscode": {
     "languageId": "rust"
    }
   },
   "outputs": [
    {
     "data": {
      "text/plain": [
       "49995000"
      ]
     },
     "execution_count": 21,
     "metadata": {},
     "output_type": "execute_result"
    }
   ],
   "source": [
    "// single threaded\n",
    "(1..10000).sum::<i32>()"
   ]
  },
  {
   "cell_type": "code",
   "execution_count": 22,
   "metadata": {
    "vscode": {
     "languageId": "rust"
    }
   },
   "outputs": [
    {
     "name": "stdout",
     "output_type": "stream",
     "text": [
      "result for 0 from thread 0 is 499500\n",
      "result for 1000 from thread 1 is 1499500\n",
      "result for 2000 from thread 4 is 2499500\n",
      "result for 3000 from thread 5 is 3499500\n",
      "result for 4000 from thread 6 is 4499500\n",
      "result for 5000 from thread 9 is 5499500\n",
      "result for 7000 from thread 8 is 7499500\n",
      "result for 6000 from thread 7 is 6499500\n",
      "result for 8000 from thread 2 is 8499500\n",
      "result for 9000 from thread 3 is 9499500\n",
      "final result is 49995000\n"
     ]
    }
   ],
   "source": [
    "use std::mem::drop;\n",
    "\n",
    "let mut to_be_computed = Mutex::new(0);\n",
    "let mut result = Mutex::new(0);\n",
    "thread::scope(|s| {\n",
    "    for thread_id in 0..10 {\n",
    "        // we want to capture mutexes by reference, but thread_id by value, so we will create\n",
    "        // these references and move them into the closure\n",
    "        let result = &result;\n",
    "        let to_be_computed = &to_be_computed;\n",
    "        s.spawn(move || { // move closures capture everything by move\n",
    "            let mut to_be_computed_guard = to_be_computed.lock().unwrap();\n",
    "            let t = *to_be_computed_guard;\n",
    "            *to_be_computed_guard = t + 1000;\n",
    "            drop(to_be_computed_guard); // unlock the lock for other threads\n",
    "            let mut tmp = 0;\n",
    "            for i in t..t+1000 {\n",
    "                tmp += i;\n",
    "            } // or tmp = (t..t+1000).sum()\n",
    "            println!(\"result for {t} from thread {thread_id} is {tmp}\");\n",
    "            let mut result_guard = result.lock().unwrap();\n",
    "            *result_guard = *result_guard + tmp;\n",
    "        });\n",
    "    }\n",
    "});\n",
    "// Here, since we own the Mutex, and there is no live reference to it at this point, we\n",
    "// are allowed to consume it and read its value without locking.\n",
    "println!(\"final result is {}\", result.into_inner().unwrap());"
   ]
  },
  {
   "cell_type": "markdown",
   "metadata": {},
   "source": [
    "Mutex of integers are overkill. We can use atomics for simplicity and better performance:"
   ]
  },
  {
   "cell_type": "code",
   "execution_count": 16,
   "metadata": {
    "vscode": {
     "languageId": "rust"
    }
   },
   "outputs": [
    {
     "name": "stdout",
     "output_type": "stream",
     "text": [
      "result for 0 from thread 1 is 499500\n",
      "result for 1000 from thread 0 is 1499500\n",
      "result for 2000 from thread 2 is 2499500\n",
      "result for 3000 from thread 3 is 3499500\n",
      "result for 4000 from thread 5 is 4499500\n",
      "result for 5000 from thread 4 is 5499500\n",
      "result for 6000 from thread 6 is 6499500\n",
      "result for 7000 from thread 7 is 7499500\n",
      "result for 8000 from thread 9 is 8499500\n",
      "result for 9000 from thread 8 is 9499500\n",
      "final result is 49995000\n"
     ]
    }
   ],
   "source": [
    "use std::sync::atomic::{AtomicI32, Ordering};\n",
    "\n",
    "let mut to_be_computed = AtomicI32::new(0);\n",
    "let mut result = AtomicI32::new(0);\n",
    "thread::scope(|s| {\n",
    "    for thread_id in 0..10 {\n",
    "        // we want to capture mutexes by reference, but thread_id by value, so we will create\n",
    "        // these references and move them into the closure\n",
    "        let result = &result;\n",
    "        let to_be_computed = &to_be_computed;\n",
    "        s.spawn(move || { // move closures capture everything by move\n",
    "            let mut t = to_be_computed.fetch_add(1000, Ordering::SeqCst);\n",
    "            let mut tmp = 0;\n",
    "            for i in t..t+1000 {\n",
    "                tmp += i;\n",
    "            } // or tmp = (t..t+1000).sum()\n",
    "            println!(\"result for {t} from thread {thread_id} is {tmp}\");\n",
    "            result.fetch_add(tmp, Ordering::Relaxed);\n",
    "        });\n",
    "    }\n",
    "});\n",
    "println!(\"final result is {}\", result.into_inner());"
   ]
  },
  {
   "cell_type": "markdown",
   "metadata": {},
   "source": [
    "We can do it even easier with Rayon. Rayon is the equivalent of OpenMP in Rust. It will create a thread pool with number of hardware cores and automatically does the job."
   ]
  },
  {
   "cell_type": "code",
   "execution_count": 13,
   "metadata": {
    "vscode": {
     "languageId": "rust"
    }
   },
   "outputs": [],
   "source": [
    ":dep rayon = \"1.5\""
   ]
  },
  {
   "cell_type": "code",
   "execution_count": 14,
   "metadata": {
    "vscode": {
     "languageId": "rust"
    }
   },
   "outputs": [
    {
     "data": {
      "text/plain": [
       "49995000"
      ]
     },
     "execution_count": 14,
     "metadata": {},
     "output_type": "execute_result"
    }
   ],
   "source": [
    "use rayon::prelude::*;\n",
    "\n",
    "(1..10000i32).into_par_iter().sum::<i32>()"
   ]
  },
  {
   "cell_type": "markdown",
   "metadata": {},
   "source": [
    "Rust thread safety gurantees works in third-party crates as well. To see it, let's first try to calculate sum of even numbers in that range:"
   ]
  },
  {
   "cell_type": "code",
   "execution_count": 19,
   "metadata": {
    "vscode": {
     "languageId": "rust"
    }
   },
   "outputs": [
    {
     "data": {
      "text/plain": [
       "24995000"
      ]
     },
     "execution_count": 19,
     "metadata": {},
     "output_type": "execute_result"
    }
   ],
   "source": [
    "(1..10000i32).into_par_iter().filter(|x| x % 2 == 0).sum::<i32>()"
   ]
  },
  {
   "cell_type": "markdown",
   "metadata": {},
   "source": [
    "Rayon will automatically run `x % 2 == 0` in different threads. Let's add some data race into it:"
   ]
  },
  {
   "cell_type": "code",
   "execution_count": 15,
   "metadata": {
    "vscode": {
     "languageId": "rust"
    }
   },
   "outputs": [
    {
     "ename": "Error",
     "evalue": "cannot assign to `some_variable`, as it is a captured variable in a `Fn` closure",
     "output_type": "error",
     "traceback": [
      "\u001b[31m[E0594] Error:\u001b[0m cannot assign to `some_variable`, as it is a captured variable in a `Fn` closure",
      "   \u001b[38;5;246m╭\u001b[0m\u001b[38;5;246m─\u001b[0m\u001b[38;5;246m[\u001b[0mcommand_15:1:1\u001b[38;5;246m]\u001b[0m",
      "   \u001b[38;5;246m│\u001b[0m",
      " \u001b[38;5;246m5 │\u001b[0m \u001b[38;5;249m \u001b[0m\u001b[38;5;249m \u001b[0m\u001b[38;5;249m \u001b[0m\u001b[38;5;249m \u001b[0m\u001b[38;5;249m \u001b[0m\u001b[38;5;249m \u001b[0m\u001b[38;5;249m \u001b[0m\u001b[38;5;249m \u001b[0m\u001b[38;5;54ms\u001b[0m\u001b[38;5;54mo\u001b[0m\u001b[38;5;54mm\u001b[0m\u001b[38;5;54me\u001b[0m\u001b[38;5;54m_\u001b[0m\u001b[38;5;54mv\u001b[0m\u001b[38;5;54ma\u001b[0m\u001b[38;5;54mr\u001b[0m\u001b[38;5;54mi\u001b[0m\u001b[38;5;54ma\u001b[0m\u001b[38;5;54mb\u001b[0m\u001b[38;5;54ml\u001b[0m\u001b[38;5;54me\u001b[0m\u001b[38;5;54m \u001b[0m\u001b[38;5;54m+\u001b[0m\u001b[38;5;54m=\u001b[0m\u001b[38;5;54m \u001b[0m\u001b[38;5;54m1\u001b[0m\u001b[38;5;249m;\u001b[0m",
      " \u001b[38;5;246m  ·\u001b[0m         \u001b[38;5;54m─\u001b[0m\u001b[38;5;54m─\u001b[0m\u001b[38;5;54m─\u001b[0m\u001b[38;5;54m─\u001b[0m\u001b[38;5;54m─\u001b[0m\u001b[38;5;54m─\u001b[0m\u001b[38;5;54m─\u001b[0m\u001b[38;5;54m─\u001b[0m\u001b[38;5;54m─\u001b[0m\u001b[38;5;54m┬\u001b[0m\u001b[38;5;54m─\u001b[0m\u001b[38;5;54m─\u001b[0m\u001b[38;5;54m─\u001b[0m\u001b[38;5;54m─\u001b[0m\u001b[38;5;54m─\u001b[0m\u001b[38;5;54m─\u001b[0m\u001b[38;5;54m─\u001b[0m\u001b[38;5;54m─\u001b[0m  ",
      " \u001b[38;5;246m  ·\u001b[0m                  \u001b[38;5;54m╰\u001b[0m\u001b[38;5;54m─\u001b[0m\u001b[38;5;54m─\u001b[0m\u001b[38;5;54m─\u001b[0m\u001b[38;5;54m─\u001b[0m\u001b[38;5;54m─\u001b[0m\u001b[38;5;54m─\u001b[0m\u001b[38;5;54m─\u001b[0m\u001b[38;5;54m─\u001b[0m\u001b[38;5;54m─\u001b[0m\u001b[38;5;54m─\u001b[0m cannot assign",
      "\u001b[38;5;246m───╯\u001b[0m"
     ]
    }
   ],
   "source": [
    "let mut some_variable = 1;\n",
    "(1..10000i32)\n",
    "    .into_par_iter()\n",
    "    .filter(|x| {\n",
    "        some_variable += 1;\n",
    "        x % some_variable == 0\n",
    "    })\n",
    "    .sum::<i32>()"
   ]
  },
  {
   "cell_type": "markdown",
   "metadata": {},
   "source": [
    "Details are omitted for now.\n",
    "\n",
    "### Things we learnt\n",
    "* Data race in safe Rust is impossible\n",
    "* Ownership, borrowing and references\n",
    "* Mutex, RwLock\n",
    "\n",
    "### Things we seen\n",
    "* Atomics\n",
    "* Rayon\n",
    "\n",
    "### Things we didn't learn\n",
    "* Channels\n",
    "* Arc\n",
    "* Send and Sync\n"
   ]
  }
 ],
 "metadata": {
  "kernelspec": {
   "display_name": "Rust",
   "language": "rust",
   "name": "rust"
  },
  "language_info": {
   "codemirror_mode": "rust",
   "file_extension": ".rs",
   "mimetype": "text/rust",
   "name": "Rust",
   "pygment_lexer": "rust",
   "version": ""
  }
 },
 "nbformat": 4,
 "nbformat_minor": 2
}
