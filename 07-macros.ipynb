{
 "cells": [
  {
   "cell_type": "markdown",
   "metadata": {},
   "source": [
    "# Macros\n",
    "\n",
    "Macros and preproccessors are very important in C/C++. They are less important in Rust, and have more features, which we will look at them here.\n",
    "\n",
    "You have seen macros before, for example, `println!()` is a macro:"
   ]
  },
  {
   "cell_type": "code",
   "execution_count": 2,
   "metadata": {
    "vscode": {
     "languageId": "rust"
    }
   },
   "outputs": [
    {
     "name": "stdout",
     "output_type": "stream",
     "text": [
      "Hello 4\n"
     ]
    }
   ],
   "source": [
    "println!(\"Hello {}\", 2 + 2);"
   ]
  },
  {
   "cell_type": "markdown",
   "metadata": {},
   "source": [
    "You can print without macro as well, it's just more verbose:"
   ]
  },
  {
   "cell_type": "code",
   "execution_count": 11,
   "metadata": {
    "vscode": {
     "languageId": "rust"
    }
   },
   "outputs": [
    {
     "name": "stdout",
     "output_type": "stream",
     "text": [
      "Hello 4\n"
     ]
    }
   ],
   "source": [
    "use std::io::{self, Write};\n",
    "\n",
    "io::stdout().write_all(b\"Hello \").unwrap();\n",
    "io::stdout().write_all((2 + 2).to_string().as_bytes()).unwrap(); // `println!` is more efficient here\n",
    "io::stdout().write_all(b\"\\n\").unwrap();\n"
   ]
  },
  {
   "cell_type": "markdown",
   "metadata": {},
   "source": [
    "## Macros that are not needed in Rust"
   ]
  },
  {
   "cell_type": "markdown",
   "metadata": {},
   "source": [
    "In C/C++ macros are used for some basic works. For example, organizing code in C/C++ is by `#include` macro, but in Rust we have a modern module system. But if you really need including some code from another file (it can be useful in some rare scenarios, like including a generated code) there is an `include!` macro:"
   ]
  },
  {
   "cell_type": "code",
   "execution_count": 21,
   "metadata": {
    "vscode": {
     "languageId": "rust"
    }
   },
   "outputs": [],
   "source": [
    "std::fs::write(\"/tmp/some_code.rs\", \"2 + 3\").unwrap();"
   ]
  },
  {
   "cell_type": "code",
   "execution_count": 22,
   "metadata": {
    "vscode": {
     "languageId": "rust"
    }
   },
   "outputs": [
    {
     "data": {
      "text/plain": [
       "5"
      ]
     },
     "execution_count": 22,
     "metadata": {},
     "output_type": "execute_result"
    }
   ],
   "source": [
    "include!(\"/tmp/some_code.rs\")"
   ]
  },
  {
   "cell_type": "markdown",
   "metadata": {},
   "source": [
    "We can also include other files as a string literal with `include_str!`, which is more useful, like for including a config. The equivalent in C is `#embed`, which is added in C23."
   ]
  },
  {
   "cell_type": "code",
   "execution_count": 23,
   "metadata": {
    "vscode": {
     "languageId": "rust"
    }
   },
   "outputs": [
    {
     "data": {
      "text/plain": [
       "\"2 + 3\""
      ]
     },
     "execution_count": 23,
     "metadata": {},
     "output_type": "execute_result"
    }
   ],
   "source": [
    "let x: &'static str = include_str!(\"/tmp/some_code.rs\");\n",
    "x"
   ]
  },
  {
   "cell_type": "markdown",
   "metadata": {},
   "source": [
    "Or as a byte array with `include_bytes!`, for non utf8 files, or assets like images:"
   ]
  },
  {
   "cell_type": "code",
   "execution_count": 24,
   "metadata": {
    "vscode": {
     "languageId": "rust"
    }
   },
   "outputs": [
    {
     "data": {
      "text/plain": [
       "[50, 32, 43, 32, 51]"
      ]
     },
     "execution_count": 24,
     "metadata": {},
     "output_type": "execute_result"
    }
   ],
   "source": [
    "let x: &'static [u8; 5] = include_bytes!(\"/tmp/some_code.rs\");\n",
    "x"
   ]
  },
  {
   "cell_type": "markdown",
   "metadata": {},
   "source": [
    "Another type of macros useful in C"
   ]
  }
 ],
 "metadata": {
  "kernelspec": {
   "display_name": "Rust",
   "language": "rust",
   "name": "rust"
  },
  "language_info": {
   "codemirror_mode": "rust",
   "file_extension": ".rs",
   "mimetype": "text/rust",
   "name": "Rust",
   "pygment_lexer": "rust",
   "version": ""
  },
  "orig_nbformat": 4
 },
 "nbformat": 4,
 "nbformat_minor": 2
}
