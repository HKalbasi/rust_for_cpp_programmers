{
 "cells": [
  {
   "cell_type": "markdown",
   "metadata": {},
   "source": [
    "Welcome to the Rust tutorial for C++ programmers.\n",
    "\n",
    "Rust helps you to eliminate all memory safety and data race conditions from your C++ programs, while maintaining it's performance (and even make it faster, by removing defensive programming technics and more optimizations as a result of better static knowledge compiler has about the program) and improving it's readability and quality (by modern language constructs, like pattern matching).\n",
    "\n",
    "This tutorial tries to teach you Rust and convince you that Rust is a great alternative to C++ for your next project.\n",
    "\n",
    "This is useful for you if:\n",
    "* You know a fair bit of C++\n",
    "  * stack and heap\n",
    "  * C pointers\n",
    "  * Smart pointers\n",
    "  * Closures and capture modes\n",
    "  * Race conditions and Mutex\n",
    "* You don't think / afraid that Rust is a complex language. Because we will start from most complex aspects of Rust.\n",
    "* You can learn by reading code. This tutorial has more code than word. The format is such that a topic is raised and then we see some related code about it along with the results. \n",
    "\n",
    "## A taste of Rust syntax\n",
    "\n",
    "Here we have some examples to explain Rust syntax. You can skip this part if you feel confident about guessing meanings of code and jump to the `01-Thread-Safety`\n",
    "\n",
    "## Variables"
   ]
  },
  {
   "cell_type": "code",
   "execution_count": 2,
   "metadata": {},
   "outputs": [
    {
     "data": {
      "text/plain": [
       "7"
      ]
     },
     "execution_count": 2,
     "metadata": {},
     "output_type": "execute_result"
    }
   ],
   "source": [
    "let x = 2; // const auto x = 2;\n",
    "let y: i64 = 5; // const int64_t y = 5;\n",
    "x + y"
   ]
  },
  {
   "cell_type": "code",
   "execution_count": 2,
   "metadata": {},
   "outputs": [
    {
     "ename": "Error",
     "evalue": "cannot assign twice to immutable variable `x`",
     "output_type": "error",
     "traceback": [
      "\u001b[31m[E0384] Error:\u001b[0m cannot assign twice to immutable variable `x`",
      "   \u001b[38;5;246m╭\u001b[0m\u001b[38;5;246m─\u001b[0m\u001b[38;5;246m[\u001b[0mcommand_2:1:1\u001b[38;5;246m]\u001b[0m",
      "   \u001b[38;5;246m│\u001b[0m",
      " \u001b[38;5;246m1 │\u001b[0m \u001b[38;5;249ml\u001b[0m\u001b[38;5;249me\u001b[0m\u001b[38;5;249mt\u001b[0m\u001b[38;5;249m \u001b[0m\u001b[38;5;54mx\u001b[0m\u001b[38;5;249m \u001b[0m\u001b[38;5;249m=\u001b[0m\u001b[38;5;249m \u001b[0m\u001b[38;5;249m2\u001b[0m\u001b[38;5;249m;\u001b[0m",
      " \u001b[38;5;246m  ·\u001b[0m     \u001b[38;5;54m┬\u001b[0m  ",
      " \u001b[38;5;246m  ·\u001b[0m     \u001b[38;5;54m╰\u001b[0m\u001b[38;5;54m─\u001b[0m\u001b[38;5;54m─\u001b[0m first assignment to `x`",
      " \u001b[38;5;246m2 │\u001b[0m \u001b[38;5;100mx\u001b[0m\u001b[38;5;100m \u001b[0m\u001b[38;5;100m+\u001b[0m\u001b[38;5;100m=\u001b[0m\u001b[38;5;100m \u001b[0m\u001b[38;5;100m3\u001b[0m\u001b[38;5;249m;\u001b[0m",
      " \u001b[38;5;246m  ·\u001b[0m \u001b[38;5;100m─\u001b[0m\u001b[38;5;100m─\u001b[0m\u001b[38;5;100m─\u001b[0m\u001b[38;5;100m┬\u001b[0m\u001b[38;5;100m─\u001b[0m\u001b[38;5;100m─\u001b[0m  ",
      " \u001b[38;5;246m  ·\u001b[0m    \u001b[38;5;100m╰\u001b[0m\u001b[38;5;100m─\u001b[0m\u001b[38;5;100m─\u001b[0m\u001b[38;5;100m─\u001b[0m\u001b[38;5;100m─\u001b[0m cannot assign twice to immutable variable",
      "\u001b[38;5;246m───╯\u001b[0m"
     ]
    }
   ],
   "source": [
    "let x = 2;\n",
    "x += 3;\n",
    "x"
   ]
  },
  {
   "cell_type": "code",
   "execution_count": 3,
   "metadata": {},
   "outputs": [
    {
     "data": {
      "text/plain": [
       "5"
      ]
     },
     "execution_count": 3,
     "metadata": {},
     "output_type": "execute_result"
    }
   ],
   "source": [
    "let mut x = 2; // auto x = 2;\n",
    "x += 3;\n",
    "x"
   ]
  },
  {
   "cell_type": "markdown",
   "metadata": {},
   "source": [
    "## Control flow"
   ]
  },
  {
   "cell_type": "code",
   "execution_count": 4,
   "metadata": {},
   "outputs": [
    {
     "name": "stdout",
     "output_type": "stream",
     "text": [
      "x < y\n",
      "after if\n"
     ]
    }
   ],
   "source": [
    "if x < y { // no parenthesis needed, but blocks are mandatory even for single line\n",
    "    println!(\"x < y\");\n",
    "} else {\n",
    "    println!(\"y < x\");\n",
    "}\n",
    "println!(\"after if\");"
   ]
  },
  {
   "cell_type": "code",
   "execution_count": 10,
   "metadata": {},
   "outputs": [
    {
     "name": "stdout",
     "output_type": "stream",
     "text": [
      "1 * 1 = 1\n",
      "2 * 2 = 4\n",
      "3 * 3 = 9\n",
      "4 * 4 = 16\n",
      "5 * 5 = 25\n"
     ]
    },
    {
     "data": {
      "text/plain": [
       "5"
      ]
     },
     "execution_count": 10,
     "metadata": {},
     "output_type": "execute_result"
    }
   ],
   "source": [
    "let mut i = 0;\n",
    "while i < 5 { // exactly equal to C while\n",
    "    i += 1;\n",
    "    println!(\"{} * {} = {}\", i, i, i * i);\n",
    "}\n",
    "i"
   ]
  },
  {
   "cell_type": "code",
   "execution_count": 16,
   "metadata": {},
   "outputs": [
    {
     "name": "stdout",
     "output_type": "stream",
     "text": [
      "i is foo\n",
      "i is bar\n",
      "i is baz\n",
      "1 * 1 = 1\n",
      "2 * 2 = 4\n",
      "3 * 3 = 9\n",
      "4 * 4 = 16\n",
      "5 * 5 = 25\n"
     ]
    },
    {
     "data": {
      "text/plain": [
       "[4, 5, 6, 7, 8, 9]"
      ]
     },
     "execution_count": 16,
     "metadata": {},
     "output_type": "execute_result"
    }
   ],
   "source": [
    "for i in vec![\"foo\", \"bar\", \"baz\"] { // for (const auto i: std::vector({1, 2, 3}))\n",
    "    println!(\"i is {i}\"); // single identifiers can be included inside {} in println! and friends\n",
    "}\n",
    "for i in 1..=5 { // Rust has builtin range types\n",
    "    println!(\"{} * {} = {}\", i, i, i * i);\n",
    "}\n",
    "// ranges are useful even outside of for loops\n",
    "// 1..10 is similar to 1..=9\n",
    "let vec: Vec<i32> = (1..10).collect();\n",
    "// operator [] is overloaded for ranges, and 3.. is an open ended range.\n",
    "&vec[3..]"
   ]
  },
  {
   "cell_type": "markdown",
   "metadata": {},
   "source": [
    "## Scoping\n",
    "\n",
    "Scoping and shadowing is similar to C:"
   ]
  },
  {
   "cell_type": "code",
   "execution_count": 17,
   "metadata": {},
   "outputs": [
    {
     "name": "stdout",
     "output_type": "stream",
     "text": [
      "hello\n",
      "1\n"
     ]
    }
   ],
   "source": [
    "let x = 1;\n",
    "{\n",
    "    let x = \"hello\";\n",
    "    println!(\"{x}\");\n",
    "}\n",
    "println!(\"{x}\");"
   ]
  },
  {
   "cell_type": "markdown",
   "metadata": {},
   "source": [
    "In Rust, blocks are expressions:"
   ]
  },
  {
   "cell_type": "code",
   "execution_count": 19,
   "metadata": {},
   "outputs": [
    {
     "data": {
      "text/plain": [
       "13"
      ]
     },
     "execution_count": 19,
     "metadata": {},
     "output_type": "execute_result"
    }
   ],
   "source": [
    "let x = {\n",
    "    let a = 2;\n",
    "    let b = 5;\n",
    "    a * b // note: there is no ; here!\n",
    "};\n",
    "x + 3"
   ]
  },
  {
   "cell_type": "markdown",
   "metadata": {},
   "source": [
    "And so ifs:"
   ]
  },
  {
   "cell_type": "code",
   "execution_count": 21,
   "metadata": {},
   "outputs": [
    {
     "data": {
      "text/plain": [
       "5"
      ]
     },
     "execution_count": 21,
     "metadata": {},
     "output_type": "execute_result"
    }
   ],
   "source": [
    "let x = 5;\n",
    "let y = 3;\n",
    "let max = if x > y { x } else { y };\n",
    "max"
   ]
  },
  {
   "cell_type": "markdown",
   "metadata": {},
   "source": [
    "## Functions\n",
    "\n",
    "Last expression of a function will be returned, similar to block expressions:"
   ]
  },
  {
   "cell_type": "code",
   "execution_count": 25,
   "metadata": {},
   "outputs": [
    {
     "data": {
      "text/plain": [
       "4.992003605767929"
      ]
     },
     "execution_count": 25,
     "metadata": {},
     "output_type": "execute_result"
    }
   ],
   "source": [
    "fn euclid_diff(x1: f64, y1: f64, x2: f64, y2: f64) -> f64 {\n",
    "    let x_diff = x1 - x2;\n",
    "    let y_diff = y1 - y2;\n",
    "    (x_diff * x_diff + y_diff * y_diff).sqrt()\n",
    "}\n",
    "\n",
    "euclid_diff(0., 0., 3., 3.99)"
   ]
  },
  {
   "cell_type": "markdown",
   "metadata": {},
   "source": [
    "But return is also available:"
   ]
  },
  {
   "cell_type": "code",
   "execution_count": 26,
   "metadata": {},
   "outputs": [
    {
     "data": {
      "text/plain": [
       "-5"
      ]
     },
     "execution_count": 26,
     "metadata": {},
     "output_type": "execute_result"
    }
   ],
   "source": [
    "fn foo(x: i32) -> i32 {\n",
    "    if x == 0 {\n",
    "        return -5;\n",
    "    }\n",
    "    let y = x + 2;\n",
    "    y * x\n",
    "}\n",
    "\n",
    "foo(0)"
   ]
  },
  {
   "cell_type": "markdown",
   "metadata": {},
   "source": [
    "Functions without `-> return_type` are void (`()` in Rust):"
   ]
  },
  {
   "cell_type": "code",
   "execution_count": 4,
   "metadata": {},
   "outputs": [
    {
     "name": "stdout",
     "output_type": "stream",
     "text": [
      "14\n"
     ]
    }
   ],
   "source": [
    "fn foo(x: i32) {\n",
    "    if x == 0 {\n",
    "        return;\n",
    "    }\n",
    "    let y = x + 2;\n",
    "    println!(\"{y}\");\n",
    "}\n",
    "\n",
    "foo(12);"
   ]
  },
  {
   "cell_type": "markdown",
   "metadata": {},
   "source": [
    "Adding a semicolon at the end of expression, make it `()`:"
   ]
  },
  {
   "cell_type": "code",
   "execution_count": 2,
   "metadata": {},
   "outputs": [
    {
     "ename": "Error",
     "evalue": "mismatched types",
     "output_type": "error",
     "traceback": [
      "\u001b[31m[E0308] Error:\u001b[0m mismatched types",
      "   \u001b[38;5;246m╭\u001b[0m\u001b[38;5;246m─\u001b[0m\u001b[38;5;246m[\u001b[0mcommand_2:1:1\u001b[38;5;246m]\u001b[0m",
      "   \u001b[38;5;246m│\u001b[0m",
      " \u001b[38;5;246m1 │\u001b[0m \u001b[38;5;249mf\u001b[0m\u001b[38;5;249mn\u001b[0m\u001b[38;5;249m \u001b[0m\u001b[38;5;100mf\u001b[0m\u001b[38;5;100mo\u001b[0m\u001b[38;5;100mo\u001b[0m\u001b[38;5;249m(\u001b[0m\u001b[38;5;249mx\u001b[0m\u001b[38;5;249m:\u001b[0m\u001b[38;5;249m \u001b[0m\u001b[38;5;249mi\u001b[0m\u001b[38;5;249m3\u001b[0m\u001b[38;5;249m2\u001b[0m\u001b[38;5;249m)\u001b[0m\u001b[38;5;249m \u001b[0m\u001b[38;5;249m-\u001b[0m\u001b[38;5;249m>\u001b[0m\u001b[38;5;249m \u001b[0m\u001b[38;5;54mi\u001b[0m\u001b[38;5;54m3\u001b[0m\u001b[38;5;54m2\u001b[0m\u001b[38;5;249m \u001b[0m\u001b[38;5;249m{\u001b[0m",
      " \u001b[38;5;246m  ·\u001b[0m    \u001b[38;5;100m─\u001b[0m\u001b[38;5;100m┬\u001b[0m\u001b[38;5;100m─\u001b[0m            \u001b[38;5;54m─\u001b[0m\u001b[38;5;54m┬\u001b[0m\u001b[38;5;54m─\u001b[0m  ",
      " \u001b[38;5;246m  ·\u001b[0m     \u001b[38;5;100m╰\u001b[0m\u001b[38;5;100m─\u001b[0m\u001b[38;5;100m─\u001b[0m\u001b[38;5;100m─\u001b[0m\u001b[38;5;100m─\u001b[0m\u001b[38;5;100m─\u001b[0m\u001b[38;5;100m─\u001b[0m\u001b[38;5;100m─\u001b[0m\u001b[38;5;100m─\u001b[0m\u001b[38;5;100m─\u001b[0m\u001b[38;5;100m─\u001b[0m\u001b[38;5;100m─\u001b[0m\u001b[38;5;100m─\u001b[0m\u001b[38;5;100m─\u001b[0m\u001b[38;5;100m─\u001b[0m\u001b[38;5;100m─\u001b[0m\u001b[38;5;100m─\u001b[0m\u001b[38;5;100m─\u001b[0m\u001b[38;5;100m─\u001b[0m implicitly returns `()` as its body has no tail or `return` expression",
      " \u001b[38;5;246m  ·\u001b[0m                    \u001b[38;5;54m│\u001b[0m   ",
      " \u001b[38;5;246m  ·\u001b[0m                    \u001b[38;5;54m╰\u001b[0m\u001b[38;5;54m─\u001b[0m\u001b[38;5;54m─\u001b[0m\u001b[38;5;54m─\u001b[0m expected `i32`, found `()`",
      " \u001b[38;5;246m  ·\u001b[0m ",
      " \u001b[38;5;246m6 │\u001b[0m \u001b[38;5;249m \u001b[0m\u001b[38;5;249m \u001b[0m\u001b[38;5;249m \u001b[0m\u001b[38;5;249m \u001b[0m\u001b[38;5;249my\u001b[0m\u001b[38;5;249m \u001b[0m\u001b[38;5;249m*\u001b[0m\u001b[38;5;249m \u001b[0m\u001b[38;5;249mx\u001b[0m\u001b[38;5;68m;\u001b[0m",
      " \u001b[38;5;246m  ·\u001b[0m          \u001b[38;5;68m┬\u001b[0m  ",
      " \u001b[38;5;246m  ·\u001b[0m          \u001b[38;5;68m╰\u001b[0m\u001b[38;5;68m─\u001b[0m\u001b[38;5;68m─\u001b[0m help: remove this semicolon",
      "\u001b[38;5;246m───╯\u001b[0m"
     ]
    }
   ],
   "source": [
    "fn foo(x: i32) -> i32 {\n",
    "    if x == 0 {\n",
    "        return -5;\n",
    "    }\n",
    "    let y = x + 2;\n",
    "    y * x;\n",
    "}"
   ]
  },
  {
   "cell_type": "markdown",
   "metadata": {},
   "source": [
    "## Primitives\n",
    "\n",
    "Numeric primitives:"
   ]
  },
  {
   "cell_type": "code",
   "execution_count": 9,
   "metadata": {},
   "outputs": [
    {
     "name": "stdout",
     "output_type": "stream",
     "text": [
      "2 3000 -100000000000 12 1000 1.2 3.141592653589793\n"
     ]
    }
   ],
   "source": [
    "let a: u8 = 2; // uint8_t\n",
    "let b: u16 = 0x22; // uint16_t, hex\n",
    "let c: i64 = -100_000_000_000;\n",
    "let d = 12_u64;\n",
    "let e = 1000; // default is i32\n",
    "let f: f32 = 1.2; // 32 bit ieee floating point, float in C\n",
    "let g: f64 = std::f64::consts::PI; // 64 bit ieee floating point, double in C\n",
    "println!(\"{a} {b} {c} {d} {e} {f} {g}\");"
   ]
  },
  {
   "cell_type": "markdown",
   "metadata": {},
   "source": [
    "Rust is pedantic on numeric casts, and disallows numeric operations on different types:"
   ]
  },
  {
   "cell_type": "code",
   "execution_count": 10,
   "metadata": {},
   "outputs": [
    {
     "ename": "Error",
     "evalue": "mismatched types",
     "output_type": "error",
     "traceback": [
      "\u001b[31m[E0308] Error:\u001b[0m mismatched types",
      "   \u001b[38;5;246m╭\u001b[0m\u001b[38;5;246m─\u001b[0m\u001b[38;5;246m[\u001b[0mcommand_10:1:1\u001b[38;5;246m]\u001b[0m",
      "   \u001b[38;5;246m│\u001b[0m",
      " \u001b[38;5;246m3 │\u001b[0m \u001b[38;5;249ma\u001b[0m\u001b[38;5;249m \u001b[0m\u001b[38;5;249m+\u001b[0m\u001b[38;5;249m \u001b[0m\u001b[38;5;54mb\u001b[0m",
      " \u001b[38;5;246m  ·\u001b[0m     \u001b[38;5;54m┬\u001b[0m  ",
      " \u001b[38;5;246m  ·\u001b[0m     \u001b[38;5;54m╰\u001b[0m\u001b[38;5;54m─\u001b[0m\u001b[38;5;54m─\u001b[0m expected `u8`, found `i16`",
      "\u001b[38;5;246m───╯\u001b[0m"
     ]
    },
    {
     "ename": "Error",
     "evalue": "cannot add `i16` to `u8`",
     "output_type": "error",
     "traceback": [
      "\u001b[31m[E0277] Error:\u001b[0m cannot add `i16` to `u8`",
      "   \u001b[38;5;246m╭\u001b[0m\u001b[38;5;246m─\u001b[0m\u001b[38;5;246m[\u001b[0mcommand_10:1:1\u001b[38;5;246m]\u001b[0m",
      "   \u001b[38;5;246m│\u001b[0m",
      " \u001b[38;5;246m3 │\u001b[0m \u001b[38;5;249ma\u001b[0m\u001b[38;5;249m \u001b[0m\u001b[38;5;54m+\u001b[0m\u001b[38;5;249m \u001b[0m\u001b[38;5;249mb\u001b[0m",
      " \u001b[38;5;246m  ·\u001b[0m   \u001b[38;5;54m┬\u001b[0m  ",
      " \u001b[38;5;246m  ·\u001b[0m   \u001b[38;5;54m╰\u001b[0m\u001b[38;5;54m─\u001b[0m\u001b[38;5;54m─\u001b[0m no implementation for `u8 + i16`",
      "\u001b[38;5;246m───╯\u001b[0m"
     ]
    }
   ],
   "source": [
    "let a: u8 = 5;\n",
    "let b: i16 = 8;\n",
    "a + b"
   ]
  },
  {
   "cell_type": "markdown",
   "metadata": {},
   "source": [
    "You need to manually cast:"
   ]
  },
  {
   "cell_type": "code",
   "execution_count": 14,
   "metadata": {},
   "outputs": [
    {
     "data": {
      "text/plain": [
       "23"
      ]
     },
     "execution_count": 14,
     "metadata": {},
     "output_type": "execute_result"
    }
   ],
   "source": [
    "let a: u8 = 5;\n",
    "let b: i16 = 8;\n",
    "let c = 10; // will be an i16 automatically\n",
    "i16::from(a) + b + c"
   ]
  },
  {
   "cell_type": "markdown",
   "metadata": {},
   "source": [
    "String and characters:"
   ]
  },
  {
   "cell_type": "code",
   "execution_count": 17,
   "metadata": {},
   "outputs": [
    {
     "name": "stdout",
     "output_type": "stream",
     "text": [
      "a a 🦀\n"
     ]
    }
   ],
   "source": [
    "// char is a 4 byte value (unlike 1 byte in C) which represents a valid unicode character\n",
    "let x: char = 'a';\n",
    "let y = char::from(97);\n",
    "let z: char = '\\u{1F980}';\n",
    "println!(\"{x} {y} {z}\");"
   ]
  },
  {
   "cell_type": "markdown",
   "metadata": {},
   "source": [
    "String literals are utf-8 encoded list of characters, stored in the program's binary. You can have a pointer to them (like C):"
   ]
  },
  {
   "cell_type": "code",
   "execution_count": 19,
   "metadata": {},
   "outputs": [
    {
     "name": "stdout",
     "output_type": "stream",
     "text": [
      "12\n",
      "6\n",
      "3\n"
     ]
    }
   ],
   "source": [
    "let hello_world: &str = \"Hello world!\";\n",
    "let xy_crab = \"xy🦀\";\n",
    "println!(\"{}\", hello_world.len());\n",
    "println!(\"{}\", xy_crab.len()); // 2 bytes for x and y, and 4 byte for the crab\n",
    "println!(\"{}\", xy_crab.chars().count());\n"
   ]
  },
  {
   "cell_type": "markdown",
   "metadata": {},
   "source": [
    "## Data types\n",
    "\n",
    "Rust supports C like structs:"
   ]
  },
  {
   "cell_type": "code",
   "execution_count": 22,
   "metadata": {},
   "outputs": [
    {
     "name": "stdout",
     "output_type": "stream",
     "text": [
      "2.3, 5.7\n"
     ]
    }
   ],
   "source": [
    "struct Point {\n",
    "    x: f64,\n",
    "    y: f64,\n",
    "}\n",
    "\n",
    "let p1 = Point { x: 2.3, y: 5.7 };\n",
    "let p2: Point = p1;\n",
    "println!(\"{}, {}\", p2.x, p2.y);"
   ]
  },
  {
   "cell_type": "markdown",
   "metadata": {},
   "source": [
    "Rust also supports tuple struct, which is not available in c/C++:"
   ]
  },
  {
   "cell_type": "code",
   "execution_count": 24,
   "metadata": {},
   "outputs": [
    {
     "name": "stdout",
     "output_type": "stream",
     "text": [
      "1, 1000.55\n"
     ]
    }
   ],
   "source": [
    "struct TuplePoint(f64, f64);\n",
    "\n",
    "let p = TuplePoint(1.0, 1000.55);\n",
    "println!(\"{}, {}\", p.0, p.1);"
   ]
  },
  {
   "cell_type": "markdown",
   "metadata": {},
   "source": [
    "Rust also has unnamed tuples, which plays rule of `pair` or `tuple` in C++:"
   ]
  },
  {
   "cell_type": "code",
   "execution_count": 26,
   "metadata": {},
   "outputs": [
    {
     "data": {
      "text/plain": [
       "('x', \"hello\", 12)"
      ]
     },
     "execution_count": 26,
     "metadata": {},
     "output_type": "execute_result"
    }
   ],
   "source": [
    "let tuple: (u8, &str, char) = (12, \"hello\", 'x');\n",
    "let tuple2 = (tuple.2, tuple.1, tuple.0);\n",
    "tuple2"
   ]
  },
  {
   "cell_type": "markdown",
   "metadata": {},
   "source": [
    "Rust also has arrays:"
   ]
  },
  {
   "cell_type": "code",
   "execution_count": 29,
   "metadata": {},
   "outputs": [
    {
     "data": {
      "text/plain": [
       "[1, 10, 5]"
      ]
     },
     "execution_count": 29,
     "metadata": {},
     "output_type": "execute_result"
    }
   ],
   "source": [
    "let mut x: [u8; 3] = [1, 2, 5];\n",
    "let y = [10, 20];\n",
    "x[1] = y[0];\n",
    "x"
   ]
  },
  {
   "cell_type": "markdown",
   "metadata": {},
   "source": [
    "## Closure\n",
    "\n",
    "Rust support closures (functions that can capture environment) like C++. By default, it captures everything by reference (similar to `[&]` in C++):"
   ]
  },
  {
   "cell_type": "code",
   "execution_count": 32,
   "metadata": {},
   "outputs": [
    {
     "name": "stdout",
     "output_type": "stream",
     "text": [
      "6\n",
      "7\n",
      "8\n",
      "9\n",
      "9\n"
     ]
    }
   ],
   "source": [
    "{ // blocks are due jupyter (evcxr) limitations\n",
    "    let mut x = 5;\n",
    "    let mut counter = || {\n",
    "        x += 1;\n",
    "        x\n",
    "    };\n",
    "    println!(\"{}\", counter());\n",
    "    println!(\"{}\", counter());\n",
    "    println!(\"{}\", counter());\n",
    "    println!(\"{}\", counter());\n",
    "    println!(\"{}\", x);\n",
    "};"
   ]
  },
  {
   "cell_type": "markdown",
   "metadata": {},
   "source": [
    "But `move` closures will capture everything by value. Since `=` operator means move in Rust, this mode is roughly similar to `[=]` in C++."
   ]
  },
  {
   "cell_type": "code",
   "execution_count": 33,
   "metadata": {},
   "outputs": [
    {
     "name": "stdout",
     "output_type": "stream",
     "text": [
      "6\n",
      "7\n",
      "8\n",
      "9\n",
      "5\n"
     ]
    }
   ],
   "source": [
    "{ // blocks are due jupyter (evcxr) limitations\n",
    "    let mut x = 5;\n",
    "    let mut counter = move || {\n",
    "        x += 1;\n",
    "        x\n",
    "    };\n",
    "    println!(\"{}\", counter());\n",
    "    println!(\"{}\", counter());\n",
    "    println!(\"{}\", counter());\n",
    "    println!(\"{}\", counter());\n",
    "    println!(\"{}\", x); // different!!!\n",
    "};"
   ]
  },
  {
   "cell_type": "markdown",
   "metadata": {},
   "source": [
    "Rust doesn't have syntax for declaring specific capture policy for each variable, but we can do it via move closures:"
   ]
  },
  {
   "cell_type": "code",
   "execution_count": 37,
   "metadata": {},
   "outputs": [
    {
     "name": "stdout",
     "output_type": "stream",
     "text": [
      "7 5\n"
     ]
    }
   ],
   "source": [
    "{\n",
    "    let mut x = 5;\n",
    "    let mut y = 5;\n",
    "    // capture x by reference, y by value\n",
    "    let mut closure = {\n",
    "        let x = &mut x; // move reference of x into closure, so capture x by reference\n",
    "        move || {\n",
    "            *x += 1;\n",
    "            y += 1;\n",
    "        }\n",
    "    };\n",
    "    closure();\n",
    "    closure();\n",
    "    println!(\"{x} {y}\");\n",
    "};"
   ]
  },
  {
   "cell_type": "markdown",
   "metadata": {},
   "source": [
    "## Namespaces and project structure\n",
    "\n",
    "Rust has a thing similar to namespace in C++, called module:"
   ]
  },
  {
   "cell_type": "code",
   "execution_count": 42,
   "metadata": {},
   "outputs": [
    {
     "data": {
      "text/plain": [
       "5"
      ]
     },
     "execution_count": 42,
     "metadata": {},
     "output_type": "execute_result"
    }
   ],
   "source": [
    "mod foo {\n",
    "    pub fn foo_member() -> i32 {\n",
    "        5\n",
    "    }\n",
    "}\n",
    "\n",
    "foo::foo_member()"
   ]
  },
  {
   "cell_type": "markdown",
   "metadata": {},
   "source": [
    "We can use `use` to bring items inside the current scope: "
   ]
  },
  {
   "cell_type": "code",
   "execution_count": 45,
   "metadata": {},
   "outputs": [
    {
     "data": {
      "text/plain": [
       "11"
      ]
     },
     "execution_count": 45,
     "metadata": {},
     "output_type": "execute_result"
    }
   ],
   "source": [
    "mod a {\n",
    "    pub fn a_member1(x: i32) -> i32 {\n",
    "        x + 2\n",
    "    }\n",
    "    pub fn a_member2(x: i32) -> i32 {\n",
    "        x + 5\n",
    "    }\n",
    "}\n",
    "\n",
    "mod b {\n",
    "    // super is a special keyword, similar to ../ in a file system\n",
    "    use super::a::{a_member1, a_member2};\n",
    "\n",
    "    pub fn b_member(x: i32) -> i32 {\n",
    "        a_member1(a_member2(x))\n",
    "    }\n",
    "}\n",
    "\n",
    "fn foo(x: i32) -> i32 {\n",
    "    use b::b_member; // use works inside a function\n",
    "    use a::*; // anything from a\n",
    "    a_member1(b_member(x) - 3)\n",
    "}\n",
    "\n",
    "foo(5)"
   ]
  },
  {
   "cell_type": "markdown",
   "metadata": {},
   "source": [
    "Rust doesn't have concept of header files, and it doesn't use macros (`#include` and friends) for organizing project in multiple files. A compilation unit in Rust is a `crate`, and crates can depend on each other. Compilation flow is similar to C/C++, compiler will compile each crate separately, and then will link the result with a traditional linker.\n",
    "\n",
    "Let's start with the standard library, `std`, which compiler will add as a dependency to each crate, unless it explicitly opt out with `#![no_std]`. Each dependency is available by it's name, so we can use it and it's submodules: "
   ]
  },
  {
   "cell_type": "code",
   "execution_count": 5,
   "metadata": {},
   "outputs": [
    {
     "data": {
      "text/plain": [
       "Ok(\"HTTP/1.1 200 OK\\r\\nDate: Wed, 24 Aug 2022 17:39:51 GMT\\r\\nExpires: -1\\r\\nCache-Control: private, max-age=0\\r\\nContent-Type: text/html; charset=ISO-8859-1\\r\\nP3P: CP=\\\"This is not a P3P policy! See g.co/p3phelp for more info.\\\"\\r\\nServer: gws\\r\\nX-XSS-Protection: 0\\r\\nX-Frame-Options: SAMEORIGIN\\r\\nSet-Cookie: 1P_JAR=2022-08-24-17; expires=Fri, 23-Sep-2022 17:39:51 GMT; path=/; domain=.google.com; Secure\\r\\nSet-Cookie: AEC=AakniGPpyKYdnZXB8IWkCmqNu5L1LjmDvhjRBag4OrGAxa_fipPpbse1uo8; expires=Mon, 20-Feb-2023 17:39:51 GMT; path=/; domain=.google.com; Secure; HttpOnly; SameSite=lax\\r\\nSet-Cookie: NID=511=tEMZKlL2Z0xGWtQDMahbpb1QsWzcly-aSazHYhWgh2snF57QW7pRHNkV2a2EOXhuwjqCjnh2P5tJgUS4D7pXJjJpOZX_c8kLuZpC9tJG9jgcF9eaAp2_oJDZBL5H7cW8TOxELT9I9C6p6dPTRmH7BRahIEg8G84dZzdc4Kq_4s4; expires=Thu, 23-Feb-2023 17:39:51 GMT; path=/; domain=.google.com; HttpOnly\\r\\nAccept-Ranges: none\\r\\nVary: Accept-Encoding\\r\\nTransfer-Encoding: chunked\\r\\n\\r\\n572a\\r\\n<!doctype html><html itemscope=\\\"\\\" itemtype=\\\"http://schema.org/WebPage\\\" lang=\\\"en-IR\\\"><head><meta content=\\\"Searc\")"
      ]
     },
     "execution_count": 5,
     "metadata": {},
     "output_type": "execute_result"
    }
   ],
   "source": [
    "// using with use\n",
    "use std::io::prelude::*;\n",
    "use std::str::from_utf8;\n",
    "\n",
    "// or even directly without use\n",
    "let mut connection = std::net::TcpStream::connect(\"www.google.com:80\").unwrap();\n",
    "let mut read_buffer = [0; 1024];\n",
    "connection.write(\"GET / HTTP/1.1\\r\\n\\r\\n\".as_bytes()).unwrap();\n",
    "connection.read(&mut read_buffer).unwrap();\n",
    "from_utf8(&read_buffer)"
   ]
  },
  {
   "cell_type": "markdown",
   "metadata": {},
   "source": [
    "Standard library provides foundations, but it doesn't have everything for every use case, so we need third party libraries. Rust has a package registry, called `crates.io`, which works with the Rust's package management system, `cargo` and provides an experience similar to `pip` and `npm` and similar.\n",
    "\n",
    "Normally we would add package name and version to the `Cargo.toml` file. Here in jupyter, we can use `:dep`. Let's add a dependency for fetching http requests:"
   ]
  },
  {
   "cell_type": "code",
   "execution_count": null,
   "metadata": {},
   "outputs": [],
   "source": []
  }
 ],
 "metadata": {
  "kernelspec": {
   "display_name": "Rust",
   "language": "rust",
   "name": "rust"
  },
  "language_info": {
   "codemirror_mode": "rust",
   "file_extension": ".rs",
   "mimetype": "text/rust",
   "name": "rust",
   "pygment_lexer": "rust",
   "version": ""
  },
  "orig_nbformat": 4
 },
 "nbformat": 4,
 "nbformat_minor": 2
}
