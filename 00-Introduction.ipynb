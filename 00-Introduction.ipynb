{
 "cells": [
  {
   "cell_type": "markdown",
   "metadata": {},
   "source": [
    "Welcome to the Rust tutorial for c++ programmers.\n",
    "\n",
    "Rust helps you to eliminate all memory safety and data race conditions from your c++ programs, while maintaining it's performance (and even make it faster, by removing defensive programming technics and more optimizations as a result of better static knowledge compiler has about the program) and improving it's readability and quality (by modern language constructs, like pattern matching).\n",
    "\n",
    "This tutorial tries to teach you Rust and convince you that Rust is a great alternative to c++ for your next project.\n",
    "\n",
    "This is useful for you if:\n",
    "* You know a fair bit of c++\n",
    "  * stack and heap\n",
    "  * C pointers\n",
    "  * Smart pointers\n",
    "  * Closures and capture modes\n",
    "  * Race conditions and Mutex\n",
    "* You don't think / afraid that Rust is a complex language. Because we will start from most complex aspects of Rust.\n",
    "* You can learn by reading code. This tutorial has more code than word. The format is such that a topic is raised and then we see some related code about it along with the results. \n",
    "\n",
    "## A taste of Rust syntax\n",
    "\n",
    "Here we have some examples to explain Rust syntax. You can skip this part if you feel confident about guessing meanings of code and jump to the `01-Thread-Safety`\n",
    "\n",
    "## Variables"
   ]
  },
  {
   "cell_type": "code",
   "execution_count": 2,
   "metadata": {
    "vscode": {
     "languageId": "rust"
    }
   },
   "outputs": [
    {
     "data": {
      "text/plain": [
       "7"
      ]
     },
     "execution_count": 2,
     "metadata": {},
     "output_type": "execute_result"
    }
   ],
   "source": [
    "let x = 2; // const auto x = 2;\n",
    "let y: i64 = 5; // const int64_t y = 5;\n",
    "x + y"
   ]
  },
  {
   "cell_type": "code",
   "execution_count": 5,
   "metadata": {
    "vscode": {
     "languageId": "rust"
    }
   },
   "outputs": [
    {
     "ename": "Error",
     "evalue": "cannot assign twice to immutable variable `x`",
     "output_type": "error",
     "traceback": [
      "let x = 2;",
      "    ^ first assignment to `x`",
      "x += 3;",
      "^^^^^^ cannot assign twice to immutable variable",
      "cannot assign twice to immutable variable `x`",
      "help: consider making this binding mutable\n\nmut x"
     ]
    }
   ],
   "source": [
    "let x = 2;\n",
    "x += 3;\n",
    "x"
   ]
  },
  {
   "cell_type": "code",
   "execution_count": 6,
   "metadata": {
    "vscode": {
     "languageId": "rust"
    }
   },
   "outputs": [
    {
     "data": {
      "text/plain": [
       "5"
      ]
     },
     "execution_count": 6,
     "metadata": {},
     "output_type": "execute_result"
    }
   ],
   "source": [
    "let mut x = 2; // auto x = 2;\n",
    "x += 3;\n",
    "x"
   ]
  },
  {
   "cell_type": "markdown",
   "metadata": {},
   "source": [
    "## Control flow"
   ]
  },
  {
   "cell_type": "code",
   "execution_count": 4,
   "metadata": {
    "vscode": {
     "languageId": "rust"
    }
   },
   "outputs": [
    {
     "name": "stdout",
     "output_type": "stream",
     "text": [
      "x < y\n",
      "after if\n"
     ]
    }
   ],
   "source": [
    "if x < y { // no parenthesis needed, but blocks are mandatory even for single line\n",
    "    println!(\"x < y\");\n",
    "} else {\n",
    "    println!(\"y < x\");\n",
    "}\n",
    "println!(\"after if\");"
   ]
  },
  {
   "cell_type": "code",
   "execution_count": 10,
   "metadata": {
    "vscode": {
     "languageId": "rust"
    }
   },
   "outputs": [
    {
     "name": "stdout",
     "output_type": "stream",
     "text": [
      "1 * 1 = 1\n",
      "2 * 2 = 4\n",
      "3 * 3 = 9\n",
      "4 * 4 = 16\n",
      "5 * 5 = 25\n"
     ]
    },
    {
     "data": {
      "text/plain": [
       "5"
      ]
     },
     "execution_count": 10,
     "metadata": {},
     "output_type": "execute_result"
    }
   ],
   "source": [
    "let mut i = 0;\n",
    "while i < 5 { // exactly equal to C while\n",
    "    i += 1;\n",
    "    println!(\"{} * {} = {}\", i, i, i * i);\n",
    "}\n",
    "i"
   ]
  },
  {
   "cell_type": "code",
   "execution_count": 16,
   "metadata": {
    "vscode": {
     "languageId": "rust"
    }
   },
   "outputs": [
    {
     "name": "stdout",
     "output_type": "stream",
     "text": [
      "i is foo\n",
      "i is bar\n",
      "i is baz\n",
      "1 * 1 = 1\n",
      "2 * 2 = 4\n",
      "3 * 3 = 9\n",
      "4 * 4 = 16\n",
      "5 * 5 = 25\n"
     ]
    },
    {
     "data": {
      "text/plain": [
       "[4, 5, 6, 7, 8, 9]"
      ]
     },
     "execution_count": 16,
     "metadata": {},
     "output_type": "execute_result"
    }
   ],
   "source": [
    "for i in vec![\"foo\", \"bar\", \"baz\"] { // for (const auto i: std::vector({1, 2, 3}))\n",
    "    println!(\"i is {i}\"); // single identifiers can be included inside {} in println! and friends\n",
    "}\n",
    "for i in 1..=5 { // Rust has builtin range types\n",
    "    println!(\"{} * {} = {}\", i, i, i * i);\n",
    "}\n",
    "// ranges are useful even outside of for loops\n",
    "// 1..10 is similar to 1..=9\n",
    "let vec: Vec<i32> = (1..10).collect();\n",
    "// operator [] is overloaded for ranges, and 3.. is an open ended range.\n",
    "&vec[3..]"
   ]
  },
  {
   "cell_type": "markdown",
   "metadata": {},
   "source": [
    "## Scoping\n",
    "\n",
    "Scoping and shadowing is similar to C:"
   ]
  },
  {
   "cell_type": "code",
   "execution_count": 17,
   "metadata": {
    "vscode": {
     "languageId": "rust"
    }
   },
   "outputs": [
    {
     "name": "stdout",
     "output_type": "stream",
     "text": [
      "hello\n",
      "1\n"
     ]
    }
   ],
   "source": [
    "let x = 1;\n",
    "{\n",
    "    let x = \"hello\";\n",
    "    println!(\"{x}\");\n",
    "}\n",
    "println!(\"{x}\");"
   ]
  },
  {
   "cell_type": "markdown",
   "metadata": {},
   "source": [
    "In Rust, blocks are expressions:"
   ]
  },
  {
   "cell_type": "code",
   "execution_count": 19,
   "metadata": {
    "vscode": {
     "languageId": "rust"
    }
   },
   "outputs": [
    {
     "data": {
      "text/plain": [
       "13"
      ]
     },
     "execution_count": 19,
     "metadata": {},
     "output_type": "execute_result"
    }
   ],
   "source": [
    "let x = {\n",
    "    let a = 2;\n",
    "    let b = 5;\n",
    "    a * b // note: there is no ; here!\n",
    "};\n",
    "x + 3"
   ]
  },
  {
   "cell_type": "markdown",
   "metadata": {},
   "source": [
    "And so ifs:"
   ]
  },
  {
   "cell_type": "code",
   "execution_count": 21,
   "metadata": {
    "vscode": {
     "languageId": "rust"
    }
   },
   "outputs": [
    {
     "data": {
      "text/plain": [
       "5"
      ]
     },
     "execution_count": 21,
     "metadata": {},
     "output_type": "execute_result"
    }
   ],
   "source": [
    "let x = 5;\n",
    "let y = 3;\n",
    "let max = if x > y { x } else { y };\n",
    "max"
   ]
  },
  {
   "cell_type": "markdown",
   "metadata": {},
   "source": [
    "## Functions\n",
    "\n",
    "Last expression of a function will be returned, similar to block expressions:"
   ]
  },
  {
   "cell_type": "code",
   "execution_count": 25,
   "metadata": {
    "vscode": {
     "languageId": "rust"
    }
   },
   "outputs": [
    {
     "data": {
      "text/plain": [
       "4.992003605767929"
      ]
     },
     "execution_count": 25,
     "metadata": {},
     "output_type": "execute_result"
    }
   ],
   "source": [
    "fn euclid_diff(x1: f64, y1: f64, x2: f64, y2: f64) -> f64 {\n",
    "    let x_diff = x1 - x2;\n",
    "    let y_diff = y1 - y2;\n",
    "    (x_diff * x_diff + y_diff * y_diff).sqrt()\n",
    "}\n",
    "\n",
    "euclid_diff(0., 0., 3., 3.99)"
   ]
  },
  {
   "cell_type": "markdown",
   "metadata": {},
   "source": [
    "But return is also available:"
   ]
  },
  {
   "cell_type": "code",
   "execution_count": 26,
   "metadata": {
    "vscode": {
     "languageId": "rust"
    }
   },
   "outputs": [
    {
     "data": {
      "text/plain": [
       "-5"
      ]
     },
     "execution_count": 26,
     "metadata": {},
     "output_type": "execute_result"
    }
   ],
   "source": [
    "fn foo(x: i32) -> i32 {\n",
    "    if x == 0 {\n",
    "        return -5;\n",
    "    }\n",
    "    let y = x + 2;\n",
    "    y * x\n",
    "}\n",
    "\n",
    "foo(0)"
   ]
  }
 ],
 "metadata": {
  "kernelspec": {
   "display_name": "Rust",
   "language": "rust",
   "name": "rust"
  },
  "language_info": {
   "codemirror_mode": "rust",
   "file_extension": ".rs",
   "mimetype": "text/rust",
   "name": "Rust",
   "pygment_lexer": "rust",
   "version": ""
  },
  "orig_nbformat": 4
 },
 "nbformat": 4,
 "nbformat_minor": 2
}
