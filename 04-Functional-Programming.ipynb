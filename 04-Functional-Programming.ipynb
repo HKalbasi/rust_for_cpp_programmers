{
 "cells": [
  {
   "cell_type": "markdown",
   "metadata": {},
   "source": [
    "# Functional programming\n",
    "\n",
    "Rust's design is highly influenced by functional languages, and it has features which are not familiar for C/C++ developers. In this chapter, we will learn those features."
   ]
  },
  {
   "cell_type": "markdown",
   "metadata": {},
   "source": [
    "## Algebraic data types\n",
    "\n",
    "Rust has C-like enum:"
   ]
  },
  {
   "cell_type": "code",
   "execution_count": 2,
   "metadata": {
    "vscode": {
     "languageId": "rust"
    }
   },
   "outputs": [
    {
     "data": {
      "text/plain": [
       "V4"
      ]
     },
     "execution_count": 2,
     "metadata": {},
     "output_type": "execute_result"
    }
   ],
   "source": [
    "#[derive(Debug)]\n",
    "enum IpType {\n",
    "    V4,\n",
    "    V6,\n",
    "}\n",
    "\n",
    "IpType::V4"
   ]
  },
  {
   "cell_type": "markdown",
   "metadata": {},
   "source": [
    "So we can define ip as an struct:"
   ]
  },
  {
   "cell_type": "code",
   "execution_count": 3,
   "metadata": {
    "vscode": {
     "languageId": "rust"
    }
   },
   "outputs": [
    {
     "data": {
      "text/plain": [
       "Ip(V4, \"127.0.0.1\")"
      ]
     },
     "execution_count": 3,
     "metadata": {},
     "output_type": "execute_result"
    }
   ],
   "source": [
    "#[derive(Debug)]\n",
    "struct Ip(IpType, &'static str);\n",
    "\n",
    "Ip(IpType::V4, \"127.0.0.1\")"
   ]
  },
  {
   "cell_type": "markdown",
   "metadata": {},
   "source": [
    "But it is not ideal. we want to store 4 bytes for ip v4 and 16 bytes for ip v6. Rust enum can handle that, because enum variants are able to have fields like an struct."
   ]
  },
  {
   "cell_type": "code",
   "execution_count": 4,
   "metadata": {
    "vscode": {
     "languageId": "rust"
    }
   },
   "outputs": [
    {
     "data": {
      "text/plain": [
       "V4([127, 0, 0, 1])"
      ]
     },
     "execution_count": 4,
     "metadata": {},
     "output_type": "execute_result"
    }
   ],
   "source": [
    "#[derive(Debug)]\n",
    "enum Ip {\n",
    "    V4([u8; 4]),\n",
    "    V6([u8; 16]),\n",
    "}\n",
    "\n",
    "let ip = Ip::V4([127, 0, 0, 1]);\n",
    "ip"
   ]
  },
  {
   "cell_type": "markdown",
   "metadata": {},
   "source": [
    "Rust enums enables writing typesafe code. In this example we can't make a version 6 ip with only 4 bytes.\n",
    "\n",
    "But how we can use such enums? Getting field from those doesn't work (and doesn't mean, really):"
   ]
  },
  {
   "cell_type": "code",
   "execution_count": 5,
   "metadata": {
    "vscode": {
     "languageId": "rust"
    }
   },
   "outputs": [
    {
     "ename": "Error",
     "evalue": "no field `0` on type `Ip`",
     "output_type": "error",
     "traceback": [
      "\u001b[31m[E0609] Error:\u001b[0m no field `0` on type `Ip`",
      "   \u001b[38;5;246m╭\u001b[0m\u001b[38;5;246m─\u001b[0m\u001b[38;5;246m[\u001b[0mcommand_5:1:1\u001b[38;5;246m]\u001b[0m",
      "   \u001b[38;5;246m│\u001b[0m",
      " \u001b[38;5;246m1 │\u001b[0m \u001b[38;5;249mi\u001b[0m\u001b[38;5;249mp\u001b[0m\u001b[38;5;249m.\u001b[0m\u001b[38;5;54m0\u001b[0m",
      " \u001b[38;5;246m  ·\u001b[0m    \u001b[38;5;54m┬\u001b[0m  ",
      " \u001b[38;5;246m  ·\u001b[0m    \u001b[38;5;54m╰\u001b[0m\u001b[38;5;54m─\u001b[0m\u001b[38;5;54m─\u001b[0m error: no field `0` on type `Ip`",
      "\u001b[38;5;246m───╯\u001b[0m"
     ]
    }
   ],
   "source": [
    "ip.0"
   ]
  },
  {
   "cell_type": "markdown",
   "metadata": {},
   "source": [
    "## Pattern matching\n",
    "\n",
    "We saw pattern matching in the memory safety chapter. It also works on enums:"
   ]
  },
  {
   "cell_type": "code",
   "execution_count": 6,
   "metadata": {
    "vscode": {
     "languageId": "rust"
    }
   },
   "outputs": [
    {
     "name": "stdout",
     "output_type": "stream",
     "text": [
      "127.0.0.1\n"
     ]
    }
   ],
   "source": [
    "fn show_ip(ip: &Ip) {\n",
    "    match ip {\n",
    "        Ip::V4(x) => {\n",
    "            println!(\"{}.{}.{}.{}\", x[0], x[1], x[2], x[3]);\n",
    "        }\n",
    "        Ip::V6(_) => todo!(),\n",
    "    }\n",
    "}\n",
    "\n",
    "show_ip(&ip);"
   ]
  },
  {
   "cell_type": "markdown",
   "metadata": {},
   "source": [
    "That is, enum variants with patterns in fields are patterns. A more complex example:"
   ]
  },
  {
   "cell_type": "code",
   "execution_count": 8,
   "metadata": {
    "vscode": {
     "languageId": "rust"
    }
   },
   "outputs": [
    {
     "name": "stdout",
     "output_type": "stream",
     "text": [
      "local network 192.168.1.1\n"
     ]
    }
   ],
   "source": [
    "fn show_ip(ip: &Ip) {\n",
    "    match ip {\n",
    "        Ip::V4([127, _, _, _]) => println!(\"localhost\"),\n",
    "        Ip::V4([192, 168, x, y]) => println!(\"local network 192.168.{x}.{y}\"),\n",
    "        Ip::V4([a, b, c, d]) => println!(\"ip {a}.{b}.{c}.{d}\"),        \n",
    "        Ip::V6(_) => todo!(),\n",
    "    }\n",
    "}\n",
    "\n",
    "show_ip(&Ip::V4([192, 168, 1, 1]));"
   ]
  },
  {
   "cell_type": "markdown",
   "metadata": {},
   "source": [
    "`enum` variants can also have named fields:"
   ]
  },
  {
   "cell_type": "code",
   "execution_count": 10,
   "metadata": {
    "vscode": {
     "languageId": "rust"
    }
   },
   "outputs": [
    {
     "data": {
      "text/plain": [
       "\"move down\""
      ]
     },
     "execution_count": 10,
     "metadata": {},
     "output_type": "execute_result"
    }
   ],
   "source": [
    "enum Message {\n",
    "    Quit,\n",
    "    Move { x: i32, y: i32 },\n",
    "    Write(&'static str),\n",
    "    ChangeColor(i32, i32, i32),\n",
    "}\n",
    "\n",
    "let message = Message::Move { x: 12, y: -33 };\n",
    "match message {\n",
    "    Message::Move { x: _, y: 0.. } => \"move up\",\n",
    "    Message::Move { x: _, y: _ } => \"move down\",\n",
    "    _ => \"unhandled\",\n",
    "}"
   ]
  },
  {
   "cell_type": "markdown",
   "metadata": {},
   "source": [
    "`struct` is also pattern:"
   ]
  },
  {
   "cell_type": "code",
   "execution_count": 13,
   "metadata": {
    "vscode": {
     "languageId": "rust"
    }
   },
   "outputs": [
    {
     "name": "stdout",
     "output_type": "stream",
     "text": [
      "A tall human hamid\n"
     ]
    }
   ],
   "source": [
    "struct Human {\n",
    "    name: &'static str,\n",
    "    height: u32,\n",
    "}\n",
    "\n",
    "let hamid = Human { name: \"hamid\", height: 190 };\n",
    "match hamid {\n",
    "    Human { height: 300.., name: _ } => println!(\"invalid\"),\n",
    "    Human { height: 180.., name: some_ident } => println!(\"A tall human {some_ident}\"),\n",
    "    // here `name` is shortcut for `name: name`\n",
    "    Human { height: _, name } => println!(\"A normal human {name}\"),\n",
    "};"
   ]
  },
  {
   "cell_type": "markdown",
   "metadata": {},
   "source": [
    "Patterns that matches everything, like `_`, `ident`, `(a, b)`, ... can be used in `let`:"
   ]
  },
  {
   "cell_type": "code",
   "execution_count": 14,
   "metadata": {
    "vscode": {
     "languageId": "rust"
    }
   },
   "outputs": [
    {
     "data": {
      "text/plain": [
       "(190, \"hamid\")"
      ]
     },
     "execution_count": 14,
     "metadata": {},
     "output_type": "execute_result"
    }
   ],
   "source": [
    "let Human { height, name } = hamid;\n",
    "(height, name)"
   ]
  },
  {
   "cell_type": "markdown",
   "metadata": {},
   "source": [
    "Or in function arguments:"
   ]
  },
  {
   "cell_type": "code",
   "execution_count": 15,
   "metadata": {
    "vscode": {
     "languageId": "rust"
    }
   },
   "outputs": [
    {
     "data": {
      "text/plain": [
       "10"
      ]
     },
     "execution_count": 15,
     "metadata": {},
     "output_type": "execute_result"
    }
   ],
   "source": [
    "fn sum_of_array([a, b, c, d]: [i32; 4]) -> i32 {\n",
    "    a + b + c + d\n",
    "}\n",
    "\n",
    "sum_of_array([1, 2, 3, 4])"
   ]
  },
  {
   "cell_type": "markdown",
   "metadata": {},
   "source": [
    "Or in `for` loop:"
   ]
  },
  {
   "cell_type": "code",
   "execution_count": 17,
   "metadata": {
    "vscode": {
     "languageId": "rust"
    }
   },
   "outputs": [
    {
     "name": "stdout",
     "output_type": "stream",
     "text": [
      "0: 1\n",
      "1: 5\n",
      "2: 10\n"
     ]
    },
    {
     "data": {
      "text/plain": [
       "()"
      ]
     },
     "execution_count": 17,
     "metadata": {},
     "output_type": "execute_result"
    }
   ],
   "source": [
    "let v = vec![1, 5, 10];\n",
    "// `.enumerate` converts an iterator of X to an iterator of (index, X)\n",
    "for (i, x) in v.iter().enumerate() {\n",
    "    println!(\"{i}: {x}\");\n",
    "}"
   ]
  },
  {
   "cell_type": "markdown",
   "metadata": {},
   "source": [
    "`mut` is part of pattern, not part of `let`, so we can write this:"
   ]
  },
  {
   "cell_type": "code",
   "execution_count": 18,
   "metadata": {
    "vscode": {
     "languageId": "rust"
    }
   },
   "outputs": [
    {
     "data": {
      "text/plain": [
       "(5, 6)"
      ]
     },
     "execution_count": 18,
     "metadata": {},
     "output_type": "execute_result"
    }
   ],
   "source": [
    "let (mut x, y) = (2, 5); // x is mutable, y is not\n",
    "x += 4;\n",
    "(y, x)"
   ]
  },
  {
   "cell_type": "markdown",
   "metadata": {},
   "source": [
    "Or even use it outside of `let`, for example in function arguments, for variables, or even `match`:"
   ]
  },
  {
   "cell_type": "code",
   "execution_count": 19,
   "metadata": {
    "vscode": {
     "languageId": "rust"
    }
   },
   "outputs": [
    {
     "data": {
      "text/plain": [
       "4"
      ]
     },
     "execution_count": 19,
     "metadata": {},
     "output_type": "execute_result"
    }
   ],
   "source": [
    "match Some(2) {\n",
    "    Some(mut x) => {\n",
    "        x += 2;\n",
    "        x\n",
    "    }\n",
    "    None => 12,\n",
    "}"
   ]
  },
  {
   "cell_type": "markdown",
   "metadata": {},
   "source": [
    "Here we saw `Option` again. Did you know that `Option` itself is an `enum` and we can define ours equivalent?"
   ]
  },
  {
   "cell_type": "code",
   "execution_count": 21,
   "metadata": {
    "vscode": {
     "languageId": "rust"
    }
   },
   "outputs": [
    {
     "data": {
      "text/plain": [
       "MySome(2)"
      ]
     },
     "execution_count": 21,
     "metadata": {},
     "output_type": "execute_result"
    }
   ],
   "source": [
    "#[derive(Debug)]\n",
    "enum MyOption<T> {\n",
    "    MySome(T),\n",
    "    MyNone,\n",
    "}\n",
    "\n",
    "use MyOption::*;\n",
    "\n",
    "let x: MyOption<i32> = MySome(2);\n",
    "x"
   ]
  },
  {
   "cell_type": "markdown",
   "metadata": {},
   "source": [
    "`MyOption` is exactly equal to `Option` of standard library. It even supports null pointer niche optimization:"
   ]
  },
  {
   "cell_type": "code",
   "execution_count": 22,
   "metadata": {
    "vscode": {
     "languageId": "rust"
    }
   },
   "outputs": [
    {
     "data": {
      "text/plain": [
       "(16, 16, 8, 8)"
      ]
     },
     "execution_count": 22,
     "metadata": {},
     "output_type": "execute_result"
    }
   ],
   "source": [
    "use std::mem::size_of;\n",
    "\n",
    "(size_of::<Option<i64>>(), size_of::<MyOption<i64>>(), size_of::<Option<&i64>>(), size_of::<MyOption<&i64>>())"
   ]
  },
  {
   "cell_type": "markdown",
   "metadata": {},
   "source": [
    "So there is no additional support for `Option` variants in pattern matching. It just follows the `enum` rules.\n",
    "\n",
    "Some functions and return types are annotated with `#[must_use]`, and compiler will warn us if we don't use them:"
   ]
  },
  {
   "cell_type": "code",
   "execution_count": 23,
   "metadata": {
    "vscode": {
     "languageId": "rust"
    }
   },
   "outputs": [
    {
     "ename": "Error",
     "evalue": "unused return value of `core::slice::<impl [T]>::get` that must be used",
     "output_type": "error",
     "traceback": [
      "\u001b[31m[unused_must_use] Error:\u001b[0m unused return value of `core::slice::<impl [T]>::get` that must be used",
      "   \u001b[38;5;246m╭\u001b[0m\u001b[38;5;246m─\u001b[0m\u001b[38;5;246m[\u001b[0mcommand_23:1:1\u001b[38;5;246m]\u001b[0m",
      "   \u001b[38;5;246m│\u001b[0m",
      " \u001b[38;5;246m1 │\u001b[0m \u001b[38;5;249m#\u001b[0m\u001b[38;5;249m[\u001b[0m\u001b[38;5;249md\u001b[0m\u001b[38;5;249me\u001b[0m\u001b[38;5;249mn\u001b[0m\u001b[38;5;249my\u001b[0m\u001b[38;5;249m(\u001b[0m\u001b[38;5;100mw\u001b[0m\u001b[38;5;100ma\u001b[0m\u001b[38;5;100mr\u001b[0m\u001b[38;5;100mn\u001b[0m\u001b[38;5;100mi\u001b[0m\u001b[38;5;100mn\u001b[0m\u001b[38;5;100mg\u001b[0m\u001b[38;5;100ms\u001b[0m\u001b[38;5;249m)\u001b[0m\u001b[38;5;249m]\u001b[0m",
      " \u001b[38;5;246m  ·\u001b[0m        \u001b[38;5;100m─\u001b[0m\u001b[38;5;100m─\u001b[0m\u001b[38;5;100m─\u001b[0m\u001b[38;5;100m─\u001b[0m\u001b[38;5;100m┬\u001b[0m\u001b[38;5;100m─\u001b[0m\u001b[38;5;100m─\u001b[0m\u001b[38;5;100m─\u001b[0m  ",
      " \u001b[38;5;246m  ·\u001b[0m            \u001b[38;5;100m╰\u001b[0m\u001b[38;5;100m─\u001b[0m\u001b[38;5;100m─\u001b[0m\u001b[38;5;100m─\u001b[0m\u001b[38;5;100m─\u001b[0m\u001b[38;5;100m─\u001b[0m note: the lint level is defined here",
      " \u001b[38;5;246m  ·\u001b[0m ",
      " \u001b[38;5;246m4 │\u001b[0m \u001b[38;5;249m \u001b[0m\u001b[38;5;249m \u001b[0m\u001b[38;5;249m \u001b[0m\u001b[38;5;249m \u001b[0m\u001b[38;5;54mv\u001b[0m\u001b[38;5;54m.\u001b[0m\u001b[38;5;54mg\u001b[0m\u001b[38;5;54me\u001b[0m\u001b[38;5;54mt\u001b[0m\u001b[38;5;54m(\u001b[0m\u001b[38;5;54m3\u001b[0m\u001b[38;5;54m)\u001b[0m\u001b[38;5;54m;\u001b[0m\u001b[38;5;249m \u001b[0m\u001b[38;5;249m/\u001b[0m\u001b[38;5;249m/\u001b[0m\u001b[38;5;249m \u001b[0m\u001b[38;5;249mt\u001b[0m\u001b[38;5;249mh\u001b[0m\u001b[38;5;249mi\u001b[0m\u001b[38;5;249ms\u001b[0m\u001b[38;5;249m \u001b[0m\u001b[38;5;249mi\u001b[0m\u001b[38;5;249ms\u001b[0m\u001b[38;5;249m \u001b[0m\u001b[38;5;249ms\u001b[0m\u001b[38;5;249mu\u001b[0m\u001b[38;5;249ms\u001b[0m\u001b[38;5;249mp\u001b[0m\u001b[38;5;249mi\u001b[0m\u001b[38;5;249mc\u001b[0m\u001b[38;5;249mi\u001b[0m\u001b[38;5;249mo\u001b[0m\u001b[38;5;249mu\u001b[0m\u001b[38;5;249ms\u001b[0m",
      " \u001b[38;5;246m  ·\u001b[0m     \u001b[38;5;54m─\u001b[0m\u001b[38;5;54m─\u001b[0m\u001b[38;5;54m─\u001b[0m\u001b[38;5;54m─\u001b[0m\u001b[38;5;54m┬\u001b[0m\u001b[38;5;54m─\u001b[0m\u001b[38;5;54m─\u001b[0m\u001b[38;5;54m─\u001b[0m\u001b[38;5;54m─\u001b[0m  ",
      " \u001b[38;5;246m  ·\u001b[0m         \u001b[38;5;54m╰\u001b[0m\u001b[38;5;54m─\u001b[0m\u001b[38;5;54m─\u001b[0m\u001b[38;5;54m─\u001b[0m\u001b[38;5;54m─\u001b[0m\u001b[38;5;54m─\u001b[0m\u001b[38;5;54m─\u001b[0m error: unused return value of `core::slice::<impl [T]>::get` that must be used",
      "\u001b[38;5;246m───╯\u001b[0m"
     ]
    }
   ],
   "source": [
    "#[deny(warnings)]\n",
    "fn foo() {\n",
    "    let v = vec![1, 2, 3, 4];\n",
    "    v.get(3); // this is suspicious\n",
    "}"
   ]
  },
  {
   "cell_type": "markdown",
   "metadata": {},
   "source": [
    "We can silence the compiler by `let _ = `:"
   ]
  },
  {
   "cell_type": "code",
   "execution_count": 24,
   "metadata": {
    "vscode": {
     "languageId": "rust"
    }
   },
   "outputs": [],
   "source": [
    "#[deny(warnings)]\n",
    "fn foo() {\n",
    "    let v = vec![1, 2, 3, 4];\n",
    "    let _ = v.get(3); // We explicitly want to ignore the result\n",
    "}"
   ]
  },
  {
   "cell_type": "markdown",
   "metadata": {},
   "source": [
    "`_` in `let _ = ` isn't a variable name. It's just a pattern. TODO."
   ]
  },
  {
   "cell_type": "markdown",
   "metadata": {},
   "source": [
    "## Iterators\n",
    "\n",
    "An iterator, in C++, is a pointer-like object that we can `++` it until it reaches some other iterator, like `.end()` of a collection, and we iterate over something this way. In Rust, an iterator holds both start and end pointers, and provides a `.next` method which returns an `Option`, which is `None` if we reached the end, and `Some(next_elem)` otherwise:"
   ]
  },
  {
   "cell_type": "code",
   "execution_count": 30,
   "metadata": {
    "vscode": {
     "languageId": "rust"
    }
   },
   "outputs": [
    {
     "name": "stdout",
     "output_type": "stream",
     "text": [
      "Some(1)\n",
      "Some(1)\n",
      "Some(2)\n",
      "Some(5)\n",
      "None\n",
      "None\n"
     ]
    }
   ],
   "source": [
    "{\n",
    "    let v = vec![1, 2, 5];\n",
    "    let mut v_iter = v.iter();\n",
    "    let mut v_iter2 = v.iter();\n",
    "    println!(\"{:?}\", v_iter.next());\n",
    "    println!(\"{:?}\", v_iter2.next());\n",
    "    println!(\"{:?}\", v_iter.next());\n",
    "    println!(\"{:?}\", v_iter.next());\n",
    "    println!(\"{:?}\", v_iter.next());\n",
    "    println!(\"{:?}\", v_iter.next());\n",
    "};"
   ]
  },
  {
   "cell_type": "markdown",
   "metadata": {},
   "source": [
    "We can implement `Iterator` for our own types. Let's make a type similar to ranges:"
   ]
  },
  {
   "cell_type": "code",
   "execution_count": 33,
   "metadata": {
    "vscode": {
     "languageId": "rust"
    }
   },
   "outputs": [
    {
     "name": "stdout",
     "output_type": "stream",
     "text": [
      "Some(5)\n",
      "Some(6)\n",
      "Some(7)\n",
      "None\n",
      "None\n"
     ]
    },
    {
     "data": {
      "text/plain": [
       "(8, 8)"
      ]
     },
     "execution_count": 33,
     "metadata": {},
     "output_type": "execute_result"
    }
   ],
   "source": [
    "struct MyRange {\n",
    "    start: u64,\n",
    "    end: u64,\n",
    "}\n",
    "\n",
    "impl Iterator for MyRange {\n",
    "    type Item = u64;\n",
    "    fn next(&mut self) -> Option<u64> {\n",
    "        if self.start >= self.end {\n",
    "            return None;\n",
    "        }\n",
    "        self.start += 1;\n",
    "        Some(self.start - 1)\n",
    "    }\n",
    "}\n",
    "\n",
    "let mut r = MyRange { start: 5, end: 8 };\n",
    "println!(\"{:?}\", r.next());\n",
    "println!(\"{:?}\", r.next());\n",
    "println!(\"{:?}\", r.next());\n",
    "println!(\"{:?}\", r.next());\n",
    "println!(\"{:?}\", r.next());\n",
    "(r.start, r.end)"
   ]
  },
  {
   "cell_type": "markdown",
   "metadata": {},
   "source": [
    "This allow us to call `for` on it:"
   ]
  },
  {
   "cell_type": "code",
   "execution_count": 35,
   "metadata": {
    "vscode": {
     "languageId": "rust"
    }
   },
   "outputs": [
    {
     "name": "stdout",
     "output_type": "stream",
     "text": [
      "5\n",
      "6\n",
      "7\n"
     ]
    }
   ],
   "source": [
    "let r = MyRange { start: 5, end: 8 };\n",
    "for x in r {\n",
    "    println!(\"{x}\");\n",
    "};"
   ]
  },
  {
   "cell_type": "markdown",
   "metadata": {},
   "source": [
    "In addition to `for`, there are some default methods on `Iterator` trait which we can call. For example, `.count` will call `.next()` until it reaches the end, and reports the count:"
   ]
  },
  {
   "cell_type": "code",
   "execution_count": 36,
   "metadata": {
    "vscode": {
     "languageId": "rust"
    }
   },
   "outputs": [
    {
     "data": {
      "text/plain": [
       "3"
      ]
     },
     "execution_count": 36,
     "metadata": {},
     "output_type": "execute_result"
    }
   ],
   "source": [
    "MyRange { start: 5, end: 8 }.count()"
   ]
  },
  {
   "cell_type": "markdown",
   "metadata": {},
   "source": [
    "Or `.collect` which can convert an iterator to a collection, like a vector, a hashmap, ..."
   ]
  },
  {
   "cell_type": "code",
   "execution_count": 39,
   "metadata": {
    "vscode": {
     "languageId": "rust"
    }
   },
   "outputs": [
    {
     "data": {
      "text/plain": [
       "[5, 16, 7]"
      ]
     },
     "execution_count": 39,
     "metadata": {},
     "output_type": "execute_result"
    }
   ],
   "source": [
    "let mut x: Vec<u64> = MyRange { start: 5, end: 8 }.collect();\n",
    "x[1] += 10;\n",
    "x"
   ]
  },
  {
   "cell_type": "markdown",
   "metadata": {},
   "source": [
    "Or `.skip(n)` which calls `.next()` n times and then returns the remaining iterator:"
   ]
  },
  {
   "cell_type": "code",
   "execution_count": 41,
   "metadata": {
    "vscode": {
     "languageId": "rust"
    }
   },
   "outputs": [
    {
     "data": {
      "text/plain": [
       "Some(8)"
      ]
     },
     "execution_count": 41,
     "metadata": {},
     "output_type": "execute_result"
    }
   ],
   "source": [
    "let mut x = MyRange { start: 5, end: 10 }.skip(3);\n",
    "x.next()"
   ]
  },
  {
   "cell_type": "markdown",
   "metadata": {},
   "source": [
    "We can implement `Iterator` methods ourself to make them faster:"
   ]
  },
  {
   "cell_type": "code",
   "execution_count": 47,
   "metadata": {
    "vscode": {
     "languageId": "rust"
    }
   },
   "outputs": [
    {
     "data": {
      "text/plain": [
       "1000000000000000000"
      ]
     },
     "execution_count": 47,
     "metadata": {},
     "output_type": "execute_result"
    }
   ],
   "source": [
    "struct MyRangeFast {\n",
    "    start: u64,\n",
    "    end: u64,\n",
    "}\n",
    "\n",
    "impl Iterator for MyRangeFast {\n",
    "    type Item = u64;\n",
    "    fn next(&mut self) -> Option<u64> {\n",
    "        if self.start >= self.end {\n",
    "            return None;\n",
    "        }\n",
    "        self.start += 1;\n",
    "        Some(self.start - 1)\n",
    "    }\n",
    "\n",
    "    fn count(self) -> usize {\n",
    "        usize::try_from(self.end - self.start).unwrap()\n",
    "    }\n",
    "}\n",
    "\n",
    "MyRangeFast {\n",
    "    start: 0,\n",
    "    end: 1_000_000_000_000_000_000,\n",
    "}.count()"
   ]
  },
  {
   "cell_type": "markdown",
   "metadata": {},
   "source": [
    "Calling this on `MyRange` can take years to execute. Since people are allowed to override these methods, there is no guarantee that they will work correct. In fact, our example doesn't works correct, and it will overflow if `start` is after the end. Integer overflow in Rust causes a panic in debug builds, and a two's complement result in release builds (it is not UB unlike in C/C++):"
   ]
  },
  {
   "cell_type": "code",
   "execution_count": 48,
   "metadata": {
    "vscode": {
     "languageId": "rust"
    }
   },
   "outputs": [
    {
     "data": {
      "text/plain": [
       "Preserve vars on panic: true\n"
      ]
     },
     "execution_count": 48,
     "metadata": {},
     "output_type": "execute_result"
    }
   ],
   "source": [
    ":preserve_vars_on_panic 1"
   ]
  },
  {
   "cell_type": "code",
   "execution_count": 49,
   "metadata": {
    "vscode": {
     "languageId": "rust"
    }
   },
   "outputs": [
    {
     "name": "stderr",
     "output_type": "stream",
     "text": [
      "thread '<unnamed>' panicked at 'attempt to subtract with overflow', src/lib.rs:83:25\n",
      "stack backtrace:\n",
      "   0: rust_begin_unwind\n",
      "             at /rustc/4b91a6ea7258a947e59c6522cd5898e7c0a6a88f/library/std/src/panicking.rs:584:5\n",
      "   1: core::panicking::panic_fmt\n",
      "             at /rustc/4b91a6ea7258a947e59c6522cd5898e7c0a6a88f/library/core/src/panicking.rs:142:14\n",
      "   2: core::panicking::panic\n",
      "             at /rustc/4b91a6ea7258a947e59c6522cd5898e7c0a6a88f/library/core/src/panicking.rs:48:5\n",
      "   3: <core::panic::unwind_safe::AssertUnwindSafe<F> as core::ops::function::FnOnce<()>>::call_once\n",
      "   4: run_user_code_36\n",
      "   5: evcxr::runtime::Runtime::run_loop\n",
      "   6: evcxr::runtime::runtime_hook\n",
      "   7: evcxr_jupyter::main\n",
      "note: Some details are omitted, run with `RUST_BACKTRACE=full` for a verbose backtrace.\n"
     ]
    }
   ],
   "source": [
    "MyRangeFast {\n",
    "    start: 10,\n",
    "    end: 5,\n",
    "}.count()"
   ]
  },
  {
   "cell_type": "markdown",
   "metadata": {},
   "source": [
    "But the standard library does it right:"
   ]
  },
  {
   "cell_type": "code",
   "execution_count": 51,
   "metadata": {
    "vscode": {
     "languageId": "rust"
    }
   },
   "outputs": [
    {
     "data": {
      "text/plain": [
       "1000000000000000000"
      ]
     },
     "execution_count": 51,
     "metadata": {},
     "output_type": "execute_result"
    }
   ],
   "source": [
    "(0..1_000_000_000_000_000_000_u64).count()"
   ]
  },
  {
   "cell_type": "code",
   "execution_count": 52,
   "metadata": {
    "vscode": {
     "languageId": "rust"
    }
   },
   "outputs": [
    {
     "data": {
      "text/plain": [
       "0"
      ]
     },
     "execution_count": 52,
     "metadata": {},
     "output_type": "execute_result"
    }
   ],
   "source": [
    "(10..5).count()"
   ]
  },
  {
   "cell_type": "markdown",
   "metadata": {},
   "source": [
    "There are another family of functions on `Iterator` trait, called iterator adapters. Let's start with `.filter`:"
   ]
  },
  {
   "cell_type": "code",
   "execution_count": 53,
   "metadata": {
    "vscode": {
     "languageId": "rust"
    }
   },
   "outputs": [
    {
     "data": {
      "text/plain": [
       "50"
      ]
     },
     "execution_count": 53,
     "metadata": {},
     "output_type": "execute_result"
    }
   ],
   "source": [
    "(0..100).filter(|x| x % 2 == 0).count()"
   ]
  },
  {
   "cell_type": "markdown",
   "metadata": {},
   "source": [
    "It accepts a function which returns a boolean, and returns a new iterator, consists only of elements which are true. To better see it, we can collect it to `Vec`:"
   ]
  },
  {
   "cell_type": "code",
   "execution_count": 54,
   "metadata": {
    "vscode": {
     "languageId": "rust"
    }
   },
   "outputs": [
    {
     "data": {
      "text/plain": [
       "[0, 2, 4, 6, 8, 10, 12, 14, 16, 18, 20, 22, 24, 26, 28, 30, 32, 34, 36, 38, 40, 42, 44, 46, 48, 50, 52, 54, 56, 58, 60, 62, 64, 66, 68, 70, 72, 74, 76, 78, 80, 82, 84, 86, 88, 90, 92, 94, 96, 98]"
      ]
     },
     "execution_count": 54,
     "metadata": {},
     "output_type": "execute_result"
    }
   ],
   "source": [
    "(0..100).filter(|x| x % 2 == 0).collect::<Vec<_>>()"
   ]
  },
  {
   "cell_type": "markdown",
   "metadata": {},
   "source": [
    "Another adapter is `.map`, which transforms the iterator:"
   ]
  },
  {
   "cell_type": "code",
   "execution_count": 56,
   "metadata": {
    "vscode": {
     "languageId": "rust"
    }
   },
   "outputs": [
    {
     "data": {
      "text/plain": [
       "[(0, 0), (0, 1), (1, 0), (1, 1), (2, 0), (2, 1), (3, 0), (3, 1), (4, 0), (4, 1), (5, 0), (5, 1), (6, 0), (6, 1), (7, 0), (7, 1), (8, 0), (8, 1), (9, 0), (9, 1)]"
      ]
     },
     "execution_count": 56,
     "metadata": {},
     "output_type": "execute_result"
    }
   ],
   "source": [
    "(0..20).map(|x| (x / 2, x % 2)).collect::<Vec<_>>()"
   ]
  },
  {
   "cell_type": "markdown",
   "metadata": {},
   "source": [
    "We can chain the iterator adapters:"
   ]
  },
  {
   "cell_type": "code",
   "execution_count": 57,
   "metadata": {
    "vscode": {
     "languageId": "rust"
    }
   },
   "outputs": [
    {
     "data": {
      "text/plain": [
       "[(0, 0), (0, 2), (0, 4), (1, 1), (1, 3), (2, 0), (2, 2), (2, 4), (3, 1), (3, 3)]"
      ]
     },
     "execution_count": 57,
     "metadata": {},
     "output_type": "execute_result"
    }
   ],
   "source": [
    "(0..20)\n",
    "    .filter(|x| x % 2 == 0)\n",
    "    .map(|x| (x / 5, x % 5))\n",
    "    .collect::<Vec<_>>()"
   ]
  },
  {
   "cell_type": "markdown",
   "metadata": {},
   "source": [
    "Iterator adaptors are lazy and do nothing without someone who calls `.next` on them (which here is `.collect` or `.count`) we can see that by printing inside closures."
   ]
  },
  {
   "cell_type": "code",
   "execution_count": 58,
   "metadata": {
    "vscode": {
     "languageId": "rust"
    }
   },
   "outputs": [
    {
     "name": "stdout",
     "output_type": "stream",
     "text": [
      "0\n",
      "1\n",
      "2\n",
      "3\n",
      "4\n"
     ]
    },
    {
     "data": {
      "text/plain": [
       "[100, 101, 102, 103, 104]"
      ]
     },
     "execution_count": 58,
     "metadata": {},
     "output_type": "execute_result"
    }
   ],
   "source": [
    "(0..5)\n",
    "    .map(|x| {\n",
    "        println!(\"{x}\");\n",
    "        x + 100\n",
    "    })\n",
    "    .collect::<Vec<_>>()"
   ]
  },
  {
   "cell_type": "code",
   "execution_count": 59,
   "metadata": {
    "vscode": {
     "languageId": "rust"
    }
   },
   "outputs": [
    {
     "data": {
      "text/plain": [
       "Map { iter: 0..5 }"
      ]
     },
     "execution_count": 59,
     "metadata": {},
     "output_type": "execute_result"
    }
   ],
   "source": [
    "(0..5)\n",
    "    .map(|x| {\n",
    "        println!(\"{x}\");\n",
    "        x + 100\n",
    "    })"
   ]
  },
  {
   "cell_type": "markdown",
   "metadata": {},
   "source": [
    "And there was no print! Lazy iterators are how Rust archive ergonomics and safety at the same time. Performance of iterator adapters (after optimization) is equal to manual for loops. To show that, let's see the assembly of this function:"
   ]
  },
  {
   "cell_type": "code",
   "execution_count": 63,
   "metadata": {
    "vscode": {
     "languageId": "rust"
    }
   },
   "outputs": [
    {
     "data": {
      "text/plain": [
       "14"
      ]
     },
     "execution_count": 63,
     "metadata": {},
     "output_type": "execute_result"
    }
   ],
   "source": [
    "pub fn foo(x: Vec<i32>) -> i32 {\n",
    "    x\n",
    "        .iter()\n",
    "        .filter(|x| **x < 10)\n",
    "        .map(|x| x * x)\n",
    "        .sum::<i32>()\n",
    "}\n",
    "\n",
    "foo(vec![1, 2, 12, 3])"
   ]
  },
  {
   "cell_type": "markdown",
   "metadata": {},
   "source": [
    "```\n",
    "example::foo:\n",
    "        addi    sp, sp, -16\n",
    "        sd      ra, 8(sp)\n",
    "        sd      s0, 0(sp)\n",
    "        mv      a1, a0\n",
    "        ld      a2, 16(a0)\n",
    "        ld      a0, 0(a0)\n",
    "        li      s0, 0\n",
    "        beqz    a2, .LBB0_5\n",
    "        slli    a2, a2, 2\n",
    "        li      a3, 10\n",
    "        mv      a4, a0\n",
    "        j       .LBB0_3\n",
    ".LBB0_2:\n",
    "        addi    a2, a2, -4\n",
    "        addi    a4, a4, 4\n",
    "        beqz    a2, .LBB0_5\n",
    ".LBB0_3:\n",
    "        lw      a5, 0(a4)\n",
    "        bge     a5, a3, .LBB0_2\n",
    "        mulw    a5, a5, a5\n",
    "        addw    s0, s0, a5\n",
    "        j       .LBB0_2\n",
    ".LBB0_5:\n",
    "        ld      a1, 8(a1)\n",
    "        beqz    a1, .LBB0_8\n",
    "        slli    a1, a1, 2\n",
    "        beqz    a1, .LBB0_8\n",
    "        li      a2, 4\n",
    "        call    __rust_dealloc@plt\n",
    ".LBB0_8:\n",
    "        mv      a0, s0\n",
    "        ld      ra, 8(sp)\n",
    "        ld      s0, 0(sp)\n",
    "        addi    sp, sp, 16\n",
    "        ret\n",
    "```\n",
    "\n",
    "This is risc-v, not x86, which IMO is easier to read. As you can see, there is no function call (except the one which deallocates the vector) and it is a really small and simple loop.\n",
    "\n",
    "If Rust was not lazy (like how JS `.map` and ... is implemented), every adapter would be forced to allocate the iterator items as something like vector, which would be very slow. Now that it is lazy, it can even implement infinite iterators, in constant memory! For example, here we find the 100 first primes:"
   ]
  },
  {
   "cell_type": "code",
   "execution_count": 69,
   "metadata": {
    "vscode": {
     "languageId": "rust"
    }
   },
   "outputs": [
    {
     "data": {
      "text/plain": [
       "[2, 3, 5, 7, 11, 13, 17, 19, 23, 29, 31, 37, 41, 43, 47, 53, 59, 61, 67, 71, 73, 79, 83, 89, 97, 101, 103, 107, 109, 113, 127, 131, 137, 139, 149, 151, 157, 163, 167, 173, 179, 181, 191, 193, 197, 199, 211, 223, 227, 229, 233, 239, 241, 251, 257, 263, 269, 271, 277, 281, 283, 293, 307, 311, 313, 317, 331, 337, 347, 349, 353, 359, 367, 373, 379, 383, 389, 397, 401, 409, 419, 421, 431, 433, 439, 443, 449, 457, 461, 463, 467, 479, 487, 491, 499, 503, 509, 521, 523, 541]"
      ]
     },
     "execution_count": 69,
     "metadata": {},
     "output_type": "execute_result"
    }
   ],
   "source": [
    "fn is_prime(x: i64) -> bool {\n",
    "    if x < 2 {\n",
    "        return false;\n",
    "    }\n",
    "    !(2..x).take_while(|i| i * i <= x).any(|i| x % i == 0)\n",
    "}\n",
    "\n",
    "{\n",
    "    // prime_iterator is almost infinite (it has at least 10^15 elements), but\n",
    "    // since iterators are lazy, we can store it.\n",
    "    let prime_iterator = (2..).filter(|x| is_prime(*x));\n",
    "    // here `.collect` without `.take` would loop until OOM\n",
    "    prime_iterator.take(100).collect::<Vec<_>>()\n",
    "}"
   ]
  },
  {
   "cell_type": "markdown",
   "metadata": {},
   "source": []
  }
 ],
 "metadata": {
  "kernelspec": {
   "display_name": "Rust",
   "language": "rust",
   "name": "rust"
  },
  "language_info": {
   "codemirror_mode": "rust",
   "file_extension": ".rs",
   "mimetype": "text/rust",
   "name": "Rust",
   "pygment_lexer": "rust",
   "version": ""
  },
  "orig_nbformat": 4
 },
 "nbformat": 4,
 "nbformat_minor": 2
}
