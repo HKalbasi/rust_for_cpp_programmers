{
 "cells": [
  {
   "cell_type": "markdown",
   "metadata": {},
   "source": [
    "# Functional programming\n",
    "\n",
    "Rust's design is highly influenced by functional languages, and it has features which are not familiar for C/C++ developers. In this chapter, we will learn those features."
   ]
  },
  {
   "cell_type": "markdown",
   "metadata": {},
   "source": [
    "## Algebraic data types\n",
    "\n",
    "Rust has C-like enum:"
   ]
  },
  {
   "cell_type": "code",
   "execution_count": 3,
   "metadata": {},
   "outputs": [
    {
     "data": {
      "text/plain": [
       "V4"
      ]
     },
     "execution_count": 3,
     "metadata": {},
     "output_type": "execute_result"
    }
   ],
   "source": [
    "#[derive(Debug)]\n",
    "enum IpType {\n",
    "    V4,\n",
    "    V6,\n",
    "}\n",
    "\n",
    "IpType::V4"
   ]
  },
  {
   "cell_type": "markdown",
   "metadata": {},
   "source": [
    "So we can define ip as an struct:"
   ]
  },
  {
   "cell_type": "code",
   "execution_count": 4,
   "metadata": {},
   "outputs": [
    {
     "data": {
      "text/plain": [
       "Ip(V4, \"127.0.0.1\")"
      ]
     },
     "execution_count": 4,
     "metadata": {},
     "output_type": "execute_result"
    }
   ],
   "source": [
    "#[derive(Debug)]\n",
    "struct Ip(IpType, &'static str);\n",
    "\n",
    "Ip(IpType::V4, \"127.0.0.1\")"
   ]
  },
  {
   "cell_type": "markdown",
   "metadata": {},
   "source": [
    "But it is not ideal. we want to store 4 bytes for ip v4 and 16 bytes for ip v6. Rust enum can handle that, because enum variants are able to have fields like an struct."
   ]
  },
  {
   "cell_type": "code",
   "execution_count": 8,
   "metadata": {},
   "outputs": [
    {
     "data": {
      "text/plain": [
       "V4([127, 0, 0, 1])"
      ]
     },
     "execution_count": 8,
     "metadata": {},
     "output_type": "execute_result"
    }
   ],
   "source": [
    "#[derive(Debug)]\n",
    "enum Ip {\n",
    "    V4([u8; 4]),\n",
    "    V6([u8; 16]),\n",
    "}\n",
    "\n",
    "let ip = Ip::V4([127, 0, 0, 1]);\n",
    "ip"
   ]
  },
  {
   "cell_type": "markdown",
   "metadata": {},
   "source": [
    "Rust enums enables writing typesafe code. In this example we can't make a version 6 ip with only 4 bytes.\n",
    "\n",
    "But how we can use such enums? Getting field from those doesn't work (and doesn't mean, really):"
   ]
  },
  {
   "cell_type": "code",
   "execution_count": 9,
   "metadata": {},
   "outputs": [
    {
     "ename": "Error",
     "evalue": "no field `0` on type `Ip`",
     "output_type": "error",
     "traceback": [
      "\u001b[31m[E0609] Error:\u001b[0m no field `0` on type `Ip`",
      "   \u001b[38;5;246m╭\u001b[0m\u001b[38;5;246m─\u001b[0m\u001b[38;5;246m[\u001b[0mcommand_9:1:1\u001b[38;5;246m]\u001b[0m",
      "   \u001b[38;5;246m│\u001b[0m",
      " \u001b[38;5;246m1 │\u001b[0m \u001b[38;5;249mi\u001b[0m\u001b[38;5;249mp\u001b[0m\u001b[38;5;249m.\u001b[0m\u001b[38;5;54m0\u001b[0m",
      " \u001b[38;5;246m  ·\u001b[0m    \u001b[38;5;54m┬\u001b[0m  ",
      " \u001b[38;5;246m  ·\u001b[0m    \u001b[38;5;54m╰\u001b[0m\u001b[38;5;54m─\u001b[0m\u001b[38;5;54m─\u001b[0m error: no field `0` on type `Ip`",
      "\u001b[38;5;246m───╯\u001b[0m"
     ]
    }
   ],
   "source": [
    "ip.0"
   ]
  },
  {
   "cell_type": "markdown",
   "metadata": {},
   "source": [
    "## Pattern matching\n",
    "\n",
    "We saw pattern matching in the memory safety chapter. It also works on enums:"
   ]
  },
  {
   "cell_type": "code",
   "execution_count": 10,
   "metadata": {},
   "outputs": [
    {
     "name": "stdout",
     "output_type": "stream",
     "text": [
      "127.0.0.1\n"
     ]
    }
   ],
   "source": [
    "fn show_ip(ip: &Ip) {\n",
    "    match ip {\n",
    "        Ip::V4(x) => {\n",
    "            println!(\"{}.{}.{}.{}\", x[0], x[1], x[2], x[3]);\n",
    "        }\n",
    "        Ip::V6(_) => todo!(),\n",
    "    }\n",
    "}\n",
    "\n",
    "show_ip(&ip);"
   ]
  }
 ],
 "metadata": {
  "kernelspec": {
   "display_name": "Rust",
   "language": "rust",
   "name": "rust"
  },
  "language_info": {
   "codemirror_mode": "rust",
   "file_extension": ".rs",
   "mimetype": "text/rust",
   "name": "rust",
   "pygment_lexer": "rust",
   "version": ""
  },
  "orig_nbformat": 4
 },
 "nbformat": 4,
 "nbformat_minor": 2
}
