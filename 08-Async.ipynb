{
 "cells": [
  {
   "cell_type": "markdown",
   "metadata": {},
   "source": [
    "# Async\n",
    "\n",
    "General note: Code shown here are for educational proposes only. In production, use a ready runtime like \n",
    "\n",
    "For IO operations, there is two way, blocking and non blocking. Here is a blocking sleep:"
   ]
  },
  {
   "cell_type": "code",
   "execution_count": 3,
   "metadata": {
    "vscode": {
     "languageId": "rust"
    }
   },
   "outputs": [
    {
     "data": {
      "text/plain": [
       "5"
      ]
     },
     "execution_count": 3,
     "metadata": {},
     "output_type": "execute_result"
    }
   ],
   "source": [
    "use std::{time::Duration, thread::sleep};\n",
    "\n",
    "fn sleep_1s_and_return_5() -> i32 {\n",
    "    sleep(Duration::from_secs(1));\n",
    "    5\n",
    "}\n",
    "\n",
    "sleep_1s_and_return_5()"
   ]
  },
  {
   "cell_type": "markdown",
   "metadata": {},
   "source": [
    "And here is a non blocking sleep. `Poll<T>` is a topologically equal enum to `Option<T>`. We like different types with equal topology in Rust, because it will prevent misusing a `Poll<T>` when an `Option<T>` is needed. A non blocking version is fairly more complex:"
   ]
  },
  {
   "cell_type": "code",
   "execution_count": 4,
   "metadata": {
    "vscode": {
     "languageId": "rust"
    }
   },
   "outputs": [
    {
     "name": "stdout",
     "output_type": "stream",
     "text": [
      "pending\n",
      "pending\n",
      "pending\n",
      "pending\n",
      "pending\n",
      "pending\n",
      "pending\n",
      "pending\n",
      "pending\n",
      "pending\n"
     ]
    },
    {
     "data": {
      "text/plain": [
       "5"
      ]
     },
     "execution_count": 4,
     "metadata": {},
     "output_type": "execute_result"
    }
   ],
   "source": [
    "use std::{task::Poll, time::Instant};\n",
    "\n",
    "struct Sleep {\n",
    "    start_time: Instant,\n",
    "}\n",
    "\n",
    "impl Sleep {\n",
    "    fn try_again(&self) -> Poll<i32> {\n",
    "        if Instant::now() - self.start_time > Duration::from_secs(1) {\n",
    "            Poll::Ready(5)\n",
    "        } else {\n",
    "            Poll::Pending\n",
    "        }\n",
    "    }\n",
    "}\n",
    "\n",
    "fn sleep_1s_and_return_5() -> Sleep {\n",
    "    Sleep { start_time: Instant::now() }\n",
    "}\n",
    "\n",
    "let sleep_result = sleep_1s_and_return_5();\n",
    "loop {\n",
    "    match sleep_result.try_again() {\n",
    "        Poll::Ready(x) => break x,\n",
    "        Poll::Pending => println!(\"pending\"),\n",
    "    }\n",
    "    sleep(Duration::from_millis(100)); // to prevent spamming the stdout\n",
    "}"
   ]
  },
  {
   "cell_type": "markdown",
   "metadata": {},
   "source": [
    "Trait `Future` abstracts the functionality we implemented above. Let's use that instead:"
   ]
  },
  {
   "cell_type": "code",
   "execution_count": 21,
   "metadata": {
    "vscode": {
     "languageId": "rust"
    }
   },
   "outputs": [
    {
     "ename": "Error",
     "evalue": "mismatched types",
     "output_type": "error",
     "traceback": [
      "\u001b[31m[E0308] Error:\u001b[0m mismatched types",
      "    \u001b[38;5;246m╭\u001b[0m\u001b[38;5;246m─\u001b[0m\u001b[38;5;246m[\u001b[0mcommand_21:1:1\u001b[38;5;246m]\u001b[0m",
      "    \u001b[38;5;246m│\u001b[0m",
      " \u001b[38;5;246m24 │\u001b[0m \u001b[38;5;249mf\u001b[0m\u001b[38;5;249mn\u001b[0m\u001b[38;5;249m \u001b[0m\u001b[38;5;249ms\u001b[0m\u001b[38;5;249ml\u001b[0m\u001b[38;5;249me\u001b[0m\u001b[38;5;249me\u001b[0m\u001b[38;5;249mp\u001b[0m\u001b[38;5;249m_\u001b[0m\u001b[38;5;249m1\u001b[0m\u001b[38;5;249ms\u001b[0m\u001b[38;5;249m_\u001b[0m\u001b[38;5;249ma\u001b[0m\u001b[38;5;249mn\u001b[0m\u001b[38;5;249md\u001b[0m\u001b[38;5;249m_\u001b[0m\u001b[38;5;249mr\u001b[0m\u001b[38;5;249me\u001b[0m\u001b[38;5;249mt\u001b[0m\u001b[38;5;249mu\u001b[0m\u001b[38;5;249mr\u001b[0m\u001b[38;5;249mn\u001b[0m\u001b[38;5;249m_\u001b[0m\u001b[38;5;249m5\u001b[0m\u001b[38;5;249m(\u001b[0m\u001b[38;5;249m)\u001b[0m\u001b[38;5;249m \u001b[0m\u001b[38;5;249m-\u001b[0m\u001b[38;5;249m>\u001b[0m\u001b[38;5;249m \u001b[0m\u001b[38;5;54mi\u001b[0m\u001b[38;5;54mm\u001b[0m\u001b[38;5;54mp\u001b[0m\u001b[38;5;54ml\u001b[0m\u001b[38;5;54m \u001b[0m\u001b[38;5;54mF\u001b[0m\u001b[38;5;54mu\u001b[0m\u001b[38;5;54mt\u001b[0m\u001b[38;5;54mu\u001b[0m\u001b[38;5;54mr\u001b[0m\u001b[38;5;54me\u001b[0m\u001b[38;5;54m<\u001b[0m\u001b[38;5;54mO\u001b[0m\u001b[38;5;54mu\u001b[0m\u001b[38;5;54mt\u001b[0m\u001b[38;5;54mp\u001b[0m\u001b[38;5;54mu\u001b[0m\u001b[38;5;54mt\u001b[0m\u001b[38;5;54m \u001b[0m\u001b[38;5;54m=\u001b[0m\u001b[38;5;54m \u001b[0m\u001b[38;5;54mi\u001b[0m\u001b[38;5;54m3\u001b[0m\u001b[38;5;54m2\u001b[0m\u001b[38;5;54m>\u001b[0m\u001b[38;5;249m \u001b[0m\u001b[38;5;249m{\u001b[0m",
      " \u001b[38;5;246m   ·\u001b[0m                               \u001b[38;5;54m─\u001b[0m\u001b[38;5;54m─\u001b[0m\u001b[38;5;54m─\u001b[0m\u001b[38;5;54m─\u001b[0m\u001b[38;5;54m─\u001b[0m\u001b[38;5;54m─\u001b[0m\u001b[38;5;54m─\u001b[0m\u001b[38;5;54m─\u001b[0m\u001b[38;5;54m─\u001b[0m\u001b[38;5;54m─\u001b[0m\u001b[38;5;54m─\u001b[0m\u001b[38;5;54m─\u001b[0m\u001b[38;5;54m┬\u001b[0m\u001b[38;5;54m─\u001b[0m\u001b[38;5;54m─\u001b[0m\u001b[38;5;54m─\u001b[0m\u001b[38;5;54m─\u001b[0m\u001b[38;5;54m─\u001b[0m\u001b[38;5;54m─\u001b[0m\u001b[38;5;54m─\u001b[0m\u001b[38;5;54m─\u001b[0m\u001b[38;5;54m─\u001b[0m\u001b[38;5;54m─\u001b[0m\u001b[38;5;54m─\u001b[0m\u001b[38;5;54m─\u001b[0m  ",
      " \u001b[38;5;246m   ·\u001b[0m                                           \u001b[38;5;54m╰\u001b[0m\u001b[38;5;54m─\u001b[0m\u001b[38;5;54m─\u001b[0m\u001b[38;5;54m─\u001b[0m\u001b[38;5;54m─\u001b[0m\u001b[38;5;54m─\u001b[0m\u001b[38;5;54m─\u001b[0m\u001b[38;5;54m─\u001b[0m\u001b[38;5;54m─\u001b[0m\u001b[38;5;54m─\u001b[0m\u001b[38;5;54m─\u001b[0m\u001b[38;5;54m─\u001b[0m\u001b[38;5;54m─\u001b[0m\u001b[38;5;54m─\u001b[0m\u001b[38;5;54m─\u001b[0m the found opaque type",
      "\u001b[38;5;246m────╯\u001b[0m"
     ]
    },
    {
     "ename": "Error",
     "evalue": "mismatched types",
     "output_type": "error",
     "traceback": [
      "\u001b[31m[E0308] Error:\u001b[0m mismatched types",
      "    \u001b[38;5;246m╭\u001b[0m\u001b[38;5;246m─\u001b[0m\u001b[38;5;246m[\u001b[0mcommand_21:1:1\u001b[38;5;246m]\u001b[0m",
      "    \u001b[38;5;246m│\u001b[0m",
      " \u001b[38;5;246m24 │\u001b[0m \u001b[38;5;249mf\u001b[0m\u001b[38;5;249mn\u001b[0m\u001b[38;5;249m \u001b[0m\u001b[38;5;249ms\u001b[0m\u001b[38;5;249ml\u001b[0m\u001b[38;5;249me\u001b[0m\u001b[38;5;249me\u001b[0m\u001b[38;5;249mp\u001b[0m\u001b[38;5;249m_\u001b[0m\u001b[38;5;249m1\u001b[0m\u001b[38;5;249ms\u001b[0m\u001b[38;5;249m_\u001b[0m\u001b[38;5;249ma\u001b[0m\u001b[38;5;249mn\u001b[0m\u001b[38;5;249md\u001b[0m\u001b[38;5;249m_\u001b[0m\u001b[38;5;249mr\u001b[0m\u001b[38;5;249me\u001b[0m\u001b[38;5;249mt\u001b[0m\u001b[38;5;249mu\u001b[0m\u001b[38;5;249mr\u001b[0m\u001b[38;5;249mn\u001b[0m\u001b[38;5;249m_\u001b[0m\u001b[38;5;249m5\u001b[0m\u001b[38;5;249m(\u001b[0m\u001b[38;5;249m)\u001b[0m\u001b[38;5;249m \u001b[0m\u001b[38;5;249m-\u001b[0m\u001b[38;5;249m>\u001b[0m\u001b[38;5;249m \u001b[0m\u001b[38;5;54mi\u001b[0m\u001b[38;5;54mm\u001b[0m\u001b[38;5;54mp\u001b[0m\u001b[38;5;54ml\u001b[0m\u001b[38;5;54m \u001b[0m\u001b[38;5;54mF\u001b[0m\u001b[38;5;54mu\u001b[0m\u001b[38;5;54mt\u001b[0m\u001b[38;5;54mu\u001b[0m\u001b[38;5;54mr\u001b[0m\u001b[38;5;54me\u001b[0m\u001b[38;5;54m<\u001b[0m\u001b[38;5;54mO\u001b[0m\u001b[38;5;54mu\u001b[0m\u001b[38;5;54mt\u001b[0m\u001b[38;5;54mp\u001b[0m\u001b[38;5;54mu\u001b[0m\u001b[38;5;54mt\u001b[0m\u001b[38;5;54m \u001b[0m\u001b[38;5;54m=\u001b[0m\u001b[38;5;54m \u001b[0m\u001b[38;5;54mi\u001b[0m\u001b[38;5;54m3\u001b[0m\u001b[38;5;54m2\u001b[0m\u001b[38;5;54m>\u001b[0m\u001b[38;5;249m \u001b[0m\u001b[38;5;249m{\u001b[0m",
      " \u001b[38;5;246m   ·\u001b[0m                               \u001b[38;5;54m─\u001b[0m\u001b[38;5;54m─\u001b[0m\u001b[38;5;54m─\u001b[0m\u001b[38;5;54m─\u001b[0m\u001b[38;5;54m─\u001b[0m\u001b[38;5;54m─\u001b[0m\u001b[38;5;54m─\u001b[0m\u001b[38;5;54m─\u001b[0m\u001b[38;5;54m─\u001b[0m\u001b[38;5;54m─\u001b[0m\u001b[38;5;54m─\u001b[0m\u001b[38;5;54m─\u001b[0m\u001b[38;5;54m┬\u001b[0m\u001b[38;5;54m─\u001b[0m\u001b[38;5;54m─\u001b[0m\u001b[38;5;54m─\u001b[0m\u001b[38;5;54m─\u001b[0m\u001b[38;5;54m─\u001b[0m\u001b[38;5;54m─\u001b[0m\u001b[38;5;54m─\u001b[0m\u001b[38;5;54m─\u001b[0m\u001b[38;5;54m─\u001b[0m\u001b[38;5;54m─\u001b[0m\u001b[38;5;54m─\u001b[0m\u001b[38;5;54m─\u001b[0m  ",
      " \u001b[38;5;246m   ·\u001b[0m                                           \u001b[38;5;54m╰\u001b[0m\u001b[38;5;54m─\u001b[0m\u001b[38;5;54m─\u001b[0m\u001b[38;5;54m─\u001b[0m\u001b[38;5;54m─\u001b[0m\u001b[38;5;54m─\u001b[0m\u001b[38;5;54m─\u001b[0m\u001b[38;5;54m─\u001b[0m\u001b[38;5;54m─\u001b[0m\u001b[38;5;54m─\u001b[0m\u001b[38;5;54m─\u001b[0m\u001b[38;5;54m─\u001b[0m\u001b[38;5;54m─\u001b[0m\u001b[38;5;54m─\u001b[0m\u001b[38;5;54m─\u001b[0m the found opaque type",
      "\u001b[38;5;246m────╯\u001b[0m"
     ]
    }
   ],
   "source": [
    "use std::{future::Future, task::{Context, Wake, Waker}, pin::Pin, sync::Arc};\n",
    "\n",
    "struct Sleep {\n",
    "    start_time: Instant,\n",
    "}\n",
    "\n",
    "impl Future for Sleep {\n",
    "    type Output = i32;\n",
    "    fn poll(self: Pin<&mut Sleep>, _: &mut Context) -> Poll<i32> {\n",
    "        if Instant::now() - self.start_time > Duration::from_secs(1) {\n",
    "            Poll::Ready(5)\n",
    "        } else {\n",
    "            Poll::Pending\n",
    "        }\n",
    "    }\n",
    "}\n",
    "\n",
    "struct EmptyWaker;\n",
    "impl Wake for EmptyWaker {\n",
    "    fn wake(self: Arc<Self>) {\n",
    "    }\n",
    "}\n",
    "\n",
    "fn sleep_1s_and_return_5() -> impl Future<Output = i32> {\n",
    "    Sleep { start_time: Instant::now() }\n",
    "}\n",
    "{\n",
    "    let future = &mut sleep_1s_and_return_5();\n",
    "    let mut sleep_result = Pin::new(future);\n",
    "    let waker = Arc::new(EmptyWaker).into();\n",
    "    let mut context = Context::from_waker(&waker);\n",
    "    loop {\n",
    "        match sleep_result.as_mut().poll(&mut context) {\n",
    "            Poll::Ready(x) => break x,\n",
    "            Poll::Pending => println!(\"pending\"),\n",
    "        }\n",
    "        sleep(Duration::from_millis(100)); // to prevent spamming the stdout\n",
    "    }\n",
    "}"
   ]
  },
  {
   "cell_type": "markdown",
   "metadata": {},
   "source": [
    "Too much ceremony added. Let's break them:\n",
    "* `Future` is a trait, which represents tasks that can be polled.\n",
    "* `Context` can provide a way for tasks to notify the runner they need to be polled. We didn't notify the runtime, so our implementation is technically wrong and runner is allowed to not poll our future, but since we provide runner as well, it works.\n",
    "\n",
    "Now imagine we want to write a non blocking function which calls that function two times and print between calls. Blocking version is here:\n"
   ]
  },
  {
   "cell_type": "code",
   "execution_count": 36,
   "metadata": {
    "vscode": {
     "languageId": "rust"
    }
   },
   "outputs": [
    {
     "name": "stdout",
     "output_type": "stream",
     "text": [
      "start\n",
      "middle\n",
      "end\n"
     ]
    },
    {
     "data": {
      "text/plain": [
       "10"
      ]
     },
     "execution_count": 36,
     "metadata": {},
     "output_type": "execute_result"
    }
   ],
   "source": [
    "fn sleep_1s_and_return_5() -> i32 {\n",
    "    sleep(Duration::from_secs(1));\n",
    "    5\n",
    "}\n",
    "\n",
    "fn composed_job() -> i32 {\n",
    "    println!(\"start\");\n",
    "    let x = sleep_1s_and_return_5();\n",
    "    println!(\"middle\");\n",
    "    let y = sleep_1s_and_return_5();\n",
    "    println!(\"end\");\n",
    "    x + y\n",
    "}\n",
    "\n",
    "composed_job()"
   ]
  },
  {
   "cell_type": "markdown",
   "metadata": {},
   "source": [
    "Manual non blocking version would be way more complex:"
   ]
  },
  {
   "cell_type": "code",
   "execution_count": 25,
   "metadata": {
    "vscode": {
     "languageId": "rust"
    }
   },
   "outputs": [
    {
     "name": "stdout",
     "output_type": "stream",
     "text": [
      "begining\n",
      "pending pending pending pending pending pending pending pending pending pending middle\n",
      "pending pending pending pending pending pending pending pending pending pending end\n"
     ]
    },
    {
     "data": {
      "text/plain": [
       "10"
      ]
     },
     "execution_count": 25,
     "metadata": {},
     "output_type": "execute_result"
    }
   ],
   "source": [
    "fn sleep_1s_and_return_5() -> Sleep {\n",
    "    Sleep { start_time: Instant::now() }\n",
    "}\n",
    "\n",
    "struct Sleep {\n",
    "    start_time: Instant,\n",
    "}\n",
    "\n",
    "impl Future for Sleep {\n",
    "    type Output = i32;\n",
    "    fn poll(self: Pin<&mut Sleep>, _: &mut Context) -> Poll<i32> {\n",
    "        if Instant::now() - self.start_time > Duration::from_secs(1) {\n",
    "            Poll::Ready(5)\n",
    "        } else {\n",
    "            Poll::Pending\n",
    "        }\n",
    "    }\n",
    "}\n",
    "\n",
    "enum ComposedJobStateMachine {\n",
    "    NotStarted,\n",
    "    Beginning { fut1: Pin<Box<Sleep>> },\n",
    "    Middle { x: i32, fut2: Pin<Box<Sleep>> },\n",
    "    End { x: i32, y: i32 },\n",
    "}\n",
    "\n",
    "use ComposedJobStateMachine::*;\n",
    "\n",
    "impl Future for ComposedJobStateMachine {\n",
    "    type Output = i32;\n",
    "    fn poll(mut self: Pin<&mut ComposedJobStateMachine>, cx: &mut Context) -> Poll<i32> {\n",
    "        match &mut *self {\n",
    "            NotStarted => {\n",
    "                println!(\"begining\");\n",
    "                *self = Beginning {\n",
    "                    fut1: Box::pin(sleep_1s_and_return_5()),\n",
    "                };\n",
    "                Poll::Pending\n",
    "            }\n",
    "            Beginning { fut1 } => {\n",
    "                match fut1.as_mut().poll(cx) {\n",
    "                    Poll::Ready(x) => {\n",
    "                        println!(\"middle\");\n",
    "                        *self = Middle {\n",
    "                            x, fut2: Box::pin(sleep_1s_and_return_5()),\n",
    "                        };\n",
    "                        Poll::Pending\n",
    "                    }\n",
    "                    Poll::Pending => Poll::Pending,\n",
    "                }\n",
    "            }\n",
    "            Middle { x, fut2 } => {\n",
    "                match fut2.as_mut().poll(cx) {\n",
    "                    Poll::Ready(y) => {\n",
    "                        println!(\"end\");\n",
    "                        let x = *x;\n",
    "                        *self = End { x, y };\n",
    "                        Poll::Ready(x + y)\n",
    "                    }\n",
    "                    Poll::Pending => Poll::Pending,\n",
    "                }\n",
    "            }\n",
    "            End { x, y } => Poll::Ready(*x + *y),\n",
    "        }\n",
    "    }\n",
    "}\n",
    "\n",
    "fn composed_job() -> impl Future<Output = i32> {\n",
    "    NotStarted\n",
    "}\n",
    "\n",
    "{\n",
    "    let future = &mut composed_job();\n",
    "    let mut sleep_result = Pin::new(future);\n",
    "    let waker = Arc::new(EmptyWaker).into();\n",
    "    let mut context = Context::from_waker(&waker);\n",
    "    loop {\n",
    "        match sleep_result.as_mut().poll(&mut context) {\n",
    "            Poll::Ready(x) => break x,\n",
    "            Poll::Pending => print!(\"pending \"),\n",
    "        }\n",
    "        sleep(Duration::from_millis(100)); // to prevent spamming the stdout\n",
    "    }\n",
    "}"
   ]
  },
  {
   "cell_type": "markdown",
   "metadata": {},
   "source": [
    "We created a state machine to keep which line of code we were in the last call. Since creating this stack machine is a very good way to compose multiple non blocking tasks, Rust supports it at the language level. We can write the above code with `async` blocks:"
   ]
  },
  {
   "cell_type": "code",
   "execution_count": 29,
   "metadata": {
    "vscode": {
     "languageId": "rust"
    }
   },
   "outputs": [
    {
     "name": "stdout",
     "output_type": "stream",
     "text": [
      "start\n",
      "pending pending pending pending pending pending pending pending pending pending middle\n",
      "pending pending pending pending pending pending pending pending pending pending end\n"
     ]
    },
    {
     "data": {
      "text/plain": [
       "10"
      ]
     },
     "execution_count": 29,
     "metadata": {},
     "output_type": "execute_result"
    }
   ],
   "source": [
    "fn composed_job() -> impl Future<Output = i32> {\n",
    "    async {\n",
    "        println!(\"start\");\n",
    "        let x = sleep_1s_and_return_5().await;\n",
    "        println!(\"middle\");\n",
    "        let y = sleep_1s_and_return_5().await;\n",
    "        println!(\"end\");\n",
    "        x + y\n",
    "    }\n",
    "}\n",
    "\n",
    "{\n",
    "    let future = composed_job();\n",
    "    let mut sleep_result = Box::pin(future);\n",
    "    let waker = Arc::new(EmptyWaker).into();\n",
    "    let mut context = Context::from_waker(&waker);\n",
    "    loop {\n",
    "        match sleep_result.as_mut().poll(&mut context) {\n",
    "            Poll::Ready(x) => break x,\n",
    "            Poll::Pending => print!(\"pending \"),\n",
    "        }\n",
    "        sleep(Duration::from_millis(100)); // to prevent spamming the stdout\n",
    "    }\n",
    "}"
   ]
  },
  {
   "cell_type": "markdown",
   "metadata": {},
   "source": [
    "The `async` version looks like blocking, but works like non-blocking. Also Rust version is more performant. It doesn't have heap allocation and instead uses a self referential structure as state machine. `Pin`, which you have seen in above codes, is for this. `Pin<Pointer<T>>` is a type that guarantees that `T` won't be moved. `Pin` is very important for self referential data structures, since moving self referential data structres invalidates them.\n",
    "\n",
    "Now that we have `async`, we can write concourent code which runs in a single thread:"
   ]
  },
  {
   "cell_type": "code",
   "execution_count": null,
   "metadata": {
    "vscode": {
     "languageId": "rust"
    }
   },
   "outputs": [],
   "source": [
    "fn concurent_job() -> impl Future<Output = i32> {\n",
    "    join!(\n",
    "        async {\n",
    "            println!(\"start\");\n",
    "            let x = sleep_1s_and_return_5().await;\n",
    "            println!(\"middle\");\n",
    "            let y = sleep_1s_and_return_5().await;\n",
    "            println!(\"end\");\n",
    "            x + y\n",
    "        }\n",
    "    )\n",
    "}\n",
    "\n",
    "{\n",
    "    let future = concurent_job();\n",
    "    let mut sleep_result = Box::pin(future);\n",
    "    let waker = Arc::new(EmptyWaker).into();\n",
    "    let mut context = Context::from_waker(&waker);\n",
    "    loop {\n",
    "        match sleep_result.as_mut().poll(&mut context) {\n",
    "            Poll::Ready(x) => break x,\n",
    "            Poll::Pending => print!(\"pending \"),\n",
    "        }\n",
    "        sleep(Duration::from_millis(100)); // to prevent spamming the stdout\n",
    "    }\n",
    "}"
   ]
  }
 ],
 "metadata": {
  "kernelspec": {
   "display_name": "Rust",
   "language": "rust",
   "name": "rust"
  },
  "language_info": {
   "codemirror_mode": "rust",
   "file_extension": ".rs",
   "mimetype": "text/rust",
   "name": "Rust",
   "pygment_lexer": "rust",
   "version": ""
  },
  "orig_nbformat": 4
 },
 "nbformat": 4,
 "nbformat_minor": 2
}
