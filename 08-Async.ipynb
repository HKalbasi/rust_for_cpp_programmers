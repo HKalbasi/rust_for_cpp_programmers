{
 "cells": [
  {
   "cell_type": "markdown",
   "metadata": {},
   "source": [
    "# Async\n",
    "\n",
    "General note: Code shown here are for educational proposes only. In production, use a ready runtime like \n",
    "\n",
    "For IO operations, there is two way, blocking and non blocking. Here is a blocking sleep:"
   ]
  },
  {
   "cell_type": "code",
   "execution_count": 5,
   "metadata": {
    "vscode": {
     "languageId": "rust"
    }
   },
   "outputs": [
    {
     "data": {
      "text/plain": [
       "5"
      ]
     },
     "execution_count": 5,
     "metadata": {},
     "output_type": "execute_result"
    }
   ],
   "source": [
    "use std::{time::Duration, thread::sleep};\n",
    "\n",
    "fn sleep_1s_and_return_5() -> i32 {\n",
    "    sleep(Duration::from_secs(1));\n",
    "    5\n",
    "}\n",
    "\n",
    "sleep_1s_and_return_5()"
   ]
  },
  {
   "cell_type": "markdown",
   "metadata": {},
   "source": [
    "And here is a non blocking sleep. `Poll<T>` is a topologically equal enum to `Option<T>`. We like different types with equal topology in Rust, because it will prevent misusing a `Poll<T>` when an `Option<T>` is needed. A non blocking version is fairly more complex:"
   ]
  },
  {
   "cell_type": "code",
   "execution_count": 6,
   "metadata": {
    "vscode": {
     "languageId": "rust"
    }
   },
   "outputs": [
    {
     "name": "stdout",
     "output_type": "stream",
     "text": [
      "pending\n",
      "pending\n",
      "pending\n",
      "pending\n",
      "pending\n",
      "pending\n",
      "pending\n",
      "pending\n",
      "pending\n",
      "pending\n"
     ]
    },
    {
     "data": {
      "text/plain": [
       "5"
      ]
     },
     "execution_count": 6,
     "metadata": {},
     "output_type": "execute_result"
    }
   ],
   "source": [
    "use std::{task::Poll, time::Instant};\n",
    "\n",
    "struct Sleep {\n",
    "    start_time: Instant,\n",
    "}\n",
    "\n",
    "impl Sleep {\n",
    "    fn try_again(&self) -> Poll<i32> {\n",
    "        if Instant::now() - self.start_time > Duration::from_secs(1) {\n",
    "            Poll::Ready(5)\n",
    "        } else {\n",
    "            Poll::Pending\n",
    "        }\n",
    "    }\n",
    "}\n",
    "\n",
    "fn sleep_1s_and_return_5() -> Sleep {\n",
    "    Sleep { start_time: Instant::now() }\n",
    "}\n",
    "\n",
    "let sleep_result = sleep_1s_and_return_5();\n",
    "loop {\n",
    "    match sleep_result.try_again() {\n",
    "        Poll::Ready(x) => break x,\n",
    "        Poll::Pending => println!(\"pending\"),\n",
    "    }\n",
    "    sleep(Duration::from_millis(100)); // to prevent spamming the stdout\n",
    "}"
   ]
  },
  {
   "cell_type": "markdown",
   "metadata": {},
   "source": [
    "Trait `Future` abstracts the functionality we implemented above. Let's use that instead:"
   ]
  },
  {
   "cell_type": "code",
   "execution_count": 7,
   "metadata": {
    "vscode": {
     "languageId": "rust"
    }
   },
   "outputs": [
    {
     "name": "stdout",
     "output_type": "stream",
     "text": [
      "pending\n",
      "pending\n",
      "pending\n",
      "pending\n",
      "pending\n",
      "pending\n",
      "pending\n",
      "pending\n",
      "pending\n",
      "pending\n"
     ]
    },
    {
     "data": {
      "text/plain": [
       "5"
      ]
     },
     "execution_count": 7,
     "metadata": {},
     "output_type": "execute_result"
    }
   ],
   "source": [
    "use std::{future::Future, task::{Context, Wake, Waker}, pin::Pin, sync::Arc};\n",
    "\n",
    "struct Sleep {\n",
    "    start_time: Instant,\n",
    "}\n",
    "\n",
    "impl Future for Sleep {\n",
    "    type Output = i32;\n",
    "    fn poll(self: Pin<&mut Sleep>, _: &mut Context) -> Poll<i32> {\n",
    "        if Instant::now() - self.start_time > Duration::from_secs(1) {\n",
    "            Poll::Ready(5)\n",
    "        } else {\n",
    "            Poll::Pending\n",
    "        }\n",
    "    }\n",
    "}\n",
    "\n",
    "struct EmptyWaker;\n",
    "impl Wake for EmptyWaker {\n",
    "    fn wake(self: Arc<Self>) {\n",
    "    }\n",
    "}\n",
    "\n",
    "fn sleep_1s_and_return_5() -> impl Future<Output = i32> {\n",
    "    Sleep { start_time: Instant::now() }\n",
    "}\n",
    "{\n",
    "    let future = &mut sleep_1s_and_return_5();\n",
    "    let mut sleep_result = Pin::new(future);\n",
    "    let waker = Arc::new(EmptyWaker).into();\n",
    "    let mut context = Context::from_waker(&waker);\n",
    "    loop {\n",
    "        match sleep_result.as_mut().poll(&mut context) {\n",
    "            Poll::Ready(x) => break x,\n",
    "            Poll::Pending => println!(\"pending\"),\n",
    "        }\n",
    "        sleep(Duration::from_millis(100)); // to prevent spamming the stdout\n",
    "    }\n",
    "}"
   ]
  },
  {
   "cell_type": "markdown",
   "metadata": {},
   "source": [
    "Too much ceremony added. Let's break them:\n",
    "* `Future` is a trait, which represents tasks that can be polled.\n",
    "* `Context` can provide a way for tasks to notify the runner they need to be polled. We didn't notify the runtime, so our implementation is technically wrong and runner is allowed to not poll our future, but since we provide runner as well, it works.\n",
    "\n",
    "Now imagine we want to write a non blocking function which calls that function two times and print between calls. Blocking version is here:\n"
   ]
  },
  {
   "cell_type": "code",
   "execution_count": 7,
   "metadata": {
    "vscode": {
     "languageId": "rust"
    }
   },
   "outputs": [
    {
     "name": "stdout",
     "output_type": "stream",
     "text": [
      "start\n",
      "middle\n",
      "end\n"
     ]
    },
    {
     "data": {
      "text/plain": [
       "10"
      ]
     },
     "execution_count": 7,
     "metadata": {},
     "output_type": "execute_result"
    }
   ],
   "source": [
    "fn sleep_1s_and_return_5() -> i32 {\n",
    "    sleep(Duration::from_secs(1));\n",
    "    5\n",
    "}\n",
    "\n",
    "fn composed_job() -> i32 {\n",
    "    println!(\"start\");\n",
    "    let x = sleep_1s_and_return_5();\n",
    "    println!(\"middle\");\n",
    "    let y = sleep_1s_and_return_5();\n",
    "    println!(\"end\");\n",
    "    x + y\n",
    "}\n",
    "\n",
    "composed_job()"
   ]
  },
  {
   "cell_type": "markdown",
   "metadata": {},
   "source": [
    "Manual non blocking version would be way more complex:"
   ]
  },
  {
   "cell_type": "code",
   "execution_count": 8,
   "metadata": {
    "vscode": {
     "languageId": "rust"
    }
   },
   "outputs": [
    {
     "name": "stdout",
     "output_type": "stream",
     "text": [
      "begining\n",
      "pending pending pending pending pending pending pending pending pending pending middle\n",
      "pending pending pending pending pending pending pending pending pending pending end\n"
     ]
    },
    {
     "data": {
      "text/plain": [
       "10"
      ]
     },
     "execution_count": 8,
     "metadata": {},
     "output_type": "execute_result"
    }
   ],
   "source": [
    "fn sleep_1s_and_return_5() -> Sleep {\n",
    "    Sleep { start_time: Instant::now() }\n",
    "}\n",
    "\n",
    "struct Sleep {\n",
    "    start_time: Instant,\n",
    "}\n",
    "\n",
    "impl Future for Sleep {\n",
    "    type Output = i32;\n",
    "    fn poll(self: Pin<&mut Sleep>, _: &mut Context) -> Poll<i32> {\n",
    "        if Instant::now() - self.start_time > Duration::from_secs(1) {\n",
    "            Poll::Ready(5)\n",
    "        } else {\n",
    "            Poll::Pending\n",
    "        }\n",
    "    }\n",
    "}\n",
    "\n",
    "enum ComposedJobStateMachine {\n",
    "    NotStarted,\n",
    "    Beginning { fut1: Pin<Box<Sleep>> },\n",
    "    Middle { x: i32, fut2: Pin<Box<Sleep>> },\n",
    "    End { x: i32, y: i32 },\n",
    "}\n",
    "\n",
    "use ComposedJobStateMachine::*;\n",
    "\n",
    "impl Future for ComposedJobStateMachine {\n",
    "    type Output = i32;\n",
    "    fn poll(mut self: Pin<&mut ComposedJobStateMachine>, cx: &mut Context) -> Poll<i32> {\n",
    "        match &mut *self {\n",
    "            NotStarted => {\n",
    "                println!(\"begining\");\n",
    "                *self = Beginning {\n",
    "                    fut1: Box::pin(sleep_1s_and_return_5()),\n",
    "                };\n",
    "                Poll::Pending\n",
    "            }\n",
    "            Beginning { fut1 } => {\n",
    "                match fut1.as_mut().poll(cx) {\n",
    "                    Poll::Ready(x) => {\n",
    "                        println!(\"middle\");\n",
    "                        *self = Middle {\n",
    "                            x, fut2: Box::pin(sleep_1s_and_return_5()),\n",
    "                        };\n",
    "                        Poll::Pending\n",
    "                    }\n",
    "                    Poll::Pending => Poll::Pending,\n",
    "                }\n",
    "            }\n",
    "            Middle { x, fut2 } => {\n",
    "                match fut2.as_mut().poll(cx) {\n",
    "                    Poll::Ready(y) => {\n",
    "                        println!(\"end\");\n",
    "                        let x = *x;\n",
    "                        *self = End { x, y };\n",
    "                        Poll::Ready(x + y)\n",
    "                    }\n",
    "                    Poll::Pending => Poll::Pending,\n",
    "                }\n",
    "            }\n",
    "            End { x, y } => Poll::Ready(*x + *y),\n",
    "        }\n",
    "    }\n",
    "}\n",
    "\n",
    "fn composed_job() -> impl Future<Output = i32> {\n",
    "    NotStarted\n",
    "}\n",
    "\n",
    "{\n",
    "    let future = &mut composed_job();\n",
    "    let mut sleep_result = Pin::new(future);\n",
    "    let waker = Arc::new(EmptyWaker).into();\n",
    "    let mut context = Context::from_waker(&waker);\n",
    "    loop {\n",
    "        match sleep_result.as_mut().poll(&mut context) {\n",
    "            Poll::Ready(x) => break x,\n",
    "            Poll::Pending => print!(\"pending \"),\n",
    "        }\n",
    "        sleep(Duration::from_millis(100)); // to prevent spamming the stdout\n",
    "    }\n",
    "}"
   ]
  },
  {
   "cell_type": "markdown",
   "metadata": {},
   "source": [
    "We created a state machine to keep which line of code we were in the last call. Since creating this stack machine is a very good way to compose multiple non blocking tasks, Rust supports it at the language level. We can write the above code with `async` blocks:"
   ]
  },
  {
   "cell_type": "code",
   "execution_count": 9,
   "metadata": {
    "vscode": {
     "languageId": "rust"
    }
   },
   "outputs": [
    {
     "name": "stdout",
     "output_type": "stream",
     "text": [
      "start\n",
      "pending pending pending pending pending pending pending pending pending pending middle\n",
      "pending pending pending pending pending pending pending pending pending pending end\n"
     ]
    },
    {
     "data": {
      "text/plain": [
       "10"
      ]
     },
     "execution_count": 9,
     "metadata": {},
     "output_type": "execute_result"
    }
   ],
   "source": [
    "fn composed_job() -> impl Future<Output = i32> {\n",
    "    async {\n",
    "        println!(\"start\");\n",
    "        let x = sleep_1s_and_return_5().await;\n",
    "        println!(\"middle\");\n",
    "        let y = sleep_1s_and_return_5().await;\n",
    "        println!(\"end\");\n",
    "        x + y\n",
    "    }\n",
    "}\n",
    "\n",
    "{\n",
    "    let future = composed_job();\n",
    "    let mut sleep_result = Box::pin(future);\n",
    "    let waker = Arc::new(EmptyWaker).into();\n",
    "    let mut context = Context::from_waker(&waker);\n",
    "    loop {\n",
    "        match sleep_result.as_mut().poll(&mut context) {\n",
    "            Poll::Ready(x) => break x,\n",
    "            Poll::Pending => print!(\"pending \"),\n",
    "        }\n",
    "        sleep(Duration::from_millis(100)); // to prevent spamming the stdout\n",
    "    }\n",
    "}"
   ]
  },
  {
   "cell_type": "markdown",
   "metadata": {},
   "source": [
    "The `async` version looks like blocking, but works like non-blocking. Also Rust version is more performant. It doesn't have heap allocation and instead uses a self referential structure as state machine. It also nests state machines of multiple async blocks inside each other, by going through generators. `Pin`, which you have seen in above codes, is for this. `Pin<Pointer<T>>` is a type that guarantees that `T` won't be moved. `Pin` is very important for self referential data structures, since moving self referential data structres invalidates them.\n",
    "\n",
    "Now that we have `async`, we can write concourent code which runs in a single thread:"
   ]
  },
  {
   "cell_type": "code",
   "execution_count": 17,
   "metadata": {
    "vscode": {
     "languageId": "rust"
    }
   },
   "outputs": [],
   "source": [
    ":dep futures = \"0.3\""
   ]
  },
  {
   "cell_type": "code",
   "execution_count": 17,
   "metadata": {
    "vscode": {
     "languageId": "rust"
    }
   },
   "outputs": [
    {
     "name": "stdout",
     "output_type": "stream",
     "text": [
      "start\n",
      "1\n",
      "middle\n",
      "2\n",
      "end\n",
      "3\n",
      "4\n",
      "5\n"
     ]
    },
    {
     "data": {
      "text/plain": [
       "()"
      ]
     },
     "execution_count": 17,
     "metadata": {},
     "output_type": "execute_result"
    }
   ],
   "source": [
    "fn concurent_job() -> impl Future<Output = ()> {\n",
    "    async {\n",
    "        futures::join!(\n",
    "            async {\n",
    "                println!(\"start\");\n",
    "                let x = sleep_1s_and_return_5().await;\n",
    "                println!(\"middle\");\n",
    "                let y = sleep_1s_and_return_5().await;\n",
    "                println!(\"end\");\n",
    "                x + y\n",
    "            },\n",
    "            async {\n",
    "                for i in 1..=5 {\n",
    "                    println!(\"{i}\");\n",
    "                    sleep_1s_and_return_5().await;\n",
    "                }\n",
    "            }\n",
    "        );\n",
    "    }\n",
    "}\n",
    "\n",
    "{\n",
    "    let future = concurent_job();\n",
    "    let mut sleep_result = Box::pin(future);\n",
    "    let waker = Arc::new(EmptyWaker).into();\n",
    "    let mut context = Context::from_waker(&waker);\n",
    "    loop {\n",
    "        match sleep_result.as_mut().poll(&mut context) {\n",
    "            Poll::Ready(x) => break x,\n",
    "            Poll::Pending => (),\n",
    "        }\n",
    "        sleep(Duration::from_millis(100));\n",
    "    }\n",
    "}"
   ]
  },
  {
   "cell_type": "markdown",
   "metadata": {},
   "source": [
    "Until this point, we poll each future eagarly and added a 100ms delay to not prevent busy waiting. This is wrong since a future can become ready before 100ms. We should use wake mechanism to fix this:"
   ]
  },
  {
   "cell_type": "code",
   "execution_count": 14,
   "metadata": {
    "vscode": {
     "languageId": "rust"
    }
   },
   "outputs": [
    {
     "name": "stderr",
     "output_type": "stream",
     "text": [
      "The type of the variable sleep_result was redefined, so was lost.\n"
     ]
    },
    {
     "name": "stdout",
     "output_type": "stream",
     "text": [
      "pending\n"
     ]
    },
    {
     "data": {
      "text/plain": [
       "5"
      ]
     },
     "execution_count": 14,
     "metadata": {},
     "output_type": "execute_result"
    }
   ],
   "source": [
    "use std::{thread, future::Future, task::{Context, Wake, Waker}, pin::Pin, sync::Arc};\n",
    "\n",
    "struct Sleep {\n",
    "    start_time: Instant,\n",
    "    waker_started: bool,\n",
    "}\n",
    "\n",
    "impl Future for Sleep {\n",
    "    type Output = i32;\n",
    "    fn poll(self: Pin<&mut Sleep>, cx: &mut Context) -> Poll<i32> {\n",
    "        if Instant::now() - self.start_time > Duration::from_secs(1) {\n",
    "            Poll::Ready(5)\n",
    "        } else {\n",
    "            let remain = Duration::from_secs(1) - (Instant::now() - self.start_time);\n",
    "            let waker = cx.waker().clone();\n",
    "            if !self.waker_started {\n",
    "                thread::spawn(move || {\n",
    "                    thread::sleep(remain);\n",
    "                    waker.wake();\n",
    "                });\n",
    "            }\n",
    "            Poll::Pending\n",
    "        }\n",
    "    }\n",
    "}\n",
    "\n",
    "struct ThreadWaker(thread::Thread);\n",
    "impl Wake for ThreadWaker {\n",
    "    fn wake(self: Arc<Self>) {\n",
    "        self.0.unpark();\n",
    "    }\n",
    "}\n",
    "\n",
    "fn sleep_1s_and_return_5() -> impl Future<Output = i32> {\n",
    "    Sleep { start_time: Instant::now(), waker_started: false }\n",
    "}\n",
    "\n",
    "{\n",
    "    let future = &mut sleep_1s_and_return_5();\n",
    "    let mut sleep_result = Pin::new(future);\n",
    "    let waker = Arc::new(ThreadWaker(thread::current())).into();\n",
    "    let mut context = Context::from_waker(&waker);\n",
    "    loop {\n",
    "        match sleep_result.as_mut().poll(&mut context) {\n",
    "            Poll::Ready(x) => break x,\n",
    "            Poll::Pending => println!(\"pending\"),\n",
    "        }\n",
    "        thread::park();\n",
    "    }\n",
    "}"
   ]
  },
  {
   "cell_type": "markdown",
   "metadata": {},
   "source": [
    "Now there is just one `pending` executed. The loop code which creates a waker and call `.poll` until it finishes is called an executor, and the code inside sleep future which creates a thread and calls `.wake` is a reactor (a super stupid one). Since Rust is a no runtime language (unlike for example JS) writing these is on the shoulder of user. There are many third party libraries which provide executor and reactors for common things like timers and networking and IO. Some executors are for embedded systems, some are for writing OS, and ..., and there are multiple competeing executors for running in normal computers, which in them `tokio` is the more popular one."
   ]
  },
  {
   "cell_type": "code",
   "execution_count": 19,
   "metadata": {
    "vscode": {
     "languageId": "rust"
    }
   },
   "outputs": [],
   "source": [
    ":dep tokio = { version = \"1\", features = [\"full\"] }"
   ]
  },
  {
   "cell_type": "code",
   "execution_count": 22,
   "metadata": {
    "vscode": {
     "languageId": "rust"
    }
   },
   "outputs": [
    {
     "name": "stdout",
     "output_type": "stream",
     "text": [
      "b 1\n",
      "b 2\n",
      "a 1\n",
      "b 3\n",
      "b 4\n",
      "a 2\n",
      "b 5\n",
      "b 6\n",
      "a 3\n",
      "b 7\n",
      "b 8\n",
      "b 9\n",
      "a 4\n",
      "b 10\n",
      "a 5\n"
     ]
    },
    {
     "data": {
      "text/plain": [
       "()"
      ]
     },
     "execution_count": 22,
     "metadata": {},
     "output_type": "execute_result"
    }
   ],
   "source": [
    "use tokio::runtime::Runtime;\n",
    "\n",
    "{\n",
    "    let rt = Runtime::new().unwrap();\n",
    "    rt.block_on(async {\n",
    "        futures::join!(\n",
    "            async {\n",
    "                for i in 1..=5 {\n",
    "                    // this sleep function returns a future which its waker works with tokio runtime\n",
    "                    tokio::time::sleep(Duration::from_millis(700)).await;\n",
    "                    println!(\"a {i}\");\n",
    "                }\n",
    "            },\n",
    "            async {\n",
    "                for i in 1..=10 {\n",
    "                    tokio::time::sleep(Duration::from_millis(300)).await;\n",
    "                    println!(\"b {i}\");\n",
    "                }\n",
    "            }\n",
    "        );\n",
    "    })\n",
    "}"
   ]
  },
  {
   "cell_type": "markdown",
   "metadata": {},
   "source": [
    "This was a basic taste of async in Rust, and was no where near complete. There are other great resources to learn async in Rust. The goal of this chapter was to only make you familiar with this existence of this feature in Rust, which doesn't exists in C, and it is only added in C++20 (in Rust, tokio and futures was there from 2016 and async await syntax was added in 2018). The one in C++ is similar, but different. Both use generators to lower the async blocks, but C++ exposes the coroutine to the user unlike Rust, which coroutine and generators are just implementation details. C++ adds implicit allocations, so it's async await is not useful for embedded and similar which allocation is not available. Also, being older, and with a sane package manager, Rust has richer async ecosystem.\n",
    "\n",
    "## Downside of Async Rust\n",
    "\n",
    "For normal Rust, there was C and C++ to take lessons from and not repeat their mistake, so it is very clean, consistent and simple. But Rust was the first low level and runtime less language adding async syntax, so many things are not ideal.\n",
    "\n",
    "### Async trait\n",
    "\n",
    "Before async trait, let's introduce async functions:"
   ]
  },
  {
   "cell_type": "code",
   "execution_count": 24,
   "metadata": {
    "vscode": {
     "languageId": "rust"
    }
   },
   "outputs": [],
   "source": [
    "async fn async_fn(name: &str, count: usize, delay: Duration) {\n",
    "    for i in 1..=count {\n",
    "        tokio::time::sleep(delay).await;\n",
    "        println!(\"{name} {i}\");\n",
    "    }\n",
    "}"
   ]
  },
  {
   "cell_type": "markdown",
   "metadata": {},
   "source": [
    "Which are just a syntax sugar for this:"
   ]
  },
  {
   "cell_type": "code",
   "execution_count": 28,
   "metadata": {
    "vscode": {
     "languageId": "rust"
    }
   },
   "outputs": [],
   "source": [
    "fn async_fn_desugared(name: &str, count: usize, delay: Duration) -> impl Future<Output=()> + '_ {\n",
    "    async move {\n",
    "        for i in 1..=count {\n",
    "            tokio::time::sleep(delay).await;\n",
    "            println!(\"{name} {i}\");\n",
    "        }\n",
    "    }\n",
    "}"
   ]
  },
  {
   "cell_type": "markdown",
   "metadata": {},
   "source": [
    "And we can use them like any other function which returns a future:"
   ]
  },
  {
   "cell_type": "code",
   "execution_count": 29,
   "metadata": {
    "vscode": {
     "languageId": "rust"
    }
   },
   "outputs": [
    {
     "name": "stdout",
     "output_type": "stream",
     "text": [
      "a 1\n",
      "a 2\n",
      "a 3\n",
      "a 4\n",
      "a 5\n"
     ]
    },
    {
     "data": {
      "text/plain": [
       "()"
      ]
     },
     "execution_count": 29,
     "metadata": {},
     "output_type": "execute_result"
    }
   ],
   "source": [
    "{\n",
    "    let rt = Runtime::new().unwrap();\n",
    "    rt.block_on(async {\n",
    "        async_fn(\"a\", 5, Duration::from_millis(700)).await;\n",
    "    })\n",
    "}"
   ]
  },
  {
   "cell_type": "markdown",
   "metadata": {},
   "source": [
    "In a real world async code, almost all functions are async, and you will rarely see async blocks. But, you can't make function in traits async:"
   ]
  },
  {
   "cell_type": "code",
   "execution_count": 30,
   "metadata": {
    "vscode": {
     "languageId": "rust"
    }
   },
   "outputs": [
    {
     "ename": "Error",
     "evalue": "functions in traits cannot be declared `async`",
     "output_type": "error",
     "traceback": [
      "\u001b[31m[E0706] Error:\u001b[0m functions in traits cannot be declared `async`",
      "   \u001b[38;5;246m╭\u001b[0m\u001b[38;5;246m─\u001b[0m\u001b[38;5;246m[\u001b[0mcommand_30:1:1\u001b[38;5;246m]\u001b[0m",
      "   \u001b[38;5;246m│\u001b[0m",
      " \u001b[38;5;246m2 │\u001b[0m \u001b[38;5;249m \u001b[0m\u001b[38;5;249m \u001b[0m\u001b[38;5;249m \u001b[0m\u001b[38;5;249m \u001b[0m\u001b[38;5;54ma\u001b[0m\u001b[38;5;54ms\u001b[0m\u001b[38;5;54my\u001b[0m\u001b[38;5;54mn\u001b[0m\u001b[38;5;54mc\u001b[0m\u001b[38;5;100m \u001b[0m\u001b[38;5;100mf\u001b[0m\u001b[38;5;100mn\u001b[0m\u001b[38;5;100m \u001b[0m\u001b[38;5;100mf\u001b[0m\u001b[38;5;100mo\u001b[0m\u001b[38;5;100mo\u001b[0m\u001b[38;5;100m(\u001b[0m\u001b[38;5;100m)\u001b[0m\u001b[38;5;100m;\u001b[0m",
      " \u001b[38;5;246m  ·\u001b[0m     \u001b[38;5;54m─\u001b[0m\u001b[38;5;54m─\u001b[0m\u001b[38;5;54m┬\u001b[0m\u001b[38;5;54m─\u001b[0m\u001b[38;5;54m─\u001b[0m\u001b[38;5;100m─\u001b[0m\u001b[38;5;100m─\u001b[0m\u001b[38;5;100m┬\u001b[0m\u001b[38;5;100m─\u001b[0m\u001b[38;5;100m─\u001b[0m\u001b[38;5;100m─\u001b[0m\u001b[38;5;100m─\u001b[0m\u001b[38;5;100m─\u001b[0m\u001b[38;5;100m─\u001b[0m\u001b[38;5;100m─\u001b[0m  ",
      " \u001b[38;5;246m  ·\u001b[0m       \u001b[38;5;54m╰\u001b[0m\u001b[38;5;54m─\u001b[0m\u001b[38;5;54m─\u001b[0m\u001b[38;5;54m─\u001b[0m\u001b[38;5;54m─\u001b[0m\u001b[38;5;54m─\u001b[0m\u001b[38;5;54m─\u001b[0m\u001b[38;5;54m─\u001b[0m\u001b[38;5;54m─\u001b[0m\u001b[38;5;54m─\u001b[0m\u001b[38;5;54m─\u001b[0m\u001b[38;5;54m─\u001b[0m\u001b[38;5;54m─\u001b[0m\u001b[38;5;54m─\u001b[0m\u001b[38;5;54m─\u001b[0m `async` because of this",
      " \u001b[38;5;246m  ·\u001b[0m            \u001b[38;5;100m│\u001b[0m         ",
      " \u001b[38;5;246m  ·\u001b[0m            \u001b[38;5;100m╰\u001b[0m\u001b[38;5;100m─\u001b[0m\u001b[38;5;100m─\u001b[0m\u001b[38;5;100m─\u001b[0m\u001b[38;5;100m─\u001b[0m\u001b[38;5;100m─\u001b[0m\u001b[38;5;100m─\u001b[0m\u001b[38;5;100m─\u001b[0m\u001b[38;5;100m─\u001b[0m\u001b[38;5;100m─\u001b[0m error: functions in traits cannot be declared `async`",
      "\u001b[38;5;246m───╯\u001b[0m"
     ]
    }
   ],
   "source": [
    "trait SomeTrait {\n",
    "    async fn foo();\n",
    "}"
   ]
  },
  {
   "cell_type": "markdown",
   "metadata": {},
   "source": [
    "Because `impl Trait` doesn't work in traits:"
   ]
  },
  {
   "cell_type": "code",
   "execution_count": 33,
   "metadata": {
    "vscode": {
     "languageId": "rust"
    }
   },
   "outputs": [
    {
     "ename": "Error",
     "evalue": "`impl Trait` only allowed in function and inherent method return types, not in trait method return",
     "output_type": "error",
     "traceback": [
      "\u001b[31m[E0562] Error:\u001b[0m `impl Trait` only allowed in function and inherent method return types, not in trait method return",
      "   \u001b[38;5;246m╭\u001b[0m\u001b[38;5;246m─\u001b[0m\u001b[38;5;246m[\u001b[0mcommand_33:1:1\u001b[38;5;246m]\u001b[0m",
      "   \u001b[38;5;246m│\u001b[0m",
      " \u001b[38;5;246m2 │\u001b[0m \u001b[38;5;249m \u001b[0m\u001b[38;5;249m \u001b[0m\u001b[38;5;249m \u001b[0m\u001b[38;5;249m \u001b[0m\u001b[38;5;249mf\u001b[0m\u001b[38;5;249mn\u001b[0m\u001b[38;5;249m \u001b[0m\u001b[38;5;249mf\u001b[0m\u001b[38;5;249mo\u001b[0m\u001b[38;5;249mo\u001b[0m\u001b[38;5;249m(\u001b[0m\u001b[38;5;249m)\u001b[0m\u001b[38;5;249m \u001b[0m\u001b[38;5;249m-\u001b[0m\u001b[38;5;249m>\u001b[0m\u001b[38;5;249m \u001b[0m\u001b[38;5;54mi\u001b[0m\u001b[38;5;54mm\u001b[0m\u001b[38;5;54mp\u001b[0m\u001b[38;5;54ml\u001b[0m\u001b[38;5;54m \u001b[0m\u001b[38;5;54mF\u001b[0m\u001b[38;5;54mu\u001b[0m\u001b[38;5;54mt\u001b[0m\u001b[38;5;54mu\u001b[0m\u001b[38;5;54mr\u001b[0m\u001b[38;5;54me\u001b[0m\u001b[38;5;54m<\u001b[0m\u001b[38;5;54mO\u001b[0m\u001b[38;5;54mu\u001b[0m\u001b[38;5;54mt\u001b[0m\u001b[38;5;54mp\u001b[0m\u001b[38;5;54mu\u001b[0m\u001b[38;5;54mt\u001b[0m\u001b[38;5;54m \u001b[0m\u001b[38;5;54m=\u001b[0m\u001b[38;5;54m \u001b[0m\u001b[38;5;54mi\u001b[0m\u001b[38;5;54m3\u001b[0m\u001b[38;5;54m2\u001b[0m\u001b[38;5;54m>\u001b[0m\u001b[38;5;249m;\u001b[0m",
      " \u001b[38;5;246m  ·\u001b[0m                 \u001b[38;5;54m─\u001b[0m\u001b[38;5;54m─\u001b[0m\u001b[38;5;54m─\u001b[0m\u001b[38;5;54m─\u001b[0m\u001b[38;5;54m─\u001b[0m\u001b[38;5;54m─\u001b[0m\u001b[38;5;54m─\u001b[0m\u001b[38;5;54m─\u001b[0m\u001b[38;5;54m─\u001b[0m\u001b[38;5;54m─\u001b[0m\u001b[38;5;54m─\u001b[0m\u001b[38;5;54m─\u001b[0m\u001b[38;5;54m┬\u001b[0m\u001b[38;5;54m─\u001b[0m\u001b[38;5;54m─\u001b[0m\u001b[38;5;54m─\u001b[0m\u001b[38;5;54m─\u001b[0m\u001b[38;5;54m─\u001b[0m\u001b[38;5;54m─\u001b[0m\u001b[38;5;54m─\u001b[0m\u001b[38;5;54m─\u001b[0m\u001b[38;5;54m─\u001b[0m\u001b[38;5;54m─\u001b[0m\u001b[38;5;54m─\u001b[0m\u001b[38;5;54m─\u001b[0m  ",
      " \u001b[38;5;246m  ·\u001b[0m                             \u001b[38;5;54m╰\u001b[0m\u001b[38;5;54m─\u001b[0m\u001b[38;5;54m─\u001b[0m\u001b[38;5;54m─\u001b[0m\u001b[38;5;54m─\u001b[0m\u001b[38;5;54m─\u001b[0m\u001b[38;5;54m─\u001b[0m\u001b[38;5;54m─\u001b[0m\u001b[38;5;54m─\u001b[0m\u001b[38;5;54m─\u001b[0m\u001b[38;5;54m─\u001b[0m\u001b[38;5;54m─\u001b[0m\u001b[38;5;54m─\u001b[0m\u001b[38;5;54m─\u001b[0m\u001b[38;5;54m─\u001b[0m error: `impl Trait` only allowed in function and inherent method return types, not in trait method return",
      "\u001b[38;5;246m───╯\u001b[0m"
     ]
    }
   ],
   "source": [
    "trait SomeTrait {\n",
    "    fn foo() -> impl Future<Output = i32>;\n",
    "}"
   ]
  },
  {
   "cell_type": "markdown",
   "metadata": {},
   "source": [
    "There is active work on support for `async fn` and `impl Trait` in traits. Until that work becomes done, we can use `Box<dyn Trait>`: "
   ]
  },
  {
   "cell_type": "code",
   "execution_count": 34,
   "metadata": {
    "vscode": {
     "languageId": "rust"
    }
   },
   "outputs": [],
   "source": [
    "trait SomeTrait {\n",
    "    fn foo() -> Box<dyn Future<Output = i32>>;\n",
    "}"
   ]
  },
  {
   "cell_type": "markdown",
   "metadata": {},
   "source": [
    "We can use `#[async_trait]` to make this conversation automatic:"
   ]
  },
  {
   "cell_type": "code",
   "execution_count": 37,
   "metadata": {
    "vscode": {
     "languageId": "rust"
    }
   },
   "outputs": [],
   "source": [
    ":dep async-trait = \"0.1\""
   ]
  },
  {
   "cell_type": "code",
   "execution_count": 45,
   "metadata": {
    "vscode": {
     "languageId": "rust"
    }
   },
   "outputs": [
    {
     "data": {
      "text/plain": [
       "46"
      ]
     },
     "execution_count": 45,
     "metadata": {},
     "output_type": "execute_result"
    }
   ],
   "source": [
    "use async_trait::async_trait;\n",
    "\n",
    "#[async_trait]\n",
    "trait SomeTrait {\n",
    "    async fn foo(self) -> i32;\n",
    "}\n",
    "\n",
    "#[async_trait]\n",
    "impl SomeTrait for i32 {\n",
    "    async fn foo(self) -> i32 {\n",
    "        tokio::time::sleep(Duration::from_millis(200)).await;\n",
    "        44 + self\n",
    "    }\n",
    "}\n",
    "\n",
    "{\n",
    "    let rt = Runtime::new().unwrap();\n",
    "    rt.block_on(async {\n",
    "        2.foo().await\n",
    "    })\n",
    "}"
   ]
  },
  {
   "cell_type": "markdown",
   "metadata": {},
   "source": [
    "Since implicit heap allocation is not acceptable in Rust, proper language support is blocked until `impl Trait` in traits. "
   ]
  },
  {
   "cell_type": "markdown",
   "metadata": {},
   "source": [
    "### Splitted ecosystem\n",
    "\n",
    "Rust doesn't have executor and reactors in the standard library, and it's a good thing, because there is no one-size-fit-all executor. A tiny embedded executor is not desired for a multi core server, and vise versa. But this causes interoperability problems. A library which uses `tokio::time::sleep` is incompatible with one using `embassy_executor::time::block_for` which is the same function for `embassy`, an embedded executor, even if it just sleeps and doesn't require any other functionality. There are async libraries which are executor independent, with having their own reactor. But they are either for a specific propose, or are not as performant as executor dependent libraries (like our timer, which was executor independent, but extremely wasteful by running one thread per sleep call). This can be partially solved by async trait and functions which are generic over executor."
   ]
  }
 ],
 "metadata": {
  "kernelspec": {
   "display_name": "Rust",
   "language": "rust",
   "name": "rust"
  },
  "language_info": {
   "codemirror_mode": "rust",
   "file_extension": ".rs",
   "mimetype": "text/rust",
   "name": "Rust",
   "pygment_lexer": "rust",
   "version": ""
  },
  "orig_nbformat": 4
 },
 "nbformat": 4,
 "nbformat_minor": 2
}
