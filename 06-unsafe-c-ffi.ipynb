{
 "cells": [
  {
   "cell_type": "markdown",
   "metadata": {},
   "source": [
    "# Unsafe, C and foreign function interface\n",
    "\n",
    "Safe Rust prevents memory safety, data-races, and enforces type specification at runtime, in a world full of unsafe system calls, racy and non-deterministic hardware, and codes in other languages like C/C++ which doesn't guarantee those and we need to interoperate with them. Rust achieves this via safe abstraction over unsafe things in the world.\n",
    "\n",
    "## Safe abstraction\n",
    "\n",
    "Imagine we have a database that we can connect to, and store an integer on it:"
   ]
  },
  {
   "cell_type": "code",
   "execution_count": 2,
   "metadata": {
    "vscode": {
     "languageId": "rust"
    }
   },
   "outputs": [
    {
     "data": {
      "text/plain": [
       "12"
      ]
     },
     "execution_count": 2,
     "metadata": {},
     "output_type": "execute_result"
    }
   ],
   "source": [
    "use std::{sync::atomic::{AtomicI32, Ordering}, time::Duration, thread};\n",
    "\n",
    "static MOCK_STORAGE: AtomicI32 = AtomicI32::new(5);\n",
    "\n",
    "pub struct Database;\n",
    "pub struct Connection;\n",
    "\n",
    "fn mock_network_operation() {\n",
    "    std::thread::sleep(Duration::from_millis(100));\n",
    "}\n",
    "\n",
    "impl Database {\n",
    "    fn connect(&self) -> Connection {\n",
    "        mock_network_operation();\n",
    "        Connection\n",
    "    }\n",
    "}\n",
    "\n",
    "impl Connection {\n",
    "    fn get(&self) -> i32 {\n",
    "        mock_network_operation();\n",
    "        MOCK_STORAGE.load(Ordering::SeqCst)\n",
    "    }\n",
    "\n",
    "    fn set(&self, value: i32) {\n",
    "        mock_network_operation();\n",
    "        MOCK_STORAGE.store(value, Ordering::SeqCst);\n",
    "    }\n",
    "}\n",
    "\n",
    "let connection = Database.connect();\n",
    "connection.set(12);\n",
    "connection.get()"
   ]
  },
  {
   "cell_type": "markdown",
   "metadata": {},
   "source": [
    "Now we want to send some commands to the database sequentially. Like sending a get to database and get `prev`, and then set it to `prev+1`:"
   ]
  },
  {
   "cell_type": "code",
   "execution_count": 15,
   "metadata": {
    "vscode": {
     "languageId": "rust"
    }
   },
   "outputs": [
    {
     "data": {
      "text/plain": [
       "25"
      ]
     },
     "execution_count": 15,
     "metadata": {},
     "output_type": "execute_result"
    }
   ],
   "source": [
    "fn increase(conn: &Connection) {\n",
    "    conn.set(conn.get() + 1);\n",
    "}\n",
    "\n",
    "connection.set(23);\n",
    "increase(&connection);\n",
    "increase(&connection);\n",
    "connection.get()"
   ]
  },
  {
   "cell_type": "markdown",
   "metadata": {},
   "source": [
    "But now users of our function `increase` can use it in multiple threads and get race condition:"
   ]
  },
  {
   "cell_type": "code",
   "execution_count": 16,
   "metadata": {
    "vscode": {
     "languageId": "rust"
    }
   },
   "outputs": [
    {
     "data": {
      "text/plain": [
       "1"
      ]
     },
     "execution_count": 16,
     "metadata": {},
     "output_type": "execute_result"
    }
   ],
   "source": [
    "use std::thread;\n",
    "\n",
    "connection.set(0);\n",
    "\n",
    "thread::scope(|s| {\n",
    "    for _ in 0..10 {\n",
    "        s.spawn(|| {\n",
    "            increase(&connection);\n",
    "        });\n",
    "    }\n",
    "});\n",
    "\n",
    "// ideally should be 10\n",
    "connection.get()"
   ]
  },
  {
   "cell_type": "markdown",
   "metadata": {},
   "source": [
    "Rust doesn't guarantee general race condition prevention, but we can help our users by providing a safe abstraction:"
   ]
  },
  {
   "cell_type": "code",
   "execution_count": 26,
   "metadata": {
    "vscode": {
     "languageId": "rust"
    }
   },
   "outputs": [
    {
     "data": {
      "text/plain": [
       "13"
      ]
     },
     "execution_count": 26,
     "metadata": {},
     "output_type": "execute_result"
    }
   ],
   "source": [
    "mod safe_connection { // Remember: Rust has module level privacy\n",
    "    use crate::{Connection, Database};\n",
    "    \n",
    "    pub struct SafeAbstractConnection {\n",
    "        inner_connection: Connection, // private field\n",
    "    }\n",
    "\n",
    "    impl SafeAbstractConnection {\n",
    "        pub fn new(db: &Database) -> Self {\n",
    "            Self {\n",
    "                inner_connection: db.connect(),\n",
    "            }\n",
    "        }\n",
    "\n",
    "        pub fn get(&self) -> i32 {\n",
    "            self.inner_connection.get()\n",
    "        }\n",
    "    \n",
    "        pub fn set(&self, value: i32) {\n",
    "            self.inner_connection.set(value);\n",
    "        }\n",
    "\n",
    "        pub fn increase(&mut self) { // It doesn't need to be &mut, but we use &mut to enforce that\n",
    "            // caller has unique access to this connection. Either because they are in a\n",
    "            // single threaded setup, or because they are using Mutex and similar.\n",
    "            self.set(self.get() + 1);\n",
    "        }\n",
    "    }\n",
    "}\n",
    "\n",
    "let mut safe_connection = safe_connection::SafeAbstractConnection::new(&Database);\n",
    "safe_connection.set(12);\n",
    "safe_connection.increase();\n",
    "safe_connection.get()"
   ]
  },
  {
   "cell_type": "markdown",
   "metadata": {},
   "source": [
    "Now misusing the `increase` method will result in compile error:"
   ]
  },
  {
   "cell_type": "code",
   "execution_count": 28,
   "metadata": {
    "vscode": {
     "languageId": "rust"
    }
   },
   "outputs": [
    {
     "ename": "Error",
     "evalue": "cannot borrow `safe_connection` as mutable more than once at a time",
     "output_type": "error",
     "traceback": [
      "\u001b[31m[E0499] Error:\u001b[0m cannot borrow `safe_connection` as mutable more than once at a time",
      "   \u001b[38;5;246m╭\u001b[0m\u001b[38;5;246m─\u001b[0m\u001b[38;5;246m[\u001b[0mcommand_28:1:1\u001b[38;5;246m]\u001b[0m",
      "   \u001b[38;5;246m│\u001b[0m",
      " \u001b[38;5;246m1 │\u001b[0m     \u001b[38;5;249mt\u001b[0m\u001b[38;5;249mh\u001b[0m\u001b[38;5;249mr\u001b[0m\u001b[38;5;249me\u001b[0m\u001b[38;5;249ma\u001b[0m\u001b[38;5;249md\u001b[0m\u001b[38;5;249m:\u001b[0m\u001b[38;5;249m:\u001b[0m\u001b[38;5;249ms\u001b[0m\u001b[38;5;249mc\u001b[0m\u001b[38;5;249mo\u001b[0m\u001b[38;5;249mp\u001b[0m\u001b[38;5;249me\u001b[0m\u001b[38;5;249m(\u001b[0m\u001b[38;5;249m|\u001b[0m\u001b[38;5;68ms\u001b[0m\u001b[38;5;249m|\u001b[0m\u001b[38;5;249m \u001b[0m\u001b[38;5;249m{\u001b[0m",
      " \u001b[38;5;246m  ·\u001b[0m                    \u001b[38;5;68m┬\u001b[0m  ",
      " \u001b[38;5;246m  ·\u001b[0m                    \u001b[38;5;68m╰\u001b[0m\u001b[38;5;68m─\u001b[0m\u001b[38;5;68m─\u001b[0m has type `&'1 Scope<'1, '_>`",
      " \u001b[38;5;246m  ·\u001b[0m ",
      " \u001b[38;5;246m3 │\u001b[0m \u001b[38;5;37m╭\u001b[0m\u001b[38;5;37m─\u001b[0m\u001b[38;5;37m▶\u001b[0m\u001b[38;5;37m \u001b[0m\u001b[38;5;249m \u001b[0m\u001b[38;5;249m \u001b[0m\u001b[38;5;249m \u001b[0m\u001b[38;5;249m \u001b[0m\u001b[38;5;249m \u001b[0m\u001b[38;5;249m \u001b[0m\u001b[38;5;249m \u001b[0m\u001b[38;5;249m \u001b[0m\u001b[38;5;37ms\u001b[0m\u001b[38;5;37m.\u001b[0m\u001b[38;5;37ms\u001b[0m\u001b[38;5;37mp\u001b[0m\u001b[38;5;37ma\u001b[0m\u001b[38;5;37mw\u001b[0m\u001b[38;5;37mn\u001b[0m\u001b[38;5;37m(\u001b[0m\u001b[38;5;54m|\u001b[0m\u001b[38;5;54m|\u001b[0m\u001b[38;5;37m \u001b[0m\u001b[38;5;37m{\u001b[0m",
      " \u001b[38;5;246m  ·\u001b[0m \u001b[38;5;37m│\u001b[0m                   \u001b[38;5;54m─\u001b[0m\u001b[38;5;54m┬\u001b[0m  ",
      " \u001b[38;5;246m  ·\u001b[0m \u001b[38;5;37m│\u001b[0m                    \u001b[38;5;54m╰\u001b[0m\u001b[38;5;54m─\u001b[0m\u001b[38;5;54m─\u001b[0m `safe_connection` was mutably borrowed here in the previous iteration of the loop",
      " \u001b[38;5;246m4 │\u001b[0m \u001b[38;5;37m│\u001b[0m   \u001b[38;5;37m \u001b[0m\u001b[38;5;37m \u001b[0m\u001b[38;5;37m \u001b[0m\u001b[38;5;37m \u001b[0m\u001b[38;5;37m \u001b[0m\u001b[38;5;37m \u001b[0m\u001b[38;5;37m \u001b[0m\u001b[38;5;37m \u001b[0m\u001b[38;5;37m \u001b[0m\u001b[38;5;37m \u001b[0m\u001b[38;5;37m \u001b[0m\u001b[38;5;37m \u001b[0m\u001b[38;5;100ms\u001b[0m\u001b[38;5;100ma\u001b[0m\u001b[38;5;100mf\u001b[0m\u001b[38;5;100me\u001b[0m\u001b[38;5;100m_\u001b[0m\u001b[38;5;100mc\u001b[0m\u001b[38;5;100mo\u001b[0m\u001b[38;5;100mn\u001b[0m\u001b[38;5;100mn\u001b[0m\u001b[38;5;100me\u001b[0m\u001b[38;5;100mc\u001b[0m\u001b[38;5;100mt\u001b[0m\u001b[38;5;100mi\u001b[0m\u001b[38;5;100mo\u001b[0m\u001b[38;5;100mn\u001b[0m\u001b[38;5;37m.\u001b[0m\u001b[38;5;37mi\u001b[0m\u001b[38;5;37mn\u001b[0m\u001b[38;5;37mc\u001b[0m\u001b[38;5;37mr\u001b[0m\u001b[38;5;37me\u001b[0m\u001b[38;5;37ma\u001b[0m\u001b[38;5;37ms\u001b[0m\u001b[38;5;37me\u001b[0m\u001b[38;5;37m(\u001b[0m\u001b[38;5;37m)\u001b[0m\u001b[38;5;37m;\u001b[0m",
      " \u001b[38;5;246m  ·\u001b[0m \u001b[38;5;37m│\u001b[0m               \u001b[38;5;100m─\u001b[0m\u001b[38;5;100m─\u001b[0m\u001b[38;5;100m─\u001b[0m\u001b[38;5;100m─\u001b[0m\u001b[38;5;100m─\u001b[0m\u001b[38;5;100m─\u001b[0m\u001b[38;5;100m─\u001b[0m\u001b[38;5;100m┬\u001b[0m\u001b[38;5;100m─\u001b[0m\u001b[38;5;100m─\u001b[0m\u001b[38;5;100m─\u001b[0m\u001b[38;5;100m─\u001b[0m\u001b[38;5;100m─\u001b[0m\u001b[38;5;100m─\u001b[0m\u001b[38;5;100m─\u001b[0m  ",
      " \u001b[38;5;246m  ·\u001b[0m \u001b[38;5;37m│\u001b[0m                      \u001b[38;5;100m╰\u001b[0m\u001b[38;5;100m─\u001b[0m\u001b[38;5;100m─\u001b[0m\u001b[38;5;100m─\u001b[0m\u001b[38;5;100m─\u001b[0m\u001b[38;5;100m─\u001b[0m\u001b[38;5;100m─\u001b[0m\u001b[38;5;100m─\u001b[0m\u001b[38;5;100m─\u001b[0m\u001b[38;5;100m─\u001b[0m borrows occur due to use of `safe_connection` in closure",
      " \u001b[38;5;246m5 │\u001b[0m \u001b[38;5;37m├\u001b[0m\u001b[38;5;37m─\u001b[0m\u001b[38;5;37m▶\u001b[0m\u001b[38;5;37m \u001b[0m\u001b[38;5;37m \u001b[0m\u001b[38;5;37m \u001b[0m\u001b[38;5;37m \u001b[0m\u001b[38;5;37m \u001b[0m\u001b[38;5;37m \u001b[0m\u001b[38;5;37m \u001b[0m\u001b[38;5;37m \u001b[0m\u001b[38;5;37m \u001b[0m\u001b[38;5;37m}\u001b[0m\u001b[38;5;37m)\u001b[0m\u001b[38;5;249m;\u001b[0m",
      " \u001b[38;5;246m  ·\u001b[0m \u001b[38;5;37m│\u001b[0m                 ",
      " \u001b[38;5;246m  ·\u001b[0m \u001b[38;5;37m╰\u001b[0m\u001b[38;5;37m─\u001b[0m\u001b[38;5;37m─\u001b[0m\u001b[38;5;37m─\u001b[0m\u001b[38;5;37m─\u001b[0m\u001b[38;5;37m─\u001b[0m\u001b[38;5;37m─\u001b[0m\u001b[38;5;37m─\u001b[0m\u001b[38;5;37m─\u001b[0m\u001b[38;5;37m─\u001b[0m\u001b[38;5;37m─\u001b[0m\u001b[38;5;37m─\u001b[0m\u001b[38;5;37m─\u001b[0m\u001b[38;5;37m─\u001b[0m\u001b[38;5;37m─\u001b[0m\u001b[38;5;37m─\u001b[0m\u001b[38;5;37m─\u001b[0m\u001b[38;5;37m─\u001b[0m argument requires that `safe_connection` is borrowed for `'1`",
      "\u001b[38;5;246m───╯\u001b[0m"
     ]
    }
   ],
   "source": [
    "thread::scope(|s| {\n",
    "    for _ in 0..10 {\n",
    "        s.spawn(|| {\n",
    "            safe_connection.increase();\n",
    "        });\n",
    "    }\n",
    "});"
   ]
  },
  {
   "cell_type": "markdown",
   "metadata": {},
   "source": [
    "Although it won't prevent misuse (users can create a connection manually, and in a real-world example, they can make a tcp connection with the database directly), it makes accidental mistakes hard.\n",
    "\n",
    "The whole Rust safety is a safe abstraction over the unsafe world. For example, `Vec` and `Box` are abstractions over heap allocation. But if they are using something more low-level which is not safe, can we use that and violate Rust's safety guarantees? Something must prevent us."
   ]
  },
  {
   "cell_type": "markdown",
   "metadata": {},
   "source": [
    "## Calling C functions from Rust\n",
    "\n",
    "Since Rust is a low level language, it has the capability to link and run C functions. In many targets (compile target roughly means a pair of OS and CPU architecture), by default, rust binaries will link to the C standard library (because Rust's std uses it) and we can use it directly using `libc` crate (which is not a special crate in any way):"
   ]
  },
  {
   "cell_type": "code",
   "execution_count": 52,
   "metadata": {
    "vscode": {
     "languageId": "rust"
    }
   },
   "outputs": [],
   "source": [
    ":dep libc = \"0.2\""
   ]
  },
  {
   "cell_type": "code",
   "execution_count": 32,
   "metadata": {
    "vscode": {
     "languageId": "rust"
    }
   },
   "outputs": [
    {
     "name": "stdout",
     "output_type": "stream",
     "text": [
      "21:42:37\n"
     ]
    }
   ],
   "source": [
    "unsafe {\n",
    "    let mut result = 0;\n",
    "    libc::time(&mut result);\n",
    "    let tm_ptr = libc::localtime(&result);\n",
    "    let tm = *tm_ptr;\n",
    "    println!(\"{}:{}:{}\", tm.tm_hour, tm.tm_min, tm.tm_sec);\n",
    "};"
   ]
  },
  {
   "cell_type": "markdown",
   "metadata": {},
   "source": [
    "`time` and `localtime` are C functions. `unsafe` block is needed for calling C functions:"
   ]
  },
  {
   "cell_type": "code",
   "execution_count": 33,
   "metadata": {
    "vscode": {
     "languageId": "rust"
    }
   },
   "outputs": [
    {
     "ename": "Error",
     "evalue": "call to unsafe function is unsafe and requires unsafe function or block",
     "output_type": "error",
     "traceback": [
      "\u001b[31m[E0133] Error:\u001b[0m call to unsafe function is unsafe and requires unsafe function or block",
      "   \u001b[38;5;246m╭\u001b[0m\u001b[38;5;246m─\u001b[0m\u001b[38;5;246m[\u001b[0mcommand_33:1:1\u001b[38;5;246m]\u001b[0m",
      "   \u001b[38;5;246m│\u001b[0m",
      " \u001b[38;5;246m2 │\u001b[0m \u001b[38;5;54ml\u001b[0m\u001b[38;5;54mi\u001b[0m\u001b[38;5;54mb\u001b[0m\u001b[38;5;54mc\u001b[0m\u001b[38;5;54m:\u001b[0m\u001b[38;5;54m:\u001b[0m\u001b[38;5;54mt\u001b[0m\u001b[38;5;54mi\u001b[0m\u001b[38;5;54mm\u001b[0m\u001b[38;5;54me\u001b[0m\u001b[38;5;54m(\u001b[0m\u001b[38;5;54m&\u001b[0m\u001b[38;5;54mm\u001b[0m\u001b[38;5;54mu\u001b[0m\u001b[38;5;54mt\u001b[0m\u001b[38;5;54m \u001b[0m\u001b[38;5;54mr\u001b[0m\u001b[38;5;54me\u001b[0m\u001b[38;5;54ms\u001b[0m\u001b[38;5;54mu\u001b[0m\u001b[38;5;54ml\u001b[0m\u001b[38;5;54mt\u001b[0m\u001b[38;5;54m)\u001b[0m\u001b[38;5;249m;\u001b[0m",
      " \u001b[38;5;246m  ·\u001b[0m \u001b[38;5;54m─\u001b[0m\u001b[38;5;54m─\u001b[0m\u001b[38;5;54m─\u001b[0m\u001b[38;5;54m─\u001b[0m\u001b[38;5;54m─\u001b[0m\u001b[38;5;54m─\u001b[0m\u001b[38;5;54m─\u001b[0m\u001b[38;5;54m─\u001b[0m\u001b[38;5;54m─\u001b[0m\u001b[38;5;54m─\u001b[0m\u001b[38;5;54m─\u001b[0m\u001b[38;5;54m┬\u001b[0m\u001b[38;5;54m─\u001b[0m\u001b[38;5;54m─\u001b[0m\u001b[38;5;54m─\u001b[0m\u001b[38;5;54m─\u001b[0m\u001b[38;5;54m─\u001b[0m\u001b[38;5;54m─\u001b[0m\u001b[38;5;54m─\u001b[0m\u001b[38;5;54m─\u001b[0m\u001b[38;5;54m─\u001b[0m\u001b[38;5;54m─\u001b[0m\u001b[38;5;54m─\u001b[0m  ",
      " \u001b[38;5;246m  ·\u001b[0m            \u001b[38;5;54m╰\u001b[0m\u001b[38;5;54m─\u001b[0m\u001b[38;5;54m─\u001b[0m\u001b[38;5;54m─\u001b[0m\u001b[38;5;54m─\u001b[0m\u001b[38;5;54m─\u001b[0m\u001b[38;5;54m─\u001b[0m\u001b[38;5;54m─\u001b[0m\u001b[38;5;54m─\u001b[0m\u001b[38;5;54m─\u001b[0m\u001b[38;5;54m─\u001b[0m\u001b[38;5;54m─\u001b[0m\u001b[38;5;54m─\u001b[0m\u001b[38;5;54m─\u001b[0m call to unsafe function",
      "\u001b[38;5;246m───╯\u001b[0m"
     ]
    }
   ],
   "source": [
    "let mut result = 0;\n",
    "libc::time(&mut result);"
   ]
  },
  {
   "cell_type": "markdown",
   "metadata": {},
   "source": [
    "We will see what `unsafe` actually is, later. Before that, let's see the signature of `time` function, by tricking the compiler to tell it:"
   ]
  },
  {
   "cell_type": "code",
   "execution_count": 40,
   "metadata": {
    "vscode": {
     "languageId": "rust"
    }
   },
   "outputs": [
    {
     "ename": "Error",
     "evalue": "binary operation `==` cannot be applied to type `unsafe extern \"C\" fn(*mut i64) -> i64 {time}`",
     "output_type": "error",
     "traceback": [
      "\u001b[31m[E0369] Error:\u001b[0m binary operation `==` cannot be applied to type `unsafe extern \"C\" fn(*mut i64) -> i64 {time}`",
      "   \u001b[38;5;246m╭\u001b[0m\u001b[38;5;246m─\u001b[0m\u001b[38;5;246m[\u001b[0mcommand_40:1:1\u001b[38;5;246m]\u001b[0m",
      "   \u001b[38;5;246m│\u001b[0m",
      " \u001b[38;5;246m1 │\u001b[0m \u001b[38;5;54ml\u001b[0m\u001b[38;5;54mi\u001b[0m\u001b[38;5;54mb\u001b[0m\u001b[38;5;54mc\u001b[0m\u001b[38;5;54m:\u001b[0m\u001b[38;5;54m:\u001b[0m\u001b[38;5;54mt\u001b[0m\u001b[38;5;54mi\u001b[0m\u001b[38;5;54mm\u001b[0m\u001b[38;5;54me\u001b[0m\u001b[38;5;249m \u001b[0m\u001b[38;5;68m=\u001b[0m\u001b[38;5;68m=\u001b[0m\u001b[38;5;249m \u001b[0m\u001b[38;5;100ml\u001b[0m\u001b[38;5;100mi\u001b[0m\u001b[38;5;100mb\u001b[0m\u001b[38;5;100mc\u001b[0m\u001b[38;5;100m:\u001b[0m\u001b[38;5;100m:\u001b[0m\u001b[38;5;100mt\u001b[0m\u001b[38;5;100mi\u001b[0m\u001b[38;5;100mm\u001b[0m\u001b[38;5;100me\u001b[0m",
      " \u001b[38;5;246m  ·\u001b[0m \u001b[38;5;54m─\u001b[0m\u001b[38;5;54m─\u001b[0m\u001b[38;5;54m─\u001b[0m\u001b[38;5;54m─\u001b[0m\u001b[38;5;54m─\u001b[0m\u001b[38;5;54m┬\u001b[0m\u001b[38;5;54m─\u001b[0m\u001b[38;5;54m─\u001b[0m\u001b[38;5;54m─\u001b[0m\u001b[38;5;54m─\u001b[0m \u001b[38;5;68m─\u001b[0m\u001b[38;5;68m┬\u001b[0m \u001b[38;5;100m─\u001b[0m\u001b[38;5;100m─\u001b[0m\u001b[38;5;100m─\u001b[0m\u001b[38;5;100m─\u001b[0m\u001b[38;5;100m─\u001b[0m\u001b[38;5;100m┬\u001b[0m\u001b[38;5;100m─\u001b[0m\u001b[38;5;100m─\u001b[0m\u001b[38;5;100m─\u001b[0m\u001b[38;5;100m─\u001b[0m  ",
      " \u001b[38;5;246m  ·\u001b[0m      \u001b[38;5;54m╰\u001b[0m\u001b[38;5;54m─\u001b[0m\u001b[38;5;54m─\u001b[0m\u001b[38;5;54m─\u001b[0m\u001b[38;5;54m─\u001b[0m\u001b[38;5;54m─\u001b[0m\u001b[38;5;54m─\u001b[0m\u001b[38;5;54m─\u001b[0m\u001b[38;5;54m─\u001b[0m\u001b[38;5;54m─\u001b[0m\u001b[38;5;54m─\u001b[0m\u001b[38;5;54m─\u001b[0m\u001b[38;5;54m─\u001b[0m\u001b[38;5;54m─\u001b[0m\u001b[38;5;54m─\u001b[0m\u001b[38;5;54m─\u001b[0m\u001b[38;5;54m─\u001b[0m\u001b[38;5;54m─\u001b[0m\u001b[38;5;54m─\u001b[0m\u001b[38;5;54m─\u001b[0m\u001b[38;5;54m─\u001b[0m unsafe extern \"C\" fn(*mut i64) -> i64 {time}",
      " \u001b[38;5;246m  ·\u001b[0m             \u001b[38;5;68m│\u001b[0m      \u001b[38;5;100m│\u001b[0m      ",
      " \u001b[38;5;246m  ·\u001b[0m             \u001b[38;5;68m╰\u001b[0m\u001b[38;5;68m─\u001b[0m\u001b[38;5;68m─\u001b[0m\u001b[38;5;68m─\u001b[0m\u001b[38;5;68m─\u001b[0m\u001b[38;5;68m─\u001b[0m\u001b[38;5;68m─\u001b[0m\u001b[38;5;68m─\u001b[0m\u001b[38;5;68m─\u001b[0m\u001b[38;5;68m─\u001b[0m\u001b[38;5;68m─\u001b[0m\u001b[38;5;68m─\u001b[0m\u001b[38;5;68m─\u001b[0m\u001b[38;5;68m─\u001b[0m error: binary operation `==` cannot be applied to type `unsafe extern \"C\" fn(*mut i64) -> i64 {time}`",
      " \u001b[38;5;246m  ·\u001b[0m                    \u001b[38;5;100m│\u001b[0m      ",
      " \u001b[38;5;246m  ·\u001b[0m                    \u001b[38;5;100m╰\u001b[0m\u001b[38;5;100m─\u001b[0m\u001b[38;5;100m─\u001b[0m\u001b[38;5;100m─\u001b[0m\u001b[38;5;100m─\u001b[0m\u001b[38;5;100m─\u001b[0m\u001b[38;5;100m─\u001b[0m unsafe extern \"C\" fn(*mut i64) -> i64 {time}",
      "\u001b[38;5;246m───╯\u001b[0m"
     ]
    }
   ],
   "source": [
    "libc::time == libc::time"
   ]
  },
  {
   "cell_type": "markdown",
   "metadata": {},
   "source": [
    "Many new things here. Let's break it into parts:\n",
    "* `unsafe`: it means this function is an unsafe function. More on this later.\n",
    "* `extern \"C\"`: it means this function should be called with the `C` calling convention and ABI.\n",
    "* `*mut i64`: the first argument is a mutable raw pointer.\n",
    "* `-> i64`: the output of this function is a 64-bit signed integer (this wasn't new)"
   ]
  },
  {
   "cell_type": "markdown",
   "metadata": {},
   "source": [
    "## Raw pointer\n",
    "\n",
    "Rust has the bad old C pointers, and calls them raw pointers, with syntax `*const T` and `*mut T`. Rust needs them for interoperability with C codes.\n",
    "\n",
    "You can create them with `&` operator:"
   ]
  },
  {
   "cell_type": "code",
   "execution_count": 2,
   "metadata": {
    "vscode": {
     "languageId": "rust"
    }
   },
   "outputs": [
    {
     "data": {
      "text/plain": [
       "0x7ffc06e77e5c"
      ]
     },
     "execution_count": 2,
     "metadata": {},
     "output_type": "execute_result"
    }
   ],
   "source": [
    "let x: i32 = 2;\n",
    "let x_raw_ptr: *const i32 = &x; // `&T` will automatically coerce to `*const T`.\n",
    "x_raw_ptr"
   ]
  },
  {
   "cell_type": "markdown",
   "metadata": {},
   "source": [
    "Or out of air, from an arbitrary address:"
   ]
  },
  {
   "cell_type": "code",
   "execution_count": 43,
   "metadata": {
    "vscode": {
     "languageId": "rust"
    }
   },
   "outputs": [
    {
     "data": {
      "text/plain": [
       "0xc"
      ]
     },
     "execution_count": 43,
     "metadata": {},
     "output_type": "execute_result"
    }
   ],
   "source": [
    "let y_raw_ptr: *const i32 = 12 as *const i32;\n",
    "y_raw_ptr"
   ]
  },
  {
   "cell_type": "markdown",
   "metadata": {},
   "source": [
    "Or a null pointer, which standard library even has a function for it:"
   ]
  },
  {
   "cell_type": "code",
   "execution_count": 4,
   "metadata": {
    "vscode": {
     "languageId": "rust"
    }
   },
   "outputs": [
    {
     "data": {
      "text/plain": [
       "0x0"
      ]
     },
     "execution_count": 4,
     "metadata": {},
     "output_type": "execute_result"
    }
   ],
   "source": [
    "let null_raw_ptr: *const i32 = std::ptr::null();\n",
    "null_raw_ptr"
   ]
  },
  {
   "cell_type": "markdown",
   "metadata": {},
   "source": [
    "Types and mutability in raw pointers don't mean anything, like in C. They are just a hint/comment for the programmer:"
   ]
  },
  {
   "cell_type": "code",
   "execution_count": 2,
   "metadata": {
    "vscode": {
     "languageId": "rust"
    }
   },
   "outputs": [
    {
     "data": {
      "text/plain": [
       "0x7ffc761972ec"
      ]
     },
     "execution_count": 2,
     "metadata": {},
     "output_type": "execute_result"
    }
   ],
   "source": [
    "let x: i32 = 2;\n",
    "let x_raw_ptr: *const i32 = &x;\n",
    "let ptr_with_bad_type: *mut () = x_raw_ptr as *mut (); // cast from const int* to void*, similar to c\n",
    "ptr_with_bad_type"
   ]
  },
  {
   "cell_type": "markdown",
   "metadata": {},
   "source": [
    "And this was all safe Rust! So memory safety and type safety were a lie? Fortunately, we cannot dereference these pointers:"
   ]
  },
  {
   "cell_type": "code",
   "execution_count": 5,
   "metadata": {
    "vscode": {
     "languageId": "rust"
    }
   },
   "outputs": [
    {
     "ename": "Error",
     "evalue": "dereference of raw pointer is unsafe and requires unsafe function or block",
     "output_type": "error",
     "traceback": [
      "\u001b[31m[E0133] Error:\u001b[0m dereference of raw pointer is unsafe and requires unsafe function or block",
      "   \u001b[38;5;246m╭\u001b[0m\u001b[38;5;246m─\u001b[0m\u001b[38;5;246m[\u001b[0mcommand_5:1:1\u001b[38;5;246m]\u001b[0m",
      "   \u001b[38;5;246m│\u001b[0m",
      " \u001b[38;5;246m1 │\u001b[0m \u001b[38;5;249ml\u001b[0m\u001b[38;5;249me\u001b[0m\u001b[38;5;249mt\u001b[0m\u001b[38;5;249m \u001b[0m\u001b[38;5;249ma\u001b[0m\u001b[38;5;249m_\u001b[0m\u001b[38;5;249mb\u001b[0m\u001b[38;5;249ma\u001b[0m\u001b[38;5;249md\u001b[0m\u001b[38;5;249m_\u001b[0m\u001b[38;5;249mi\u001b[0m\u001b[38;5;249m3\u001b[0m\u001b[38;5;249m2\u001b[0m\u001b[38;5;249m:\u001b[0m\u001b[38;5;249m \u001b[0m\u001b[38;5;249mi\u001b[0m\u001b[38;5;249m3\u001b[0m\u001b[38;5;249m2\u001b[0m\u001b[38;5;249m \u001b[0m\u001b[38;5;249m=\u001b[0m\u001b[38;5;249m \u001b[0m\u001b[38;5;54m*\u001b[0m\u001b[38;5;54mn\u001b[0m\u001b[38;5;54mu\u001b[0m\u001b[38;5;54ml\u001b[0m\u001b[38;5;54ml\u001b[0m\u001b[38;5;54m_\u001b[0m\u001b[38;5;54mr\u001b[0m\u001b[38;5;54ma\u001b[0m\u001b[38;5;54mw\u001b[0m\u001b[38;5;54m_\u001b[0m\u001b[38;5;54mp\u001b[0m\u001b[38;5;54mt\u001b[0m\u001b[38;5;54mr\u001b[0m\u001b[38;5;249m;\u001b[0m",
      " \u001b[38;5;246m  ·\u001b[0m                      \u001b[38;5;54m─\u001b[0m\u001b[38;5;54m─\u001b[0m\u001b[38;5;54m─\u001b[0m\u001b[38;5;54m─\u001b[0m\u001b[38;5;54m─\u001b[0m\u001b[38;5;54m─\u001b[0m\u001b[38;5;54m┬\u001b[0m\u001b[38;5;54m─\u001b[0m\u001b[38;5;54m─\u001b[0m\u001b[38;5;54m─\u001b[0m\u001b[38;5;54m─\u001b[0m\u001b[38;5;54m─\u001b[0m\u001b[38;5;54m─\u001b[0m  ",
      " \u001b[38;5;246m  ·\u001b[0m                            \u001b[38;5;54m╰\u001b[0m\u001b[38;5;54m─\u001b[0m\u001b[38;5;54m─\u001b[0m\u001b[38;5;54m─\u001b[0m\u001b[38;5;54m─\u001b[0m\u001b[38;5;54m─\u001b[0m\u001b[38;5;54m─\u001b[0m\u001b[38;5;54m─\u001b[0m\u001b[38;5;54m─\u001b[0m dereference of raw pointer",
      "\u001b[38;5;246m───╯\u001b[0m"
     ]
    }
   ],
   "source": [
    "let a_bad_i32: i32 = *null_raw_ptr;"
   ]
  },
  {
   "cell_type": "markdown",
   "metadata": {},
   "source": [
    "## Unsafe Rust\n",
    "\n",
    "There are some operations, that compiler can't check if they follow the rules of Rust, like calling C functions and dereferencing raw pointers. Safe Rust is conservative, and disallow such operations by hard compile time errors. But users of Rust need such operations. `unsafe` block is a tool to say to compiler \"I know what I'm doing\". By using `unsafe`, you are the one who should guarantee that the code is free of memory bugs and data races, and not only your code, but all other safe codes. An `unsafe` code can cause UB which is detected by a segment fault in a safe code. Safe code can't cause segment fault, so blame is always on the unsafe code.\n",
    "\n",
    "Let's abuse our power and violate everything safe Rust guarantees. We try to not cause segment fault, because it will crash the jupyter's process and we should restart our notebook. But we can still do bad things, like use after free:"
   ]
  },
  {
   "cell_type": "code",
   "execution_count": 10,
   "metadata": {
    "vscode": {
     "languageId": "rust"
    }
   },
   "outputs": [
    {
     "data": {
      "text/plain": [
       "(5, -1429802653)"
      ]
     },
     "execution_count": 10,
     "metadata": {},
     "output_type": "execute_result"
    }
   ],
   "source": [
    "{\n",
    "    let a_box: Box<i32> = Box::new(5);\n",
    "    let a_raw_ptr: *mut i32 = Box::into_raw(a_box); // this consume the box and return it as a raw pointer\n",
    "    // `Box::into_raw` is safe, but it can cause memory leak.\n",
    "    let a_value_valid = unsafe { *a_raw_ptr }; // reading a raw pointer is unsafe\n",
    "    unsafe {\n",
    "        Box::from_raw(a_raw_ptr); // we recover the box from the pointer and immediately drop it.\n",
    "        // `Box::from_raw` is unsafe, since it can be called with a garbage pointer\n",
    "    }\n",
    "    let b_box = Box::new(12); // some allocation to replace the previous freed one\n",
    "    let a_value_invalid = unsafe { *a_raw_ptr };\n",
    "    (a_value_valid, a_value_invalid) \n",
    "}"
   ]
  },
  {
   "cell_type": "markdown",
   "metadata": {},
   "source": [
    "The first usage was valid, but the second one is use after free, which is undefined behavior. Similarly, double free, out of bound access, and every other memory problem.\n",
    "\n",
    "Similarly, unsafe can break thread safety and cause data race:"
   ]
  },
  {
   "cell_type": "code",
   "execution_count": 36,
   "metadata": {
    "vscode": {
     "languageId": "rust"
    }
   },
   "outputs": [
    {
     "data": {
      "text/plain": [
       "10"
      ]
     },
     "execution_count": 36,
     "metadata": {},
     "output_type": "execute_result"
    }
   ],
   "source": [
    "let x = 0;\n",
    "thread::scope(|s| {\n",
    "    for _ in 0..10 {\n",
    "        s.spawn(|| {\n",
    "            let x_raw_ptr: *const i32 = &x;\n",
    "            let x_raw_ptr_mut: *mut i32 = x_raw_ptr as *mut i32;\n",
    "            unsafe {\n",
    "                *x_raw_ptr_mut += 1;\n",
    "            }\n",
    "        });\n",
    "    }\n",
    "});\n",
    "x"
   ]
  },
  {
   "cell_type": "markdown",
   "metadata": {},
   "source": [
    "It worked, but we know that it may not work without proper synchronization. That's one reason why UB bugs are bad, they work in development, but will break in production.\n",
    "\n",
    "Unsafe can potentially break not only thread safety and memory safety, but type safety and privacy as well. Here, we will use `transmute` to read the private fields of a vector. Transmute can convert two types with the same size to each other. `transmute(x)` from type `A` to `B` is equivalent to `*(B*)(&x)` in C or `*reinterpret_cast<B*>(&x)` in C++:"
   ]
  },
  {
   "cell_type": "code",
   "execution_count": 10,
   "metadata": {
    "vscode": {
     "languageId": "rust"
    }
   },
   "outputs": [
    {
     "data": {
      "text/plain": [
       "[94604177217488, 6, 4]"
      ]
     },
     "execution_count": 10,
     "metadata": {},
     "output_type": "execute_result"
    }
   ],
   "source": [
    "use std::mem::transmute;\n",
    "\n",
    "let mut v = vec![1, 2, 3];\n",
    "v.push(4);\n",
    "let v_fields: [usize; 3] = unsafe {\n",
    "    transmute(v)\n",
    "};\n",
    "v_fields"
   ]
  },
  {
   "cell_type": "markdown",
   "metadata": {},
   "source": [
    "As you can probably guess, the first field is the allocation pointer, the second field is the capacity, and the third field is actual length. At first it started with an allocation with size 3, and after push, it will allocate with size 6, and set length to 4.\n",
    "\n",
    "Not only we can see the private fields, we can mutate them as well:"
   ]
  },
  {
   "cell_type": "code",
   "execution_count": 41,
   "metadata": {
    "vscode": {
     "languageId": "rust"
    }
   },
   "outputs": [
    {
     "data": {
      "text/plain": [
       "(2, 3, 4, 32)"
      ]
     },
     "execution_count": 41,
     "metadata": {},
     "output_type": "execute_result"
    }
   ],
   "source": [
    "let mut v = vec![1, 2, 3];\n",
    "v.push(4);\n",
    "let v_fields: &mut [usize; 3] = unsafe {\n",
    "    transmute(&mut v)\n",
    "};\n",
    "v_fields[0] += 4; // make it point to one unit ahead\n",
    "let (a, b, c, d) = (v[0], v[1], v[2], v[3]);\n",
    "v_fields[0] -= 4; // fix our shenanigans, to prevent segment fault while dropping the vector\n",
    "(a, b, c, d)"
   ]
  },
  {
   "cell_type": "markdown",
   "metadata": {},
   "source": [
    "32 is from uninitialized memory. We broke vector's invariants so it can't prevent us from out of bound access by panicking.\n",
    "\n",
    "So if `unsafe` rust is so dangerous, why Rust even allows that? `unsafe` is just a tool, and it has good, bad, correct and incorrect usages.\n",
    "\n",
    "## Implementing vector\n",
    "\n",
    "As an example of good usage for `unsafe`, we will try to implement vector. This implementation vastly differs from the one in the standard library. It is not generic (only supports `i32`) and it uses C `malloc` and `free` instead of Rust's allocation api, to keep things simple and familiar for you, the reader, who is familiar with `C` and `C++` memory management.\n"
   ]
  },
  {
   "cell_type": "code",
   "execution_count": 53,
   "metadata": {
    "vscode": {
     "languageId": "rust"
    }
   },
   "outputs": [],
   "source": [
    "mod my_vec {\n",
    "    use std::ptr;\n",
    "    use libc::{realloc, free, c_void};\n",
    "    use std::ops::{Deref, DerefMut};\n",
    "\n",
    "    pub struct MyVec {\n",
    "        ptr: *mut i32,\n",
    "        cap: usize,\n",
    "        len: usize,\n",
    "    }\n",
    "\n",
    "    impl MyVec {\n",
    "        pub fn new() -> MyVec {\n",
    "            MyVec {\n",
    "                ptr: ptr::null_mut(),\n",
    "                cap: 0,\n",
    "                len: 0,\n",
    "            }\n",
    "        }\n",
    "\n",
    "        // private function\n",
    "        fn grow(&mut self) {\n",
    "            self.cap *= 2;\n",
    "            // *mut c_void is void* in C. Rust's () is not exactly equal to C's void.\n",
    "            self.ptr = unsafe { realloc(self.ptr as *mut c_void, self.cap) } as *mut i32;\n",
    "            if self.ptr == ptr::null_mut() {\n",
    "                // We should pay attention to this details, otherwise it is UB since safe code\n",
    "                // can dereference this pointer through our api\n",
    "                panic!(\"Out of memory\");\n",
    "            }\n",
    "        }\n",
    "\n",
    "        pub fn push(&mut self, elem: i32) {\n",
    "            if self.len == self.cap {\n",
    "                self.grow();\n",
    "            }\n",
    "            unsafe {\n",
    "                *self.ptr.add(self.len) = elem;\n",
    "            }\n",
    "            self.len += 1;\n",
    "        }\n",
    "\n",
    "        pub unsafe fn set_len(&mut self, new_len: usize) {\n",
    "            self.len = new_len;\n",
    "        }\n",
    "    }\n",
    "\n",
    "    impl Deref for MyVec {\n",
    "        type Target = [i32];\n",
    "        fn deref(&self) -> &[i32] {\n",
    "            unsafe {\n",
    "                // create a fat pointer manually from a raw pointer and a len\n",
    "                std::slice::from_raw_parts(self.ptr, self.len)\n",
    "            }\n",
    "        }\n",
    "    }\n",
    "\n",
    "    impl DerefMut for MyVec {\n",
    "        fn deref_mut(&mut self) -> &mut [i32] {\n",
    "            unsafe {\n",
    "                // create a fat pointer manually from a raw pointer and a len\n",
    "                std::slice::from_raw_parts_mut(self.ptr, self.len)\n",
    "            }\n",
    "        }\n",
    "    }\n",
    "\n",
    "    impl Drop for MyVec {\n",
    "        fn drop(&mut self) {\n",
    "            unsafe {\n",
    "                free(self.ptr as *mut c_void); // deallocate the memory\n",
    "            }\n",
    "        }\n",
    "    }\n",
    "}"
   ]
  },
  {
   "cell_type": "markdown",
   "metadata": {},
   "source": [
    "Our vector supports push:"
   ]
  },
  {
   "cell_type": "code",
   "execution_count": 54,
   "metadata": {
    "vscode": {
     "languageId": "rust"
    }
   },
   "outputs": [],
   "source": [
    "use my_vec::MyVec;\n",
    "\n",
    "let mut v = MyVec::new();\n",
    "v.push(1);\n",
    "v.push(2);\n",
    "v.push(3);\n",
    "v.push(4);\n",
    "v.push(5);"
   ]
  },
  {
   "cell_type": "markdown",
   "metadata": {},
   "source": [
    "Converting to slice by dereferencing operator:"
   ]
  },
  {
   "cell_type": "code",
   "execution_count": 55,
   "metadata": {
    "vscode": {
     "languageId": "rust"
    }
   },
   "outputs": [
    {
     "data": {
      "text/plain": [
       "[1, 2, 3, 4, 5]"
      ]
     },
     "execution_count": 55,
     "metadata": {},
     "output_type": "execute_result"
    }
   ],
   "source": [
    "{\n",
    "    let v_slice: &[i32] = &*v;\n",
    "    v_slice\n",
    "}"
   ]
  },
  {
   "cell_type": "markdown",
   "metadata": {},
   "source": [
    "Methods available on slice, like `len` and `get`, due auto deref:"
   ]
  },
  {
   "cell_type": "code",
   "execution_count": 56,
   "metadata": {
    "vscode": {
     "languageId": "rust"
    }
   },
   "outputs": [
    {
     "data": {
      "text/plain": [
       "5"
      ]
     },
     "execution_count": 56,
     "metadata": {},
     "output_type": "execute_result"
    }
   ],
   "source": [
    "v.len()"
   ]
  },
  {
   "cell_type": "code",
   "execution_count": 57,
   "metadata": {
    "vscode": {
     "languageId": "rust"
    }
   },
   "outputs": [
    {
     "data": {
      "text/plain": [
       "Some(4)"
      ]
     },
     "execution_count": 57,
     "metadata": {},
     "output_type": "execute_result"
    }
   ],
   "source": [
    "v.get(3)"
   ]
  },
  {
   "cell_type": "markdown",
   "metadata": {},
   "source": [
    "Indexing, which uses the same auto deref mechanism of methods:"
   ]
  },
  {
   "cell_type": "code",
   "execution_count": 58,
   "metadata": {
    "vscode": {
     "languageId": "rust"
    }
   },
   "outputs": [
    {
     "data": {
      "text/plain": [
       "6"
      ]
     },
     "execution_count": 58,
     "metadata": {},
     "output_type": "execute_result"
    }
   ],
   "source": [
    "v[0] + v[1] + v[2]"
   ]
  },
  {
   "cell_type": "markdown",
   "metadata": {},
   "source": [
    "Mutating, because of `DerefMut` implementation:"
   ]
  },
  {
   "cell_type": "code",
   "execution_count": 59,
   "metadata": {
    "vscode": {
     "languageId": "rust"
    }
   },
   "outputs": [
    {
     "data": {
      "text/plain": [
       "[2, 12, 4]"
      ]
     },
     "execution_count": 59,
     "metadata": {},
     "output_type": "execute_result"
    }
   ],
   "source": [
    "v[2] = 12;\n",
    "v[1..=3]"
   ]
  },
  {
   "cell_type": "markdown",
   "metadata": {},
   "source": [
    "And all of that while being safe! Our fields are private, so safe code outside of it's module can't break it's invariants. And by requiring a mutable reference for push and grow methods, it is guaranteed that only on thread can have access to the vector during the whole execution of the function.\n",
    "\n",
    "Safe code inside of the module can break memory safety, but the fact that the safe code preserves the invariants is part of the reason why our use of `unsafe` is valid.\n",
    "\n",
    "But there is a public function which doesn't look very good, `set_len`. It unconditionally changes the `len`. We can use it to simulate pop:"
   ]
  },
  {
   "cell_type": "code",
   "execution_count": 63,
   "metadata": {
    "vscode": {
     "languageId": "rust"
    }
   },
   "outputs": [
    {
     "name": "stdout",
     "output_type": "stream",
     "text": [
      "[1, 2, 12, 4, 5]\n",
      "[1, 2, 12]\n"
     ]
    }
   ],
   "source": [
    "println!(\"{:?}\", &*v);\n",
    "unsafe {\n",
    "    v.set_len(3);\n",
    "}\n",
    "println!(\"{:?}\", &*v);"
   ]
  },
  {
   "cell_type": "markdown",
   "metadata": {},
   "source": [
    "But misusing it can cause UB:"
   ]
  },
  {
   "cell_type": "code",
   "execution_count": 66,
   "metadata": {
    "vscode": {
     "languageId": "rust"
    }
   },
   "outputs": [
    {
     "name": "stdout",
     "output_type": "stream",
     "text": [
      "[1, 2, 12, 4, 5, 0, 137857]\n"
     ]
    }
   ],
   "source": [
    "unsafe {\n",
    "    v.set_len(7);\n",
    "}\n",
    "println!(\"{:?}\", &*v);"
   ]
  },
  {
   "cell_type": "markdown",
   "metadata": {},
   "source": [
    "But our implementation is still safe, because `unsafe` block is needed to cause UB. Without `unsafe` block, above code wouldn't compile:"
   ]
  },
  {
   "cell_type": "code",
   "execution_count": 67,
   "metadata": {
    "vscode": {
     "languageId": "rust"
    }
   },
   "outputs": [
    {
     "ename": "Error",
     "evalue": "call to unsafe function is unsafe and requires unsafe function or block",
     "output_type": "error",
     "traceback": [
      "\u001b[31m[E0133] Error:\u001b[0m call to unsafe function is unsafe and requires unsafe function or block",
      "   \u001b[38;5;246m╭\u001b[0m\u001b[38;5;246m─\u001b[0m\u001b[38;5;246m[\u001b[0mcommand_67:1:1\u001b[38;5;246m]\u001b[0m",
      "   \u001b[38;5;246m│\u001b[0m",
      " \u001b[38;5;246m1 │\u001b[0m \u001b[38;5;54mv\u001b[0m\u001b[38;5;54m.\u001b[0m\u001b[38;5;54ms\u001b[0m\u001b[38;5;54me\u001b[0m\u001b[38;5;54mt\u001b[0m\u001b[38;5;54m_\u001b[0m\u001b[38;5;54ml\u001b[0m\u001b[38;5;54me\u001b[0m\u001b[38;5;54mn\u001b[0m\u001b[38;5;54m(\u001b[0m\u001b[38;5;54m7\u001b[0m\u001b[38;5;54m)\u001b[0m\u001b[38;5;249m;\u001b[0m",
      " \u001b[38;5;246m  ·\u001b[0m \u001b[38;5;54m─\u001b[0m\u001b[38;5;54m─\u001b[0m\u001b[38;5;54m─\u001b[0m\u001b[38;5;54m─\u001b[0m\u001b[38;5;54m─\u001b[0m\u001b[38;5;54m─\u001b[0m\u001b[38;5;54m┬\u001b[0m\u001b[38;5;54m─\u001b[0m\u001b[38;5;54m─\u001b[0m\u001b[38;5;54m─\u001b[0m\u001b[38;5;54m─\u001b[0m\u001b[38;5;54m─\u001b[0m  ",
      " \u001b[38;5;246m  ·\u001b[0m       \u001b[38;5;54m╰\u001b[0m\u001b[38;5;54m─\u001b[0m\u001b[38;5;54m─\u001b[0m\u001b[38;5;54m─\u001b[0m\u001b[38;5;54m─\u001b[0m\u001b[38;5;54m─\u001b[0m\u001b[38;5;54m─\u001b[0m\u001b[38;5;54m─\u001b[0m call to unsafe function",
      "\u001b[38;5;246m───╯\u001b[0m"
     ]
    }
   ],
   "source": [
    "v.set_len(7);\n",
    "println!(\"{:?}\", &*v);"
   ]
  },
  {
   "cell_type": "markdown",
   "metadata": {},
   "source": [
    "There is nothing inherently make `set_len` unsafe, it just sets a field in a struct. But since we added `unsafe` to its signature, it can't be called on safe Rust.\n",
    "\n",
    "We can declare any function `unsafe`:"
   ]
  },
  {
   "cell_type": "code",
   "execution_count": 69,
   "metadata": {
    "vscode": {
     "languageId": "rust"
    }
   },
   "outputs": [
    {
     "ename": "Error",
     "evalue": "call to unsafe function is unsafe and requires unsafe function or block",
     "output_type": "error",
     "traceback": [
      "\u001b[31m[E0133] Error:\u001b[0m call to unsafe function is unsafe and requires unsafe function or block",
      "   \u001b[38;5;246m╭\u001b[0m\u001b[38;5;246m─\u001b[0m\u001b[38;5;246m[\u001b[0mcommand_69:1:1\u001b[38;5;246m]\u001b[0m",
      "   \u001b[38;5;246m│\u001b[0m",
      " \u001b[38;5;246m6 │\u001b[0m \u001b[38;5;249m \u001b[0m\u001b[38;5;249m \u001b[0m\u001b[38;5;249m \u001b[0m\u001b[38;5;249m \u001b[0m\u001b[38;5;54mh\u001b[0m\u001b[38;5;54me\u001b[0m\u001b[38;5;54ml\u001b[0m\u001b[38;5;54ml\u001b[0m\u001b[38;5;54mo\u001b[0m\u001b[38;5;54m_\u001b[0m\u001b[38;5;54mw\u001b[0m\u001b[38;5;54mo\u001b[0m\u001b[38;5;54mr\u001b[0m\u001b[38;5;54ml\u001b[0m\u001b[38;5;54md\u001b[0m\u001b[38;5;54m(\u001b[0m\u001b[38;5;54m)\u001b[0m\u001b[38;5;249m;\u001b[0m",
      " \u001b[38;5;246m  ·\u001b[0m     \u001b[38;5;54m─\u001b[0m\u001b[38;5;54m─\u001b[0m\u001b[38;5;54m─\u001b[0m\u001b[38;5;54m─\u001b[0m\u001b[38;5;54m─\u001b[0m\u001b[38;5;54m─\u001b[0m\u001b[38;5;54m┬\u001b[0m\u001b[38;5;54m─\u001b[0m\u001b[38;5;54m─\u001b[0m\u001b[38;5;54m─\u001b[0m\u001b[38;5;54m─\u001b[0m\u001b[38;5;54m─\u001b[0m\u001b[38;5;54m─\u001b[0m  ",
      " \u001b[38;5;246m  ·\u001b[0m           \u001b[38;5;54m╰\u001b[0m\u001b[38;5;54m─\u001b[0m\u001b[38;5;54m─\u001b[0m\u001b[38;5;54m─\u001b[0m\u001b[38;5;54m─\u001b[0m\u001b[38;5;54m─\u001b[0m\u001b[38;5;54m─\u001b[0m\u001b[38;5;54m─\u001b[0m\u001b[38;5;54m─\u001b[0m call to unsafe function",
      "\u001b[38;5;246m───╯\u001b[0m"
     ]
    }
   ],
   "source": [
    "{\n",
    "    unsafe fn hello_world() {\n",
    "        println!(\"hello world\");\n",
    "    }\n",
    "\n",
    "    hello_world();\n",
    "}"
   ]
  },
  {
   "cell_type": "markdown",
   "metadata": {},
   "source": [
    "## Avoid unsafe\n",
    "\n",
    "That implementation of vector was easy, right? You, as a C/C++ programmer, will find Rust borrow checking rules annoying and may want to do something in C way. And you will find `unsafe` very handy. Don't use `unsafe` there and search for the Rusty way of doing it.\n",
    "\n",
    "Writing unsafe code which is provably fine is outright impossible, since what is fine and what is UB is not defined, yet. Worse, something that is wildly considered fine today, might be declared as UB tomorrow. This has been happened in past, notably, `mem::uninitialized()` was considered fine to use, but now every call to it is considered immediate UB.\n",
    "\n",
    "That means, this code was considered fine in old Rust versions:"
   ]
  },
  {
   "cell_type": "code",
   "execution_count": 5,
   "metadata": {
    "vscode": {
     "languageId": "rust"
    }
   },
   "outputs": [
    {
     "data": {
      "text/plain": [
       "5"
      ]
     },
     "execution_count": 5,
     "metadata": {},
     "output_type": "execute_result"
    }
   ],
   "source": [
    "{\n",
    "    use std::mem::uninitialized;\n",
    "    // SAFETY: we assign to it before using it:\n",
    "    let mut x: i32 = unsafe { uninitialized() };\n",
    "    x = 5;\n",
    "    x\n",
    "}"
   ]
  },
  {
   "cell_type": "markdown",
   "metadata": {},
   "source": [
    "But now it is considered UB. The correct version today is: "
   ]
  },
  {
   "cell_type": "code",
   "execution_count": 73,
   "metadata": {
    "vscode": {
     "languageId": "rust"
    }
   },
   "outputs": [
    {
     "data": {
      "text/plain": [
       "5"
      ]
     },
     "execution_count": 73,
     "metadata": {},
     "output_type": "execute_result"
    }
   ],
   "source": [
    "use std::mem::MaybeUninit;\n",
    "let mut x: MaybeUninit<i32> = MaybeUninit::uninit();\n",
    "x.write(5);\n",
    "unsafe { x.assume_init() }"
   ]
  },
  {
   "cell_type": "markdown",
   "metadata": {},
   "source": [
    "If you don't understand what is wrong with the first code, then you are not qualified to write unsafe Rust. Writing correct unsafe Rust needs a great experience with Rust, and reading the Rustonomicon, unsafe code guidelines, and many other things. It is a good idea to let people writing the standard library and trusted third party crates to do that hard work for you.\n",
    "\n",
    "You can disallow unsafe code with `#![forbid(unsafe_code)]` globally in a crate, or `#[forbid(unsafe_code)]` for a single function:"
   ]
  },
  {
   "cell_type": "code",
   "execution_count": 6,
   "metadata": {
    "vscode": {
     "languageId": "rust"
    }
   },
   "outputs": [
    {
     "ename": "Error",
     "evalue": "usage of an `unsafe` block",
     "output_type": "error",
     "traceback": [
      "\u001b[31m[unsafe_code] Error:\u001b[0m usage of an `unsafe` block",
      "   \u001b[38;5;246m╭\u001b[0m\u001b[38;5;246m─\u001b[0m\u001b[38;5;246m[\u001b[0mcommand_6:1:1\u001b[38;5;246m]\u001b[0m",
      "   \u001b[38;5;246m│\u001b[0m",
      " \u001b[38;5;246m1 │\u001b[0m \u001b[38;5;249m#\u001b[0m\u001b[38;5;249m[\u001b[0m\u001b[38;5;249mf\u001b[0m\u001b[38;5;249mo\u001b[0m\u001b[38;5;249mr\u001b[0m\u001b[38;5;249mb\u001b[0m\u001b[38;5;249mi\u001b[0m\u001b[38;5;249md\u001b[0m\u001b[38;5;249m(\u001b[0m\u001b[38;5;100mu\u001b[0m\u001b[38;5;100mn\u001b[0m\u001b[38;5;100ms\u001b[0m\u001b[38;5;100ma\u001b[0m\u001b[38;5;100mf\u001b[0m\u001b[38;5;100me\u001b[0m\u001b[38;5;100m_\u001b[0m\u001b[38;5;100mc\u001b[0m\u001b[38;5;100mo\u001b[0m\u001b[38;5;100md\u001b[0m\u001b[38;5;100me\u001b[0m\u001b[38;5;249m)\u001b[0m\u001b[38;5;249m]\u001b[0m",
      " \u001b[38;5;246m  ·\u001b[0m          \u001b[38;5;100m─\u001b[0m\u001b[38;5;100m─\u001b[0m\u001b[38;5;100m─\u001b[0m\u001b[38;5;100m─\u001b[0m\u001b[38;5;100m─\u001b[0m\u001b[38;5;100m┬\u001b[0m\u001b[38;5;100m─\u001b[0m\u001b[38;5;100m─\u001b[0m\u001b[38;5;100m─\u001b[0m\u001b[38;5;100m─\u001b[0m\u001b[38;5;100m─\u001b[0m  ",
      " \u001b[38;5;246m  ·\u001b[0m               \u001b[38;5;100m╰\u001b[0m\u001b[38;5;100m─\u001b[0m\u001b[38;5;100m─\u001b[0m\u001b[38;5;100m─\u001b[0m\u001b[38;5;100m─\u001b[0m\u001b[38;5;100m─\u001b[0m\u001b[38;5;100m─\u001b[0m\u001b[38;5;100m─\u001b[0m note: the lint level is defined here",
      " \u001b[38;5;246m  ·\u001b[0m ",
      " \u001b[38;5;246m4 │\u001b[0m \u001b[38;5;249m \u001b[0m\u001b[38;5;249m \u001b[0m\u001b[38;5;249m \u001b[0m\u001b[38;5;249m \u001b[0m\u001b[38;5;54mu\u001b[0m\u001b[38;5;54mn\u001b[0m\u001b[38;5;54ms\u001b[0m\u001b[38;5;54ma\u001b[0m\u001b[38;5;54mf\u001b[0m\u001b[38;5;54me\u001b[0m\u001b[38;5;54m \u001b[0m\u001b[38;5;54m{\u001b[0m\u001b[38;5;54m \u001b[0m\u001b[38;5;54m*\u001b[0m\u001b[38;5;54ma\u001b[0m\u001b[38;5;54m_\u001b[0m\u001b[38;5;54mp\u001b[0m\u001b[38;5;54mo\u001b[0m\u001b[38;5;54mi\u001b[0m\u001b[38;5;54mn\u001b[0m\u001b[38;5;54mt\u001b[0m\u001b[38;5;54me\u001b[0m\u001b[38;5;54mr\u001b[0m\u001b[38;5;54m \u001b[0m\u001b[38;5;54m}\u001b[0m",
      " \u001b[38;5;246m  ·\u001b[0m     \u001b[38;5;54m─\u001b[0m\u001b[38;5;54m─\u001b[0m\u001b[38;5;54m─\u001b[0m\u001b[38;5;54m─\u001b[0m\u001b[38;5;54m─\u001b[0m\u001b[38;5;54m─\u001b[0m\u001b[38;5;54m─\u001b[0m\u001b[38;5;54m─\u001b[0m\u001b[38;5;54m─\u001b[0m\u001b[38;5;54m─\u001b[0m\u001b[38;5;54m┬\u001b[0m\u001b[38;5;54m─\u001b[0m\u001b[38;5;54m─\u001b[0m\u001b[38;5;54m─\u001b[0m\u001b[38;5;54m─\u001b[0m\u001b[38;5;54m─\u001b[0m\u001b[38;5;54m─\u001b[0m\u001b[38;5;54m─\u001b[0m\u001b[38;5;54m─\u001b[0m\u001b[38;5;54m─\u001b[0m\u001b[38;5;54m─\u001b[0m  ",
      " \u001b[38;5;246m  ·\u001b[0m               \u001b[38;5;54m╰\u001b[0m\u001b[38;5;54m─\u001b[0m\u001b[38;5;54m─\u001b[0m\u001b[38;5;54m─\u001b[0m\u001b[38;5;54m─\u001b[0m\u001b[38;5;54m─\u001b[0m\u001b[38;5;54m─\u001b[0m\u001b[38;5;54m─\u001b[0m\u001b[38;5;54m─\u001b[0m\u001b[38;5;54m─\u001b[0m\u001b[38;5;54m─\u001b[0m\u001b[38;5;54m─\u001b[0m\u001b[38;5;54m─\u001b[0m error: usage of an `unsafe` block",
      "\u001b[38;5;246m───╯\u001b[0m"
     ]
    }
   ],
   "source": [
    "#[forbid(unsafe_code)]\n",
    "fn do_bad_things() -> i32 {\n",
    "    let a_pointer = 12 as *mut i32;\n",
    "    unsafe { *a_pointer }\n",
    "}"
   ]
  },
  {
   "cell_type": "markdown",
   "metadata": {},
   "source": [
    "For tracking unsafe code in your dependencies, you can use `cargo-geiger`."
   ]
  },
  {
   "cell_type": "markdown",
   "metadata": {},
   "source": [
    "One of the main reasons people might think they need to use unsafe code in Rust is for performance reasons. However, it's often possible to achieve similar performance in safe Rust code, without the risk of introducing undefined behavior. For example, we want to convert a matrix of `f32` numbers to a `u8` array and back, to send and receive it over a network. Trivial implementation in safe Rust would be something like this:"
   ]
  },
  {
   "cell_type": "code",
   "execution_count": 8,
   "metadata": {
    "vscode": {
     "languageId": "rust"
    }
   },
   "outputs": [
    {
     "data": {
      "text/plain": [
       "[[0.0, 2.3694278e-38], [0.7470588, 3.8500897e-37]]"
      ]
     },
     "execution_count": 8,
     "metadata": {},
     "output_type": "execute_result"
    }
   ],
   "source": [
    "fn array_to_matrix(x: &[u8; 16]) -> [[f32; 2]; 2] {\n",
    "    // from_le_bytes creates a f32 from a little endian encoded [u8; 4]\n",
    "    // `.try_into` converts a &[u8] to a [u8; N], fails if the length mismatches\n",
    "    let f11 = f32::from_le_bytes(x[0..4].try_into().unwrap());\n",
    "    let f12 = f32::from_le_bytes(x[4..8].try_into().unwrap());\n",
    "    let f21 = f32::from_le_bytes(x[8..12].try_into().unwrap());\n",
    "    let f22 = f32::from_le_bytes(x[12..16].try_into().unwrap());\n",
    "    [[f11, f12], [f21, f22]]\n",
    "}\n",
    "\n",
    "array_to_matrix(&[0, 0, 0, 0, 1, 1, 1, 1, 63, 63, 63, 63, 3, 3, 3, 3])"
   ]
  },
  {
   "cell_type": "markdown",
   "metadata": {},
   "source": [
    "But it has unnecessary checks and copies, which is bad for performance. Compiler might optimize some of them, but we can not rely on that always. You might want to improve its performance via `transmute`:"
   ]
  },
  {
   "cell_type": "code",
   "execution_count": 11,
   "metadata": {
    "vscode": {
     "languageId": "rust"
    }
   },
   "outputs": [
    {
     "data": {
      "text/plain": [
       "[[0.0, 2.3694278e-38], [0.7470588, 3.8500897e-37]]"
      ]
     },
     "execution_count": 11,
     "metadata": {},
     "output_type": "execute_result"
    }
   ],
   "source": [
    "fn array_to_matrix_fast(x: &[u8; 16]) -> &[[f32; 2]; 2] {\n",
    "    unsafe { transmute(x) }\n",
    "}\n",
    "\n",
    "array_to_matrix_fast(&[0, 0, 0, 0, 1, 1, 1, 1, 63, 63, 63, 63, 3, 3, 3, 3])"
   ]
  },
  {
   "cell_type": "markdown",
   "metadata": {},
   "source": [
    "But it is very easy to do it wrong:"
   ]
  },
  {
   "cell_type": "code",
   "execution_count": 15,
   "metadata": {
    "vscode": {
     "languageId": "rust"
    }
   },
   "outputs": [
    {
     "name": "stderr",
     "output_type": "stream",
     "text": [
      "Segmentation fault.\n",
      "   0: evcxr::runtime::Runtime::install_crash_handlers::segfault_handler\n",
      "   1: <unknown>\n",
      "   2: core::fmt::float::float_to_general_debug\n",
      "             at /rustc/897e37553bba8b42751c67658967889d11ecd120/library/core/src/fmt/float.rs:180:9\n",
      "      core::fmt::float::<impl core::fmt::Debug for f32>::fmt\n",
      "             at /rustc/897e37553bba8b42751c67658967889d11ecd120/library/core/src/fmt/float.rs:198:17\n",
      "   3: core::fmt::builders::DebugInner::entry::{{closure}}\n",
      "             at /rustc/897e37553bba8b42751c67658967889d11ecd120/library/core/src/fmt/builders.rs:394:17\n",
      "      core::result::Result<T,E>::and_then\n",
      "             at /rustc/897e37553bba8b42751c67658967889d11ecd120/library/core/src/result.rs:1366:22\n",
      "      core::fmt::builders::DebugInner::entry\n",
      "             at /rustc/897e37553bba8b42751c67658967889d11ecd120/library/core/src/fmt/builders.rs:380:23\n",
      "   4: core::fmt::builders::DebugSet::entry\n",
      "             at /rustc/897e37553bba8b42751c67658967889d11ecd120/library/core/src/fmt/builders.rs:469:9\n",
      "   5: <&T as core::fmt::Debug>::fmt\n",
      "   6: core::fmt::builders::DebugInner::entry::{{closure}}\n",
      "             at /rustc/897e37553bba8b42751c67658967889d11ecd120/library/core/src/fmt/builders.rs:394:17\n",
      "      core::result::Result<T,E>::and_then\n",
      "             at /rustc/897e37553bba8b42751c67658967889d11ecd120/library/core/src/result.rs:1366:22\n",
      "      core::fmt::builders::DebugInner::entry\n",
      "             at /rustc/897e37553bba8b42751c67658967889d11ecd120/library/core/src/fmt/builders.rs:380:23\n",
      "   7: core::fmt::builders::DebugSet::entry\n",
      "             at /rustc/897e37553bba8b42751c67658967889d11ecd120/library/core/src/fmt/builders.rs:469:9\n",
      "   8: <&T as core::fmt::Debug>::fmt\n",
      "   9: core::fmt::write\n",
      "             at /rustc/897e37553bba8b42751c67658967889d11ecd120/library/core/src/fmt/mod.rs:1202:17\n",
      "  10: core::fmt::Write::write_fmt\n",
      "             at /rustc/897e37553bba8b42751c67658967889d11ecd120/library/core/src/fmt/mod.rs:192:9\n",
      "      alloc::fmt::format::format_inner\n",
      "             at /rustc/897e37553bba8b42751c67658967889d11ecd120/library/alloc/src/fmt.rs:612:9\n",
      "  11: run_user_code_12\n",
      "  12: evcxr::runtime::Runtime::run_loop\n",
      "  13: evcxr::runtime::runtime_hook\n",
      "  14: evcxr_jupyter::main\n",
      "  15: std::sys_common::backtrace::__rust_begin_short_backtrace\n",
      "  16: std::rt::lang_start::{{closure}}\n",
      "  17: core::ops::function::impls::<impl core::ops::function::FnOnce<A> for &F>::call_once\n",
      "             at /rustc/4b91a6ea7258a947e59c6522cd5898e7c0a6a88f/library/core/src/ops/function.rs:280:13\n",
      "      std::panicking::try::do_call\n",
      "             at /rustc/4b91a6ea7258a947e59c6522cd5898e7c0a6a88f/library/std/src/panicking.rs:492:40\n",
      "      std::panicking::try\n",
      "             at /rustc/4b91a6ea7258a947e59c6522cd5898e7c0a6a88f/library/std/src/panicking.rs:456:19\n",
      "      std::panic::catch_unwind\n",
      "             at /rustc/4b91a6ea7258a947e59c6522cd5898e7c0a6a88f/library/std/src/panic.rs:137:14\n",
      "      std::rt::lang_start_internal::{{closure}}\n",
      "             at /rustc/4b91a6ea7258a947e59c6522cd5898e7c0a6a88f/library/std/src/rt.rs:128:48\n",
      "      std::panicking::try::do_call\n",
      "             at /rustc/4b91a6ea7258a947e59c6522cd5898e7c0a6a88f/library/std/src/panicking.rs:492:40\n",
      "      std::panicking::try\n",
      "             at /rustc/4b91a6ea7258a947e59c6522cd5898e7c0a6a88f/library/std/src/panicking.rs:456:19\n",
      "      std::panic::catch_unwind\n",
      "             at /rustc/4b91a6ea7258a947e59c6522cd5898e7c0a6a88f/library/std/src/panic.rs:137:14\n",
      "      std::rt::lang_start_internal\n",
      "             at /rustc/4b91a6ea7258a947e59c6522cd5898e7c0a6a88f/library/std/src/rt.rs:128:20\n",
      "  18: main\n",
      "  19: __libc_start_call_main\n",
      "             at ./csu/../sysdeps/nptl/libc_start_call_main.h:58:16\n",
      "  20: __libc_start_main_impl\n",
      "             at ./csu/../csu/libc-start.c:392:3\n",
      "  21: _start\n",
      "\n"
     ]
    },
    {
     "ename": "Error",
     "evalue": "Subprocess terminated with status: signal: 6 (SIGABRT) (core dumped)",
     "output_type": "error",
     "traceback": [
      "Subprocess terminated with status: signal: 6 (SIGABRT) (core dumped)"
     ]
    }
   ],
   "source": [
    "fn array_to_matrix_fast(x: &[u8; 16]) -> &[[&f32; 2]; 2] {\n",
    "    unsafe { transmute(x) }\n",
    "}\n",
    "\n",
    "array_to_matrix_fast(&[0, 0, 0, 0, 1, 1, 1, 1, 63, 63, 63, 63, 3, 3, 3, 3])"
   ]
  },
  {
   "cell_type": "markdown",
   "metadata": {},
   "source": [
    "Segmentation fault. In fact, even the first implementation was wrong, since the result reference is not necessarily aligned, which is UB in Rust. We can use `bytemuck` crate for the safe and fast implementation:"
   ]
  },
  {
   "cell_type": "code",
   "execution_count": 16,
   "metadata": {
    "vscode": {
     "languageId": "rust"
    }
   },
   "outputs": [],
   "source": [
    ":dep bytemuck = \"1.12\""
   ]
  },
  {
   "cell_type": "code",
   "execution_count": 23,
   "metadata": {
    "vscode": {
     "languageId": "rust"
    }
   },
   "outputs": [
    {
     "data": {
      "text/plain": [
       "[[0.0, 2.3694278e-38], [0.7470588, 3.8500897e-37]]"
      ]
     },
     "execution_count": 23,
     "metadata": {},
     "output_type": "execute_result"
    }
   ],
   "source": [
    "use bytemuck::cast_ref;\n",
    "\n",
    "fn array_to_matrix_fast(x: &[u8; 16]) -> &[[f32; 2]; 2] {\n",
    "    cast_ref(x)\n",
    "}\n",
    "\n",
    "array_to_matrix_fast(&[0, 0, 0, 0, 1, 1, 1, 1, 63, 63, 63, 63, 3, 3, 3, 3])"
   ]
  },
  {
   "cell_type": "markdown",
   "metadata": {},
   "source": [
    "That example with segmentation fault will become a compiler error:"
   ]
  },
  {
   "cell_type": "code",
   "execution_count": 19,
   "metadata": {
    "vscode": {
     "languageId": "rust"
    }
   },
   "outputs": [
    {
     "ename": "Error",
     "evalue": "the trait bound `&f32: Pod` is not satisfied",
     "output_type": "error",
     "traceback": [
      "\u001b[31m[E0277] Error:\u001b[0m the trait bound `&f32: Pod` is not satisfied",
      "   \u001b[38;5;246m╭\u001b[0m\u001b[38;5;246m─\u001b[0m\u001b[38;5;246m[\u001b[0mcommand_19:1:1\u001b[38;5;246m]\u001b[0m",
      "   \u001b[38;5;246m│\u001b[0m",
      " \u001b[38;5;246m2 │\u001b[0m \u001b[38;5;249m \u001b[0m\u001b[38;5;249m \u001b[0m\u001b[38;5;249m \u001b[0m\u001b[38;5;249m \u001b[0m\u001b[38;5;54mc\u001b[0m\u001b[38;5;54ma\u001b[0m\u001b[38;5;54ms\u001b[0m\u001b[38;5;54mt\u001b[0m\u001b[38;5;54m_\u001b[0m\u001b[38;5;54mr\u001b[0m\u001b[38;5;54me\u001b[0m\u001b[38;5;54mf\u001b[0m\u001b[38;5;249m(\u001b[0m\u001b[38;5;249mx\u001b[0m\u001b[38;5;249m)\u001b[0m",
      " \u001b[38;5;246m  ·\u001b[0m     \u001b[38;5;54m─\u001b[0m\u001b[38;5;54m─\u001b[0m\u001b[38;5;54m─\u001b[0m\u001b[38;5;54m─\u001b[0m\u001b[38;5;54m┬\u001b[0m\u001b[38;5;54m─\u001b[0m\u001b[38;5;54m─\u001b[0m\u001b[38;5;54m─\u001b[0m  ",
      " \u001b[38;5;246m  ·\u001b[0m         \u001b[38;5;54m╰\u001b[0m\u001b[38;5;54m─\u001b[0m\u001b[38;5;54m─\u001b[0m\u001b[38;5;54m─\u001b[0m\u001b[38;5;54m─\u001b[0m\u001b[38;5;54m─\u001b[0m the trait `Pod` is not implemented for `&f32`",
      "\u001b[38;5;246m───╯\u001b[0m"
     ]
    }
   ],
   "source": [
    "fn array_to_matrix_fast(x: &[u8; 16]) -> &[[&f32; 2]; 2] {\n",
    "    cast_ref(x)\n",
    "}"
   ]
  },
  {
   "cell_type": "markdown",
   "metadata": {},
   "source": [
    "You can check `Pod` trait in the documentation of `bytemuck`. The point here is that `cast_ref` and friends are safe and compile time checked.\n",
    "\n",
    "And even the alignment is checked at runtime. If we try to create an unaligned pointer, it will panic:"
   ]
  },
  {
   "cell_type": "code",
   "execution_count": 37,
   "metadata": {
    "vscode": {
     "languageId": "rust"
    }
   },
   "outputs": [
    {
     "data": {
      "text/plain": [
       "Preserve vars on panic: true\n"
      ]
     },
     "execution_count": 37,
     "metadata": {},
     "output_type": "execute_result"
    }
   ],
   "source": [
    ":preserve_vars_on_panic 1"
   ]
  },
  {
   "cell_type": "code",
   "execution_count": 38,
   "metadata": {
    "vscode": {
     "languageId": "rust"
    }
   },
   "outputs": [
    {
     "name": "stderr",
     "output_type": "stream",
     "text": [
      "thread '<unnamed>' panicked at 'cast_ref>TargetAlignmentGreaterAndInputNotAligned', /home/hamid/.cargo/registry/src/github.com-1ecc6299db9ec823/bytemuck-1.12.3/src/internal.rs:32:3\n",
      "stack backtrace:\n",
      "   0: rust_begin_unwind\n",
      "             at /rustc/897e37553bba8b42751c67658967889d11ecd120/library/std/src/panicking.rs:584:5\n",
      "   1: core::panicking::panic_fmt\n",
      "             at /rustc/897e37553bba8b42751c67658967889d11ecd120/library/core/src/panicking.rs:142:14\n",
      "   2: bytemuck::internal::something_went_wrong\n",
      "   3: <core::panic::unwind_safe::AssertUnwindSafe<F> as core::ops::function::FnOnce<()>>::call_once\n",
      "   4: run_user_code_23\n",
      "   5: evcxr::runtime::Runtime::run_loop\n",
      "   6: evcxr::runtime::runtime_hook\n",
      "   7: evcxr_jupyter::main\n",
      "note: Some details are omitted, run with `RUST_BACKTRACE=full` for a verbose backtrace.\n"
     ]
    },
    {
     "data": {
      "text/plain": [
       "Panic occurred, the following variables have been lost: x"
      ]
     },
     "execution_count": 38,
     "metadata": {},
     "output_type": "execute_result"
    }
   ],
   "source": [
    "let x: [u8; 17] = [0, 0, 0, 0, 1, 1, 1, 1, 63, 63, 63, 63, 3, 3, 3, 3, 0];\n",
    "{\n",
    "    let x_start: &[u8; 16] = x[..16].try_into().unwrap(); // at least one of these pointers are in an odd position, but [[f32; 2]; 2] alignment is 4\n",
    "    let x_end: &[u8; 16] = x[1..].try_into().unwrap(); // so it is UB to transmute the pointer\n",
    "    let a = array_to_matrix_fast(x_start);\n",
    "    let b = array_to_matrix_fast(x_end);\n",
    "}"
   ]
  },
  {
   "cell_type": "markdown",
   "metadata": {},
   "source": [
    "Which is a normal and safe panic, not undefined behaviour or segmentation fault."
   ]
  },
  {
   "cell_type": "markdown",
   "metadata": {},
   "source": [
    "Hope this suggestions prevent you from using `unsafe` unnecessarily. Let's continue with FFI."
   ]
  },
  {
   "cell_type": "markdown",
   "metadata": {},
   "source": [
    "## FFI\n",
    "\n",
    "We have seen that how we can use `libc` crate to call function. But `libc` crate is nothing special. It just declares an `extern` function without body. Then compiler will link this to the actual libc crate and it will work. We can do that ourself:"
   ]
  },
  {
   "cell_type": "code",
   "execution_count": 8,
   "metadata": {
    "vscode": {
     "languageId": "rust"
    }
   },
   "outputs": [
    {
     "data": {
      "text/plain": [
       "1662058529"
      ]
     },
     "execution_count": 8,
     "metadata": {},
     "output_type": "execute_result"
    }
   ],
   "source": [
    "extern \"C\" {\n",
    "    #[link_name=\"time\"]\n",
    "    fn c_time_in_rust(output: *mut i64);\n",
    "}\n",
    "\n",
    "let mut result = 0;\n",
    "unsafe {\n",
    "    // calling extern functions requires unsafe\n",
    "    c_time_in_rust(&mut result);\n",
    "}\n",
    "result"
   ]
  },
  {
   "cell_type": "markdown",
   "metadata": {},
   "source": [
    "We can also export Rust functions to C. Since we can't have C code, and we don't build codes ourself, there is nothing interesting to show here. We can just show the syntax:"
   ]
  },
  {
   "cell_type": "code",
   "execution_count": 10,
   "metadata": {
    "vscode": {
     "languageId": "rust"
    }
   },
   "outputs": [],
   "source": [
    "#[no_mangle] // it means compiler should not change the name in the object file\n",
    "extern \"C\" fn a_callable_function_from_c(x: i32) -> i32 {\n",
    "    // extern \"C\" means this function uses C's calling convention (ABI)\n",
    "    x + 5\n",
    "}"
   ]
  },
  {
   "cell_type": "markdown",
   "metadata": {},
   "source": [
    "We can get or return Rust types like `Vec` or `Option` to C:"
   ]
  },
  {
   "cell_type": "code",
   "execution_count": 12,
   "metadata": {
    "vscode": {
     "languageId": "rust"
    }
   },
   "outputs": [],
   "source": [
    "#[no_mangle]\n",
    "extern \"C\" fn some_fn(x: Vec<i32>) -> i32 {\n",
    "    x.iter().sum()\n",
    "}"
   ]
  },
  {
   "cell_type": "markdown",
   "metadata": {},
   "source": [
    "But since the layout is unspecified, we can't do useful thing wih them without shooting ourself in foot. To define the layout of our structs to be the same as C, we can use `#[repr(C)]`:"
   ]
  },
  {
   "cell_type": "code",
   "execution_count": 13,
   "metadata": {
    "vscode": {
     "languageId": "rust"
    }
   },
   "outputs": [
    {
     "data": {
      "text/plain": [
       "(6, 4)"
      ]
     },
     "execution_count": 13,
     "metadata": {},
     "output_type": "execute_result"
    }
   ],
   "source": [
    "use std::mem::size_of;\n",
    "\n",
    "#[repr(C)]\n",
    "struct ReprC {\n",
    "    field1: u8,\n",
    "    field2: u16,\n",
    "    field3: u8,\n",
    "}\n",
    "\n",
    "struct ReprRust {\n",
    "    field1: u8,\n",
    "    field2: u16,\n",
    "    field3: u8,\n",
    "}\n",
    "\n",
    "// By default, compiler will change order of fields, to make things more efficient.\n",
    "(size_of::<ReprC>(), size_of::<ReprRust>())"
   ]
  },
  {
   "cell_type": "markdown",
   "metadata": {},
   "source": [
    "By default (`#[repr(Rust)]`), binary layout of Rust types are unspecified, to get compiler and libraries flexibility to change internals and optimize things. There are other `#[repr(X)]`, like `#[repr(u8)]`:"
   ]
  },
  {
   "cell_type": "code",
   "execution_count": 16,
   "metadata": {
    "vscode": {
     "languageId": "rust"
    }
   },
   "outputs": [
    {
     "data": {
      "text/plain": [
       "4"
      ]
     },
     "execution_count": 16,
     "metadata": {},
     "output_type": "execute_result"
    }
   ],
   "source": [
    "#[repr(u32)]\n",
    "enum ReprU32 {\n",
    "    Variant1 = 1,\n",
    "    Variant2 = 100000,\n",
    "}\n",
    "\n",
    "size_of::<ReprU32>()"
   ]
  },
  {
   "cell_type": "markdown",
   "metadata": {},
   "source": [
    "By default, compiler will choose the size for enums, but you can specify it, and binary representation of each variant yourself. There is also a `#[repr(transparent)]` for structs with a single field (and maybe multiple zero sized type fields):"
   ]
  },
  {
   "cell_type": "code",
   "execution_count": 17,
   "metadata": {
    "vscode": {
     "languageId": "rust"
    }
   },
   "outputs": [],
   "source": [
    "#[repr(transparent)]\n",
    "struct Id(i64);\n",
    "\n",
    "// Now Id is exactly equal to i64 as binary level"
   ]
  },
  {
   "cell_type": "markdown",
   "metadata": {},
   "source": [
    "You can also have `#[repr(C)]` for enums with fields, to force them have a specified and stable tagged union layout. `#[repr(C)]` enums can't have niche optimizations, so standard library types like `Option` are not `#[repr(C)]`:"
   ]
  },
  {
   "cell_type": "code",
   "execution_count": 19,
   "metadata": {
    "vscode": {
     "languageId": "rust"
    }
   },
   "outputs": [
    {
     "data": {
      "text/plain": [
       "(24, 24, 32)"
      ]
     },
     "execution_count": 19,
     "metadata": {},
     "output_type": "execute_result"
    }
   ],
   "source": [
    "enum OptionLike {\n",
    "    Var1(Vec<i32>),\n",
    "    Var2, // This will goes to the null case of vector\n",
    "}\n",
    "\n",
    "#[repr(C)]\n",
    "enum OptionLikeReprC {\n",
    "    Var1(Vec<i32>),\n",
    "    Var2,\n",
    "}\n",
    "\n",
    "(size_of::<Vec<i32>>(), size_of::<OptionLike>(), size_of::<OptionLikeReprC>())"
   ]
  },
  {
   "cell_type": "markdown",
   "metadata": {},
   "source": [
    "So now Rust has support for C pointers and structs. C has another datatype, `union`, which poorly does the job of enum with fields in C. At first Rust didn't have union, but later it added for FFI proposes.\n",
    "\n",
    "`union`, as you probably know, is a construct that permits access to the same memory block by using a choice of differing type descriptions. Since union has no type safety, using it requires unsafe:"
   ]
  },
  {
   "cell_type": "code",
   "execution_count": 20,
   "metadata": {
    "vscode": {
     "languageId": "rust"
    }
   },
   "outputs": [
    {
     "data": {
      "text/plain": [
       "true"
      ]
     },
     "execution_count": 20,
     "metadata": {},
     "output_type": "execute_result"
    }
   ],
   "source": [
    "#[repr(C)] // is needed if you need union for FFI proposes\n",
    "union U8OrBool {\n",
    "    int: u8,\n",
    "    boolean: bool,\n",
    "}\n",
    "\n",
    "let x = U8OrBool { int: 1 };\n",
    "unsafe { x.boolean }"
   ]
  },
  {
   "cell_type": "markdown",
   "metadata": {},
   "source": [
    "Although `union` was added for FFI, it is now used in implementation of `MaybeUninit`, `transmute`, and many other things in the `unsafe` world."
   ]
  },
  {
   "cell_type": "markdown",
   "metadata": {},
   "source": [
    "So Rust can express almost any C type and function. But writing Rust equivalent for each C function is a hard and boring work. `bindgen` crate can do that automatically for us:"
   ]
  },
  {
   "cell_type": "code",
   "execution_count": 3,
   "metadata": {
    "vscode": {
     "languageId": "rust"
    }
   },
   "outputs": [],
   "source": [
    ":dep bindgen = \"0.53.1\""
   ]
  },
  {
   "cell_type": "code",
   "execution_count": 4,
   "metadata": {
    "vscode": {
     "languageId": "rust"
    }
   },
   "outputs": [
    {
     "name": "stderr",
     "output_type": "stream",
     "text": [
      "The type of the variable connection was redefined, so was lost.\n"
     ]
    },
    {
     "name": "stdout",
     "output_type": "stream",
     "text": [
      "cargo:warning=couldn't execute `llvm-config --prefix` (error: No such file or directory (os error 2))\n",
      "cargo:warning=set the LLVM_CONFIG_PATH environment variable to the full path to a valid `llvm-config` executable (including the executable itself)\n",
      "35524\n",
      "ingify!(_unused2)\n",
      "        )\n",
      "    );\n",
      "}\n",
      "pub type off_t = __off_t;\n",
      "pub type ssize_t = __ssize_t;\n",
      "pub type fpos_t = __fpos_t;\n",
      "extern \"C\" {\n",
      "    pub static mut stdin: *mut FILE;\n",
      "}\n",
      "extern \"C\" {\n",
      "    pub static mut stdout: *mut FILE;\n",
      "}\n",
      "extern \"C\" {\n",
      "    pub static mut stderr: *mut FILE;\n",
      "}\n",
      "extern \"C\" {\n",
      "    pub fn remove(__filename: *const ::std::os::raw::c_char) -> ::std::os::raw::c_int;\n",
      "}\n",
      "extern \"C\" {\n",
      "    pub fn rename(\n",
      "        __old: *const ::std::os::raw::c_char,\n",
      "        __new: *const ::std::os::raw::c_c\n"
     ]
    }
   ],
   "source": [
    "use std::fs;\n",
    "\n",
    "fs::write(\"/tmp/our_header.h\", \"#include<stdio.h>\").unwrap();\n",
    "\n",
    "let bindings = bindgen::Builder::default()\n",
    "    .header(\"/tmp/our_header.h\")\n",
    "    .generate()\n",
    "    .unwrap();\n",
    "let result = bindings.to_string();\n",
    "println!(\"{}\", result.len());\n",
    "println!(\"{}\", &result[21700..22200]);"
   ]
  },
  {
   "cell_type": "markdown",
   "metadata": {},
   "source": [
    "As you can see, `bindgen` generated a 35kb file from `stdio.h`, containing types, functions, constants, and some assertions to make sure the generated bindgen is correct. Normally you would use `bindgen` in your `build.rs`, and then you can import from C headers like a normal Rust module."
   ]
  },
  {
   "cell_type": "markdown",
   "metadata": {},
   "source": [
    "## FFI build system\n",
    "\n",
    "`build.rs` is not only useful for running bindgen, but also for building C and C++ dependencies and link them to Rust. There are crates like `cc` and `cmake` which you can use in your build scripts (which are arbitrary Rust codes) to build C dependencies as part of a cargo build flow. An example of using `cc`:"
   ]
  },
  {
   "cell_type": "markdown",
   "metadata": {},
   "source": [
    "```Rust\n",
    "cc::Build::new()\n",
    "    .cpp(true)\n",
    "    .file(\"foo.cpp\")\n",
    "    .cpp_link_stdlib(\"stdc++\") // use libstdc++\n",
    "    .compile(\"libfoo.a\");\n",
    "```"
   ]
  },
  {
   "cell_type": "markdown",
   "metadata": {},
   "source": [
    "And `cmake`:"
   ]
  },
  {
   "cell_type": "markdown",
   "metadata": {},
   "source": [
    "```Rust\n",
    "let mut cfg = cmake::Config::new(\"z3\");\n",
    "cfg\n",
    "    // Don't build `libz3.so`, build `libz3.a` instead.\n",
    "    .define(\"Z3_BUILD_LIBZ3_SHARED\", \"false\")\n",
    "    // Don't build the Z3 repl.\n",
    "    .define(\"Z3_BUILD_EXECUTABLE\", \"false\")\n",
    "    // Don't build the tests.\n",
    "    .define(\"Z3_BUILD_TEST_EXECUTABLES\", \"false\");\n",
    "\n",
    "if cfg!(target_os = \"windows\") {\n",
    "    // The compiler option -MP and the msbuild option -m\n",
    "    // can sometimes make builds slower but is measurably\n",
    "    // faster building Z3 with many cores.\n",
    "    cfg.cxxflag(\"-MP\");\n",
    "    cfg.build_arg(\"-m\");\n",
    "    cfg.cxxflag(\"-DWIN32\");\n",
    "    cfg.cxxflag(\"-D_WINDOWS\");\n",
    "}\n",
    "\n",
    "cfg.build();\n",
    "\n",
    "if cfg!(target_os = \"windows\") {\n",
    "    println!(\"cargo:rustc-link-lib=static=libz3\");\n",
    "} else {\n",
    "    println!(\"cargo:rustc-link-lib=static=z3\");\n",
    "}\n",
    "```"
   ]
  },
  {
   "cell_type": "markdown",
   "metadata": {},
   "source": [
    "In this way you can manage the build process with cargo. If you don't want cargo to be the boss, there are other options. For example, `Corrosion` is a cmake module for building cargo packages in a cmake project:"
   ]
  },
  {
   "cell_type": "markdown",
   "metadata": {},
   "source": [
    "```cmake\n",
    "cmake_minimum_required(VERSION 3.15)\n",
    "project(MyCoolProject LANGUAGES CXX)\n",
    "\n",
    "find_package(Corrosion REQUIRED)\n",
    "\n",
    "corrosion_import_crate(MANIFEST_PATH rust-lib/Cargo.toml)\n",
    "\n",
    "add_executable(cpp-exe main.cpp)\n",
    "target_link_libraries(cpp-exe PUBLIC rust-lib)\n",
    "```"
   ]
  },
  {
   "cell_type": "markdown",
   "metadata": {},
   "source": [
    "## Mixing C++ and Rust\n",
    "\n",
    "Rust, as a language, only knows how to interoperate with C. So in order to call C++ from Rust, you should provide some `extern \"C\"` functions in C++, and then use them like normal C functions in Rust.\n",
    "\n",
    "Like `bindgen`, there are crates to ease this process. [`cxx`](https://cxx.rs/) allows you to write bindings between C++ and Rust, consist of shared C structs, opaque types (which can be complex classes with template parameters) by reference (`&`, `&mut`, `Box`, `shared_ptr`, ...) and functions. Then it will generate C bindings for both C++ and Rust, which are safe and straightforward to use. [`autocxx`](https://github.com/google/autocxx/) can generate `cxx` bindings automatically. [`moveit`](https://github.com/google/moveit/) works around constructors and self referential types. Rust and C++ interoperability is a moving target, and many people are actively working on it.\n",
    "\n",
    "## Calling Rust from other languages\n",
    "\n",
    "Rust is a great language to make libraries and tooling for other, slow languages, because of its performance and lack of (heavyweight) runtime. Those languages are able to call C functions with some interface, and Rust can pretend to be a C library, so the base is ready. Similar to `cxx`, there are tools to make this safe and easy.\n",
    "\n",
    "* Python: `pyo3` provides bindings to use Rust in python and vise versa. `cryptography` which is the 18th downloaded package in pypy, is using it.\n",
    "* WebAssembly: WebAssembly is a portable binary format, designed for using in web browsers. Rust has best in class Wasm support, because the people working on wasm and those working on Rust were either the same, or saw each other at Mozilla. Rust compiler supports wasm as a compilation target, and `wasm-bindgen` provides great ergonomics for calling JS functions and Rust functions from each other. Not only you can write compute heavy codes in Rust to speed up your web application, you can write the whole front-end in Rust, if you don't like JS as a language. There are multiple front-end frameworks in Rust, like `yew` and `dioxus`.\n",
    "* [This website](https://www.hobofan.com/rust-interop/) indexed the binding libraries for many languages, including `Java`, `Ruby`, `R`, `Julia`, `PHP`, ... ."
   ]
  },
  {
   "cell_type": "markdown",
   "metadata": {},
   "source": [
    "## Adding Rust to a C/C++ project can make it more unsafe\n",
    "\n",
    "There are some safety problems that can happen only in the Rust and C/C++ boundary. For example, exceptions or panics which pass the boundary are UB, or freeing Rust allocated Box with C's `free` and vise versa is UB. Also, Rust is more conservative about UB and apply more optimizations, like optimizations that assume `no_alias` for `&mut` pointers, or assume some values (like `null` for references and anything other than 0 and 1 for bool) as invalid. So if you want to improve safety by adding Rust to a C/C++ project, consider keeping the boundary small, in scope, and carefully checked, and minimize `unsafe` codes in Rust (or even eliminate that by using something like `cxx`) since writing UB less `unsafe` Rust is harder that UB less C."
   ]
  },
  {
   "cell_type": "markdown",
   "metadata": {},
   "source": [
    "## Assembly in Rust\n",
    "\n",
    "For a low-level language, using assembly is useful for extracting the last drops of performance or doing something hardware dependent. It is possible to put assemblies in C wrappers and use them in Rust, but there is no need for that since Rust supports inline assembly directly for `x86`, `ARM`, and `RISC-V`. My computer is `x86` so the rest of notebook may not work for you if you are on another architecture."
   ]
  },
  {
   "cell_type": "code",
   "execution_count": 39,
   "metadata": {
    "vscode": {
     "languageId": "rust"
    }
   },
   "outputs": [
    {
     "data": {
      "text/plain": [
       "24"
      ]
     },
     "execution_count": 39,
     "metadata": {},
     "output_type": "execute_result"
    }
   ],
   "source": [
    "use std::arch::asm;\n",
    "\n",
    "// Multiply x by 6 using shifts and adds\n",
    "let mut x: u64 = 4;\n",
    "unsafe {\n",
    "    asm!(\n",
    "        \"mov {tmp}, {x}\", // Compiler will fill these with exact registers, since it may need some of them\n",
    "        \"shl {tmp}, 1\",\n",
    "        \"shl {x}, 2\",\n",
    "        \"add {x}, {tmp}\",\n",
    "        x = inout(reg) x,\n",
    "        tmp = out(reg) _,\n",
    "    );\n",
    "}\n",
    "x"
   ]
  },
  {
   "cell_type": "markdown",
   "metadata": {},
   "source": [
    "Rust knows some assembly, and won't accept any garbage from you:"
   ]
  },
  {
   "cell_type": "code",
   "execution_count": 51,
   "metadata": {
    "vscode": {
     "languageId": "rust"
    }
   },
   "outputs": [
    {
     "ename": "Error",
     "evalue": "invalid instruction mnemonic 'bad'",
     "output_type": "error",
     "traceback": [
      "\u001b[31mError:\u001b[0m invalid instruction mnemonic 'bad'",
      "   \u001b[38;5;246m╭\u001b[0m\u001b[38;5;246m─\u001b[0m\u001b[38;5;246m[\u001b[0mcommand_51:1:1\u001b[38;5;246m]\u001b[0m",
      "   \u001b[38;5;246m│\u001b[0m",
      " \u001b[38;5;246m3 │\u001b[0m \u001b[38;5;249m \u001b[0m\u001b[38;5;249m \u001b[0m\u001b[38;5;249m \u001b[0m\u001b[38;5;249m \u001b[0m\u001b[38;5;249m \u001b[0m\u001b[38;5;249m \u001b[0m\u001b[38;5;249m \u001b[0m\u001b[38;5;249m \u001b[0m\u001b[38;5;249m\"\u001b[0m\u001b[38;5;249mb\u001b[0m\u001b[38;5;249ma\u001b[0m\u001b[38;5;249md\u001b[0m\u001b[38;5;249m\"\u001b[0m\u001b[38;5;249m,\u001b[0m",
      " \u001b[38;5;246m  ·\u001b[0m          \u001b[38;5;54m│\u001b[0m ",
      " \u001b[38;5;246m  ·\u001b[0m          \u001b[38;5;54m╰\u001b[0m\u001b[38;5;54m─\u001b[0m error: invalid instruction mnemonic 'bad'",
      "\u001b[38;5;246m───╯\u001b[0m"
     ]
    }
   ],
   "source": [
    "unsafe {\n",
    "    asm!(\n",
    "        \"bad\",\n",
    "    );\n",
    "}"
   ]
  },
  {
   "cell_type": "markdown",
   "metadata": {},
   "source": [
    "But doing assembly is `unsafe` and have potential to void all Rust's guarantees. Here we used assembly to make stack pointer invalid, resulting in a `SIGSEGV`:"
   ]
  },
  {
   "cell_type": "code",
   "execution_count": 50,
   "metadata": {
    "vscode": {
     "languageId": "rust"
    }
   },
   "outputs": [
    {
     "ename": "Error",
     "evalue": "Subprocess terminated with status: signal: 11 (SIGSEGV) (core dumped)",
     "output_type": "error",
     "traceback": [
      "Subprocess terminated with status: signal: 11 (SIGSEGV) (core dumped)"
     ]
    }
   ],
   "source": [
    "use std::arch::asm;\n",
    "\n",
    "let mut x: u64 = 2;\n",
    "unsafe {\n",
    "    asm!(\n",
    "        \"mov esp, eax\",\n",
    "    );\n",
    "};\n",
    "x"
   ]
  },
  {
   "cell_type": "markdown",
   "metadata": {},
   "source": [
    "## Final words\n",
    "\n",
    "Safe Rust and Unsafe Rust are almost two separate languages. One uses `&`, `&mut`, `Box`, `Arc`, `enum` ... and the other uses `*const`, `*mut`, `MaybeUninit`, `union`, ... . Safe Rust is stable, safe and beautiful. Unsafe Rust is neither of them, but can call C and extract the last bits of performance. Use it only when you know what you are doing."
   ]
  }
 ],
 "metadata": {
  "kernelspec": {
   "display_name": "Rust",
   "language": "rust",
   "name": "rust"
  },
  "language_info": {
   "codemirror_mode": "rust",
   "file_extension": ".rs",
   "mimetype": "text/rust",
   "name": "Rust",
   "pygment_lexer": "rust",
   "version": ""
  }
 },
 "nbformat": 4,
 "nbformat_minor": 2
}
